{
 "cells": [
  {
   "cell_type": "code",
   "execution_count": 1,
   "metadata": {
    "id": "y2glClqW7rjC"
   },
   "outputs": [],
   "source": [
    "# импортируем библиотеки, классы и функции\n",
    "import pandas as pd\n",
    "from prophet import Prophet\n",
    "from prophet.diagnostics import cross_validation\n",
    "from prophet.diagnostics import performance_metrics\n",
    "import optuna\n",
    "from optuna.samplers import RandomSampler\n",
    "\n",
    "# подавлям вывод сообщений optuna\n",
    "optuna.logging.set_verbosity(optuna.logging.WARNING)\n",
    "\n",
    "# отключаем предупреждения\n",
    "import warnings\n",
    "import logging\n",
    "warnings.simplefilter('ignore', DeprecationWarning)\n",
    "warnings.simplefilter('ignore', FutureWarning)\n",
    "logging.getLogger('fbprophet').setLevel(logging.ERROR)\n",
    "\n",
    "# задаем количество потоков\n",
    "import os\n",
    "os.environ['NUMEXPR_MAX_THREADS'] = '8'"
   ]
  },
  {
   "cell_type": "code",
   "execution_count": 2,
   "metadata": {
    "id": "39ZzfuQN7rjE"
   },
   "outputs": [],
   "source": [
    "# загружаем данные\n",
    "df = pd.read_csv('Data/online_retail.csv')\n",
    "df['date'] = pd.to_datetime(df['date'])\n",
    "df.columns = ['ds', 'y']"
   ]
  },
  {
   "cell_type": "code",
   "execution_count": 3,
   "metadata": {
    "id": "UIWtgFRJ7rjF"
   },
   "outputs": [],
   "source": [
    "# задаем типы гиперпараметров\n",
    "param_types = {'changepoint_prior_scale': 'float', \n",
    "               'seasonality_prior_scale': 'float'}\n",
    "\n",
    "# задаем границы поиска значений гиперпараметров\n",
    "bounds = {'changepoint_prior_scale': [0.001, 0.5],\n",
    "          'seasonality_prior_scale': [0.01, 10]}"
   ]
  },
  {
   "cell_type": "code",
   "execution_count": 4,
   "metadata": {
    "id": "Q8k7SON57rjF"
   },
   "outputs": [],
   "source": [
    "# пишем функцию байесовской оптимизации\n",
    "def objective(trial):\n",
    "    \"\"\"\n",
    "    Обучаем модель Prophet и возвращаем \n",
    "    усредненное значение RMSE.\n",
    "    \"\"\"\n",
    "    # отбор параметров\n",
    "    params = {}\n",
    "    for param in ['changepoint_prior_scale', \n",
    "                  'seasonality_prior_scale']:\n",
    "        params[param] = trial.suggest_uniform(\n",
    "            param, \n",
    "            bounds[param][0], \n",
    "            bounds[param][1])\n",
    "        \n",
    "    # обучение\n",
    "    m = Prophet(yearly_seasonality=4,\n",
    "                seasonality_mode='additive',\n",
    "                **params)\n",
    "    \n",
    "    m.fit(df)\n",
    "    \n",
    "    df_cv = cross_validation(\n",
    "        m, \n",
    "        initial='730 days', \n",
    "        period='30 days', \n",
    "        horizon='90 days',\n",
    "        parallel='processes')\n",
    "    \n",
    "    df_p = performance_metrics(df_cv, rolling_window=1)\n",
    "    print(params, f\"\\nRMSE:{df_p['rmse'].values[0]}\\n\")\n",
    "    \n",
    "    return df_p['rmse'].values[0]"
   ]
  },
  {
   "cell_type": "code",
   "execution_count": 5,
   "metadata": {
    "colab": {
     "base_uri": "https://localhost:8080/"
    },
    "id": "iXXhFMiV7rjG",
    "outputId": "aa9f4c99-ed49-43cf-f666-c844551a2466"
   },
   "outputs": [
    {
     "name": "stdout",
     "output_type": "stream",
     "text": [
      "{'changepoint_prior_scale': 0.38588900099010626, 'seasonality_prior_scale': 0.217311974100421} \n",
      "RMSE:473.26328248210035\n",
      "\n",
      "{'changepoint_prior_scale': 0.3171904692282114, 'seasonality_prior_scale': 7.490550786560732} \n",
      "RMSE:469.9151005963841\n",
      "\n",
      "{'changepoint_prior_scale': 0.24975499913899263, 'seasonality_prior_scale': 2.255718488853168} \n",
      "RMSE:466.77364910412217\n",
      "\n",
      "{'changepoint_prior_scale': 0.09983336951505237, 'seasonality_prior_scale': 7.607701814867598} \n",
      "RMSE:456.95489714448837\n",
      "\n",
      "{'changepoint_prior_scale': 0.08538630744470518, 'seasonality_prior_scale': 0.8925147435983626} \n",
      "RMSE:456.2182883391711\n",
      "\n",
      "{'changepoint_prior_scale': 0.3429945493655308, 'seasonality_prior_scale': 9.534399528487416} \n",
      "RMSE:472.29091971697295\n",
      "\n",
      "{'changepoint_prior_scale': 0.0029701848976293114, 'seasonality_prior_scale': 5.1268007112239085} \n",
      "RMSE:452.67067745613974\n",
      "\n",
      "{'changepoint_prior_scale': 0.4064978598644046, 'seasonality_prior_scale': 6.129135407625587} \n",
      "RMSE:476.13056326803917\n",
      "\n",
      "{'changepoint_prior_scale': 0.361155903398468, 'seasonality_prior_scale': 2.925841921024625} \n",
      "RMSE:472.88179469735394\n",
      "\n",
      "{'changepoint_prior_scale': 0.4589692871339588, 'seasonality_prior_scale': 7.148612076142928} \n",
      "RMSE:478.7434430016186\n",
      "\n",
      "наилучшая комбинация гиперпараметров:\n",
      "{'changepoint_prior_scale': 0.0029701848976293114, 'seasonality_prior_scale': 5.1268007112239085}\n",
      "наилучшее значение RMSE:\n",
      "452.67067745613974\n"
     ]
    }
   ],
   "source": [
    "# задаем стартовое значение генератора \n",
    "# псевдослучайных чисел\n",
    "sampler = RandomSampler(seed=10)\n",
    "\n",
    "# создаем сессию поиска\n",
    "study = optuna.create_study(sampler=sampler, \n",
    "                            direction='minimize')\n",
    "# выполняем поиск\n",
    "study.optimize(lambda trial: objective(trial), n_trials=10)\n",
    "# печатает наилучшую комбинацию гиперпараметров\n",
    "# и наилучшее значение метрики\n",
    "print(f\"наилучшая комбинация гиперпараметров:\\n{study.best_params}\")\n",
    "print(f\"наилучшее значение RMSE:\\n{study.best_value}\")"
   ]
  }
 ],
 "metadata": {
  "colab": {
   "provenance": []
  },
  "kernelspec": {
   "display_name": "Python 3 (ipykernel)",
   "language": "python",
   "name": "python3"
  },
  "language_info": {
   "codemirror_mode": {
    "name": "ipython",
    "version": 3
   },
   "file_extension": ".py",
   "mimetype": "text/x-python",
   "name": "python",
   "nbconvert_exporter": "python",
   "pygments_lexer": "ipython3",
   "version": "3.10.9"
  }
 },
 "nbformat": 4,
 "nbformat_minor": 1
}
