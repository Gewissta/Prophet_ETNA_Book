{
  "cells": [
    {
      "cell_type": "code",
      "execution_count": 1,
      "metadata": {
        "id": "mDCsSDvqimqL"
      },
      "outputs": [],
      "source": [
        "# импортируем необходимые библиотеки numpy и pandas\n",
        "import numpy as np\n",
        "import pandas as pd\n",
        "\n",
        "# настраиваем опции для лучшей отрисовки графиков\n",
        "%matplotlib inline\n",
        "%config InlineBackend.figure_format = 'retina'\n",
        "\n",
        "# импортируем класс RandomForestRegressor, который будем использовать \n",
        "# в качестве прогнозной модели временного ряда\n",
        "from sklearn.ensemble import RandomForestRegressor\n",
        "# импортируем функцию, которая создает необученную модель\n",
        "# с теми же самыми параметрами, что и у клонированной модели\n",
        "from sklearn.base import clone\n",
        "\n",
        "# загружаем данные\n",
        "from sktime.datasets import load_airline\n",
        "# импортируем функцию, которая отвечает за разбиение набора на \n",
        "# обучающую и тестовую выборки с учетом временной структуры\n",
        "from sktime.forecasting.model_selection import temporal_train_test_split\n",
        "# импортируем класс, задающий горизонт прогнозирования\n",
        "from sktime.forecasting.base import ForecastingHorizon\n",
        "# импортируем функцию, разбивающую обучающую выборку на серию окон\n",
        "from sktime.forecasting.compose._reduce import _sliding_window_transform\n",
        "# импортируем функцию, преобразующую задачу \n",
        "# прогнозирования временного ряда в задачу регрессии\n",
        "from sktime.forecasting.compose import make_reduction\n",
        "# импортируем функцию для отрисовки графика временного ряда\n",
        "from sktime.utils.plotting import plot_series\n",
        "# импортируем функцию, позволяющую вычислить метрику sMAPE/MAPE\n",
        "from sktime.performance_metrics.forecasting import mean_absolute_percentage_error"
      ]
    },
    {
      "cell_type": "markdown",
      "metadata": {
        "id": "ayW4yPLfimqP"
      },
      "source": [
        "Задачу прогнозирования временных рядов можно разделить на две категории в зависимости от количества прогнозируемых временных шагов.\n",
        "\n",
        "  *  Одношаговое прогнозирование - прогнозируется значение только следующего временного шага;\n",
        "  *  Многошаговое прогнозирование - прогнозируется значение нескольких временных шагов."
      ]
    },
    {
      "cell_type": "markdown",
      "metadata": {
        "id": "bf25mTIIimqR"
      },
      "source": [
        "Для многошагового прогнозирования предусмотрено 4 типа стратегии:\n",
        "  \n",
        "  * **direct** (метод прямого пошагового прогноза) - для каждого временного шага в горизонте прогнозирования обучается отдельная модель.\n",
        "  \n",
        "  * **recursive** (метод рекурсивного пошагового прогноза) - включает в себя многократное использование одношаговой модели, в которой прогноз для предыдущего временного шага используется в качестве входных данных для прогнозирования на следующем временном шаге.\n",
        "  \n",
        "  * **multioutput** (метод со множеством выходов) - обучается одна модель, которая будет прогнозировать все шаги временного ряда.\n",
        "  \n",
        "  * **dirrec** (метод гибридного многошагового прогноза) - комбинация прямой и рекурсивной стратегии, которая позволяет воспользоваться преимуществами обоих методов. Для каждого прогнозируемого временного шага можно построить отдельную модель, но каждая модель может использовать прогнозы, полученные моделями на предыдущих временных шагах, в качестве входных наблюдений.\n",
        "\n",
        "\n",
        "Разберем более подробно, как это работает"
      ]
    },
    {
      "cell_type": "code",
      "execution_count": 2,
      "metadata": {
        "colab": {
          "base_uri": "https://localhost:8080/"
        },
        "id": "CrZMZEycimqR",
        "outputId": "13c17dc8-12fa-4694-f938-7ead7c7f1c62"
      },
      "outputs": [
        {
          "output_type": "stream",
          "name": "stdout",
          "text": [
            "TRAIN: 38 TEST: 12\n",
            "\n",
            "TRAIN:\n",
            " PeriodIndex(['1949-01', '1952-02'], dtype='period[M]', name='Period') \n",
            "TEST:\n",
            " PeriodIndex(['1952-03', '1953-02'], dtype='period[M]', name='Period')\n"
          ]
        }
      ],
      "source": [
        "# загрузим первые 50 наблюдений из набора об авиаперевозках\n",
        "y = load_airline().head(50)\n",
        "# разбиваем данные на обучающую и тестовую выборки с учетом \n",
        "# временной структуры так, чтобы в тестовую выборку попали \n",
        "# 12 последних значений временного ряда\n",
        "y_train, y_test = temporal_train_test_split(y, test_size=12)\n",
        "# выведем количество наблюдений в обучающей и тестовой выборках\n",
        "print('TRAIN:', y_train.shape[0], 'TEST:', y_test.shape[0])\n",
        "# выведем информацию о периодах, охватываемых \n",
        "# обучающей и тестовой выборками\n",
        "print('\\nTRAIN:\\n', y_train.index[[0, -1]], '\\nTEST:\\n', y_test.index[[0, -1]])"
      ]
    },
    {
      "cell_type": "code",
      "execution_count": 3,
      "metadata": {
        "colab": {
          "base_uri": "https://localhost:8080/"
        },
        "id": "33xjzPcsimqT",
        "outputId": "2dac39de-6a98-4b40-bbf1-c259705e0120"
      },
      "outputs": [
        {
          "output_type": "execute_result",
          "data": {
            "text/plain": [
              "Period\n",
              "1949-01    112.0\n",
              "1949-02    118.0\n",
              "1949-03    132.0\n",
              "1949-04    129.0\n",
              "1949-05    121.0\n",
              "1949-06    135.0\n",
              "1949-07    148.0\n",
              "1949-08    148.0\n",
              "1949-09    136.0\n",
              "1949-10    119.0\n",
              "1949-11    104.0\n",
              "1949-12    118.0\n",
              "1950-01    115.0\n",
              "1950-02    126.0\n",
              "1950-03    141.0\n",
              "1950-04    135.0\n",
              "1950-05    125.0\n",
              "1950-06    149.0\n",
              "1950-07    170.0\n",
              "1950-08    170.0\n",
              "1950-09    158.0\n",
              "1950-10    133.0\n",
              "1950-11    114.0\n",
              "1950-12    140.0\n",
              "1951-01    145.0\n",
              "1951-02    150.0\n",
              "1951-03    178.0\n",
              "1951-04    163.0\n",
              "1951-05    172.0\n",
              "1951-06    178.0\n",
              "1951-07    199.0\n",
              "1951-08    199.0\n",
              "1951-09    184.0\n",
              "1951-10    162.0\n",
              "1951-11    146.0\n",
              "1951-12    166.0\n",
              "1952-01    171.0\n",
              "1952-02    180.0\n",
              "Freq: M, Name: Number of airline passengers, dtype: float64"
            ]
          },
          "metadata": {},
          "execution_count": 3
        }
      ],
      "source": [
        "# выведем наблюдения обучающего временного ряда\n",
        "y_train"
      ]
    },
    {
      "cell_type": "markdown",
      "metadata": {
        "id": "YOg6WJTJimqT"
      },
      "source": [
        "## Прямой многошаговый прогноз"
      ]
    },
    {
      "cell_type": "code",
      "execution_count": 4,
      "metadata": {
        "colab": {
          "base_uri": "https://localhost:8080/"
        },
        "id": "_2zw2oJoimqT",
        "outputId": "b6579e1f-c37c-4147-ffaf-f6773b195541"
      },
      "outputs": [
        {
          "output_type": "execute_result",
          "data": {
            "text/plain": [
              "ForecastingHorizon([1, 2, 3, 4, 5, 6, 7, 8, 9, 10, 11, 12], dtype='int64', is_relative=True)"
            ]
          },
          "metadata": {},
          "execution_count": 4
        }
      ],
      "source": [
        "# задаем относительный горизонт прогнозирования\n",
        "fh = ForecastingHorizon(np.arange(len(y_test)) + 1)\n",
        "fh"
      ]
    },
    {
      "cell_type": "code",
      "execution_count": 5,
      "metadata": {
        "id": "txoWSRkJimqU"
      },
      "outputs": [],
      "source": [
        "# пишем функцию редукции\n",
        "def transform(y,\n",
        "              window_length,\n",
        "              X=None):    \n",
        "    \"\"\"\n",
        "    Функция превращает временной ряд в таблицу. Она разбивает \n",
        "    обучающий временной ряд на окна фиксированной длины \n",
        "    (длина определяется параметром window_length).\n",
        "    Значения, попавшие в окно, будут признаками, а значения, \n",
        "    следующие после них, будут значениями зависимой переменной. \n",
        "    Мы решаем задачу регреcсии.\n",
        "    \"\"\"     \n",
        "    return _sliding_window_transform(\n",
        "        y, window_length, fh, X)"
      ]
    },
    {
      "cell_type": "code",
      "execution_count": 6,
      "metadata": {
        "id": "oqAb2PAjimqU"
      },
      "outputs": [],
      "source": [
        "# преобразовываем обучающий временной ряд в таблицы,\n",
        "# получаем сложный массив меток и массив признаков\n",
        "yt, Xt = transform(y_train,\n",
        "                   window_length=15)"
      ]
    },
    {
      "cell_type": "code",
      "execution_count": 7,
      "metadata": {
        "colab": {
          "base_uri": "https://localhost:8080/"
        },
        "id": "mUruj4KyimqV",
        "outputId": "36dccc74-2af3-4c11-a77f-e9d3a918d528",
        "scrolled": false
      },
      "outputs": [
        {
          "output_type": "execute_result",
          "data": {
            "text/plain": [
              "array([[112., 118., 132., 129., 121., 135., 148., 148., 136., 119., 104.,\n",
              "        118., 115., 126., 141.],\n",
              "       [118., 132., 129., 121., 135., 148., 148., 136., 119., 104., 118.,\n",
              "        115., 126., 141., 135.],\n",
              "       [132., 129., 121., 135., 148., 148., 136., 119., 104., 118., 115.,\n",
              "        126., 141., 135., 125.],\n",
              "       [129., 121., 135., 148., 148., 136., 119., 104., 118., 115., 126.,\n",
              "        141., 135., 125., 149.],\n",
              "       [121., 135., 148., 148., 136., 119., 104., 118., 115., 126., 141.,\n",
              "        135., 125., 149., 170.],\n",
              "       [135., 148., 148., 136., 119., 104., 118., 115., 126., 141., 135.,\n",
              "        125., 149., 170., 170.],\n",
              "       [148., 148., 136., 119., 104., 118., 115., 126., 141., 135., 125.,\n",
              "        149., 170., 170., 158.],\n",
              "       [148., 136., 119., 104., 118., 115., 126., 141., 135., 125., 149.,\n",
              "        170., 170., 158., 133.],\n",
              "       [136., 119., 104., 118., 115., 126., 141., 135., 125., 149., 170.,\n",
              "        170., 158., 133., 114.],\n",
              "       [119., 104., 118., 115., 126., 141., 135., 125., 149., 170., 170.,\n",
              "        158., 133., 114., 140.],\n",
              "       [104., 118., 115., 126., 141., 135., 125., 149., 170., 170., 158.,\n",
              "        133., 114., 140., 145.],\n",
              "       [118., 115., 126., 141., 135., 125., 149., 170., 170., 158., 133.,\n",
              "        114., 140., 145., 150.]])"
            ]
          },
          "metadata": {},
          "execution_count": 7
        }
      ],
      "source": [
        "# взглянем на массив признаков - набор состыкованных окон, видим, что \n",
        "# каждый раз окно сдвигается на один шаг вперед\n",
        "Xt"
      ]
    },
    {
      "cell_type": "code",
      "execution_count": 8,
      "metadata": {
        "colab": {
          "base_uri": "https://localhost:8080/"
        },
        "id": "lLNl_KB6imqV",
        "outputId": "4b233d21-c00c-47dc-b322-24ef0912ca62"
      },
      "outputs": [
        {
          "output_type": "execute_result",
          "data": {
            "text/plain": [
              "array([[135., 125., 149., 170., 170., 158., 133., 114., 140., 145., 150.,\n",
              "        178.],\n",
              "       [125., 149., 170., 170., 158., 133., 114., 140., 145., 150., 178.,\n",
              "        163.],\n",
              "       [149., 170., 170., 158., 133., 114., 140., 145., 150., 178., 163.,\n",
              "        172.],\n",
              "       [170., 170., 158., 133., 114., 140., 145., 150., 178., 163., 172.,\n",
              "        178.],\n",
              "       [170., 158., 133., 114., 140., 145., 150., 178., 163., 172., 178.,\n",
              "        199.],\n",
              "       [158., 133., 114., 140., 145., 150., 178., 163., 172., 178., 199.,\n",
              "        199.],\n",
              "       [133., 114., 140., 145., 150., 178., 163., 172., 178., 199., 199.,\n",
              "        184.],\n",
              "       [114., 140., 145., 150., 178., 163., 172., 178., 199., 199., 184.,\n",
              "        162.],\n",
              "       [140., 145., 150., 178., 163., 172., 178., 199., 199., 184., 162.,\n",
              "        146.],\n",
              "       [145., 150., 178., 163., 172., 178., 199., 199., 184., 162., 146.,\n",
              "        166.],\n",
              "       [150., 178., 163., 172., 178., 199., 199., 184., 162., 146., 166.,\n",
              "        171.],\n",
              "       [178., 163., 172., 178., 199., 199., 184., 162., 146., 166., 171.,\n",
              "        180.]])"
            ]
          },
          "metadata": {},
          "execution_count": 8
        }
      ],
      "source": [
        "# взглянем на сложный массив меток, видим, что значения, \n",
        "# следующие за последним значением каждого окна массива \n",
        "# признаков, становится значениями зависимой переменной,\n",
        "# каждый столбец - зависимая переменная (по сути будет \n",
        "# использован как массив меток)\n",
        "yt"
      ]
    },
    {
      "cell_type": "code",
      "execution_count": 9,
      "metadata": {
        "id": "WEAT5-_aimqV"
      },
      "outputs": [],
      "source": [
        "# создаем экземпляр класса RandomForestRegressor\n",
        "regressor = RandomForestRegressor(random_state=42)"
      ]
    },
    {
      "cell_type": "code",
      "execution_count": 10,
      "metadata": {
        "colab": {
          "base_uri": "https://localhost:8080/"
        },
        "id": "XToD2EDRimqW",
        "outputId": "6cec945b-1ff8-498c-edc7-dcc1e2067507",
        "scrolled": false
      },
      "outputs": [
        {
          "output_type": "stream",
          "name": "stdout",
          "text": [
            "массив меток для 0-й модели:  [135. 125. 149. 170. 170. 158. 133. 114. 140. 145. 150. 178.]\n",
            "массив меток для 1-й модели:  [125. 149. 170. 170. 158. 133. 114. 140. 145. 150. 178. 163.]\n",
            "массив меток для 2-й модели:  [149. 170. 170. 158. 133. 114. 140. 145. 150. 178. 163. 172.]\n",
            "массив меток для 3-й модели:  [170. 170. 158. 133. 114. 140. 145. 150. 178. 163. 172. 178.]\n",
            "массив меток для 4-й модели:  [170. 158. 133. 114. 140. 145. 150. 178. 163. 172. 178. 199.]\n",
            "массив меток для 5-й модели:  [158. 133. 114. 140. 145. 150. 178. 163. 172. 178. 199. 199.]\n",
            "массив меток для 6-й модели:  [133. 114. 140. 145. 150. 178. 163. 172. 178. 199. 199. 184.]\n",
            "массив меток для 7-й модели:  [114. 140. 145. 150. 178. 163. 172. 178. 199. 199. 184. 162.]\n",
            "массив меток для 8-й модели:  [140. 145. 150. 178. 163. 172. 178. 199. 199. 184. 162. 146.]\n",
            "массив меток для 9-й модели:  [145. 150. 178. 163. 172. 178. 199. 199. 184. 162. 146. 166.]\n",
            "массив меток для 10-й модели:  [150. 178. 163. 172. 178. 199. 199. 184. 162. 146. 166. 171.]\n",
            "массив меток для 11-й модели:  [178. 163. 172. 178. 199. 199. 184. 162. 146. 166. 171. 180.]\n"
          ]
        }
      ],
      "source": [
        "# для каждого шага в горизонте прогнозирования обучаем отдельную модель\n",
        "\n",
        "# сюда будем сохранять модели для каждого шага\n",
        "estimators = []\n",
        "\n",
        "# для каждого шага в горизонте прогнозирования\n",
        "for i in range(len(fh)):\n",
        "    # создаем копию модели\n",
        "    estimator = clone(regressor)\n",
        "    # обучаем модель\n",
        "    estimator.fit(Xt, yt[:, i])\n",
        "    print('массив меток для {}-й модели: '.format(i), yt[:, i])\n",
        "    # добавляем обученную модель в общий список моделей\n",
        "    estimators.append(estimator)"
      ]
    },
    {
      "cell_type": "code",
      "execution_count": 11,
      "metadata": {
        "colab": {
          "base_uri": "https://localhost:8080/"
        },
        "id": "ebX2tQrhimqW",
        "outputId": "915ee3c1-4845-4e45-8bb5-1be400e3c58b"
      },
      "outputs": [
        {
          "output_type": "execute_result",
          "data": {
            "text/plain": [
              "array([140., 145., 150., 178., 163., 172., 178., 199., 199., 184., 162.,\n",
              "       146., 166., 171., 180.])"
            ]
          },
          "metadata": {},
          "execution_count": 11
        }
      ],
      "source": [
        "# получим последнее окно (берем последние window_length наблюдений\n",
        "# обучающего временного ряда)\n",
        "y_last = y_train.loc['1950-12':'1952-02'].to_numpy()\n",
        "y_last"
      ]
    },
    {
      "cell_type": "code",
      "execution_count": 12,
      "metadata": {
        "id": "blsYKbDNimqX"
      },
      "outputs": [],
      "source": [
        "# задаем количество столбцов\n",
        "n_columns = 1"
      ]
    },
    {
      "cell_type": "code",
      "execution_count": 13,
      "metadata": {
        "id": "M4YkZFxBimqX"
      },
      "outputs": [],
      "source": [
        "# зададим длину окна\n",
        "window_length = 15"
      ]
    },
    {
      "cell_type": "code",
      "execution_count": 14,
      "metadata": {
        "colab": {
          "base_uri": "https://localhost:8080/"
        },
        "id": "50v2Xe-8imqY",
        "outputId": "32b28ff4-5ef7-4af6-9402-15f58d3f1764"
      },
      "outputs": [
        {
          "output_type": "execute_result",
          "data": {
            "text/plain": [
              "array([[[0., 0., 0., 0., 0., 0., 0., 0., 0., 0., 0., 0., 0., 0., 0.]]])"
            ]
          },
          "metadata": {},
          "execution_count": 14
        }
      ],
      "source": [
        "# cоздадим массив из нулей\n",
        "X = np.zeros((1, n_columns, window_length))\n",
        "X"
      ]
    },
    {
      "cell_type": "code",
      "execution_count": 15,
      "metadata": {
        "colab": {
          "base_uri": "https://localhost:8080/"
        },
        "id": "7-CoELyEimqY",
        "outputId": "d1438148-8a77-4821-a558-6e3edb155863"
      },
      "outputs": [
        {
          "output_type": "execute_result",
          "data": {
            "text/plain": [
              "array([[[140., 145., 150., 178., 163., 172., 178., 199., 199., 184.,\n",
              "         162., 146., 166., 171., 180.]]])"
            ]
          },
          "metadata": {},
          "execution_count": 15
        }
      ],
      "source": [
        "# запишем в этот массив значения из последнего окна\n",
        "X[:, 0, :] = y_last\n",
        "X"
      ]
    },
    {
      "cell_type": "code",
      "execution_count": 16,
      "metadata": {
        "colab": {
          "base_uri": "https://localhost:8080/"
        },
        "id": "SxQAMZ5rimqZ",
        "outputId": "19ae60ea-91ce-4308-fe1e-96b36b39e35a"
      },
      "outputs": [
        {
          "output_type": "execute_result",
          "data": {
            "text/plain": [
              "array([[140., 145., 150., 178., 163., 172., 178., 199., 199., 184., 162.,\n",
              "        146., 166., 171., 180.]])"
            ]
          },
          "metadata": {},
          "execution_count": 16
        }
      ],
      "source": [
        "# получаем 2-мерный массив - наш новый массив признаков,\n",
        "# который используем для получения итоговых прогнозов\n",
        "X = X.reshape(1, -1)\n",
        "X"
      ]
    },
    {
      "cell_type": "code",
      "execution_count": 17,
      "metadata": {
        "colab": {
          "base_uri": "https://localhost:8080/"
        },
        "id": "Qv6IiSmjimqZ",
        "outputId": "37462dc0-8517-45df-c305-25f30ca9c778"
      },
      "outputs": [
        {
          "output_type": "execute_result",
          "data": {
            "text/plain": [
              "array([0., 0., 0., 0., 0., 0., 0., 0., 0., 0., 0., 0.])"
            ]
          },
          "metadata": {},
          "execution_count": 17
        }
      ],
      "source": [
        "# создаем массив из нулей, в который будем записывать прогнозы,\n",
        "# равный горизонту прогнозирования\n",
        "y_pred = np.zeros(len(fh))\n",
        "y_pred"
      ]
    },
    {
      "cell_type": "code",
      "execution_count": 18,
      "metadata": {
        "id": "DfDZw1wwimqZ"
      },
      "outputs": [],
      "source": [
        "# для каждого шага из горизонта прогнозирования \n",
        "# пропускаем новый массив признаков через свою уже обученную модель,\n",
        "# чтобы получить итоговый прогноз\n",
        "for i, estimator in enumerate(estimators):\n",
        "    y_pred[i] = estimator.predict(X)"
      ]
    },
    {
      "cell_type": "code",
      "execution_count": 19,
      "metadata": {
        "colab": {
          "base_uri": "https://localhost:8080/"
        },
        "id": "S0BOMZuq_74T",
        "outputId": "e6f0d74c-dd28-4adc-e794-2511e51f35cb"
      },
      "outputs": [
        {
          "output_type": "stream",
          "name": "stdout",
          "text": [
            "[162.77 154.84 146.33 151.25 168.78 182.34 179.62 175.34 175.38 183.35\n",
            " 188.   189.46]\n"
          ]
        }
      ],
      "source": [
        "# напечатаем прогнозы    \n",
        "print(y_pred)"
      ]
    },
    {
      "cell_type": "code",
      "execution_count": 20,
      "metadata": {
        "colab": {
          "base_uri": "https://localhost:8080/"
        },
        "id": "PKleMQ1Oimqa",
        "outputId": "5bc3d91a-f8b3-49d3-be5e-2688874598d5",
        "scrolled": false
      },
      "outputs": [
        {
          "output_type": "stream",
          "name": "stdout",
          "text": [
            "1952-03    162.77\n",
            "1952-04    154.84\n",
            "1952-05    146.33\n",
            "1952-06    151.25\n",
            "1952-07    168.78\n",
            "1952-08    182.34\n",
            "1952-09    179.62\n",
            "1952-10    175.34\n",
            "1952-11    175.38\n",
            "1952-12    183.35\n",
            "1953-01    188.00\n",
            "1953-02    189.46\n",
            "Freq: M, dtype: float64\n"
          ]
        }
      ],
      "source": [
        "# создаем прогнозную модель, выполнив редукцию\n",
        "# используем стратегию прямого многошагового прогноза\n",
        "forecaster = make_reduction(regressor, window_length=15, \n",
        "                            strategy='direct')\n",
        "\n",
        "# обучаем прогнозную модель\n",
        "forecaster.fit(y_train, fh=fh)\n",
        "\n",
        "# получаем прогнозы\n",
        "y_pred_skt = forecaster.predict(fh)\n",
        "\n",
        "# напечатаем прогнозы    \n",
        "print(y_pred_skt)"
      ]
    },
    {
      "cell_type": "code",
      "execution_count": 21,
      "metadata": {
        "colab": {
          "base_uri": "https://localhost:8080/"
        },
        "id": "0Wn3ZCx6imqa",
        "outputId": "a7fcd590-5efd-4572-942f-d233c67e6fff"
      },
      "outputs": [
        {
          "output_type": "execute_result",
          "data": {
            "text/plain": [
              "True"
            ]
          },
          "metadata": {},
          "execution_count": 21
        }
      ],
      "source": [
        "# cравним прогнозы, вычисленные вручную и автоматически\n",
        "(y_pred == y_pred_skt.values).all()"
      ]
    },
    {
      "cell_type": "code",
      "execution_count": 22,
      "metadata": {
        "colab": {
          "base_uri": "https://localhost:8080/",
          "height": 282
        },
        "id": "R5M0b_Tjimqa",
        "outputId": "8846409a-08c9-4a07-c753-2f50fe751054"
      },
      "outputs": [
        {
          "output_type": "execute_result",
          "data": {
            "text/plain": [
              "0.17865107162177962"
            ]
          },
          "metadata": {},
          "execution_count": 22
        },
        {
          "output_type": "display_data",
          "data": {
            "text/plain": [
              "<Figure size 1152x288 with 1 Axes>"
            ],
            "image/png": "[encoded data removed]"
          },
          "metadata": {
            "image/png": {
              "width": 946,
              "height": 248
            },
            "needs_background": "light"
          }
        }
      ],
      "source": [
        "# визуализируем прогнозы\n",
        "plot_series(y_train, y_test, y_pred_skt, \n",
        "            labels=['y_train', 'y_test', 'y_pred'])\n",
        "\n",
        "# вычисляем sMAPE для тестовой выборки\n",
        "mean_absolute_percentage_error(y_pred_skt, y_test)"
      ]
    },
    {
      "cell_type": "markdown",
      "metadata": {
        "id": "NKLKOOJ6imqb"
      },
      "source": [
        "## Рекурсивный многошаговый прогноз"
      ]
    },
    {
      "cell_type": "code",
      "execution_count": 23,
      "metadata": {
        "colab": {
          "base_uri": "https://localhost:8080/"
        },
        "id": "PwM8pWrFimqb",
        "outputId": "f4f524c5-7df4-4036-ab0b-3af80378471d"
      },
      "outputs": [
        {
          "output_type": "execute_result",
          "data": {
            "text/plain": [
              "ForecastingHorizon([1, 2, 3, 4, 5, 6, 7, 8, 9, 10, 11, 12], dtype='int64', is_relative=True)"
            ]
          },
          "metadata": {},
          "execution_count": 23
        }
      ],
      "source": [
        "# задаем относительный горизонт прогнозирования\n",
        "fh = ForecastingHorizon(np.arange(len(y_test)) + 1)\n",
        "fh"
      ]
    },
    {
      "cell_type": "code",
      "execution_count": 24,
      "metadata": {
        "id": "EPkDFBoVimqc"
      },
      "outputs": [],
      "source": [
        "# пишем функцию редукции\n",
        "def transform(y, \n",
        "              window_length, \n",
        "              X=None):  \n",
        "    \"\"\"\n",
        "    Функция превращает временной ряд в таблицу. Она разбивает \n",
        "    обучающий временной ряд на окна фиксированной длины \n",
        "    (длина определяется параметром window_length).\n",
        "    Значения, попавшие в окно, будут признаками, а значения, \n",
        "    следующие после них, будут значениями зависимой переменной. \n",
        "    Мы решаем задачу регреcсии.\n",
        "    \"\"\"\n",
        "    # для рекурсивной стратегии горизонт прогнозирования \n",
        "    # - это просто один шаг вперед, независимо от горизонта \n",
        "    # прогнозирования, который мы передаем модели  \n",
        "    fh = ForecastingHorizon([1]) # всегда прогнозируем на 1 шаг вперед\n",
        "    \n",
        "    return _sliding_window_transform(\n",
        "        y, window_length, fh, X)"
      ]
    },
    {
      "cell_type": "code",
      "execution_count": 25,
      "metadata": {
        "id": "VwXU4I3Dimqc"
      },
      "outputs": [],
      "source": [
        "# преобразовываем обучающий временной ряд в таблицы,\n",
        "# получаем массив меток и массив признаков\n",
        "yt, Xt = transform(y_train,\n",
        "                   window_length=15)"
      ]
    },
    {
      "cell_type": "code",
      "execution_count": 26,
      "metadata": {
        "colab": {
          "base_uri": "https://localhost:8080/"
        },
        "id": "QxDGqLLvimqc",
        "outputId": "4ba504d4-85aa-487e-9087-3b173ea33636"
      },
      "outputs": [
        {
          "output_type": "execute_result",
          "data": {
            "text/plain": [
              "array([[112., 118., 132., 129., 121., 135., 148., 148., 136., 119., 104.,\n",
              "        118., 115., 126., 141.],\n",
              "       [118., 132., 129., 121., 135., 148., 148., 136., 119., 104., 118.,\n",
              "        115., 126., 141., 135.],\n",
              "       [132., 129., 121., 135., 148., 148., 136., 119., 104., 118., 115.,\n",
              "        126., 141., 135., 125.],\n",
              "       [129., 121., 135., 148., 148., 136., 119., 104., 118., 115., 126.,\n",
              "        141., 135., 125., 149.],\n",
              "       [121., 135., 148., 148., 136., 119., 104., 118., 115., 126., 141.,\n",
              "        135., 125., 149., 170.],\n",
              "       [135., 148., 148., 136., 119., 104., 118., 115., 126., 141., 135.,\n",
              "        125., 149., 170., 170.],\n",
              "       [148., 148., 136., 119., 104., 118., 115., 126., 141., 135., 125.,\n",
              "        149., 170., 170., 158.],\n",
              "       [148., 136., 119., 104., 118., 115., 126., 141., 135., 125., 149.,\n",
              "        170., 170., 158., 133.],\n",
              "       [136., 119., 104., 118., 115., 126., 141., 135., 125., 149., 170.,\n",
              "        170., 158., 133., 114.],\n",
              "       [119., 104., 118., 115., 126., 141., 135., 125., 149., 170., 170.,\n",
              "        158., 133., 114., 140.],\n",
              "       [104., 118., 115., 126., 141., 135., 125., 149., 170., 170., 158.,\n",
              "        133., 114., 140., 145.],\n",
              "       [118., 115., 126., 141., 135., 125., 149., 170., 170., 158., 133.,\n",
              "        114., 140., 145., 150.],\n",
              "       [115., 126., 141., 135., 125., 149., 170., 170., 158., 133., 114.,\n",
              "        140., 145., 150., 178.],\n",
              "       [126., 141., 135., 125., 149., 170., 170., 158., 133., 114., 140.,\n",
              "        145., 150., 178., 163.],\n",
              "       [141., 135., 125., 149., 170., 170., 158., 133., 114., 140., 145.,\n",
              "        150., 178., 163., 172.],\n",
              "       [135., 125., 149., 170., 170., 158., 133., 114., 140., 145., 150.,\n",
              "        178., 163., 172., 178.],\n",
              "       [125., 149., 170., 170., 158., 133., 114., 140., 145., 150., 178.,\n",
              "        163., 172., 178., 199.],\n",
              "       [149., 170., 170., 158., 133., 114., 140., 145., 150., 178., 163.,\n",
              "        172., 178., 199., 199.],\n",
              "       [170., 170., 158., 133., 114., 140., 145., 150., 178., 163., 172.,\n",
              "        178., 199., 199., 184.],\n",
              "       [170., 158., 133., 114., 140., 145., 150., 178., 163., 172., 178.,\n",
              "        199., 199., 184., 162.],\n",
              "       [158., 133., 114., 140., 145., 150., 178., 163., 172., 178., 199.,\n",
              "        199., 184., 162., 146.],\n",
              "       [133., 114., 140., 145., 150., 178., 163., 172., 178., 199., 199.,\n",
              "        184., 162., 146., 166.],\n",
              "       [114., 140., 145., 150., 178., 163., 172., 178., 199., 199., 184.,\n",
              "        162., 146., 166., 171.]])"
            ]
          },
          "metadata": {},
          "execution_count": 26
        }
      ],
      "source": [
        "# взглянем на массив признаков - набор состыкованных окон, \n",
        "# видим, что каждый раз окно сдвигается на один шаг вперед\n",
        "Xt"
      ]
    },
    {
      "cell_type": "code",
      "execution_count": 27,
      "metadata": {
        "colab": {
          "base_uri": "https://localhost:8080/"
        },
        "id": "kycPlJLHimqd",
        "outputId": "e51dd903-a4b3-42c1-d9d1-7247abccff04"
      },
      "outputs": [
        {
          "output_type": "execute_result",
          "data": {
            "text/plain": [
              "array([[135.],\n",
              "       [125.],\n",
              "       [149.],\n",
              "       [170.],\n",
              "       [170.],\n",
              "       [158.],\n",
              "       [133.],\n",
              "       [114.],\n",
              "       [140.],\n",
              "       [145.],\n",
              "       [150.],\n",
              "       [178.],\n",
              "       [163.],\n",
              "       [172.],\n",
              "       [178.],\n",
              "       [199.],\n",
              "       [199.],\n",
              "       [184.],\n",
              "       [162.],\n",
              "       [146.],\n",
              "       [166.],\n",
              "       [171.],\n",
              "       [180.]])"
            ]
          },
          "metadata": {},
          "execution_count": 27
        }
      ],
      "source": [
        "# взглянем на массив меток, видим, что значение, следующее \n",
        "# за последним значением каждого окна массива признаков, \n",
        "# становится значением зависимой переменной\n",
        "yt"
      ]
    },
    {
      "cell_type": "code",
      "execution_count": 28,
      "metadata": {
        "colab": {
          "base_uri": "https://localhost:8080/"
        },
        "id": "7n5kW4lLimqd",
        "outputId": "32d2d509-e684-4e29-a847-bebd48107452"
      },
      "outputs": [
        {
          "output_type": "execute_result",
          "data": {
            "text/plain": [
              "array([135., 125., 149., 170., 170., 158., 133., 114., 140., 145., 150.,\n",
              "       178., 163., 172., 178., 199., 199., 184., 162., 146., 166., 171.,\n",
              "       180.])"
            ]
          },
          "metadata": {},
          "execution_count": 28
        }
      ],
      "source": [
        "# сжимаем массив меток до одной оси \n",
        "yt = yt.ravel()\n",
        "yt"
      ]
    },
    {
      "cell_type": "code",
      "execution_count": 29,
      "metadata": {
        "id": "hav7BlvGimqd"
      },
      "outputs": [],
      "source": [
        "# создаем экземпляр класса RandomForestRegressor\n",
        "regressor = RandomForestRegressor(random_state=42)\n",
        "# создаем копию модели\n",
        "estimator = clone(regressor)\n",
        "# обучаем модель\n",
        "estimator.fit(Xt, yt);"
      ]
    },
    {
      "cell_type": "code",
      "execution_count": 30,
      "metadata": {
        "colab": {
          "base_uri": "https://localhost:8080/"
        },
        "id": "GT6x4SB7imqe",
        "outputId": "0207f406-2b41-4830-ac29-b62a2318dd21"
      },
      "outputs": [
        {
          "output_type": "execute_result",
          "data": {
            "text/plain": [
              "array([140., 145., 150., 178., 163., 172., 178., 199., 199., 184., 162.,\n",
              "       146., 166., 171., 180.])"
            ]
          },
          "metadata": {},
          "execution_count": 30
        }
      ],
      "source": [
        "# получим последнее окно (берем последние window_length наблюдений\n",
        "# обучающего временного ряда)\n",
        "y_last = y_train.loc['1950-12':'1952-02'].to_numpy()\n",
        "y_last"
      ]
    },
    {
      "cell_type": "code",
      "execution_count": 31,
      "metadata": {
        "colab": {
          "base_uri": "https://localhost:8080/"
        },
        "id": "-F4ETdKoimqf",
        "outputId": "74ed1f0c-169d-4609-dc42-4d2a401a61e7"
      },
      "outputs": [
        {
          "output_type": "stream",
          "name": "stdout",
          "text": [
            "Массив, куда будем сохранять прогнозы:\n",
            "\n",
            "[0. 0. 0. 0. 0. 0. 0. 0. 0. 0. 0. 0.]\n"
          ]
        }
      ],
      "source": [
        "# создаем массив из нулей, в который будем записывать прогнозы,\n",
        "# равный горизонту прогнозирования\n",
        "y_pred = np.zeros(len(fh))\n",
        "print('Массив, куда будем сохранять прогнозы:\\n\\n%s' % y_pred)"
      ]
    },
    {
      "cell_type": "code",
      "execution_count": 32,
      "metadata": {
        "id": "dH07gHCsimqg"
      },
      "outputs": [],
      "source": [
        "# зададим количество столбцов\n",
        "n_columns = 1"
      ]
    },
    {
      "cell_type": "code",
      "execution_count": 33,
      "metadata": {
        "id": "Dbf-t-FQimqi"
      },
      "outputs": [],
      "source": [
        "# зададим длину окна\n",
        "window_length = 15"
      ]
    },
    {
      "cell_type": "code",
      "execution_count": 34,
      "metadata": {
        "colab": {
          "base_uri": "https://localhost:8080/"
        },
        "id": "okEoaC80imqi",
        "outputId": "5fe04dda-6b11-4657-c0f4-0c837663f2a4"
      },
      "outputs": [
        {
          "output_type": "execute_result",
          "data": {
            "text/plain": [
              "array([[[0., 0., 0., 0., 0., 0., 0., 0., 0., 0., 0., 0., 0., 0., 0., 0.,\n",
              "         0., 0., 0., 0., 0., 0., 0., 0., 0., 0., 0.]]])"
            ]
          },
          "metadata": {},
          "execution_count": 34
        }
      ],
      "source": [
        "# cоздадим массив из нулей, количество элементов определяется\n",
        "# длиной окна плюс длина горизонта прогнозирования\n",
        "last = np.zeros((1, n_columns, window_length + len(fh)))\n",
        "last"
      ]
    },
    {
      "cell_type": "code",
      "execution_count": 35,
      "metadata": {
        "colab": {
          "base_uri": "https://localhost:8080/"
        },
        "id": "VUpo00TYimqj",
        "outputId": "d2401d0a-5c56-4e5d-d138-aeb88b00c504"
      },
      "outputs": [
        {
          "output_type": "execute_result",
          "data": {
            "text/plain": [
              "array([[[140., 145., 150., 178., 163., 172., 178., 199., 199., 184.,\n",
              "         162., 146., 166., 171., 180.,   0.,   0.,   0.,   0.,   0.,\n",
              "           0.,   0.,   0.,   0.,   0.,   0.,   0.]]])"
            ]
          },
          "metadata": {},
          "execution_count": 35
        }
      ],
      "source": [
        "# запишем в этот массив значения из последнего окна\n",
        "last[:, 0, :window_length] = y_last\n",
        "last"
      ]
    },
    {
      "cell_type": "code",
      "execution_count": 36,
      "metadata": {
        "colab": {
          "base_uri": "https://localhost:8080/"
        },
        "id": "AFH0WeP5imqj",
        "outputId": "1cb19ed7-90eb-42ae-fa99-1d6b7ba24cbc",
        "scrolled": false
      },
      "outputs": [
        {
          "output_type": "stream",
          "name": "stdout",
          "text": [
            "Массив признаков для прогнозирования 0-го наблюдения:\n",
            "[[140. 145. 150. 178. 163. 172. 178. 199. 199. 184. 162. 146. 166. 171.\n",
            "  180.]]\n",
            "Прогноз 0-го наблюдения:  190.84\n",
            "----\n",
            "\n",
            "Массив признаков для прогнозирования 1-го наблюдения:\n",
            "[[145.   150.   178.   163.   172.   178.   199.   199.   184.   162.\n",
            "  146.   166.   171.   180.   190.84]]\n",
            "Прогноз 1-го наблюдения:  186.55\n",
            "----\n",
            "\n",
            "Массив признаков для прогнозирования 2-го наблюдения:\n",
            "[[150.   178.   163.   172.   178.   199.   199.   184.   162.   146.\n",
            "  166.   171.   180.   190.84 186.55]]\n",
            "Прогноз 2-го наблюдения:  191.85\n",
            "----\n",
            "\n",
            "Массив признаков для прогнозирования 3-го наблюдения:\n",
            "[[178.   163.   172.   178.   199.   199.   184.   162.   146.   166.\n",
            "  171.   180.   190.84 186.55 191.85]]\n",
            "Прогноз 3-го наблюдения:  192.88\n",
            "----\n",
            "\n",
            "Массив признаков для прогнозирования 4-го наблюдения:\n",
            "[[163.   172.   178.   199.   199.   184.   162.   146.   166.   171.\n",
            "  180.   190.84 186.55 191.85 192.88]]\n",
            "Прогноз 4-го наблюдения:  192.05\n",
            "----\n",
            "\n",
            "Массив признаков для прогнозирования 5-го наблюдения:\n",
            "[[172.   178.   199.   199.   184.   162.   146.   166.   171.   180.\n",
            "  190.84 186.55 191.85 192.88 192.05]]\n",
            "Прогноз 5-го наблюдения:  192.05\n",
            "----\n",
            "\n",
            "Массив признаков для прогнозирования 6-го наблюдения:\n",
            "[[178.   199.   199.   184.   162.   146.   166.   171.   180.   190.84\n",
            "  186.55 191.85 192.88 192.05 192.05]]\n",
            "Прогноз 6-го наблюдения:  191.92\n",
            "----\n",
            "\n",
            "Массив признаков для прогнозирования 7-го наблюдения:\n",
            "[[199.   199.   184.   162.   146.   166.   171.   180.   190.84 186.55\n",
            "  191.85 192.88 192.05 192.05 191.92]]\n",
            "Прогноз 7-го наблюдения:  185.18\n",
            "----\n",
            "\n",
            "Массив признаков для прогнозирования 8-го наблюдения:\n",
            "[[199.   184.   162.   146.   166.   171.   180.   190.84 186.55 191.85\n",
            "  192.88 192.05 192.05 191.92 185.18]]\n",
            "Прогноз 8-го наблюдения:  177.67\n",
            "----\n",
            "\n",
            "Массив признаков для прогнозирования 9-го наблюдения:\n",
            "[[184.   162.   146.   166.   171.   180.   190.84 186.55 191.85 192.88\n",
            "  192.05 192.05 191.92 185.18 177.67]]\n",
            "Прогноз 9-го наблюдения:  190.71\n",
            "----\n",
            "\n",
            "Массив признаков для прогнозирования 10-го наблюдения:\n",
            "[[162.   146.   166.   171.   180.   190.84 186.55 191.85 192.88 192.05\n",
            "  192.05 191.92 185.18 177.67 190.71]]\n",
            "Прогноз 10-го наблюдения:  192.01\n",
            "----\n",
            "\n",
            "Массив признаков для прогнозирования 11-го наблюдения:\n",
            "[[146.   166.   171.   180.   190.84 186.55 191.85 192.88 192.05 192.05\n",
            "  191.92 185.18 177.67 190.71 192.01]]\n",
            "Прогноз 11-го наблюдения:  191.82\n",
            "----\n",
            "\n"
          ]
        }
      ],
      "source": [
        "# рекурсивно создаем прогнозы для каждого шага горизонта прогнозирования\n",
        "for i in range(0, len(fh)):\n",
        "    \n",
        "    # формируем скользящее окно, в которое отбираем значения, которые будут \n",
        "    # использоваться в качестве признаков для i-го наблюдения,\n",
        "    # каждый раз окно сдвигается на один шаг вперед\n",
        "    X = last[:, :, i:window_length + i]\n",
        "    \n",
        "    # получаем 2-мерный массив признаков\n",
        "    X = X[0].reshape(1, -1)\n",
        "    print('Массив признаков для прогнозирования {}-го наблюдения:'.format(i))\n",
        "    print(X)\n",
        "\n",
        "    # получаем прогноз для i-го наблюдения\n",
        "    y_pred[i] = estimator.predict(X)\n",
        "    print('Прогноз {}-го наблюдения: '.format(i), y_pred[i])\n",
        "\n",
        "    # добавим i-ый прогноз в массив last\n",
        "    last[:, 0, window_length + i] = y_pred[i]\n",
        "    print('----\\n')"
      ]
    },
    {
      "cell_type": "code",
      "execution_count": 37,
      "metadata": {
        "colab": {
          "base_uri": "https://localhost:8080/"
        },
        "id": "iN_aftCMimqk",
        "outputId": "471be5da-88b7-45b7-f2e6-75662acb9992",
        "scrolled": false
      },
      "outputs": [
        {
          "output_type": "stream",
          "name": "stdout",
          "text": [
            "[190.84 186.55 191.85 192.88 192.05 192.05 191.92 185.18 177.67 190.71\n",
            " 192.01 191.82]\n"
          ]
        }
      ],
      "source": [
        "# напечатаем прогнозы\n",
        "print(y_pred)"
      ]
    },
    {
      "cell_type": "code",
      "execution_count": 38,
      "metadata": {
        "colab": {
          "base_uri": "https://localhost:8080/"
        },
        "id": "r9T-wFwHimqk",
        "outputId": "2e818dce-aa05-4fd8-fa98-053bfc65284f",
        "scrolled": false
      },
      "outputs": [
        {
          "output_type": "stream",
          "name": "stdout",
          "text": [
            "1952-03    190.84\n",
            "1952-04    186.55\n",
            "1952-05    191.85\n",
            "1952-06    192.88\n",
            "1952-07    192.05\n",
            "1952-08    192.05\n",
            "1952-09    191.92\n",
            "1952-10    185.18\n",
            "1952-11    177.67\n",
            "1952-12    190.71\n",
            "1953-01    192.01\n",
            "1953-02    191.82\n",
            "Freq: M, dtype: float64\n"
          ]
        }
      ],
      "source": [
        "# создаем прогнозную модель, выполнив редукцию\n",
        "# используем стратегию рекурсивного многошагового прогноза \n",
        "forecaster = make_reduction(regressor, window_length=15, \n",
        "                            strategy='recursive')\n",
        "\n",
        "# обучаем прогнозную модель\n",
        "forecaster.fit(y_train)\n",
        "\n",
        "# получаем прогнозы\n",
        "y_pred_skt = forecaster.predict(fh)\n",
        "\n",
        "# напечатаем прогнозы \n",
        "print(y_pred_skt)"
      ]
    },
    {
      "cell_type": "code",
      "execution_count": 39,
      "metadata": {
        "colab": {
          "base_uri": "https://localhost:8080/"
        },
        "id": "KdZfj-BRimql",
        "outputId": "aa2cdfd6-f976-468d-8c2c-697405daa025"
      },
      "outputs": [
        {
          "output_type": "execute_result",
          "data": {
            "text/plain": [
              "True"
            ]
          },
          "metadata": {},
          "execution_count": 39
        }
      ],
      "source": [
        "# cравним прогнозы, вычисленные вручную и автоматически\n",
        "(y_pred == y_pred_skt.values).all()"
      ]
    },
    {
      "cell_type": "code",
      "execution_count": 40,
      "metadata": {
        "colab": {
          "base_uri": "https://localhost:8080/",
          "height": 282
        },
        "id": "0WZ8-7Kdimql",
        "outputId": "5fc47bf4-84ee-438f-8e76-83e89713025b",
        "scrolled": true
      },
      "outputs": [
        {
          "output_type": "execute_result",
          "data": {
            "text/plain": [
              "0.07394073164469055"
            ]
          },
          "metadata": {},
          "execution_count": 40
        },
        {
          "output_type": "display_data",
          "data": {
            "text/plain": [
              "<Figure size 1152x288 with 1 Axes>"
            ],
            "image/png": "[encoded data removed]"
          },
          "metadata": {
            "image/png": {
              "width": 946,
              "height": 248
            },
            "needs_background": "light"
          }
        }
      ],
      "source": [
        "# визуализируем прогнозы\n",
        "plot_series(y_train, y_test, y_pred_skt, \n",
        "            labels=['y_train', 'y_test', 'y_pred'])\n",
        "\n",
        "# вычисляем sMAPE\n",
        "mean_absolute_percentage_error(y_pred_skt, y_test)"
      ]
    },
    {
      "cell_type": "markdown",
      "metadata": {
        "id": "_Z6rwvIIimqm"
      },
      "source": [
        "## Гибридный многошаговый прогноз"
      ]
    },
    {
      "cell_type": "code",
      "execution_count": 41,
      "metadata": {
        "colab": {
          "base_uri": "https://localhost:8080/"
        },
        "id": "tBvWVvzSimqm",
        "outputId": "27731272-d6ba-4761-82cc-eeaa4d6a842c"
      },
      "outputs": [
        {
          "output_type": "execute_result",
          "data": {
            "text/plain": [
              "ForecastingHorizon([1, 2, 3, 4, 5, 6, 7, 8, 9, 10, 11, 12], dtype='int64', is_relative=True)"
            ]
          },
          "metadata": {},
          "execution_count": 41
        }
      ],
      "source": [
        "# задаем относительный горизонт прогнозирования\n",
        "fh = ForecastingHorizon(np.arange(len(y_test)) + 1)\n",
        "fh"
      ]
    },
    {
      "cell_type": "code",
      "execution_count": 42,
      "metadata": {
        "id": "baR4jFLgimqn"
      },
      "outputs": [],
      "source": [
        "# пишем функцию редукцию\n",
        "def transform(y,\n",
        "              window_length,\n",
        "              X=None):\n",
        "    \"\"\"\n",
        "    Функция превращает временной ряд в таблицу. Она разбивает \n",
        "    обучающий временной ряд на окна фиксированной длины \n",
        "    (длина определяется параметром window_length).\n",
        "    Значения, попавшие в окно, будут признаками, а значения, \n",
        "    следующие после них, будут значениями зависимой переменной. \n",
        "    Мы решаем задачу регреcсии.\n",
        "    \"\"\"       \n",
        "    return _sliding_window_transform(\n",
        "        y, window_length, fh, X)"
      ]
    },
    {
      "cell_type": "code",
      "execution_count": 43,
      "metadata": {
        "id": "NXaiLuIbimqn"
      },
      "outputs": [],
      "source": [
        "# преобразовываем обучающий временной ряд в таблицы,\n",
        "# получаем сложный массив меток и массив признаков\n",
        "yt, Xt = transform(y_train,\n",
        "                   window_length=15)"
      ]
    },
    {
      "cell_type": "code",
      "execution_count": 44,
      "metadata": {
        "colab": {
          "base_uri": "https://localhost:8080/"
        },
        "id": "2GiQDsh9imqn",
        "outputId": "2340df6a-68a8-4011-c7c3-940e28678225"
      },
      "outputs": [
        {
          "output_type": "execute_result",
          "data": {
            "text/plain": [
              "array([[112., 118., 132., 129., 121., 135., 148., 148., 136., 119., 104.,\n",
              "        118., 115., 126., 141.],\n",
              "       [118., 132., 129., 121., 135., 148., 148., 136., 119., 104., 118.,\n",
              "        115., 126., 141., 135.],\n",
              "       [132., 129., 121., 135., 148., 148., 136., 119., 104., 118., 115.,\n",
              "        126., 141., 135., 125.],\n",
              "       [129., 121., 135., 148., 148., 136., 119., 104., 118., 115., 126.,\n",
              "        141., 135., 125., 149.],\n",
              "       [121., 135., 148., 148., 136., 119., 104., 118., 115., 126., 141.,\n",
              "        135., 125., 149., 170.],\n",
              "       [135., 148., 148., 136., 119., 104., 118., 115., 126., 141., 135.,\n",
              "        125., 149., 170., 170.],\n",
              "       [148., 148., 136., 119., 104., 118., 115., 126., 141., 135., 125.,\n",
              "        149., 170., 170., 158.],\n",
              "       [148., 136., 119., 104., 118., 115., 126., 141., 135., 125., 149.,\n",
              "        170., 170., 158., 133.],\n",
              "       [136., 119., 104., 118., 115., 126., 141., 135., 125., 149., 170.,\n",
              "        170., 158., 133., 114.],\n",
              "       [119., 104., 118., 115., 126., 141., 135., 125., 149., 170., 170.,\n",
              "        158., 133., 114., 140.],\n",
              "       [104., 118., 115., 126., 141., 135., 125., 149., 170., 170., 158.,\n",
              "        133., 114., 140., 145.],\n",
              "       [118., 115., 126., 141., 135., 125., 149., 170., 170., 158., 133.,\n",
              "        114., 140., 145., 150.]])"
            ]
          },
          "metadata": {},
          "execution_count": 44
        }
      ],
      "source": [
        "# взглянем на массив признаков - набор состыкованных окон, видим, что \n",
        "# каждый раз окно сдвигается на один шаг вперед\n",
        "Xt"
      ]
    },
    {
      "cell_type": "code",
      "execution_count": 45,
      "metadata": {
        "colab": {
          "base_uri": "https://localhost:8080/"
        },
        "id": "uLsIo5amimqn",
        "outputId": "66ea9bed-738e-4624-f65b-061d6a968c8c"
      },
      "outputs": [
        {
          "output_type": "execute_result",
          "data": {
            "text/plain": [
              "array([[135., 125., 149., 170., 170., 158., 133., 114., 140., 145., 150.,\n",
              "        178.],\n",
              "       [125., 149., 170., 170., 158., 133., 114., 140., 145., 150., 178.,\n",
              "        163.],\n",
              "       [149., 170., 170., 158., 133., 114., 140., 145., 150., 178., 163.,\n",
              "        172.],\n",
              "       [170., 170., 158., 133., 114., 140., 145., 150., 178., 163., 172.,\n",
              "        178.],\n",
              "       [170., 158., 133., 114., 140., 145., 150., 178., 163., 172., 178.,\n",
              "        199.],\n",
              "       [158., 133., 114., 140., 145., 150., 178., 163., 172., 178., 199.,\n",
              "        199.],\n",
              "       [133., 114., 140., 145., 150., 178., 163., 172., 178., 199., 199.,\n",
              "        184.],\n",
              "       [114., 140., 145., 150., 178., 163., 172., 178., 199., 199., 184.,\n",
              "        162.],\n",
              "       [140., 145., 150., 178., 163., 172., 178., 199., 199., 184., 162.,\n",
              "        146.],\n",
              "       [145., 150., 178., 163., 172., 178., 199., 199., 184., 162., 146.,\n",
              "        166.],\n",
              "       [150., 178., 163., 172., 178., 199., 199., 184., 162., 146., 166.,\n",
              "        171.],\n",
              "       [178., 163., 172., 178., 199., 199., 184., 162., 146., 166., 171.,\n",
              "        180.]])"
            ]
          },
          "metadata": {},
          "execution_count": 45
        }
      ],
      "source": [
        "# взглянем на сложный массив меток, видим, что значения, \n",
        "# следующие за последним значением каждого окна массива \n",
        "# признаков, становится значениями зависимой переменной\n",
        "yt"
      ]
    },
    {
      "cell_type": "code",
      "execution_count": 46,
      "metadata": {
        "colab": {
          "base_uri": "https://localhost:8080/"
        },
        "id": "EbretTcgimqo",
        "outputId": "bff32aa9-9c25-4522-c4b6-610d2da6571c"
      },
      "outputs": [
        {
          "output_type": "execute_result",
          "data": {
            "text/plain": [
              "array([[[112., 118., 132., 129., 121., 135., 148., 148., 136., 119.,\n",
              "         104., 118., 115., 126., 141.]],\n",
              "\n",
              "       [[118., 132., 129., 121., 135., 148., 148., 136., 119., 104.,\n",
              "         118., 115., 126., 141., 135.]],\n",
              "\n",
              "       [[132., 129., 121., 135., 148., 148., 136., 119., 104., 118.,\n",
              "         115., 126., 141., 135., 125.]],\n",
              "\n",
              "       [[129., 121., 135., 148., 148., 136., 119., 104., 118., 115.,\n",
              "         126., 141., 135., 125., 149.]],\n",
              "\n",
              "       [[121., 135., 148., 148., 136., 119., 104., 118., 115., 126.,\n",
              "         141., 135., 125., 149., 170.]],\n",
              "\n",
              "       [[135., 148., 148., 136., 119., 104., 118., 115., 126., 141.,\n",
              "         135., 125., 149., 170., 170.]],\n",
              "\n",
              "       [[148., 148., 136., 119., 104., 118., 115., 126., 141., 135.,\n",
              "         125., 149., 170., 170., 158.]],\n",
              "\n",
              "       [[148., 136., 119., 104., 118., 115., 126., 141., 135., 125.,\n",
              "         149., 170., 170., 158., 133.]],\n",
              "\n",
              "       [[136., 119., 104., 118., 115., 126., 141., 135., 125., 149.,\n",
              "         170., 170., 158., 133., 114.]],\n",
              "\n",
              "       [[119., 104., 118., 115., 126., 141., 135., 125., 149., 170.,\n",
              "         170., 158., 133., 114., 140.]],\n",
              "\n",
              "       [[104., 118., 115., 126., 141., 135., 125., 149., 170., 170.,\n",
              "         158., 133., 114., 140., 145.]],\n",
              "\n",
              "       [[118., 115., 126., 141., 135., 125., 149., 170., 170., 158.,\n",
              "         133., 114., 140., 145., 150.]]])"
            ]
          },
          "metadata": {},
          "execution_count": 46
        }
      ],
      "source": [
        "# преобразовываем 2-мерный массив признаков в 3-мерный\n",
        "Xt = np.expand_dims(Xt, axis=1)\n",
        "Xt"
      ]
    },
    {
      "cell_type": "code",
      "execution_count": 47,
      "metadata": {
        "colab": {
          "base_uri": "https://localhost:8080/"
        },
        "id": "xohsItWIimqo",
        "outputId": "ec422c65-cb2e-41cd-b0f1-da02f2edcf4e"
      },
      "outputs": [
        {
          "output_type": "execute_result",
          "data": {
            "text/plain": [
              "array([[[112., 118., 132., 129., 121., 135., 148., 148., 136., 119.,\n",
              "         104., 118., 115., 126., 141., 135., 125., 149., 170., 170.,\n",
              "         158., 133., 114., 140., 145., 150., 178.]],\n",
              "\n",
              "       [[118., 132., 129., 121., 135., 148., 148., 136., 119., 104.,\n",
              "         118., 115., 126., 141., 135., 125., 149., 170., 170., 158.,\n",
              "         133., 114., 140., 145., 150., 178., 163.]],\n",
              "\n",
              "       [[132., 129., 121., 135., 148., 148., 136., 119., 104., 118.,\n",
              "         115., 126., 141., 135., 125., 149., 170., 170., 158., 133.,\n",
              "         114., 140., 145., 150., 178., 163., 172.]],\n",
              "\n",
              "       [[129., 121., 135., 148., 148., 136., 119., 104., 118., 115.,\n",
              "         126., 141., 135., 125., 149., 170., 170., 158., 133., 114.,\n",
              "         140., 145., 150., 178., 163., 172., 178.]],\n",
              "\n",
              "       [[121., 135., 148., 148., 136., 119., 104., 118., 115., 126.,\n",
              "         141., 135., 125., 149., 170., 170., 158., 133., 114., 140.,\n",
              "         145., 150., 178., 163., 172., 178., 199.]],\n",
              "\n",
              "       [[135., 148., 148., 136., 119., 104., 118., 115., 126., 141.,\n",
              "         135., 125., 149., 170., 170., 158., 133., 114., 140., 145.,\n",
              "         150., 178., 163., 172., 178., 199., 199.]],\n",
              "\n",
              "       [[148., 148., 136., 119., 104., 118., 115., 126., 141., 135.,\n",
              "         125., 149., 170., 170., 158., 133., 114., 140., 145., 150.,\n",
              "         178., 163., 172., 178., 199., 199., 184.]],\n",
              "\n",
              "       [[148., 136., 119., 104., 118., 115., 126., 141., 135., 125.,\n",
              "         149., 170., 170., 158., 133., 114., 140., 145., 150., 178.,\n",
              "         163., 172., 178., 199., 199., 184., 162.]],\n",
              "\n",
              "       [[136., 119., 104., 118., 115., 126., 141., 135., 125., 149.,\n",
              "         170., 170., 158., 133., 114., 140., 145., 150., 178., 163.,\n",
              "         172., 178., 199., 199., 184., 162., 146.]],\n",
              "\n",
              "       [[119., 104., 118., 115., 126., 141., 135., 125., 149., 170.,\n",
              "         170., 158., 133., 114., 140., 145., 150., 178., 163., 172.,\n",
              "         178., 199., 199., 184., 162., 146., 166.]],\n",
              "\n",
              "       [[104., 118., 115., 126., 141., 135., 125., 149., 170., 170.,\n",
              "         158., 133., 114., 140., 145., 150., 178., 163., 172., 178.,\n",
              "         199., 199., 184., 162., 146., 166., 171.]],\n",
              "\n",
              "       [[118., 115., 126., 141., 135., 125., 149., 170., 170., 158.,\n",
              "         133., 114., 140., 145., 150., 178., 163., 172., 178., 199.,\n",
              "         199., 184., 162., 146., 166., 171., 180.]]])"
            ]
          },
          "metadata": {},
          "execution_count": 47
        }
      ],
      "source": [
        "# конкатенируем 3-мерный массив признаков с 3-мерным массивом меток\n",
        "X_full = np.concatenate([Xt, np.expand_dims(yt, axis=1)], axis=2)\n",
        "X_full"
      ]
    },
    {
      "cell_type": "code",
      "execution_count": 48,
      "metadata": {
        "id": "plILc32Ximqo"
      },
      "outputs": [],
      "source": [
        "# создаем экземпляр класса RandomForestRegressor\n",
        "regressor = RandomForestRegressor(random_state=42)"
      ]
    },
    {
      "cell_type": "code",
      "execution_count": 49,
      "metadata": {
        "id": "vR_33-mjimqo"
      },
      "outputs": [],
      "source": [
        "# задаем пустой список, в котором будем сохранять модели \n",
        "# для каждого шага в горизонте прогнозирования\n",
        "estimators = []"
      ]
    },
    {
      "cell_type": "code",
      "execution_count": 50,
      "metadata": {
        "colab": {
          "base_uri": "https://localhost:8080/"
        },
        "id": "7C3ef8b-imqp",
        "outputId": "3ae3c38a-07a5-4219-8ba6-42cd75adc054"
      },
      "outputs": [
        {
          "output_type": "execute_result",
          "data": {
            "text/plain": [
              "15"
            ]
          },
          "metadata": {},
          "execution_count": 50
        }
      ],
      "source": [
        "# задаем количество временных точек\n",
        "# (определяется длиной окон в массиве признаков)\n",
        "n_timepoints = Xt.shape[2]\n",
        "n_timepoints"
      ]
    },
    {
      "cell_type": "code",
      "execution_count": 51,
      "metadata": {
        "colab": {
          "base_uri": "https://localhost:8080/"
        },
        "id": "IDPsWY9Jimqp",
        "outputId": "d56f34d7-58ae-41d4-cb15-995cf719e500",
        "scrolled": false
      },
      "outputs": [
        {
          "output_type": "stream",
          "name": "stdout",
          "text": [
            "массив признаков на 0-й итерации:\n",
            "[[112. 118. 132. 129. 121. 135. 148. 148. 136. 119. 104. 118. 115. 126.\n",
            "  141.]\n",
            " [118. 132. 129. 121. 135. 148. 148. 136. 119. 104. 118. 115. 126. 141.\n",
            "  135.]\n",
            " [132. 129. 121. 135. 148. 148. 136. 119. 104. 118. 115. 126. 141. 135.\n",
            "  125.]\n",
            " [129. 121. 135. 148. 148. 136. 119. 104. 118. 115. 126. 141. 135. 125.\n",
            "  149.]\n",
            " [121. 135. 148. 148. 136. 119. 104. 118. 115. 126. 141. 135. 125. 149.\n",
            "  170.]\n",
            " [135. 148. 148. 136. 119. 104. 118. 115. 126. 141. 135. 125. 149. 170.\n",
            "  170.]\n",
            " [148. 148. 136. 119. 104. 118. 115. 126. 141. 135. 125. 149. 170. 170.\n",
            "  158.]\n",
            " [148. 136. 119. 104. 118. 115. 126. 141. 135. 125. 149. 170. 170. 158.\n",
            "  133.]\n",
            " [136. 119. 104. 118. 115. 126. 141. 135. 125. 149. 170. 170. 158. 133.\n",
            "  114.]\n",
            " [119. 104. 118. 115. 126. 141. 135. 125. 149. 170. 170. 158. 133. 114.\n",
            "  140.]\n",
            " [104. 118. 115. 126. 141. 135. 125. 149. 170. 170. 158. 133. 114. 140.\n",
            "  145.]\n",
            " [118. 115. 126. 141. 135. 125. 149. 170. 170. 158. 133. 114. 140. 145.\n",
            "  150.]]\n",
            "массив меток на 0-й итерации:\n",
            "[135. 125. 149. 170. 170. 158. 133. 114. 140. 145. 150. 178.]\n",
            "\n",
            "массив признаков на 1-й итерации:\n",
            "[[112. 118. 132. 129. 121. 135. 148. 148. 136. 119. 104. 118. 115. 126.\n",
            "  141. 135.]\n",
            " [118. 132. 129. 121. 135. 148. 148. 136. 119. 104. 118. 115. 126. 141.\n",
            "  135. 125.]\n",
            " [132. 129. 121. 135. 148. 148. 136. 119. 104. 118. 115. 126. 141. 135.\n",
            "  125. 149.]\n",
            " [129. 121. 135. 148. 148. 136. 119. 104. 118. 115. 126. 141. 135. 125.\n",
            "  149. 170.]\n",
            " [121. 135. 148. 148. 136. 119. 104. 118. 115. 126. 141. 135. 125. 149.\n",
            "  170. 170.]\n",
            " [135. 148. 148. 136. 119. 104. 118. 115. 126. 141. 135. 125. 149. 170.\n",
            "  170. 158.]\n",
            " [148. 148. 136. 119. 104. 118. 115. 126. 141. 135. 125. 149. 170. 170.\n",
            "  158. 133.]\n",
            " [148. 136. 119. 104. 118. 115. 126. 141. 135. 125. 149. 170. 170. 158.\n",
            "  133. 114.]\n",
            " [136. 119. 104. 118. 115. 126. 141. 135. 125. 149. 170. 170. 158. 133.\n",
            "  114. 140.]\n",
            " [119. 104. 118. 115. 126. 141. 135. 125. 149. 170. 170. 158. 133. 114.\n",
            "  140. 145.]\n",
            " [104. 118. 115. 126. 141. 135. 125. 149. 170. 170. 158. 133. 114. 140.\n",
            "  145. 150.]\n",
            " [118. 115. 126. 141. 135. 125. 149. 170. 170. 158. 133. 114. 140. 145.\n",
            "  150. 178.]]\n",
            "массив меток на 1-й итерации:\n",
            "[125. 149. 170. 170. 158. 133. 114. 140. 145. 150. 178. 163.]\n",
            "\n",
            "массив признаков на 2-й итерации:\n",
            "[[112. 118. 132. 129. 121. 135. 148. 148. 136. 119. 104. 118. 115. 126.\n",
            "  141. 135. 125.]\n",
            " [118. 132. 129. 121. 135. 148. 148. 136. 119. 104. 118. 115. 126. 141.\n",
            "  135. 125. 149.]\n",
            " [132. 129. 121. 135. 148. 148. 136. 119. 104. 118. 115. 126. 141. 135.\n",
            "  125. 149. 170.]\n",
            " [129. 121. 135. 148. 148. 136. 119. 104. 118. 115. 126. 141. 135. 125.\n",
            "  149. 170. 170.]\n",
            " [121. 135. 148. 148. 136. 119. 104. 118. 115. 126. 141. 135. 125. 149.\n",
            "  170. 170. 158.]\n",
            " [135. 148. 148. 136. 119. 104. 118. 115. 126. 141. 135. 125. 149. 170.\n",
            "  170. 158. 133.]\n",
            " [148. 148. 136. 119. 104. 118. 115. 126. 141. 135. 125. 149. 170. 170.\n",
            "  158. 133. 114.]\n",
            " [148. 136. 119. 104. 118. 115. 126. 141. 135. 125. 149. 170. 170. 158.\n",
            "  133. 114. 140.]\n",
            " [136. 119. 104. 118. 115. 126. 141. 135. 125. 149. 170. 170. 158. 133.\n",
            "  114. 140. 145.]\n",
            " [119. 104. 118. 115. 126. 141. 135. 125. 149. 170. 170. 158. 133. 114.\n",
            "  140. 145. 150.]\n",
            " [104. 118. 115. 126. 141. 135. 125. 149. 170. 170. 158. 133. 114. 140.\n",
            "  145. 150. 178.]\n",
            " [118. 115. 126. 141. 135. 125. 149. 170. 170. 158. 133. 114. 140. 145.\n",
            "  150. 178. 163.]]\n",
            "массив меток на 2-й итерации:\n",
            "[149. 170. 170. 158. 133. 114. 140. 145. 150. 178. 163. 172.]\n",
            "\n",
            "массив признаков на 3-й итерации:\n",
            "[[112. 118. 132. 129. 121. 135. 148. 148. 136. 119. 104. 118. 115. 126.\n",
            "  141. 135. 125. 149.]\n",
            " [118. 132. 129. 121. 135. 148. 148. 136. 119. 104. 118. 115. 126. 141.\n",
            "  135. 125. 149. 170.]\n",
            " [132. 129. 121. 135. 148. 148. 136. 119. 104. 118. 115. 126. 141. 135.\n",
            "  125. 149. 170. 170.]\n",
            " [129. 121. 135. 148. 148. 136. 119. 104. 118. 115. 126. 141. 135. 125.\n",
            "  149. 170. 170. 158.]\n",
            " [121. 135. 148. 148. 136. 119. 104. 118. 115. 126. 141. 135. 125. 149.\n",
            "  170. 170. 158. 133.]\n",
            " [135. 148. 148. 136. 119. 104. 118. 115. 126. 141. 135. 125. 149. 170.\n",
            "  170. 158. 133. 114.]\n",
            " [148. 148. 136. 119. 104. 118. 115. 126. 141. 135. 125. 149. 170. 170.\n",
            "  158. 133. 114. 140.]\n",
            " [148. 136. 119. 104. 118. 115. 126. 141. 135. 125. 149. 170. 170. 158.\n",
            "  133. 114. 140. 145.]\n",
            " [136. 119. 104. 118. 115. 126. 141. 135. 125. 149. 170. 170. 158. 133.\n",
            "  114. 140. 145. 150.]\n",
            " [119. 104. 118. 115. 126. 141. 135. 125. 149. 170. 170. 158. 133. 114.\n",
            "  140. 145. 150. 178.]\n",
            " [104. 118. 115. 126. 141. 135. 125. 149. 170. 170. 158. 133. 114. 140.\n",
            "  145. 150. 178. 163.]\n",
            " [118. 115. 126. 141. 135. 125. 149. 170. 170. 158. 133. 114. 140. 145.\n",
            "  150. 178. 163. 172.]]\n",
            "массив меток на 3-й итерации:\n",
            "[170. 170. 158. 133. 114. 140. 145. 150. 178. 163. 172. 178.]\n",
            "\n",
            "массив признаков на 4-й итерации:\n",
            "[[112. 118. 132. 129. 121. 135. 148. 148. 136. 119. 104. 118. 115. 126.\n",
            "  141. 135. 125. 149. 170.]\n",
            " [118. 132. 129. 121. 135. 148. 148. 136. 119. 104. 118. 115. 126. 141.\n",
            "  135. 125. 149. 170. 170.]\n",
            " [132. 129. 121. 135. 148. 148. 136. 119. 104. 118. 115. 126. 141. 135.\n",
            "  125. 149. 170. 170. 158.]\n",
            " [129. 121. 135. 148. 148. 136. 119. 104. 118. 115. 126. 141. 135. 125.\n",
            "  149. 170. 170. 158. 133.]\n",
            " [121. 135. 148. 148. 136. 119. 104. 118. 115. 126. 141. 135. 125. 149.\n",
            "  170. 170. 158. 133. 114.]\n",
            " [135. 148. 148. 136. 119. 104. 118. 115. 126. 141. 135. 125. 149. 170.\n",
            "  170. 158. 133. 114. 140.]\n",
            " [148. 148. 136. 119. 104. 118. 115. 126. 141. 135. 125. 149. 170. 170.\n",
            "  158. 133. 114. 140. 145.]\n",
            " [148. 136. 119. 104. 118. 115. 126. 141. 135. 125. 149. 170. 170. 158.\n",
            "  133. 114. 140. 145. 150.]\n",
            " [136. 119. 104. 118. 115. 126. 141. 135. 125. 149. 170. 170. 158. 133.\n",
            "  114. 140. 145. 150. 178.]\n",
            " [119. 104. 118. 115. 126. 141. 135. 125. 149. 170. 170. 158. 133. 114.\n",
            "  140. 145. 150. 178. 163.]\n",
            " [104. 118. 115. 126. 141. 135. 125. 149. 170. 170. 158. 133. 114. 140.\n",
            "  145. 150. 178. 163. 172.]\n",
            " [118. 115. 126. 141. 135. 125. 149. 170. 170. 158. 133. 114. 140. 145.\n",
            "  150. 178. 163. 172. 178.]]\n",
            "массив меток на 4-й итерации:\n",
            "[170. 158. 133. 114. 140. 145. 150. 178. 163. 172. 178. 199.]\n",
            "\n",
            "массив признаков на 5-й итерации:\n",
            "[[112. 118. 132. 129. 121. 135. 148. 148. 136. 119. 104. 118. 115. 126.\n",
            "  141. 135. 125. 149. 170. 170.]\n",
            " [118. 132. 129. 121. 135. 148. 148. 136. 119. 104. 118. 115. 126. 141.\n",
            "  135. 125. 149. 170. 170. 158.]\n",
            " [132. 129. 121. 135. 148. 148. 136. 119. 104. 118. 115. 126. 141. 135.\n",
            "  125. 149. 170. 170. 158. 133.]\n",
            " [129. 121. 135. 148. 148. 136. 119. 104. 118. 115. 126. 141. 135. 125.\n",
            "  149. 170. 170. 158. 133. 114.]\n",
            " [121. 135. 148. 148. 136. 119. 104. 118. 115. 126. 141. 135. 125. 149.\n",
            "  170. 170. 158. 133. 114. 140.]\n",
            " [135. 148. 148. 136. 119. 104. 118. 115. 126. 141. 135. 125. 149. 170.\n",
            "  170. 158. 133. 114. 140. 145.]\n",
            " [148. 148. 136. 119. 104. 118. 115. 126. 141. 135. 125. 149. 170. 170.\n",
            "  158. 133. 114. 140. 145. 150.]\n",
            " [148. 136. 119. 104. 118. 115. 126. 141. 135. 125. 149. 170. 170. 158.\n",
            "  133. 114. 140. 145. 150. 178.]\n",
            " [136. 119. 104. 118. 115. 126. 141. 135. 125. 149. 170. 170. 158. 133.\n",
            "  114. 140. 145. 150. 178. 163.]\n",
            " [119. 104. 118. 115. 126. 141. 135. 125. 149. 170. 170. 158. 133. 114.\n",
            "  140. 145. 150. 178. 163. 172.]\n",
            " [104. 118. 115. 126. 141. 135. 125. 149. 170. 170. 158. 133. 114. 140.\n",
            "  145. 150. 178. 163. 172. 178.]\n",
            " [118. 115. 126. 141. 135. 125. 149. 170. 170. 158. 133. 114. 140. 145.\n",
            "  150. 178. 163. 172. 178. 199.]]\n",
            "массив меток на 5-й итерации:\n",
            "[158. 133. 114. 140. 145. 150. 178. 163. 172. 178. 199. 199.]\n",
            "\n",
            "массив признаков на 6-й итерации:\n",
            "[[112. 118. 132. 129. 121. 135. 148. 148. 136. 119. 104. 118. 115. 126.\n",
            "  141. 135. 125. 149. 170. 170. 158.]\n",
            " [118. 132. 129. 121. 135. 148. 148. 136. 119. 104. 118. 115. 126. 141.\n",
            "  135. 125. 149. 170. 170. 158. 133.]\n",
            " [132. 129. 121. 135. 148. 148. 136. 119. 104. 118. 115. 126. 141. 135.\n",
            "  125. 149. 170. 170. 158. 133. 114.]\n",
            " [129. 121. 135. 148. 148. 136. 119. 104. 118. 115. 126. 141. 135. 125.\n",
            "  149. 170. 170. 158. 133. 114. 140.]\n",
            " [121. 135. 148. 148. 136. 119. 104. 118. 115. 126. 141. 135. 125. 149.\n",
            "  170. 170. 158. 133. 114. 140. 145.]\n",
            " [135. 148. 148. 136. 119. 104. 118. 115. 126. 141. 135. 125. 149. 170.\n",
            "  170. 158. 133. 114. 140. 145. 150.]\n",
            " [148. 148. 136. 119. 104. 118. 115. 126. 141. 135. 125. 149. 170. 170.\n",
            "  158. 133. 114. 140. 145. 150. 178.]\n",
            " [148. 136. 119. 104. 118. 115. 126. 141. 135. 125. 149. 170. 170. 158.\n",
            "  133. 114. 140. 145. 150. 178. 163.]\n",
            " [136. 119. 104. 118. 115. 126. 141. 135. 125. 149. 170. 170. 158. 133.\n",
            "  114. 140. 145. 150. 178. 163. 172.]\n",
            " [119. 104. 118. 115. 126. 141. 135. 125. 149. 170. 170. 158. 133. 114.\n",
            "  140. 145. 150. 178. 163. 172. 178.]\n",
            " [104. 118. 115. 126. 141. 135. 125. 149. 170. 170. 158. 133. 114. 140.\n",
            "  145. 150. 178. 163. 172. 178. 199.]\n",
            " [118. 115. 126. 141. 135. 125. 149. 170. 170. 158. 133. 114. 140. 145.\n",
            "  150. 178. 163. 172. 178. 199. 199.]]\n",
            "массив меток на 6-й итерации:\n",
            "[133. 114. 140. 145. 150. 178. 163. 172. 178. 199. 199. 184.]\n",
            "\n",
            "массив признаков на 7-й итерации:\n",
            "[[112. 118. 132. 129. 121. 135. 148. 148. 136. 119. 104. 118. 115. 126.\n",
            "  141. 135. 125. 149. 170. 170. 158. 133.]\n",
            " [118. 132. 129. 121. 135. 148. 148. 136. 119. 104. 118. 115. 126. 141.\n",
            "  135. 125. 149. 170. 170. 158. 133. 114.]\n",
            " [132. 129. 121. 135. 148. 148. 136. 119. 104. 118. 115. 126. 141. 135.\n",
            "  125. 149. 170. 170. 158. 133. 114. 140.]\n",
            " [129. 121. 135. 148. 148. 136. 119. 104. 118. 115. 126. 141. 135. 125.\n",
            "  149. 170. 170. 158. 133. 114. 140. 145.]\n",
            " [121. 135. 148. 148. 136. 119. 104. 118. 115. 126. 141. 135. 125. 149.\n",
            "  170. 170. 158. 133. 114. 140. 145. 150.]\n",
            " [135. 148. 148. 136. 119. 104. 118. 115. 126. 141. 135. 125. 149. 170.\n",
            "  170. 158. 133. 114. 140. 145. 150. 178.]\n",
            " [148. 148. 136. 119. 104. 118. 115. 126. 141. 135. 125. 149. 170. 170.\n",
            "  158. 133. 114. 140. 145. 150. 178. 163.]\n",
            " [148. 136. 119. 104. 118. 115. 126. 141. 135. 125. 149. 170. 170. 158.\n",
            "  133. 114. 140. 145. 150. 178. 163. 172.]\n",
            " [136. 119. 104. 118. 115. 126. 141. 135. 125. 149. 170. 170. 158. 133.\n",
            "  114. 140. 145. 150. 178. 163. 172. 178.]\n",
            " [119. 104. 118. 115. 126. 141. 135. 125. 149. 170. 170. 158. 133. 114.\n",
            "  140. 145. 150. 178. 163. 172. 178. 199.]\n",
            " [104. 118. 115. 126. 141. 135. 125. 149. 170. 170. 158. 133. 114. 140.\n",
            "  145. 150. 178. 163. 172. 178. 199. 199.]\n",
            " [118. 115. 126. 141. 135. 125. 149. 170. 170. 158. 133. 114. 140. 145.\n",
            "  150. 178. 163. 172. 178. 199. 199. 184.]]\n",
            "массив меток на 7-й итерации:\n",
            "[114. 140. 145. 150. 178. 163. 172. 178. 199. 199. 184. 162.]\n",
            "\n",
            "массив признаков на 8-й итерации:\n",
            "[[112. 118. 132. 129. 121. 135. 148. 148. 136. 119. 104. 118. 115. 126.\n",
            "  141. 135. 125. 149. 170. 170. 158. 133. 114.]\n",
            " [118. 132. 129. 121. 135. 148. 148. 136. 119. 104. 118. 115. 126. 141.\n",
            "  135. 125. 149. 170. 170. 158. 133. 114. 140.]\n",
            " [132. 129. 121. 135. 148. 148. 136. 119. 104. 118. 115. 126. 141. 135.\n",
            "  125. 149. 170. 170. 158. 133. 114. 140. 145.]\n",
            " [129. 121. 135. 148. 148. 136. 119. 104. 118. 115. 126. 141. 135. 125.\n",
            "  149. 170. 170. 158. 133. 114. 140. 145. 150.]\n",
            " [121. 135. 148. 148. 136. 119. 104. 118. 115. 126. 141. 135. 125. 149.\n",
            "  170. 170. 158. 133. 114. 140. 145. 150. 178.]\n",
            " [135. 148. 148. 136. 119. 104. 118. 115. 126. 141. 135. 125. 149. 170.\n",
            "  170. 158. 133. 114. 140. 145. 150. 178. 163.]\n",
            " [148. 148. 136. 119. 104. 118. 115. 126. 141. 135. 125. 149. 170. 170.\n",
            "  158. 133. 114. 140. 145. 150. 178. 163. 172.]\n",
            " [148. 136. 119. 104. 118. 115. 126. 141. 135. 125. 149. 170. 170. 158.\n",
            "  133. 114. 140. 145. 150. 178. 163. 172. 178.]\n",
            " [136. 119. 104. 118. 115. 126. 141. 135. 125. 149. 170. 170. 158. 133.\n",
            "  114. 140. 145. 150. 178. 163. 172. 178. 199.]\n",
            " [119. 104. 118. 115. 126. 141. 135. 125. 149. 170. 170. 158. 133. 114.\n",
            "  140. 145. 150. 178. 163. 172. 178. 199. 199.]\n",
            " [104. 118. 115. 126. 141. 135. 125. 149. 170. 170. 158. 133. 114. 140.\n",
            "  145. 150. 178. 163. 172. 178. 199. 199. 184.]\n",
            " [118. 115. 126. 141. 135. 125. 149. 170. 170. 158. 133. 114. 140. 145.\n",
            "  150. 178. 163. 172. 178. 199. 199. 184. 162.]]\n",
            "массив меток на 8-й итерации:\n",
            "[140. 145. 150. 178. 163. 172. 178. 199. 199. 184. 162. 146.]\n",
            "\n",
            "массив признаков на 9-й итерации:\n",
            "[[112. 118. 132. 129. 121. 135. 148. 148. 136. 119. 104. 118. 115. 126.\n",
            "  141. 135. 125. 149. 170. 170. 158. 133. 114. 140.]\n",
            " [118. 132. 129. 121. 135. 148. 148. 136. 119. 104. 118. 115. 126. 141.\n",
            "  135. 125. 149. 170. 170. 158. 133. 114. 140. 145.]\n",
            " [132. 129. 121. 135. 148. 148. 136. 119. 104. 118. 115. 126. 141. 135.\n",
            "  125. 149. 170. 170. 158. 133. 114. 140. 145. 150.]\n",
            " [129. 121. 135. 148. 148. 136. 119. 104. 118. 115. 126. 141. 135. 125.\n",
            "  149. 170. 170. 158. 133. 114. 140. 145. 150. 178.]\n",
            " [121. 135. 148. 148. 136. 119. 104. 118. 115. 126. 141. 135. 125. 149.\n",
            "  170. 170. 158. 133. 114. 140. 145. 150. 178. 163.]\n",
            " [135. 148. 148. 136. 119. 104. 118. 115. 126. 141. 135. 125. 149. 170.\n",
            "  170. 158. 133. 114. 140. 145. 150. 178. 163. 172.]\n",
            " [148. 148. 136. 119. 104. 118. 115. 126. 141. 135. 125. 149. 170. 170.\n",
            "  158. 133. 114. 140. 145. 150. 178. 163. 172. 178.]\n",
            " [148. 136. 119. 104. 118. 115. 126. 141. 135. 125. 149. 170. 170. 158.\n",
            "  133. 114. 140. 145. 150. 178. 163. 172. 178. 199.]\n",
            " [136. 119. 104. 118. 115. 126. 141. 135. 125. 149. 170. 170. 158. 133.\n",
            "  114. 140. 145. 150. 178. 163. 172. 178. 199. 199.]\n",
            " [119. 104. 118. 115. 126. 141. 135. 125. 149. 170. 170. 158. 133. 114.\n",
            "  140. 145. 150. 178. 163. 172. 178. 199. 199. 184.]\n",
            " [104. 118. 115. 126. 141. 135. 125. 149. 170. 170. 158. 133. 114. 140.\n",
            "  145. 150. 178. 163. 172. 178. 199. 199. 184. 162.]\n",
            " [118. 115. 126. 141. 135. 125. 149. 170. 170. 158. 133. 114. 140. 145.\n",
            "  150. 178. 163. 172. 178. 199. 199. 184. 162. 146.]]\n",
            "массив меток на 9-й итерации:\n",
            "[145. 150. 178. 163. 172. 178. 199. 199. 184. 162. 146. 166.]\n",
            "\n",
            "массив признаков на 10-й итерации:\n",
            "[[112. 118. 132. 129. 121. 135. 148. 148. 136. 119. 104. 118. 115. 126.\n",
            "  141. 135. 125. 149. 170. 170. 158. 133. 114. 140. 145.]\n",
            " [118. 132. 129. 121. 135. 148. 148. 136. 119. 104. 118. 115. 126. 141.\n",
            "  135. 125. 149. 170. 170. 158. 133. 114. 140. 145. 150.]\n",
            " [132. 129. 121. 135. 148. 148. 136. 119. 104. 118. 115. 126. 141. 135.\n",
            "  125. 149. 170. 170. 158. 133. 114. 140. 145. 150. 178.]\n",
            " [129. 121. 135. 148. 148. 136. 119. 104. 118. 115. 126. 141. 135. 125.\n",
            "  149. 170. 170. 158. 133. 114. 140. 145. 150. 178. 163.]\n",
            " [121. 135. 148. 148. 136. 119. 104. 118. 115. 126. 141. 135. 125. 149.\n",
            "  170. 170. 158. 133. 114. 140. 145. 150. 178. 163. 172.]\n",
            " [135. 148. 148. 136. 119. 104. 118. 115. 126. 141. 135. 125. 149. 170.\n",
            "  170. 158. 133. 114. 140. 145. 150. 178. 163. 172. 178.]\n",
            " [148. 148. 136. 119. 104. 118. 115. 126. 141. 135. 125. 149. 170. 170.\n",
            "  158. 133. 114. 140. 145. 150. 178. 163. 172. 178. 199.]\n",
            " [148. 136. 119. 104. 118. 115. 126. 141. 135. 125. 149. 170. 170. 158.\n",
            "  133. 114. 140. 145. 150. 178. 163. 172. 178. 199. 199.]\n",
            " [136. 119. 104. 118. 115. 126. 141. 135. 125. 149. 170. 170. 158. 133.\n",
            "  114. 140. 145. 150. 178. 163. 172. 178. 199. 199. 184.]\n",
            " [119. 104. 118. 115. 126. 141. 135. 125. 149. 170. 170. 158. 133. 114.\n",
            "  140. 145. 150. 178. 163. 172. 178. 199. 199. 184. 162.]\n",
            " [104. 118. 115. 126. 141. 135. 125. 149. 170. 170. 158. 133. 114. 140.\n",
            "  145. 150. 178. 163. 172. 178. 199. 199. 184. 162. 146.]\n",
            " [118. 115. 126. 141. 135. 125. 149. 170. 170. 158. 133. 114. 140. 145.\n",
            "  150. 178. 163. 172. 178. 199. 199. 184. 162. 146. 166.]]\n",
            "массив меток на 10-й итерации:\n",
            "[150. 178. 163. 172. 178. 199. 199. 184. 162. 146. 166. 171.]\n",
            "\n",
            "массив признаков на 11-й итерации:\n",
            "[[112. 118. 132. 129. 121. 135. 148. 148. 136. 119. 104. 118. 115. 126.\n",
            "  141. 135. 125. 149. 170. 170. 158. 133. 114. 140. 145. 150.]\n",
            " [118. 132. 129. 121. 135. 148. 148. 136. 119. 104. 118. 115. 126. 141.\n",
            "  135. 125. 149. 170. 170. 158. 133. 114. 140. 145. 150. 178.]\n",
            " [132. 129. 121. 135. 148. 148. 136. 119. 104. 118. 115. 126. 141. 135.\n",
            "  125. 149. 170. 170. 158. 133. 114. 140. 145. 150. 178. 163.]\n",
            " [129. 121. 135. 148. 148. 136. 119. 104. 118. 115. 126. 141. 135. 125.\n",
            "  149. 170. 170. 158. 133. 114. 140. 145. 150. 178. 163. 172.]\n",
            " [121. 135. 148. 148. 136. 119. 104. 118. 115. 126. 141. 135. 125. 149.\n",
            "  170. 170. 158. 133. 114. 140. 145. 150. 178. 163. 172. 178.]\n",
            " [135. 148. 148. 136. 119. 104. 118. 115. 126. 141. 135. 125. 149. 170.\n",
            "  170. 158. 133. 114. 140. 145. 150. 178. 163. 172. 178. 199.]\n",
            " [148. 148. 136. 119. 104. 118. 115. 126. 141. 135. 125. 149. 170. 170.\n",
            "  158. 133. 114. 140. 145. 150. 178. 163. 172. 178. 199. 199.]\n",
            " [148. 136. 119. 104. 118. 115. 126. 141. 135. 125. 149. 170. 170. 158.\n",
            "  133. 114. 140. 145. 150. 178. 163. 172. 178. 199. 199. 184.]\n",
            " [136. 119. 104. 118. 115. 126. 141. 135. 125. 149. 170. 170. 158. 133.\n",
            "  114. 140. 145. 150. 178. 163. 172. 178. 199. 199. 184. 162.]\n",
            " [119. 104. 118. 115. 126. 141. 135. 125. 149. 170. 170. 158. 133. 114.\n",
            "  140. 145. 150. 178. 163. 172. 178. 199. 199. 184. 162. 146.]\n",
            " [104. 118. 115. 126. 141. 135. 125. 149. 170. 170. 158. 133. 114. 140.\n",
            "  145. 150. 178. 163. 172. 178. 199. 199. 184. 162. 146. 166.]\n",
            " [118. 115. 126. 141. 135. 125. 149. 170. 170. 158. 133. 114. 140. 145.\n",
            "  150. 178. 163. 172. 178. 199. 199. 184. 162. 146. 166. 171.]]\n",
            "массив меток на 11-й итерации:\n",
            "[178. 163. 172. 178. 199. 199. 184. 162. 146. 166. 171. 180.]\n",
            "\n"
          ]
        }
      ],
      "source": [
        "# для каждого шага в горизонте прогнозирования\n",
        "for i in range(len(fh)):\n",
        "    \n",
        "    # создаем копию модели\n",
        "    estimator = clone(regressor)\n",
        "\n",
        "    # создаем массив признаков, используя расширяющееся окно\n",
        "    X_fit = X_full[:, :, : n_timepoints + i]\n",
        "\n",
        "    # преобразовываем массив признаков в 2-мерный массив\n",
        "    X_fit = X_fit.reshape(X_fit.shape[0], -1)\n",
        "    \n",
        "    # обучаем модель, используя массив признаков\n",
        "    estimator.fit(X_fit, yt[:, i])\n",
        "    print('массив признаков на {}-й итерации:'.format(i))\n",
        "    print(X_fit)\n",
        "    print('массив меток на {}-й итерации:'.format(i))\n",
        "    print(yt[:, i])\n",
        "    print('')\n",
        "    \n",
        "    # добавляем обученную модель в общий список моделей\n",
        "    estimators.append(estimator)"
      ]
    },
    {
      "cell_type": "code",
      "execution_count": 52,
      "metadata": {
        "colab": {
          "base_uri": "https://localhost:8080/"
        },
        "id": "-pJvgDi7imqp",
        "outputId": "6108c289-f782-46a0-db0b-09ca31f77135"
      },
      "outputs": [
        {
          "output_type": "execute_result",
          "data": {
            "text/plain": [
              "array([140., 145., 150., 178., 163., 172., 178., 199., 199., 184., 162.,\n",
              "       146., 166., 171., 180.])"
            ]
          },
          "metadata": {},
          "execution_count": 52
        }
      ],
      "source": [
        "# получим последнее окно (берем последние window_length \n",
        "# наблюдений обучающего временного ряда)\n",
        "y_last = y_train.loc['1950-12':'1952-02'].to_numpy()\n",
        "y_last"
      ]
    },
    {
      "cell_type": "code",
      "execution_count": 53,
      "metadata": {
        "id": "iqVFxw3rimqq"
      },
      "outputs": [],
      "source": [
        "# задаем количество столбцов\n",
        "n_columns = 1"
      ]
    },
    {
      "cell_type": "code",
      "execution_count": 54,
      "metadata": {
        "id": "D0ZK2zYuimqq"
      },
      "outputs": [],
      "source": [
        "# задаем длину окна\n",
        "window_length = 15"
      ]
    },
    {
      "cell_type": "code",
      "execution_count": 55,
      "metadata": {
        "colab": {
          "base_uri": "https://localhost:8080/"
        },
        "id": "AEPMlCmtimqq",
        "outputId": "a5155cdd-7177-4825-a45f-5286e8a19f8e"
      },
      "outputs": [
        {
          "output_type": "execute_result",
          "data": {
            "text/plain": [
              "array([[[0., 0., 0., 0., 0., 0., 0., 0., 0., 0., 0., 0., 0., 0., 0., 0.,\n",
              "         0., 0., 0., 0., 0., 0., 0., 0., 0., 0., 0.]]])"
            ]
          },
          "metadata": {},
          "execution_count": 55
        }
      ],
      "source": [
        "# cоздадим массив из нулей\n",
        "X_full = np.zeros((1, n_columns, window_length + len(fh)))\n",
        "X_full"
      ]
    },
    {
      "cell_type": "code",
      "execution_count": 56,
      "metadata": {
        "colab": {
          "base_uri": "https://localhost:8080/"
        },
        "id": "saI99Mczimqq",
        "outputId": "ba5c53bd-7980-4c08-ac38-48bcf76cd091"
      },
      "outputs": [
        {
          "output_type": "execute_result",
          "data": {
            "text/plain": [
              "array([[[140., 145., 150., 178., 163., 172., 178., 199., 199., 184.,\n",
              "         162., 146., 166., 171., 180.,   0.,   0.,   0.,   0.,   0.,\n",
              "           0.,   0.,   0.,   0.,   0.,   0.,   0.]]])"
            ]
          },
          "metadata": {},
          "execution_count": 56
        }
      ],
      "source": [
        "# запишем в этот массив значения из последнего окна\n",
        "X_full[:, 0, :window_length] = y_last\n",
        "X_full"
      ]
    },
    {
      "cell_type": "code",
      "execution_count": 57,
      "metadata": {
        "colab": {
          "base_uri": "https://localhost:8080/"
        },
        "id": "5x1rhYf8imqq",
        "outputId": "9a565ce5-b4ec-4874-e59c-2882b35a522d"
      },
      "outputs": [
        {
          "output_type": "execute_result",
          "data": {
            "text/plain": [
              "array([0., 0., 0., 0., 0., 0., 0., 0., 0., 0., 0., 0.])"
            ]
          },
          "metadata": {},
          "execution_count": 57
        }
      ],
      "source": [
        "# создаем массив из нулей, в который будем записывать прогнозы,\n",
        "# равный горизонту прогнозирования\n",
        "y_pred = np.zeros(len(fh))\n",
        "y_pred"
      ]
    },
    {
      "cell_type": "code",
      "execution_count": 58,
      "metadata": {
        "colab": {
          "base_uri": "https://localhost:8080/"
        },
        "id": "kNEAOiQ5imqr",
        "outputId": "c276aa8b-b518-4ecb-ffb5-8b9292cdc95a"
      },
      "outputs": [
        {
          "output_type": "stream",
          "name": "stdout",
          "text": [
            "Данные для прогнозирования 0-го наблюдения : \n",
            "[[140. 145. 150. 178. 163. 172. 178. 199. 199. 184. 162. 146. 166. 171.\n",
            "  180.]]\n",
            "прогноз: 162.77\n",
            "Данные для прогнозирования 1-го наблюдения : \n",
            "[[140.   145.   150.   178.   163.   172.   178.   199.   199.   184.\n",
            "  162.   146.   166.   171.   180.   162.77]]\n",
            "прогноз: 156.19\n",
            "Данные для прогнозирования 2-го наблюдения : \n",
            "[[140.   145.   150.   178.   163.   172.   178.   199.   199.   184.\n",
            "  162.   146.   166.   171.   180.   162.77 156.19]]\n",
            "прогноз: 148.16\n",
            "Данные для прогнозирования 3-го наблюдения : \n",
            "[[140.   145.   150.   178.   163.   172.   178.   199.   199.   184.\n",
            "  162.   146.   166.   171.   180.   162.77 156.19 148.16]]\n",
            "прогноз: 153.61\n",
            "Данные для прогнозирования 4-го наблюдения : \n",
            "[[140.   145.   150.   178.   163.   172.   178.   199.   199.   184.\n",
            "  162.   146.   166.   171.   180.   162.77 156.19 148.16 153.61]]\n",
            "прогноз: 166.87\n",
            "Данные для прогнозирования 5-го наблюдения : \n",
            "[[140.   145.   150.   178.   163.   172.   178.   199.   199.   184.\n",
            "  162.   146.   166.   171.   180.   162.77 156.19 148.16 153.61 166.87]]\n",
            "прогноз: 183.04\n",
            "Данные для прогнозирования 6-го наблюдения : \n",
            "[[140.   145.   150.   178.   163.   172.   178.   199.   199.   184.\n",
            "  162.   146.   166.   171.   180.   162.77 156.19 148.16 153.61 166.87\n",
            "  183.04]]\n",
            "прогноз: 183.89\n",
            "Данные для прогнозирования 7-го наблюдения : \n",
            "[[140.   145.   150.   178.   163.   172.   178.   199.   199.   184.\n",
            "  162.   146.   166.   171.   180.   162.77 156.19 148.16 153.61 166.87\n",
            "  183.04 183.89]]\n",
            "прогноз: 179.03\n",
            "Данные для прогнозирования 8-го наблюдения : \n",
            "[[140.   145.   150.   178.   163.   172.   178.   199.   199.   184.\n",
            "  162.   146.   166.   171.   180.   162.77 156.19 148.16 153.61 166.87\n",
            "  183.04 183.89 179.03]]\n",
            "прогноз: 172.81\n",
            "Данные для прогнозирования 9-го наблюдения : \n",
            "[[140.   145.   150.   178.   163.   172.   178.   199.   199.   184.\n",
            "  162.   146.   166.   171.   180.   162.77 156.19 148.16 153.61 166.87\n",
            "  183.04 183.89 179.03 172.81]]\n",
            "прогноз: 182.09\n",
            "Данные для прогнозирования 10-го наблюдения : \n",
            "[[140.   145.   150.   178.   163.   172.   178.   199.   199.   184.\n",
            "  162.   146.   166.   171.   180.   162.77 156.19 148.16 153.61 166.87\n",
            "  183.04 183.89 179.03 172.81 182.09]]\n",
            "прогноз: 182.18\n",
            "Данные для прогнозирования 11-го наблюдения : \n",
            "[[140.   145.   150.   178.   163.   172.   178.   199.   199.   184.\n",
            "  162.   146.   166.   171.   180.   162.77 156.19 148.16 153.61 166.87\n",
            "  183.04 183.89 179.03 172.81 182.09 182.18]]\n",
            "прогноз: 186.14\n"
          ]
        }
      ],
      "source": [
        "# для каждого i-го шага из горизонта прогнозирования\n",
        "for i in range(len(fh)):\n",
        "    # на основе X_full создаем массив признаков, \n",
        "    # используя расширяющееся окно\n",
        "    X = X_full[:, :, : window_length + i]\n",
        "    \n",
        "    # преобразовываем в 2-мерный массив\n",
        "    X = X.reshape(1, -1)\n",
        "    print('Данные для прогнозирования {}-го наблюдения : '.format(i))\n",
        "    print(X)\n",
        "    \n",
        "    # создаем прогноз для i-го наблюдения \n",
        "    # с помощью ранее обученной i-й модели\n",
        "    y_pred[i] = estimators[i].predict(X)\n",
        "    print('прогноз:', y_pred[i])\n",
        "    \n",
        "    # добавляем i-й прогноз в X_full\n",
        "    X_full[:, :, window_length + i] = y_pred[i]"
      ]
    },
    {
      "cell_type": "code",
      "execution_count": 59,
      "metadata": {
        "colab": {
          "base_uri": "https://localhost:8080/"
        },
        "id": "C64k-YWaimqr",
        "outputId": "ba2e2127-7be9-4b01-cdfc-0bdd5a92be86"
      },
      "outputs": [
        {
          "output_type": "stream",
          "name": "stdout",
          "text": [
            "[162.77 156.19 148.16 153.61 166.87 183.04 183.89 179.03 172.81 182.09\n",
            " 182.18 186.14]\n"
          ]
        }
      ],
      "source": [
        "# печатаем прогнозы\n",
        "print(y_pred)"
      ]
    },
    {
      "cell_type": "code",
      "execution_count": 60,
      "metadata": {
        "colab": {
          "base_uri": "https://localhost:8080/"
        },
        "id": "12zG03_ximqr",
        "outputId": "55e60615-1f2a-4a6e-e680-fb3b4cc96b8c"
      },
      "outputs": [
        {
          "output_type": "stream",
          "name": "stdout",
          "text": [
            "1952-03    162.77\n",
            "1952-04    156.19\n",
            "1952-05    148.16\n",
            "1952-06    153.61\n",
            "1952-07    166.87\n",
            "1952-08    183.04\n",
            "1952-09    183.89\n",
            "1952-10    179.03\n",
            "1952-11    172.81\n",
            "1952-12    182.09\n",
            "1953-01    182.18\n",
            "1953-02    186.14\n",
            "Freq: M, dtype: float64\n"
          ]
        }
      ],
      "source": [
        "# создаем прогнозную модель, выполнив редукцию\n",
        "# используем стратегию гибридного многошагового прогноза\n",
        "forecaster = make_reduction(regressor, window_length=15, \n",
        "                            strategy='dirrec')\n",
        "\n",
        "# обучаем прогнозную модель\n",
        "forecaster.fit(y_train, fh=fh)\n",
        "\n",
        "# получаем прогнозы\n",
        "y_pred_skt = forecaster.predict(fh)\n",
        "\n",
        "# напечатаем прогнозы \n",
        "print(y_pred_skt)"
      ]
    },
    {
      "cell_type": "code",
      "execution_count": 61,
      "metadata": {
        "colab": {
          "base_uri": "https://localhost:8080/"
        },
        "id": "vry1yDuzimqr",
        "outputId": "51f79ced-d62a-458f-b05c-a3af8fdca622"
      },
      "outputs": [
        {
          "output_type": "execute_result",
          "data": {
            "text/plain": [
              "True"
            ]
          },
          "metadata": {},
          "execution_count": 61
        }
      ],
      "source": [
        "# cравним прогнозы \n",
        "(y_pred == y_pred_skt.values).all()"
      ]
    },
    {
      "cell_type": "code",
      "execution_count": 62,
      "metadata": {
        "colab": {
          "base_uri": "https://localhost:8080/",
          "height": 282
        },
        "id": "uc1ZCxBzimqs",
        "outputId": "c3d1bc41-dddd-49d1-b29d-4a4cae4e4f34"
      },
      "outputs": [
        {
          "output_type": "execute_result",
          "data": {
            "text/plain": [
              "0.1751386948572005"
            ]
          },
          "metadata": {},
          "execution_count": 62
        },
        {
          "output_type": "display_data",
          "data": {
            "text/plain": [
              "<Figure size 1152x288 with 1 Axes>"
            ],
            "image/png": "[encoded data removed]"
          },
          "metadata": {
            "image/png": {
              "width": 946,
              "height": 248
            },
            "needs_background": "light"
          }
        }
      ],
      "source": [
        "# визуализируем прогнозы\n",
        "plot_series(y_train, y_test, y_pred_skt, \n",
        "            labels=['y_train', 'y_test', 'y_pred'])\n",
        "\n",
        "# вычисляем sMAPE\n",
        "mean_absolute_percentage_error(y_pred_skt, y_test)"
      ]
    },
    {
      "cell_type": "markdown",
      "metadata": {
        "id": "L4TIxOJ7imqs"
      },
      "source": [
        "## Метод прогноза со множеством выходов"
      ]
    },
    {
      "cell_type": "code",
      "execution_count": 63,
      "metadata": {
        "colab": {
          "base_uri": "https://localhost:8080/"
        },
        "id": "7fJ-TBw5imqs",
        "outputId": "5e40ed3e-ea5f-41d4-e924-9ce9bd6dd2e0"
      },
      "outputs": [
        {
          "output_type": "execute_result",
          "data": {
            "text/plain": [
              "ForecastingHorizon([1, 2, 3, 4, 5, 6, 7, 8, 9, 10, 11, 12], dtype='int64', is_relative=True)"
            ]
          },
          "metadata": {},
          "execution_count": 63
        }
      ],
      "source": [
        "# задаем относительный горизонт прогнозирования\n",
        "fh = ForecastingHorizon(np.arange(len(y_test)) + 1)\n",
        "fh"
      ]
    },
    {
      "cell_type": "code",
      "execution_count": 64,
      "metadata": {
        "id": "GRGqZZPkimqs"
      },
      "outputs": [],
      "source": [
        "# пишем функцию редукции\n",
        "def transform(y,\n",
        "              window_length,\n",
        "              X=None):\n",
        "    \"\"\"\n",
        "    Функция превращает временной ряд в таблицу. Она разбивает \n",
        "    обучающий временной ряд на окна фиксированной длины \n",
        "    (длина определяется параметром window_length).\n",
        "    Значения, попавшие в окно, будут признаками, а значения, \n",
        "    следующие после них, будут значениями зависимой переменной. \n",
        "    Мы решаем задачу регреcсии.\n",
        "    \"\"\"   \n",
        "    return _sliding_window_transform(\n",
        "        y, window_length, fh, X)"
      ]
    },
    {
      "cell_type": "code",
      "execution_count": 65,
      "metadata": {
        "id": "tqEWhesrimqt"
      },
      "outputs": [],
      "source": [
        "# преобразовываем обучающий временной ряд в таблицы,\n",
        "# получаем сложный массив меток и массив признаков\n",
        "yt, Xt = transform(y_train,\n",
        "                   window_length=15)"
      ]
    },
    {
      "cell_type": "code",
      "execution_count": 66,
      "metadata": {
        "colab": {
          "base_uri": "https://localhost:8080/"
        },
        "id": "aS0xbz6ximqt",
        "outputId": "270744a0-516f-4a64-c582-685c0227eb18"
      },
      "outputs": [
        {
          "output_type": "execute_result",
          "data": {
            "text/plain": [
              "array([[112., 118., 132., 129., 121., 135., 148., 148., 136., 119., 104.,\n",
              "        118., 115., 126., 141.],\n",
              "       [118., 132., 129., 121., 135., 148., 148., 136., 119., 104., 118.,\n",
              "        115., 126., 141., 135.],\n",
              "       [132., 129., 121., 135., 148., 148., 136., 119., 104., 118., 115.,\n",
              "        126., 141., 135., 125.],\n",
              "       [129., 121., 135., 148., 148., 136., 119., 104., 118., 115., 126.,\n",
              "        141., 135., 125., 149.],\n",
              "       [121., 135., 148., 148., 136., 119., 104., 118., 115., 126., 141.,\n",
              "        135., 125., 149., 170.],\n",
              "       [135., 148., 148., 136., 119., 104., 118., 115., 126., 141., 135.,\n",
              "        125., 149., 170., 170.],\n",
              "       [148., 148., 136., 119., 104., 118., 115., 126., 141., 135., 125.,\n",
              "        149., 170., 170., 158.],\n",
              "       [148., 136., 119., 104., 118., 115., 126., 141., 135., 125., 149.,\n",
              "        170., 170., 158., 133.],\n",
              "       [136., 119., 104., 118., 115., 126., 141., 135., 125., 149., 170.,\n",
              "        170., 158., 133., 114.],\n",
              "       [119., 104., 118., 115., 126., 141., 135., 125., 149., 170., 170.,\n",
              "        158., 133., 114., 140.],\n",
              "       [104., 118., 115., 126., 141., 135., 125., 149., 170., 170., 158.,\n",
              "        133., 114., 140., 145.],\n",
              "       [118., 115., 126., 141., 135., 125., 149., 170., 170., 158., 133.,\n",
              "        114., 140., 145., 150.]])"
            ]
          },
          "metadata": {},
          "execution_count": 66
        }
      ],
      "source": [
        "# взглянем на массив признаков - набор состыкованных окон, видим, что \n",
        "# каждый раз окно сдвигается на один шаг вперед\n",
        "Xt"
      ]
    },
    {
      "cell_type": "code",
      "execution_count": 67,
      "metadata": {
        "colab": {
          "base_uri": "https://localhost:8080/"
        },
        "id": "TjeVILiJimqt",
        "outputId": "8daadf53-d1d1-4531-8915-88a4d4d6a361"
      },
      "outputs": [
        {
          "output_type": "execute_result",
          "data": {
            "text/plain": [
              "array([[135., 125., 149., 170., 170., 158., 133., 114., 140., 145., 150.,\n",
              "        178.],\n",
              "       [125., 149., 170., 170., 158., 133., 114., 140., 145., 150., 178.,\n",
              "        163.],\n",
              "       [149., 170., 170., 158., 133., 114., 140., 145., 150., 178., 163.,\n",
              "        172.],\n",
              "       [170., 170., 158., 133., 114., 140., 145., 150., 178., 163., 172.,\n",
              "        178.],\n",
              "       [170., 158., 133., 114., 140., 145., 150., 178., 163., 172., 178.,\n",
              "        199.],\n",
              "       [158., 133., 114., 140., 145., 150., 178., 163., 172., 178., 199.,\n",
              "        199.],\n",
              "       [133., 114., 140., 145., 150., 178., 163., 172., 178., 199., 199.,\n",
              "        184.],\n",
              "       [114., 140., 145., 150., 178., 163., 172., 178., 199., 199., 184.,\n",
              "        162.],\n",
              "       [140., 145., 150., 178., 163., 172., 178., 199., 199., 184., 162.,\n",
              "        146.],\n",
              "       [145., 150., 178., 163., 172., 178., 199., 199., 184., 162., 146.,\n",
              "        166.],\n",
              "       [150., 178., 163., 172., 178., 199., 199., 184., 162., 146., 166.,\n",
              "        171.],\n",
              "       [178., 163., 172., 178., 199., 199., 184., 162., 146., 166., 171.,\n",
              "        180.]])"
            ]
          },
          "metadata": {},
          "execution_count": 67
        }
      ],
      "source": [
        "# взглянем на сложный массив меток, видим, что значения, \n",
        "# следующие за последним значением каждого окна массива \n",
        "# признаков, становится значениями зависимой переменной,\n",
        "# каждый столбец - зависимая переменная (по сути будет \n",
        "# использован как массив меток)\n",
        "yt"
      ]
    },
    {
      "cell_type": "code",
      "execution_count": 68,
      "metadata": {
        "id": "5RDK_gwdimqt"
      },
      "outputs": [],
      "source": [
        "# создаем экземпляр класса RandomForestRegressor\n",
        "regressor = RandomForestRegressor(random_state=42)\n",
        "# создаем копию модели\n",
        "estimator = clone(regressor)\n",
        "# обучаем модель\n",
        "estimator.fit(Xt, yt);"
      ]
    },
    {
      "cell_type": "code",
      "execution_count": 69,
      "metadata": {
        "colab": {
          "base_uri": "https://localhost:8080/"
        },
        "id": "JYOvelBTimqt",
        "outputId": "b237695e-95ca-4165-bc8b-b640eb15647f"
      },
      "outputs": [
        {
          "output_type": "execute_result",
          "data": {
            "text/plain": [
              "array([140., 145., 150., 178., 163., 172., 178., 199., 199., 184., 162.,\n",
              "       146., 166., 171., 180.])"
            ]
          },
          "metadata": {},
          "execution_count": 69
        }
      ],
      "source": [
        "# получим последнее окно (берем последние window_lenghh \n",
        "# наблюдений обучающего временного ряда)\n",
        "y_last = y_train.loc['1950-12':'1952-02'].to_numpy()\n",
        "y_last"
      ]
    },
    {
      "cell_type": "code",
      "execution_count": 70,
      "metadata": {
        "id": "9vQbPOW5imqu"
      },
      "outputs": [],
      "source": [
        "# задаем количество столбцов\n",
        "n_columns = 1"
      ]
    },
    {
      "cell_type": "code",
      "execution_count": 71,
      "metadata": {
        "id": "cIXGqCtQimqu"
      },
      "outputs": [],
      "source": [
        "# зададим длину окна\n",
        "window_length = 15"
      ]
    },
    {
      "cell_type": "code",
      "execution_count": 72,
      "metadata": {
        "colab": {
          "base_uri": "https://localhost:8080/"
        },
        "id": "fXQvXkJCimqu",
        "outputId": "1dd4ea1c-b39f-4f4d-dce0-0778ebb70430"
      },
      "outputs": [
        {
          "output_type": "execute_result",
          "data": {
            "text/plain": [
              "array([[[0., 0., 0., 0., 0., 0., 0., 0., 0., 0., 0., 0., 0., 0., 0.]]])"
            ]
          },
          "metadata": {},
          "execution_count": 72
        }
      ],
      "source": [
        "# cоздадим массив из нулей\n",
        "X = np.zeros((1, n_columns, window_length))\n",
        "X"
      ]
    },
    {
      "cell_type": "code",
      "execution_count": 73,
      "metadata": {
        "colab": {
          "base_uri": "https://localhost:8080/"
        },
        "id": "L3mnK7riimqu",
        "outputId": "6461f264-1764-490e-9081-f058d35bb490"
      },
      "outputs": [
        {
          "output_type": "execute_result",
          "data": {
            "text/plain": [
              "array([[[140., 145., 150., 178., 163., 172., 178., 199., 199., 184.,\n",
              "         162., 146., 166., 171., 180.]]])"
            ]
          },
          "metadata": {},
          "execution_count": 73
        }
      ],
      "source": [
        "# запишем в этот массив значения из последнего окна\n",
        "X[:, 0, :] = y_last\n",
        "X"
      ]
    },
    {
      "cell_type": "code",
      "execution_count": 74,
      "metadata": {
        "colab": {
          "base_uri": "https://localhost:8080/"
        },
        "id": "06JKZ1YGimqu",
        "outputId": "d60121a8-4b25-4991-8cac-14f761c63a6f"
      },
      "outputs": [
        {
          "output_type": "execute_result",
          "data": {
            "text/plain": [
              "array([[140., 145., 150., 178., 163., 172., 178., 199., 199., 184., 162.,\n",
              "        146., 166., 171., 180.]])"
            ]
          },
          "metadata": {},
          "execution_count": 74
        }
      ],
      "source": [
        "# получаем 2-мерный массив - наш новый массив признаков,\n",
        "# который используем для получения итоговых прогнозов\n",
        "X = X.reshape(1, -1)\n",
        "X"
      ]
    },
    {
      "cell_type": "code",
      "execution_count": 75,
      "metadata": {
        "colab": {
          "base_uri": "https://localhost:8080/"
        },
        "id": "t4VvJEaTimqu",
        "outputId": "cf1e10db-7d1d-4765-d513-76737e8f53a9"
      },
      "outputs": [
        {
          "output_type": "execute_result",
          "data": {
            "text/plain": [
              "array([[154.04, 151.99, 155.91, 159.37, 168.93, 175.02, 175.4 , 171.72,\n",
              "        166.24, 170.4 , 173.67, 177.33]])"
            ]
          },
          "metadata": {},
          "execution_count": 75
        }
      ],
      "source": [
        "# получаем прогноз для каждого шага в горизонте прогнозирования\n",
        "y_pred = estimator.predict(X)\n",
        "y_pred"
      ]
    },
    {
      "cell_type": "code",
      "execution_count": 76,
      "metadata": {
        "colab": {
          "base_uri": "https://localhost:8080/"
        },
        "id": "uZZkqB23imqv",
        "outputId": "6a62ac9f-64c7-49a1-fae5-96dff750dd7a"
      },
      "outputs": [
        {
          "output_type": "stream",
          "name": "stdout",
          "text": [
            "[154.04 151.99 155.91 159.37 168.93 175.02 175.4  171.72 166.24 170.4\n",
            " 173.67 177.33]\n"
          ]
        }
      ],
      "source": [
        "# сжимаем до одной оси\n",
        "y_pred = y_pred.ravel()\n",
        "# печатаем прогнозы\n",
        "print(y_pred)"
      ]
    },
    {
      "cell_type": "code",
      "execution_count": 77,
      "metadata": {
        "colab": {
          "base_uri": "https://localhost:8080/"
        },
        "id": "jG9e4mt3imqv",
        "outputId": "0f1b4f1b-0827-413e-85b2-5c2de88123bf"
      },
      "outputs": [
        {
          "output_type": "stream",
          "name": "stdout",
          "text": [
            "1952-03    154.04\n",
            "1952-04    151.99\n",
            "1952-05    155.91\n",
            "1952-06    159.37\n",
            "1952-07    168.93\n",
            "1952-08    175.02\n",
            "1952-09    175.40\n",
            "1952-10    171.72\n",
            "1952-11    166.24\n",
            "1952-12    170.40\n",
            "1953-01    173.67\n",
            "1953-02    177.33\n",
            "Freq: M, dtype: float64\n"
          ]
        }
      ],
      "source": [
        "# создаем экземпляр класса RandomForestRegressor\n",
        "regressor = RandomForestRegressor(random_state=42)\n",
        "\n",
        "# создаем прогнозную модель, выполнив редукцию\n",
        "# используем стратегию прогноза с множеством выходов\n",
        "forecaster = make_reduction(regressor, window_length=15, \n",
        "                            strategy='multioutput')\n",
        "\n",
        "# обучаем прогнозную модель\n",
        "forecaster.fit(y_train, fh=fh)\n",
        "\n",
        "# получаем прогнозы\n",
        "y_pred_skt = forecaster.predict(fh)\n",
        "\n",
        "# напечатаем прогнозы \n",
        "print(y_pred_skt)"
      ]
    },
    {
      "cell_type": "code",
      "execution_count": 78,
      "metadata": {
        "colab": {
          "base_uri": "https://localhost:8080/"
        },
        "id": "He_xIOCjimqv",
        "outputId": "8bd2f9d0-66ac-4429-f944-933795abdc13"
      },
      "outputs": [
        {
          "output_type": "execute_result",
          "data": {
            "text/plain": [
              "True"
            ]
          },
          "metadata": {},
          "execution_count": 78
        }
      ],
      "source": [
        "# сравниваем прогнозы  \n",
        "(y_pred == y_pred_skt.values).all()"
      ]
    },
    {
      "cell_type": "code",
      "execution_count": 79,
      "metadata": {
        "colab": {
          "base_uri": "https://localhost:8080/",
          "height": 282
        },
        "id": "UQ7xzT-Pimqv",
        "outputId": "97784d23-dae0-4938-e581-5356a3eb98e3"
      },
      "outputs": [
        {
          "output_type": "execute_result",
          "data": {
            "text/plain": [
              "0.20337370832317514"
            ]
          },
          "metadata": {},
          "execution_count": 79
        },
        {
          "output_type": "display_data",
          "data": {
            "text/plain": [
              "<Figure size 1152x288 with 1 Axes>"
            ],
            "image/png": "[encoded data removed]"
          },
          "metadata": {
            "image/png": {
              "width": 946,
              "height": 248
            },
            "needs_background": "light"
          }
        }
      ],
      "source": [
        "# визуализируем прогнозы\n",
        "plot_series(y_train, y_test, y_pred_skt, \n",
        "            labels=['y_train', 'y_test', 'y_pred'])\n",
        "\n",
        "# вычисляем sMAPE\n",
        "mean_absolute_percentage_error(y_pred_skt, y_test)"
      ]
    }
  ],
  "metadata": {
    "colab": {
      "provenance": []
    },
    "kernelspec": {
      "display_name": "Python 3 (ipykernel)",
      "language": "python",
      "name": "python3"
    },
    "language_info": {
      "codemirror_mode": {
        "name": "ipython",
        "version": 3
      },
      "file_extension": ".py",
      "mimetype": "text/x-python",
      "name": "python",
      "nbconvert_exporter": "python",
      "pygments_lexer": "ipython3",
      "version": "3.9.13"
    }
  },
  "nbformat": 4,
  "nbformat_minor": 0
}