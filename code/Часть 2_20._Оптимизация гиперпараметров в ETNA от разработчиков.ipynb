{
 "cells": [
  {
   "cell_type": "code",
   "execution_count": 1,
   "id": "d919840f",
   "metadata": {},
   "outputs": [
    {
     "name": "stderr",
     "output_type": "stream",
     "text": [
      "/Users/artemgruzdev/anaconda3/lib/python3.10/site-packages/etna/settings.py:61: UserWarning: `tsfresh` is not available, to install it, run `pip install tsfresh==0.19.0 && pip install protobuf==3.20.1`\n",
      "  warnings.warn(\n"
     ]
    }
   ],
   "source": [
    "# импортируем необходимые библиотеки и модули\n",
    "import pandas as pd\n",
    "import numpy as np\n",
    "import optuna\n",
    "import random\n",
    "from functools import partial\n",
    "from pathlib import Path\n",
    "from typing import Optional\n",
    "import typer\n",
    "import os\n",
    "\n",
    "# импортируем из библиотеки etna нужные классы\n",
    "from etna.datasets import TSDataset, generate_ar_df\n",
    "from etna.loggers import WandbLogger,tslogger\n",
    "from etna.metrics import MAE, MSE, SMAPE, Sign\n",
    "from etna.models import CatBoostMultiSegmentModel\n",
    "from etna.pipeline import Pipeline\n",
    "from etna.transforms import (LagTransform,\n",
    "                             SegmentEncoderTransform,\n",
    "                             StandardScalerTransform)\n",
    "\n",
    "# импортируем модуль предупреждений\n",
    "import warnings\n",
    "# включим игнорирование предупреждений\n",
    "warnings.filterwarnings('ignore')"
   ]
  },
  {
   "cell_type": "code",
   "execution_count": 2,
   "id": "38521ae1",
   "metadata": {},
   "outputs": [],
   "source": [
    "# функция установки начального значения генератора случайных чисел\n",
    "def set_seed(seed: int = 42):\n",
    "    # установка генератора случайных чисел python \n",
    "    random.seed(seed)\n",
    "    # установка генератора случайных чисел numpy\n",
    "    np.random.seed(seed)"
   ]
  },
  {
   "cell_type": "code",
   "execution_count": 3,
   "id": "67d31a86",
   "metadata": {},
   "outputs": [],
   "source": [
    "def init_logger(config: dict, \n",
    "                project: str = 'wandb-sweeps', \n",
    "                tags: Optional[list] = ['test', 'sweeps']):\n",
    "    # создание пустого списка для хранения обьектов WandbLogge\n",
    "    tslogger.loggers = []\n",
    "    # создание экземпляра WandbLogge. W&B предоставляет облегченную оболочку для \n",
    "    # регистрации экспериментов машинного обучения\n",
    "    wblogger = WandbLogger(project=project, tags=tags, config=config)\n",
    "    # добавление обьекта WandbLogge в список\n",
    "    tslogger.add(wblogger)"
   ]
  },
  {
   "cell_type": "code",
   "execution_count": 4,
   "id": "7f249cd0",
   "metadata": {},
   "outputs": [],
   "source": [
    "def dataloader(file_path: Path, freq: str = 'D') -> TSDataset:\n",
    "    df = pd.read_csv(file_path)\n",
    "    df = TSDataset.to_dataset(df)\n",
    "    ts = TSDataset(df=df, freq=freq)\n",
    "    return ts"
   ]
  },
  {
   "cell_type": "code",
   "execution_count": 5,
   "id": "60b36cb0",
   "metadata": {},
   "outputs": [],
   "source": [
    "# целевая функция Optuna\n",
    "def objective(trial: optuna.Trial, metric_name: str, ts: TSDataset, horizon: int, lags: int, seed: int):\n",
    "\n",
    "    # установка начального значения генератора случайных чисел \n",
    "    set_seed(seed)\n",
    "\n",
    "    #  создадим экземпляр Pipeline. Определить модель и характеристики\n",
    "    pipeline = Pipeline(\n",
    "        # определим модель\n",
    "        model=CatBoostMultiSegmentModel(\n",
    "            iterations=trial.suggest_int('iterations', 10, 100),\n",
    "            depth=trial.suggest_int('depth', 1, 12),\n",
    "        ),\n",
    "        # определим список трансформеров\n",
    "        transforms=[\n",
    "            StandardScalerTransform('target'),\n",
    "            SegmentEncoderTransform(),\n",
    "            LagTransform(in_column='target', \n",
    "                         lags=list(range(horizon, horizon + \n",
    "                                         trial.suggest_int('lags', 1, lags)))),\n",
    "        ],\n",
    "        # установка горизонта для прогнозов\n",
    "        horizon=horizon,\n",
    "    )\n",
    "\n",
    "    # инициализируем WandB logger\n",
    "    init_logger(pipeline.to_dict())\n",
    "\n",
    "    # запускаем перекрестную проверку с подсчетом метрик\n",
    "    metrics, _, _ = pipeline.backtest(ts=ts, metrics=[MAE(), SMAPE(), Sign(), MSE()])\n",
    "    \n",
    "    # возвращаем средние значения по найденным метрикам\n",
    "    return metrics[metric_name].mean()\n"
   ]
  },
  {
   "cell_type": "code",
   "execution_count": 6,
   "id": "8883b229",
   "metadata": {},
   "outputs": [],
   "source": [
    "# функция запуска оптимизации Optuna\n",
    "def run_optuna(\n",
    "    # горизонт для прогнозов\n",
    "    horizon: int = 14,\n",
    "    # метрика\n",
    "    metric_name: str = 'MAE',\n",
    "    # URL-адрес базы данных,\n",
    "    storage: str = 'sqlite:///optuna.db',\n",
    "    # название \n",
    "    study_name: Optional[str] = None,\n",
    "    # количество проходов\n",
    "    n_trials: int = 5,\n",
    "    # путь к файлу данных\n",
    "    file_path: Path = 'Data/example_dataset.csv',\n",
    "    # направление оптимизации\n",
    "    direction: str = 'minimize',\n",
    "    # частота временного ряда\n",
    "    freq: str = 'D',\n",
    "    #  количество лагов\n",
    "    lags: int = 24,\n",
    "    # стартовое значение генератора псевдослучайных чисел\n",
    "    seed: int = 11,\n",
    "):\n",
    "\n",
    "    # загрузка данных\n",
    "    ts = dataloader(file_path, freq=freq)\n",
    "\n",
    "    # создание сессии оптимизации Optuna\n",
    "    study = optuna.create_study(\n",
    "        # URL базы данных\n",
    "        storage=storage,\n",
    "        study_name=study_name,\n",
    "        # семплер\n",
    "        sampler=optuna.samplers.TPESampler(multivariate=True, group=True),\n",
    "        # флаг управления поведением при разрешении конфликта\n",
    "        load_if_exists=True,\n",
    "        # направление оптимизации\n",
    "        direction=direction,\n",
    "    )\n",
    "\n",
    "    # запуск оптимизации Optuna\n",
    "    study.optimize(\n",
    "        partial(objective, metric_name=metric_name, ts=ts, horizon=horizon, \n",
    "                lags=lags, seed=seed), n_trials=n_trials\n",
    "        )\n"
   ]
  },
  {
   "cell_type": "code",
   "execution_count": 7,
   "id": "b2b21ccd",
   "metadata": {
    "scrolled": false
   },
   "outputs": [
    {
     "name": "stderr",
     "output_type": "stream",
     "text": [
      "\u001b[32m[I 2023-05-24 15:07:16,322]\u001b[0m A new study created in RDB with name: no-name-1c0d6852-0d84-4270-9ee2-b80e2a0a24ec\u001b[0m\n",
      "[Parallel(n_jobs=1)]: Using backend SequentialBackend with 1 concurrent workers.\n",
      "\u001b[34m\u001b[1mwandb\u001b[0m: Logging into wandb.ai. (Learn how to deploy a W&B server locally: https://wandb.me/wandb-server)\n",
      "\u001b[34m\u001b[1mwandb\u001b[0m: You can find your API key in your browser here: https://wandb.ai/authorize\n",
      "\u001b[34m\u001b[1mwandb\u001b[0m: Paste an API key from your profile and hit enter, or press ctrl+c to quit:"
     ]
    },
    {
     "name": "stdout",
     "output_type": "stream",
     "text": [
      " ········\n"
     ]
    },
    {
     "name": "stderr",
     "output_type": "stream",
     "text": [
      "\u001b[34m\u001b[1mwandb\u001b[0m: Appending key for api.wandb.ai to your netrc file: /Users/artemgruzdev/.netrc\n"
     ]
    },
    {
     "data": {
      "text/html": [
       "wandb version 0.15.3 is available!  To upgrade, please run:\n",
       " $ pip install wandb --upgrade"
      ],
      "text/plain": [
       "<IPython.core.display.HTML object>"
      ]
     },
     "metadata": {},
     "output_type": "display_data"
    },
    {
     "data": {
      "text/html": [
       "Tracking run with wandb version 0.12.21"
      ],
      "text/plain": [
       "<IPython.core.display.HTML object>"
      ]
     },
     "metadata": {},
     "output_type": "display_data"
    },
    {
     "data": {
      "text/html": [
       "Run data is saved locally in <code>/Users/artemgruzdev/Documents/GitHub/Time_Series/code/wandb/run-20230524_150750-4lm3lvrz</code>"
      ],
      "text/plain": [
       "<IPython.core.display.HTML object>"
      ]
     },
     "metadata": {},
     "output_type": "display_data"
    },
    {
     "data": {
      "text/html": [
       "Syncing run <strong><a href=\"https://wandb.ai/gewissta/wandb-sweeps/runs/4lm3lvrz\" target=\"_blank\">UkwBVAJx</a></strong> to <a href=\"https://wandb.ai/gewissta/wandb-sweeps\" target=\"_blank\">Weights & Biases</a> (<a href=\"https://wandb.me/run\" target=\"_blank\">docs</a>)<br/>"
      ],
      "text/plain": [
       "<IPython.core.display.HTML object>"
      ]
     },
     "metadata": {},
     "output_type": "display_data"
    },
    {
     "data": {
      "text/html": [
       "Waiting for W&B process to finish... <strong style=\"color:green\">(success).</strong>"
      ],
      "text/plain": [
       "<IPython.core.display.HTML object>"
      ]
     },
     "metadata": {},
     "output_type": "display_data"
    },
    {
     "data": {
      "application/vnd.jupyter.widget-view+json": {
       "model_id": "",
       "version_major": 2,
       "version_minor": 0
      },
      "text/plain": [
       "VBox(children=(Label(value='0.000 MB of 0.000 MB uploaded (0.000 MB deduped)\\r'), FloatProgress(value=1.0, max…"
      ]
     },
     "metadata": {},
     "output_type": "display_data"
    },
    {
     "data": {
      "text/html": [
       "Synced <strong style=\"color:#cdcd00\">UkwBVAJx</strong>: <a href=\"https://wandb.ai/gewissta/wandb-sweeps/runs/4lm3lvrz\" target=\"_blank\">https://wandb.ai/gewissta/wandb-sweeps/runs/4lm3lvrz</a><br/>Synced 5 W&B file(s), 0 media file(s), 0 artifact file(s) and 0 other file(s)"
      ],
      "text/plain": [
       "<IPython.core.display.HTML object>"
      ]
     },
     "metadata": {},
     "output_type": "display_data"
    },
    {
     "data": {
      "text/html": [
       "Find logs at: <code>./wandb/run-20230524_150750-4lm3lvrz/logs</code>"
      ],
      "text/plain": [
       "<IPython.core.display.HTML object>"
      ]
     },
     "metadata": {},
     "output_type": "display_data"
    },
    {
     "name": "stderr",
     "output_type": "stream",
     "text": [
      "[Parallel(n_jobs=1)]: Done   1 out of   1 | elapsed:   55.5s remaining:    0.0s\n"
     ]
    },
    {
     "data": {
      "text/html": [
       "Changes to your `wandb` environment variables will be ignored because your `wandb` session has already started. For more information on how to modify your settings with `wandb.init()` arguments, please refer to <a href=\"https://wandb.me/wandb-init\" target=\"_blank\">the W&B docs</a>."
      ],
      "text/plain": [
       "<IPython.core.display.HTML object>"
      ]
     },
     "metadata": {},
     "output_type": "display_data"
    },
    {
     "name": "stderr",
     "output_type": "stream",
     "text": [
      "\u001b[34m\u001b[1mwandb\u001b[0m: Currently logged in as: \u001b[33mgewissta\u001b[0m. Use \u001b[1m`wandb login --relogin`\u001b[0m to force relogin\n"
     ]
    },
    {
     "data": {
      "text/html": [
       "wandb version 0.15.3 is available!  To upgrade, please run:\n",
       " $ pip install wandb --upgrade"
      ],
      "text/plain": [
       "<IPython.core.display.HTML object>"
      ]
     },
     "metadata": {},
     "output_type": "display_data"
    },
    {
     "data": {
      "text/html": [
       "Tracking run with wandb version 0.12.21"
      ],
      "text/plain": [
       "<IPython.core.display.HTML object>"
      ]
     },
     "metadata": {},
     "output_type": "display_data"
    },
    {
     "data": {
      "text/html": [
       "Run data is saved locally in <code>/Users/artemgruzdev/Documents/GitHub/Time_Series/code/wandb/run-20230524_150811-113cfn7y</code>"
      ],
      "text/plain": [
       "<IPython.core.display.HTML object>"
      ]
     },
     "metadata": {},
     "output_type": "display_data"
    },
    {
     "data": {
      "text/html": [
       "Syncing run <strong><a href=\"https://wandb.ai/gewissta/wandb-sweeps/runs/113cfn7y\" target=\"_blank\">UkwBVAJx</a></strong> to <a href=\"https://wandb.ai/gewissta/wandb-sweeps\" target=\"_blank\">Weights & Biases</a> (<a href=\"https://wandb.me/run\" target=\"_blank\">docs</a>)<br/>"
      ],
      "text/plain": [
       "<IPython.core.display.HTML object>"
      ]
     },
     "metadata": {},
     "output_type": "display_data"
    },
    {
     "data": {
      "text/html": [
       "Waiting for W&B process to finish... <strong style=\"color:green\">(success).</strong>"
      ],
      "text/plain": [
       "<IPython.core.display.HTML object>"
      ]
     },
     "metadata": {},
     "output_type": "display_data"
    },
    {
     "data": {
      "application/vnd.jupyter.widget-view+json": {
       "model_id": "",
       "version_major": 2,
       "version_minor": 0
      },
      "text/plain": [
       "VBox(children=(Label(value='0.000 MB of 0.000 MB uploaded (0.000 MB deduped)\\r'), FloatProgress(value=1.0, max…"
      ]
     },
     "metadata": {},
     "output_type": "display_data"
    },
    {
     "data": {
      "text/html": [
       "Synced <strong style=\"color:#cdcd00\">UkwBVAJx</strong>: <a href=\"https://wandb.ai/gewissta/wandb-sweeps/runs/113cfn7y\" target=\"_blank\">https://wandb.ai/gewissta/wandb-sweeps/runs/113cfn7y</a><br/>Synced 5 W&B file(s), 0 media file(s), 0 artifact file(s) and 0 other file(s)"
      ],
      "text/plain": [
       "<IPython.core.display.HTML object>"
      ]
     },
     "metadata": {},
     "output_type": "display_data"
    },
    {
     "data": {
      "text/html": [
       "Find logs at: <code>./wandb/run-20230524_150811-113cfn7y/logs</code>"
      ],
      "text/plain": [
       "<IPython.core.display.HTML object>"
      ]
     },
     "metadata": {},
     "output_type": "display_data"
    },
    {
     "name": "stderr",
     "output_type": "stream",
     "text": [
      "[Parallel(n_jobs=1)]: Done   2 out of   2 | elapsed:  1.2min remaining:    0.0s\n"
     ]
    },
    {
     "data": {
      "text/html": [
       "Changes to your `wandb` environment variables will be ignored because your `wandb` session has already started. For more information on how to modify your settings with `wandb.init()` arguments, please refer to <a href=\"https://wandb.me/wandb-init\" target=\"_blank\">the W&B docs</a>."
      ],
      "text/plain": [
       "<IPython.core.display.HTML object>"
      ]
     },
     "metadata": {},
     "output_type": "display_data"
    },
    {
     "data": {
      "text/html": [
       "wandb version 0.15.3 is available!  To upgrade, please run:\n",
       " $ pip install wandb --upgrade"
      ],
      "text/plain": [
       "<IPython.core.display.HTML object>"
      ]
     },
     "metadata": {},
     "output_type": "display_data"
    },
    {
     "data": {
      "text/html": [
       "Tracking run with wandb version 0.12.21"
      ],
      "text/plain": [
       "<IPython.core.display.HTML object>"
      ]
     },
     "metadata": {},
     "output_type": "display_data"
    },
    {
     "data": {
      "text/html": [
       "Run data is saved locally in <code>/Users/artemgruzdev/Documents/GitHub/Time_Series/code/wandb/run-20230524_150830-3euhhdy1</code>"
      ],
      "text/plain": [
       "<IPython.core.display.HTML object>"
      ]
     },
     "metadata": {},
     "output_type": "display_data"
    },
    {
     "data": {
      "text/html": [
       "Syncing run <strong><a href=\"https://wandb.ai/gewissta/wandb-sweeps/runs/3euhhdy1\" target=\"_blank\">UkwBVAJx</a></strong> to <a href=\"https://wandb.ai/gewissta/wandb-sweeps\" target=\"_blank\">Weights & Biases</a> (<a href=\"https://wandb.me/run\" target=\"_blank\">docs</a>)<br/>"
      ],
      "text/plain": [
       "<IPython.core.display.HTML object>"
      ]
     },
     "metadata": {},
     "output_type": "display_data"
    },
    {
     "data": {
      "text/html": [
       "Waiting for W&B process to finish... <strong style=\"color:green\">(success).</strong>"
      ],
      "text/plain": [
       "<IPython.core.display.HTML object>"
      ]
     },
     "metadata": {},
     "output_type": "display_data"
    },
    {
     "data": {
      "application/vnd.jupyter.widget-view+json": {
       "model_id": "",
       "version_major": 2,
       "version_minor": 0
      },
      "text/plain": [
       "VBox(children=(Label(value='0.000 MB of 0.000 MB uploaded (0.000 MB deduped)\\r'), FloatProgress(value=1.0, max…"
      ]
     },
     "metadata": {},
     "output_type": "display_data"
    },
    {
     "data": {
      "text/html": [
       "Synced <strong style=\"color:#cdcd00\">UkwBVAJx</strong>: <a href=\"https://wandb.ai/gewissta/wandb-sweeps/runs/3euhhdy1\" target=\"_blank\">https://wandb.ai/gewissta/wandb-sweeps/runs/3euhhdy1</a><br/>Synced 5 W&B file(s), 0 media file(s), 0 artifact file(s) and 0 other file(s)"
      ],
      "text/plain": [
       "<IPython.core.display.HTML object>"
      ]
     },
     "metadata": {},
     "output_type": "display_data"
    },
    {
     "data": {
      "text/html": [
       "Find logs at: <code>./wandb/run-20230524_150830-3euhhdy1/logs</code>"
      ],
      "text/plain": [
       "<IPython.core.display.HTML object>"
      ]
     },
     "metadata": {},
     "output_type": "display_data"
    },
    {
     "name": "stderr",
     "output_type": "stream",
     "text": [
      "[Parallel(n_jobs=1)]: Done   3 out of   3 | elapsed:  1.5min remaining:    0.0s\n"
     ]
    },
    {
     "data": {
      "text/html": [
       "Changes to your `wandb` environment variables will be ignored because your `wandb` session has already started. For more information on how to modify your settings with `wandb.init()` arguments, please refer to <a href=\"https://wandb.me/wandb-init\" target=\"_blank\">the W&B docs</a>."
      ],
      "text/plain": [
       "<IPython.core.display.HTML object>"
      ]
     },
     "metadata": {},
     "output_type": "display_data"
    },
    {
     "data": {
      "text/html": [
       "wandb version 0.15.3 is available!  To upgrade, please run:\n",
       " $ pip install wandb --upgrade"
      ],
      "text/plain": [
       "<IPython.core.display.HTML object>"
      ]
     },
     "metadata": {},
     "output_type": "display_data"
    },
    {
     "data": {
      "text/html": [
       "Tracking run with wandb version 0.12.21"
      ],
      "text/plain": [
       "<IPython.core.display.HTML object>"
      ]
     },
     "metadata": {},
     "output_type": "display_data"
    },
    {
     "data": {
      "text/html": [
       "Run data is saved locally in <code>/Users/artemgruzdev/Documents/GitHub/Time_Series/code/wandb/run-20230524_150849-2bso3lp5</code>"
      ],
      "text/plain": [
       "<IPython.core.display.HTML object>"
      ]
     },
     "metadata": {},
     "output_type": "display_data"
    },
    {
     "data": {
      "text/html": [
       "Syncing run <strong><a href=\"https://wandb.ai/gewissta/wandb-sweeps/runs/2bso3lp5\" target=\"_blank\">UkwBVAJx</a></strong> to <a href=\"https://wandb.ai/gewissta/wandb-sweeps\" target=\"_blank\">Weights & Biases</a> (<a href=\"https://wandb.me/run\" target=\"_blank\">docs</a>)<br/>"
      ],
      "text/plain": [
       "<IPython.core.display.HTML object>"
      ]
     },
     "metadata": {},
     "output_type": "display_data"
    },
    {
     "data": {
      "text/html": [
       "Waiting for W&B process to finish... <strong style=\"color:green\">(success).</strong>"
      ],
      "text/plain": [
       "<IPython.core.display.HTML object>"
      ]
     },
     "metadata": {},
     "output_type": "display_data"
    },
    {
     "data": {
      "application/vnd.jupyter.widget-view+json": {
       "model_id": "",
       "version_major": 2,
       "version_minor": 0
      },
      "text/plain": [
       "VBox(children=(Label(value='0.000 MB of 0.000 MB uploaded (0.000 MB deduped)\\r'), FloatProgress(value=1.0, max…"
      ]
     },
     "metadata": {},
     "output_type": "display_data"
    },
    {
     "data": {
      "text/html": [
       "Synced <strong style=\"color:#cdcd00\">UkwBVAJx</strong>: <a href=\"https://wandb.ai/gewissta/wandb-sweeps/runs/2bso3lp5\" target=\"_blank\">https://wandb.ai/gewissta/wandb-sweeps/runs/2bso3lp5</a><br/>Synced 5 W&B file(s), 0 media file(s), 0 artifact file(s) and 0 other file(s)"
      ],
      "text/plain": [
       "<IPython.core.display.HTML object>"
      ]
     },
     "metadata": {},
     "output_type": "display_data"
    },
    {
     "data": {
      "text/html": [
       "Find logs at: <code>./wandb/run-20230524_150849-2bso3lp5/logs</code>"
      ],
      "text/plain": [
       "<IPython.core.display.HTML object>"
      ]
     },
     "metadata": {},
     "output_type": "display_data"
    },
    {
     "name": "stderr",
     "output_type": "stream",
     "text": [
      "[Parallel(n_jobs=1)]: Done   4 out of   4 | elapsed:  1.9min remaining:    0.0s\n"
     ]
    },
    {
     "data": {
      "text/html": [
       "Changes to your `wandb` environment variables will be ignored because your `wandb` session has already started. For more information on how to modify your settings with `wandb.init()` arguments, please refer to <a href=\"https://wandb.me/wandb-init\" target=\"_blank\">the W&B docs</a>."
      ],
      "text/plain": [
       "<IPython.core.display.HTML object>"
      ]
     },
     "metadata": {},
     "output_type": "display_data"
    },
    {
     "data": {
      "text/html": [
       "wandb version 0.15.3 is available!  To upgrade, please run:\n",
       " $ pip install wandb --upgrade"
      ],
      "text/plain": [
       "<IPython.core.display.HTML object>"
      ]
     },
     "metadata": {},
     "output_type": "display_data"
    },
    {
     "data": {
      "text/html": [
       "Tracking run with wandb version 0.12.21"
      ],
      "text/plain": [
       "<IPython.core.display.HTML object>"
      ]
     },
     "metadata": {},
     "output_type": "display_data"
    },
    {
     "data": {
      "text/html": [
       "Run data is saved locally in <code>/Users/artemgruzdev/Documents/GitHub/Time_Series/code/wandb/run-20230524_150908-27c0wja2</code>"
      ],
      "text/plain": [
       "<IPython.core.display.HTML object>"
      ]
     },
     "metadata": {},
     "output_type": "display_data"
    },
    {
     "data": {
      "text/html": [
       "Syncing run <strong><a href=\"https://wandb.ai/gewissta/wandb-sweeps/runs/27c0wja2\" target=\"_blank\">UkwBVAJx</a></strong> to <a href=\"https://wandb.ai/gewissta/wandb-sweeps\" target=\"_blank\">Weights & Biases</a> (<a href=\"https://wandb.me/run\" target=\"_blank\">docs</a>)<br/>"
      ],
      "text/plain": [
       "<IPython.core.display.HTML object>"
      ]
     },
     "metadata": {},
     "output_type": "display_data"
    },
    {
     "data": {
      "text/html": [
       "Waiting for W&B process to finish... <strong style=\"color:green\">(success).</strong>"
      ],
      "text/plain": [
       "<IPython.core.display.HTML object>"
      ]
     },
     "metadata": {},
     "output_type": "display_data"
    },
    {
     "data": {
      "application/vnd.jupyter.widget-view+json": {
       "model_id": "",
       "version_major": 2,
       "version_minor": 0
      },
      "text/plain": [
       "VBox(children=(Label(value='0.000 MB of 0.000 MB uploaded (0.000 MB deduped)\\r'), FloatProgress(value=1.0, max…"
      ]
     },
     "metadata": {},
     "output_type": "display_data"
    },
    {
     "data": {
      "text/html": [
       "Synced <strong style=\"color:#cdcd00\">UkwBVAJx</strong>: <a href=\"https://wandb.ai/gewissta/wandb-sweeps/runs/27c0wja2\" target=\"_blank\">https://wandb.ai/gewissta/wandb-sweeps/runs/27c0wja2</a><br/>Synced 5 W&B file(s), 0 media file(s), 0 artifact file(s) and 0 other file(s)"
      ],
      "text/plain": [
       "<IPython.core.display.HTML object>"
      ]
     },
     "metadata": {},
     "output_type": "display_data"
    },
    {
     "data": {
      "text/html": [
       "Find logs at: <code>./wandb/run-20230524_150908-27c0wja2/logs</code>"
      ],
      "text/plain": [
       "<IPython.core.display.HTML object>"
      ]
     },
     "metadata": {},
     "output_type": "display_data"
    },
    {
     "name": "stderr",
     "output_type": "stream",
     "text": [
      "[Parallel(n_jobs=1)]: Done   5 out of   5 | elapsed:  2.2min remaining:    0.0s\n",
      "[Parallel(n_jobs=1)]: Done   5 out of   5 | elapsed:  2.2min finished\n",
      "[Parallel(n_jobs=1)]: Using backend SequentialBackend with 1 concurrent workers.\n"
     ]
    },
    {
     "data": {
      "text/html": [
       "Changes to your `wandb` environment variables will be ignored because your `wandb` session has already started. For more information on how to modify your settings with `wandb.init()` arguments, please refer to <a href=\"https://wandb.me/wandb-init\" target=\"_blank\">the W&B docs</a>."
      ],
      "text/plain": [
       "<IPython.core.display.HTML object>"
      ]
     },
     "metadata": {},
     "output_type": "display_data"
    },
    {
     "data": {
      "text/html": [
       "wandb version 0.15.3 is available!  To upgrade, please run:\n",
       " $ pip install wandb --upgrade"
      ],
      "text/plain": [
       "<IPython.core.display.HTML object>"
      ]
     },
     "metadata": {},
     "output_type": "display_data"
    },
    {
     "data": {
      "text/html": [
       "Tracking run with wandb version 0.12.21"
      ],
      "text/plain": [
       "<IPython.core.display.HTML object>"
      ]
     },
     "metadata": {},
     "output_type": "display_data"
    },
    {
     "data": {
      "text/html": [
       "Run data is saved locally in <code>/Users/artemgruzdev/Documents/GitHub/Time_Series/code/wandb/run-20230524_150926-35c0d07y</code>"
      ],
      "text/plain": [
       "<IPython.core.display.HTML object>"
      ]
     },
     "metadata": {},
     "output_type": "display_data"
    },
    {
     "data": {
      "text/html": [
       "Syncing run <strong><a href=\"https://wandb.ai/gewissta/wandb-sweeps/runs/35c0d07y\" target=\"_blank\">UkwBVAJx</a></strong> to <a href=\"https://wandb.ai/gewissta/wandb-sweeps\" target=\"_blank\">Weights & Biases</a> (<a href=\"https://wandb.me/run\" target=\"_blank\">docs</a>)<br/>"
      ],
      "text/plain": [
       "<IPython.core.display.HTML object>"
      ]
     },
     "metadata": {},
     "output_type": "display_data"
    },
    {
     "data": {
      "text/html": [
       "Waiting for W&B process to finish... <strong style=\"color:green\">(success).</strong>"
      ],
      "text/plain": [
       "<IPython.core.display.HTML object>"
      ]
     },
     "metadata": {},
     "output_type": "display_data"
    },
    {
     "data": {
      "application/vnd.jupyter.widget-view+json": {
       "model_id": "",
       "version_major": 2,
       "version_minor": 0
      },
      "text/plain": [
       "VBox(children=(Label(value='0.000 MB of 0.000 MB uploaded (0.000 MB deduped)\\r'), FloatProgress(value=1.0, max…"
      ]
     },
     "metadata": {},
     "output_type": "display_data"
    },
    {
     "data": {
      "text/html": [
       "Synced <strong style=\"color:#cdcd00\">UkwBVAJx</strong>: <a href=\"https://wandb.ai/gewissta/wandb-sweeps/runs/35c0d07y\" target=\"_blank\">https://wandb.ai/gewissta/wandb-sweeps/runs/35c0d07y</a><br/>Synced 5 W&B file(s), 0 media file(s), 0 artifact file(s) and 0 other file(s)"
      ],
      "text/plain": [
       "<IPython.core.display.HTML object>"
      ]
     },
     "metadata": {},
     "output_type": "display_data"
    },
    {
     "data": {
      "text/html": [
       "Find logs at: <code>./wandb/run-20230524_150926-35c0d07y/logs</code>"
      ],
      "text/plain": [
       "<IPython.core.display.HTML object>"
      ]
     },
     "metadata": {},
     "output_type": "display_data"
    },
    {
     "name": "stderr",
     "output_type": "stream",
     "text": [
      "[Parallel(n_jobs=1)]: Done   1 out of   1 | elapsed:   18.9s remaining:    0.0s\n"
     ]
    },
    {
     "data": {
      "text/html": [
       "Changes to your `wandb` environment variables will be ignored because your `wandb` session has already started. For more information on how to modify your settings with `wandb.init()` arguments, please refer to <a href=\"https://wandb.me/wandb-init\" target=\"_blank\">the W&B docs</a>."
      ],
      "text/plain": [
       "<IPython.core.display.HTML object>"
      ]
     },
     "metadata": {},
     "output_type": "display_data"
    },
    {
     "data": {
      "text/html": [
       "wandb version 0.15.3 is available!  To upgrade, please run:\n",
       " $ pip install wandb --upgrade"
      ],
      "text/plain": [
       "<IPython.core.display.HTML object>"
      ]
     },
     "metadata": {},
     "output_type": "display_data"
    },
    {
     "data": {
      "text/html": [
       "Tracking run with wandb version 0.12.21"
      ],
      "text/plain": [
       "<IPython.core.display.HTML object>"
      ]
     },
     "metadata": {},
     "output_type": "display_data"
    },
    {
     "data": {
      "text/html": [
       "Run data is saved locally in <code>/Users/artemgruzdev/Documents/GitHub/Time_Series/code/wandb/run-20230524_150945-2dz7fagk</code>"
      ],
      "text/plain": [
       "<IPython.core.display.HTML object>"
      ]
     },
     "metadata": {},
     "output_type": "display_data"
    },
    {
     "data": {
      "text/html": [
       "Syncing run <strong><a href=\"https://wandb.ai/gewissta/wandb-sweeps/runs/2dz7fagk\" target=\"_blank\">UkwBVAJx</a></strong> to <a href=\"https://wandb.ai/gewissta/wandb-sweeps\" target=\"_blank\">Weights & Biases</a> (<a href=\"https://wandb.me/run\" target=\"_blank\">docs</a>)<br/>"
      ],
      "text/plain": [
       "<IPython.core.display.HTML object>"
      ]
     },
     "metadata": {},
     "output_type": "display_data"
    },
    {
     "data": {
      "text/html": [
       "Waiting for W&B process to finish... <strong style=\"color:green\">(success).</strong>"
      ],
      "text/plain": [
       "<IPython.core.display.HTML object>"
      ]
     },
     "metadata": {},
     "output_type": "display_data"
    },
    {
     "data": {
      "application/vnd.jupyter.widget-view+json": {
       "model_id": "",
       "version_major": 2,
       "version_minor": 0
      },
      "text/plain": [
       "VBox(children=(Label(value='0.000 MB of 0.000 MB uploaded (0.000 MB deduped)\\r'), FloatProgress(value=1.0, max…"
      ]
     },
     "metadata": {},
     "output_type": "display_data"
    },
    {
     "data": {
      "text/html": [
       "Synced <strong style=\"color:#cdcd00\">UkwBVAJx</strong>: <a href=\"https://wandb.ai/gewissta/wandb-sweeps/runs/2dz7fagk\" target=\"_blank\">https://wandb.ai/gewissta/wandb-sweeps/runs/2dz7fagk</a><br/>Synced 5 W&B file(s), 0 media file(s), 0 artifact file(s) and 0 other file(s)"
      ],
      "text/plain": [
       "<IPython.core.display.HTML object>"
      ]
     },
     "metadata": {},
     "output_type": "display_data"
    },
    {
     "data": {
      "text/html": [
       "Find logs at: <code>./wandb/run-20230524_150945-2dz7fagk/logs</code>"
      ],
      "text/plain": [
       "<IPython.core.display.HTML object>"
      ]
     },
     "metadata": {},
     "output_type": "display_data"
    },
    {
     "name": "stderr",
     "output_type": "stream",
     "text": [
      "[Parallel(n_jobs=1)]: Done   2 out of   2 | elapsed:   37.7s remaining:    0.0s\n"
     ]
    },
    {
     "data": {
      "text/html": [
       "Changes to your `wandb` environment variables will be ignored because your `wandb` session has already started. For more information on how to modify your settings with `wandb.init()` arguments, please refer to <a href=\"https://wandb.me/wandb-init\" target=\"_blank\">the W&B docs</a>."
      ],
      "text/plain": [
       "<IPython.core.display.HTML object>"
      ]
     },
     "metadata": {},
     "output_type": "display_data"
    },
    {
     "data": {
      "text/html": [
       "wandb version 0.15.3 is available!  To upgrade, please run:\n",
       " $ pip install wandb --upgrade"
      ],
      "text/plain": [
       "<IPython.core.display.HTML object>"
      ]
     },
     "metadata": {},
     "output_type": "display_data"
    },
    {
     "data": {
      "text/html": [
       "Tracking run with wandb version 0.12.21"
      ],
      "text/plain": [
       "<IPython.core.display.HTML object>"
      ]
     },
     "metadata": {},
     "output_type": "display_data"
    },
    {
     "data": {
      "text/html": [
       "Run data is saved locally in <code>/Users/artemgruzdev/Documents/GitHub/Time_Series/code/wandb/run-20230524_151004-3390ym9z</code>"
      ],
      "text/plain": [
       "<IPython.core.display.HTML object>"
      ]
     },
     "metadata": {},
     "output_type": "display_data"
    },
    {
     "data": {
      "text/html": [
       "Syncing run <strong><a href=\"https://wandb.ai/gewissta/wandb-sweeps/runs/3390ym9z\" target=\"_blank\">UkwBVAJx</a></strong> to <a href=\"https://wandb.ai/gewissta/wandb-sweeps\" target=\"_blank\">Weights & Biases</a> (<a href=\"https://wandb.me/run\" target=\"_blank\">docs</a>)<br/>"
      ],
      "text/plain": [
       "<IPython.core.display.HTML object>"
      ]
     },
     "metadata": {},
     "output_type": "display_data"
    },
    {
     "data": {
      "text/html": [
       "Waiting for W&B process to finish... <strong style=\"color:green\">(success).</strong>"
      ],
      "text/plain": [
       "<IPython.core.display.HTML object>"
      ]
     },
     "metadata": {},
     "output_type": "display_data"
    },
    {
     "data": {
      "application/vnd.jupyter.widget-view+json": {
       "model_id": "",
       "version_major": 2,
       "version_minor": 0
      },
      "text/plain": [
       "VBox(children=(Label(value='0.000 MB of 0.000 MB uploaded (0.000 MB deduped)\\r'), FloatProgress(value=1.0, max…"
      ]
     },
     "metadata": {},
     "output_type": "display_data"
    },
    {
     "data": {
      "text/html": [
       "Synced <strong style=\"color:#cdcd00\">UkwBVAJx</strong>: <a href=\"https://wandb.ai/gewissta/wandb-sweeps/runs/3390ym9z\" target=\"_blank\">https://wandb.ai/gewissta/wandb-sweeps/runs/3390ym9z</a><br/>Synced 5 W&B file(s), 0 media file(s), 0 artifact file(s) and 0 other file(s)"
      ],
      "text/plain": [
       "<IPython.core.display.HTML object>"
      ]
     },
     "metadata": {},
     "output_type": "display_data"
    },
    {
     "data": {
      "text/html": [
       "Find logs at: <code>./wandb/run-20230524_151004-3390ym9z/logs</code>"
      ],
      "text/plain": [
       "<IPython.core.display.HTML object>"
      ]
     },
     "metadata": {},
     "output_type": "display_data"
    },
    {
     "name": "stderr",
     "output_type": "stream",
     "text": [
      "[Parallel(n_jobs=1)]: Done   3 out of   3 | elapsed:   56.4s remaining:    0.0s\n"
     ]
    },
    {
     "data": {
      "text/html": [
       "Changes to your `wandb` environment variables will be ignored because your `wandb` session has already started. For more information on how to modify your settings with `wandb.init()` arguments, please refer to <a href=\"https://wandb.me/wandb-init\" target=\"_blank\">the W&B docs</a>."
      ],
      "text/plain": [
       "<IPython.core.display.HTML object>"
      ]
     },
     "metadata": {},
     "output_type": "display_data"
    },
    {
     "data": {
      "text/html": [
       "wandb version 0.15.3 is available!  To upgrade, please run:\n",
       " $ pip install wandb --upgrade"
      ],
      "text/plain": [
       "<IPython.core.display.HTML object>"
      ]
     },
     "metadata": {},
     "output_type": "display_data"
    },
    {
     "data": {
      "text/html": [
       "Tracking run with wandb version 0.12.21"
      ],
      "text/plain": [
       "<IPython.core.display.HTML object>"
      ]
     },
     "metadata": {},
     "output_type": "display_data"
    },
    {
     "data": {
      "text/html": [
       "Run data is saved locally in <code>/Users/artemgruzdev/Documents/GitHub/Time_Series/code/wandb/run-20230524_151023-36rvnqq4</code>"
      ],
      "text/plain": [
       "<IPython.core.display.HTML object>"
      ]
     },
     "metadata": {},
     "output_type": "display_data"
    },
    {
     "data": {
      "text/html": [
       "Syncing run <strong><a href=\"https://wandb.ai/gewissta/wandb-sweeps/runs/36rvnqq4\" target=\"_blank\">UkwBVAJx</a></strong> to <a href=\"https://wandb.ai/gewissta/wandb-sweeps\" target=\"_blank\">Weights & Biases</a> (<a href=\"https://wandb.me/run\" target=\"_blank\">docs</a>)<br/>"
      ],
      "text/plain": [
       "<IPython.core.display.HTML object>"
      ]
     },
     "metadata": {},
     "output_type": "display_data"
    },
    {
     "data": {
      "text/html": [
       "Waiting for W&B process to finish... <strong style=\"color:green\">(success).</strong>"
      ],
      "text/plain": [
       "<IPython.core.display.HTML object>"
      ]
     },
     "metadata": {},
     "output_type": "display_data"
    },
    {
     "data": {
      "application/vnd.jupyter.widget-view+json": {
       "model_id": "",
       "version_major": 2,
       "version_minor": 0
      },
      "text/plain": [
       "VBox(children=(Label(value='0.000 MB of 0.000 MB uploaded (0.000 MB deduped)\\r'), FloatProgress(value=1.0, max…"
      ]
     },
     "metadata": {},
     "output_type": "display_data"
    },
    {
     "data": {
      "text/html": [
       "Synced <strong style=\"color:#cdcd00\">UkwBVAJx</strong>: <a href=\"https://wandb.ai/gewissta/wandb-sweeps/runs/36rvnqq4\" target=\"_blank\">https://wandb.ai/gewissta/wandb-sweeps/runs/36rvnqq4</a><br/>Synced 5 W&B file(s), 0 media file(s), 0 artifact file(s) and 0 other file(s)"
      ],
      "text/plain": [
       "<IPython.core.display.HTML object>"
      ]
     },
     "metadata": {},
     "output_type": "display_data"
    },
    {
     "data": {
      "text/html": [
       "Find logs at: <code>./wandb/run-20230524_151023-36rvnqq4/logs</code>"
      ],
      "text/plain": [
       "<IPython.core.display.HTML object>"
      ]
     },
     "metadata": {},
     "output_type": "display_data"
    },
    {
     "name": "stderr",
     "output_type": "stream",
     "text": [
      "[Parallel(n_jobs=1)]: Done   4 out of   4 | elapsed:  1.3min remaining:    0.0s\n"
     ]
    },
    {
     "data": {
      "text/html": [
       "Changes to your `wandb` environment variables will be ignored because your `wandb` session has already started. For more information on how to modify your settings with `wandb.init()` arguments, please refer to <a href=\"https://wandb.me/wandb-init\" target=\"_blank\">the W&B docs</a>."
      ],
      "text/plain": [
       "<IPython.core.display.HTML object>"
      ]
     },
     "metadata": {},
     "output_type": "display_data"
    },
    {
     "data": {
      "text/html": [
       "wandb version 0.15.3 is available!  To upgrade, please run:\n",
       " $ pip install wandb --upgrade"
      ],
      "text/plain": [
       "<IPython.core.display.HTML object>"
      ]
     },
     "metadata": {},
     "output_type": "display_data"
    },
    {
     "data": {
      "text/html": [
       "Tracking run with wandb version 0.12.21"
      ],
      "text/plain": [
       "<IPython.core.display.HTML object>"
      ]
     },
     "metadata": {},
     "output_type": "display_data"
    },
    {
     "data": {
      "text/html": [
       "Run data is saved locally in <code>/Users/artemgruzdev/Documents/GitHub/Time_Series/code/wandb/run-20230524_151042-1yhm90wt</code>"
      ],
      "text/plain": [
       "<IPython.core.display.HTML object>"
      ]
     },
     "metadata": {},
     "output_type": "display_data"
    },
    {
     "data": {
      "text/html": [
       "Syncing run <strong><a href=\"https://wandb.ai/gewissta/wandb-sweeps/runs/1yhm90wt\" target=\"_blank\">UkwBVAJx</a></strong> to <a href=\"https://wandb.ai/gewissta/wandb-sweeps\" target=\"_blank\">Weights & Biases</a> (<a href=\"https://wandb.me/run\" target=\"_blank\">docs</a>)<br/>"
      ],
      "text/plain": [
       "<IPython.core.display.HTML object>"
      ]
     },
     "metadata": {},
     "output_type": "display_data"
    },
    {
     "data": {
      "text/html": [
       "Waiting for W&B process to finish... <strong style=\"color:green\">(success).</strong>"
      ],
      "text/plain": [
       "<IPython.core.display.HTML object>"
      ]
     },
     "metadata": {},
     "output_type": "display_data"
    },
    {
     "data": {
      "application/vnd.jupyter.widget-view+json": {
       "model_id": "",
       "version_major": 2,
       "version_minor": 0
      },
      "text/plain": [
       "VBox(children=(Label(value='0.000 MB of 0.000 MB uploaded (0.000 MB deduped)\\r'), FloatProgress(value=1.0, max…"
      ]
     },
     "metadata": {},
     "output_type": "display_data"
    },
    {
     "data": {
      "text/html": [
       "Synced <strong style=\"color:#cdcd00\">UkwBVAJx</strong>: <a href=\"https://wandb.ai/gewissta/wandb-sweeps/runs/1yhm90wt\" target=\"_blank\">https://wandb.ai/gewissta/wandb-sweeps/runs/1yhm90wt</a><br/>Synced 5 W&B file(s), 0 media file(s), 0 artifact file(s) and 0 other file(s)"
      ],
      "text/plain": [
       "<IPython.core.display.HTML object>"
      ]
     },
     "metadata": {},
     "output_type": "display_data"
    },
    {
     "data": {
      "text/html": [
       "Find logs at: <code>./wandb/run-20230524_151042-1yhm90wt/logs</code>"
      ],
      "text/plain": [
       "<IPython.core.display.HTML object>"
      ]
     },
     "metadata": {},
     "output_type": "display_data"
    },
    {
     "name": "stderr",
     "output_type": "stream",
     "text": [
      "[Parallel(n_jobs=1)]: Done   5 out of   5 | elapsed:  1.6min remaining:    0.0s\n",
      "[Parallel(n_jobs=1)]: Done   5 out of   5 | elapsed:  1.6min finished\n",
      "[Parallel(n_jobs=1)]: Using backend SequentialBackend with 1 concurrent workers.\n"
     ]
    },
    {
     "data": {
      "text/html": [
       "Changes to your `wandb` environment variables will be ignored because your `wandb` session has already started. For more information on how to modify your settings with `wandb.init()` arguments, please refer to <a href=\"https://wandb.me/wandb-init\" target=\"_blank\">the W&B docs</a>."
      ],
      "text/plain": [
       "<IPython.core.display.HTML object>"
      ]
     },
     "metadata": {},
     "output_type": "display_data"
    },
    {
     "data": {
      "text/html": [
       "wandb version 0.15.3 is available!  To upgrade, please run:\n",
       " $ pip install wandb --upgrade"
      ],
      "text/plain": [
       "<IPython.core.display.HTML object>"
      ]
     },
     "metadata": {},
     "output_type": "display_data"
    },
    {
     "data": {
      "text/html": [
       "Tracking run with wandb version 0.12.21"
      ],
      "text/plain": [
       "<IPython.core.display.HTML object>"
      ]
     },
     "metadata": {},
     "output_type": "display_data"
    },
    {
     "data": {
      "text/html": [
       "Run data is saved locally in <code>/Users/artemgruzdev/Documents/GitHub/Time_Series/code/wandb/run-20230524_151103-1jralpa0</code>"
      ],
      "text/plain": [
       "<IPython.core.display.HTML object>"
      ]
     },
     "metadata": {},
     "output_type": "display_data"
    },
    {
     "data": {
      "text/html": [
       "Syncing run <strong><a href=\"https://wandb.ai/gewissta/wandb-sweeps/runs/1jralpa0\" target=\"_blank\">UkwBVAJx</a></strong> to <a href=\"https://wandb.ai/gewissta/wandb-sweeps\" target=\"_blank\">Weights & Biases</a> (<a href=\"https://wandb.me/run\" target=\"_blank\">docs</a>)<br/>"
      ],
      "text/plain": [
       "<IPython.core.display.HTML object>"
      ]
     },
     "metadata": {},
     "output_type": "display_data"
    },
    {
     "data": {
      "text/html": [
       "Waiting for W&B process to finish... <strong style=\"color:green\">(success).</strong>"
      ],
      "text/plain": [
       "<IPython.core.display.HTML object>"
      ]
     },
     "metadata": {},
     "output_type": "display_data"
    },
    {
     "data": {
      "application/vnd.jupyter.widget-view+json": {
       "model_id": "",
       "version_major": 2,
       "version_minor": 0
      },
      "text/plain": [
       "VBox(children=(Label(value='0.018 MB of 0.020 MB uploaded (0.000 MB deduped)\\r'), FloatProgress(value=0.888731…"
      ]
     },
     "metadata": {},
     "output_type": "display_data"
    },
    {
     "data": {
      "text/html": [
       "<style>\n",
       "    table.wandb td:nth-child(1) { padding: 0 10px; text-align: left ; width: auto;} td:nth-child(2) {text-align: left ; width: 100%}\n",
       "    .wandb-row { display: flex; flex-direction: row; flex-wrap: wrap; justify-content: flex-start; width: 100% }\n",
       "    .wandb-col { display: flex; flex-direction: column; flex-basis: 100%; flex: 1; padding: 10px; }\n",
       "    </style>\n",
       "<div class=\"wandb-row\"><div class=\"wandb-col\"><h3>Run history:</h3><br/><table class=\"wandb\"><tr><td>MAE_mean</td><td>▁</td></tr><tr><td>MAE_median</td><td>▁</td></tr><tr><td>MAE_percentile_25</td><td>▁</td></tr><tr><td>MAE_percentile_5</td><td>▁</td></tr><tr><td>MAE_percentile_75</td><td>▁</td></tr><tr><td>MAE_percentile_95</td><td>▁</td></tr><tr><td>MAE_std</td><td>▁</td></tr><tr><td>MSE_mean</td><td>▁</td></tr><tr><td>MSE_median</td><td>▁</td></tr><tr><td>MSE_percentile_25</td><td>▁</td></tr><tr><td>MSE_percentile_5</td><td>▁</td></tr><tr><td>MSE_percentile_75</td><td>▁</td></tr><tr><td>MSE_percentile_95</td><td>▁</td></tr><tr><td>MSE_std</td><td>▁</td></tr><tr><td>SMAPE_mean</td><td>▁</td></tr><tr><td>SMAPE_median</td><td>▁</td></tr><tr><td>SMAPE_percentile_25</td><td>▁</td></tr><tr><td>SMAPE_percentile_5</td><td>▁</td></tr><tr><td>SMAPE_percentile_75</td><td>▁</td></tr><tr><td>SMAPE_percentile_95</td><td>▁</td></tr><tr><td>SMAPE_std</td><td>▁</td></tr><tr><td>Sign_mean</td><td>▁</td></tr><tr><td>Sign_median</td><td>▁</td></tr><tr><td>Sign_percentile_25</td><td>▁</td></tr><tr><td>Sign_percentile_5</td><td>▁</td></tr><tr><td>Sign_percentile_75</td><td>▁</td></tr><tr><td>Sign_percentile_95</td><td>▁</td></tr><tr><td>Sign_std</td><td>▁</td></tr></table><br/></div><div class=\"wandb-col\"><h3>Run summary:</h3><br/><table class=\"wandb\"><tr><td>MAE_mean</td><td>30.5285</td></tr><tr><td>MAE_median</td><td>30.74719</td></tr><tr><td>MAE_percentile_25</td><td>15.16035</td></tr><tr><td>MAE_percentile_5</td><td>12.93864</td></tr><tr><td>MAE_percentile_75</td><td>46.11534</td></tr><tr><td>MAE_percentile_95</td><td>47.81219</td></tr><tr><td>MAE_std</td><td>18.91044</td></tr><tr><td>MSE_mean</td><td>2032.6361</td></tr><tr><td>MSE_median</td><td>1890.62378</td></tr><tr><td>MSE_percentile_25</td><td>362.11524</td></tr><tr><td>MSE_percentile_5</td><td>242.8204</td></tr><tr><td>MSE_percentile_75</td><td>3561.14464</td></tr><tr><td>MSE_percentile_95</td><td>4021.26903</td></tr><tr><td>MSE_std</td><td>2012.50572</td></tr><tr><td>SMAPE_mean</td><td>7.71489</td></tr><tr><td>SMAPE_median</td><td>7.39472</td></tr><tr><td>SMAPE_percentile_25</td><td>6.93719</td></tr><tr><td>SMAPE_percentile_5</td><td>6.36717</td></tr><tr><td>SMAPE_percentile_75</td><td>8.17242</td></tr><tr><td>SMAPE_percentile_95</td><td>9.51086</td></tr><tr><td>SMAPE_std</td><td>1.53428</td></tr><tr><td>Sign_mean</td><td>0.10714</td></tr><tr><td>Sign_median</td><td>0.07143</td></tr><tr><td>Sign_percentile_25</td><td>-0.07143</td></tr><tr><td>Sign_percentile_5</td><td>-0.24286</td></tr><tr><td>Sign_percentile_75</td><td>0.25</td></tr><tr><td>Sign_percentile_95</td><td>0.50714</td></tr><tr><td>Sign_std</td><td>0.35714</td></tr></table><br/></div></div>"
      ],
      "text/plain": [
       "<IPython.core.display.HTML object>"
      ]
     },
     "metadata": {},
     "output_type": "display_data"
    },
    {
     "data": {
      "text/html": [
       "Synced <strong style=\"color:#cdcd00\">UkwBVAJx</strong>: <a href=\"https://wandb.ai/gewissta/wandb-sweeps/runs/1jralpa0\" target=\"_blank\">https://wandb.ai/gewissta/wandb-sweeps/runs/1jralpa0</a><br/>Synced 5 W&B file(s), 3 media file(s), 3 artifact file(s) and 0 other file(s)"
      ],
      "text/plain": [
       "<IPython.core.display.HTML object>"
      ]
     },
     "metadata": {},
     "output_type": "display_data"
    },
    {
     "data": {
      "text/html": [
       "Find logs at: <code>./wandb/run-20230524_151103-1jralpa0/logs</code>"
      ],
      "text/plain": [
       "<IPython.core.display.HTML object>"
      ]
     },
     "metadata": {},
     "output_type": "display_data"
    },
    {
     "name": "stderr",
     "output_type": "stream",
     "text": [
      "[Parallel(n_jobs=1)]: Done   1 out of   1 | elapsed:   29.6s remaining:    0.0s\n"
     ]
    },
    {
     "data": {
      "text/html": [
       "Changes to your `wandb` environment variables will be ignored because your `wandb` session has already started. For more information on how to modify your settings with `wandb.init()` arguments, please refer to <a href=\"https://wandb.me/wandb-init\" target=\"_blank\">the W&B docs</a>."
      ],
      "text/plain": [
       "<IPython.core.display.HTML object>"
      ]
     },
     "metadata": {},
     "output_type": "display_data"
    },
    {
     "data": {
      "text/html": [
       "wandb version 0.15.3 is available!  To upgrade, please run:\n",
       " $ pip install wandb --upgrade"
      ],
      "text/plain": [
       "<IPython.core.display.HTML object>"
      ]
     },
     "metadata": {},
     "output_type": "display_data"
    },
    {
     "data": {
      "text/html": [
       "Tracking run with wandb version 0.12.21"
      ],
      "text/plain": [
       "<IPython.core.display.HTML object>"
      ]
     },
     "metadata": {},
     "output_type": "display_data"
    },
    {
     "data": {
      "text/html": [
       "Run data is saved locally in <code>/Users/artemgruzdev/Documents/GitHub/Time_Series/code/wandb/run-20230524_151132-4f1no598</code>"
      ],
      "text/plain": [
       "<IPython.core.display.HTML object>"
      ]
     },
     "metadata": {},
     "output_type": "display_data"
    },
    {
     "data": {
      "text/html": [
       "Syncing run <strong><a href=\"https://wandb.ai/gewissta/wandb-sweeps/runs/4f1no598\" target=\"_blank\">UkwBVAJx</a></strong> to <a href=\"https://wandb.ai/gewissta/wandb-sweeps\" target=\"_blank\">Weights & Biases</a> (<a href=\"https://wandb.me/run\" target=\"_blank\">docs</a>)<br/>"
      ],
      "text/plain": [
       "<IPython.core.display.HTML object>"
      ]
     },
     "metadata": {},
     "output_type": "display_data"
    },
    {
     "data": {
      "text/html": [
       "Waiting for W&B process to finish... <strong style=\"color:green\">(success).</strong>"
      ],
      "text/plain": [
       "<IPython.core.display.HTML object>"
      ]
     },
     "metadata": {},
     "output_type": "display_data"
    },
    {
     "data": {
      "application/vnd.jupyter.widget-view+json": {
       "model_id": "",
       "version_major": 2,
       "version_minor": 0
      },
      "text/plain": [
       "VBox(children=(Label(value='0.018 MB of 0.021 MB uploaded (0.000 MB deduped)\\r'), FloatProgress(value=0.856491…"
      ]
     },
     "metadata": {},
     "output_type": "display_data"
    },
    {
     "data": {
      "text/html": [
       "<style>\n",
       "    table.wandb td:nth-child(1) { padding: 0 10px; text-align: left ; width: auto;} td:nth-child(2) {text-align: left ; width: 100%}\n",
       "    .wandb-row { display: flex; flex-direction: row; flex-wrap: wrap; justify-content: flex-start; width: 100% }\n",
       "    .wandb-col { display: flex; flex-direction: column; flex-basis: 100%; flex: 1; padding: 10px; }\n",
       "    </style>\n",
       "<div class=\"wandb-row\"><div class=\"wandb-col\"><h3>Run history:</h3><br/><table class=\"wandb\"><tr><td>MAE_mean</td><td>▁</td></tr><tr><td>MAE_median</td><td>▁</td></tr><tr><td>MAE_percentile_25</td><td>▁</td></tr><tr><td>MAE_percentile_5</td><td>▁</td></tr><tr><td>MAE_percentile_75</td><td>▁</td></tr><tr><td>MAE_percentile_95</td><td>▁</td></tr><tr><td>MAE_std</td><td>▁</td></tr><tr><td>MSE_mean</td><td>▁</td></tr><tr><td>MSE_median</td><td>▁</td></tr><tr><td>MSE_percentile_25</td><td>▁</td></tr><tr><td>MSE_percentile_5</td><td>▁</td></tr><tr><td>MSE_percentile_75</td><td>▁</td></tr><tr><td>MSE_percentile_95</td><td>▁</td></tr><tr><td>MSE_std</td><td>▁</td></tr><tr><td>SMAPE_mean</td><td>▁</td></tr><tr><td>SMAPE_median</td><td>▁</td></tr><tr><td>SMAPE_percentile_25</td><td>▁</td></tr><tr><td>SMAPE_percentile_5</td><td>▁</td></tr><tr><td>SMAPE_percentile_75</td><td>▁</td></tr><tr><td>SMAPE_percentile_95</td><td>▁</td></tr><tr><td>SMAPE_std</td><td>▁</td></tr><tr><td>Sign_mean</td><td>▁</td></tr><tr><td>Sign_median</td><td>▁</td></tr><tr><td>Sign_percentile_25</td><td>▁</td></tr><tr><td>Sign_percentile_5</td><td>▁</td></tr><tr><td>Sign_percentile_75</td><td>▁</td></tr><tr><td>Sign_percentile_95</td><td>▁</td></tr><tr><td>Sign_std</td><td>▁</td></tr></table><br/></div><div class=\"wandb-col\"><h3>Run summary:</h3><br/><table class=\"wandb\"><tr><td>MAE_mean</td><td>51.86941</td></tr><tr><td>MAE_median</td><td>52.98634</td></tr><tr><td>MAE_percentile_25</td><td>27.19847</td></tr><tr><td>MAE_percentile_5</td><td>17.48866</td></tr><tr><td>MAE_percentile_75</td><td>77.65729</td></tr><tr><td>MAE_percentile_95</td><td>84.68647</td></tr><tr><td>MAE_std</td><td>34.14754</td></tr><tr><td>MSE_mean</td><td>4712.46506</td></tr><tr><td>MSE_median</td><td>4118.82033</td></tr><tr><td>MSE_percentile_25</td><td>955.85443</td></tr><tr><td>MSE_percentile_5</td><td>446.89813</td></tr><tr><td>MSE_percentile_75</td><td>7875.43096</td></tr><tr><td>MSE_percentile_95</td><td>9809.13461</td></tr><tr><td>MSE_std</td><td>4780.33014</td></tr><tr><td>SMAPE_mean</td><td>11.99808</td></tr><tr><td>SMAPE_median</td><td>11.99276</td></tr><tr><td>SMAPE_percentile_25</td><td>10.25836</td></tr><tr><td>SMAPE_percentile_5</td><td>9.14255</td></tr><tr><td>SMAPE_percentile_75</td><td>13.73248</td></tr><tr><td>SMAPE_percentile_95</td><td>14.86108</td></tr><tr><td>SMAPE_std</td><td>2.76527</td></tr><tr><td>Sign_mean</td><td>0.60714</td></tr><tr><td>Sign_median</td><td>0.71429</td></tr><tr><td>Sign_percentile_25</td><td>0.60714</td></tr><tr><td>Sign_percentile_5</td><td>0.35</td></tr><tr><td>Sign_percentile_75</td><td>0.71429</td></tr><tr><td>Sign_percentile_95</td><td>0.71429</td></tr><tr><td>Sign_std</td><td>0.21429</td></tr></table><br/></div></div>"
      ],
      "text/plain": [
       "<IPython.core.display.HTML object>"
      ]
     },
     "metadata": {},
     "output_type": "display_data"
    },
    {
     "data": {
      "text/html": [
       "Synced <strong style=\"color:#cdcd00\">UkwBVAJx</strong>: <a href=\"https://wandb.ai/gewissta/wandb-sweeps/runs/4f1no598\" target=\"_blank\">https://wandb.ai/gewissta/wandb-sweeps/runs/4f1no598</a><br/>Synced 5 W&B file(s), 3 media file(s), 3 artifact file(s) and 0 other file(s)"
      ],
      "text/plain": [
       "<IPython.core.display.HTML object>"
      ]
     },
     "metadata": {},
     "output_type": "display_data"
    },
    {
     "data": {
      "text/html": [
       "Find logs at: <code>./wandb/run-20230524_151132-4f1no598/logs</code>"
      ],
      "text/plain": [
       "<IPython.core.display.HTML object>"
      ]
     },
     "metadata": {},
     "output_type": "display_data"
    },
    {
     "name": "stderr",
     "output_type": "stream",
     "text": [
      "[Parallel(n_jobs=1)]: Done   2 out of   2 | elapsed:   58.9s remaining:    0.0s\n"
     ]
    },
    {
     "data": {
      "text/html": [
       "Changes to your `wandb` environment variables will be ignored because your `wandb` session has already started. For more information on how to modify your settings with `wandb.init()` arguments, please refer to <a href=\"https://wandb.me/wandb-init\" target=\"_blank\">the W&B docs</a>."
      ],
      "text/plain": [
       "<IPython.core.display.HTML object>"
      ]
     },
     "metadata": {},
     "output_type": "display_data"
    },
    {
     "data": {
      "text/html": [
       "wandb version 0.15.3 is available!  To upgrade, please run:\n",
       " $ pip install wandb --upgrade"
      ],
      "text/plain": [
       "<IPython.core.display.HTML object>"
      ]
     },
     "metadata": {},
     "output_type": "display_data"
    },
    {
     "data": {
      "text/html": [
       "Tracking run with wandb version 0.12.21"
      ],
      "text/plain": [
       "<IPython.core.display.HTML object>"
      ]
     },
     "metadata": {},
     "output_type": "display_data"
    },
    {
     "data": {
      "text/html": [
       "Run data is saved locally in <code>/Users/artemgruzdev/Documents/GitHub/Time_Series/code/wandb/run-20230524_151202-rlxb0yl9</code>"
      ],
      "text/plain": [
       "<IPython.core.display.HTML object>"
      ]
     },
     "metadata": {},
     "output_type": "display_data"
    },
    {
     "data": {
      "text/html": [
       "Syncing run <strong><a href=\"https://wandb.ai/gewissta/wandb-sweeps/runs/rlxb0yl9\" target=\"_blank\">UkwBVAJx</a></strong> to <a href=\"https://wandb.ai/gewissta/wandb-sweeps\" target=\"_blank\">Weights & Biases</a> (<a href=\"https://wandb.me/run\" target=\"_blank\">docs</a>)<br/>"
      ],
      "text/plain": [
       "<IPython.core.display.HTML object>"
      ]
     },
     "metadata": {},
     "output_type": "display_data"
    },
    {
     "data": {
      "text/html": [
       "Waiting for W&B process to finish... <strong style=\"color:green\">(success).</strong>"
      ],
      "text/plain": [
       "<IPython.core.display.HTML object>"
      ]
     },
     "metadata": {},
     "output_type": "display_data"
    },
    {
     "data": {
      "application/vnd.jupyter.widget-view+json": {
       "model_id": "",
       "version_major": 2,
       "version_minor": 0
      },
      "text/plain": [
       "VBox(children=(Label(value='0.018 MB of 0.021 MB uploaded (0.000 MB deduped)\\r'), FloatProgress(value=0.856412…"
      ]
     },
     "metadata": {},
     "output_type": "display_data"
    },
    {
     "data": {
      "text/html": [
       "<style>\n",
       "    table.wandb td:nth-child(1) { padding: 0 10px; text-align: left ; width: auto;} td:nth-child(2) {text-align: left ; width: 100%}\n",
       "    .wandb-row { display: flex; flex-direction: row; flex-wrap: wrap; justify-content: flex-start; width: 100% }\n",
       "    .wandb-col { display: flex; flex-direction: column; flex-basis: 100%; flex: 1; padding: 10px; }\n",
       "    </style>\n",
       "<div class=\"wandb-row\"><div class=\"wandb-col\"><h3>Run history:</h3><br/><table class=\"wandb\"><tr><td>MAE_mean</td><td>▁</td></tr><tr><td>MAE_median</td><td>▁</td></tr><tr><td>MAE_percentile_25</td><td>▁</td></tr><tr><td>MAE_percentile_5</td><td>▁</td></tr><tr><td>MAE_percentile_75</td><td>▁</td></tr><tr><td>MAE_percentile_95</td><td>▁</td></tr><tr><td>MAE_std</td><td>▁</td></tr><tr><td>MSE_mean</td><td>▁</td></tr><tr><td>MSE_median</td><td>▁</td></tr><tr><td>MSE_percentile_25</td><td>▁</td></tr><tr><td>MSE_percentile_5</td><td>▁</td></tr><tr><td>MSE_percentile_75</td><td>▁</td></tr><tr><td>MSE_percentile_95</td><td>▁</td></tr><tr><td>MSE_std</td><td>▁</td></tr><tr><td>SMAPE_mean</td><td>▁</td></tr><tr><td>SMAPE_median</td><td>▁</td></tr><tr><td>SMAPE_percentile_25</td><td>▁</td></tr><tr><td>SMAPE_percentile_5</td><td>▁</td></tr><tr><td>SMAPE_percentile_75</td><td>▁</td></tr><tr><td>SMAPE_percentile_95</td><td>▁</td></tr><tr><td>SMAPE_std</td><td>▁</td></tr><tr><td>Sign_mean</td><td>▁</td></tr><tr><td>Sign_median</td><td>▁</td></tr><tr><td>Sign_percentile_25</td><td>▁</td></tr><tr><td>Sign_percentile_5</td><td>▁</td></tr><tr><td>Sign_percentile_75</td><td>▁</td></tr><tr><td>Sign_percentile_95</td><td>▁</td></tr><tr><td>Sign_std</td><td>▁</td></tr></table><br/></div><div class=\"wandb-col\"><h3>Run summary:</h3><br/><table class=\"wandb\"><tr><td>MAE_mean</td><td>31.11179</td></tr><tr><td>MAE_median</td><td>29.22333</td></tr><tr><td>MAE_percentile_25</td><td>13.41652</td></tr><tr><td>MAE_percentile_5</td><td>12.42313</td></tr><tr><td>MAE_percentile_75</td><td>46.9186</td></tr><tr><td>MAE_percentile_95</td><td>52.44429</td></tr><tr><td>MAE_std</td><td>21.25675</td></tr><tr><td>MSE_mean</td><td>2083.56526</td></tr><tr><td>MSE_median</td><td>1599.26201</td></tr><tr><td>MSE_percentile_25</td><td>247.69219</td></tr><tr><td>MSE_percentile_5</td><td>230.63552</td></tr><tr><td>MSE_percentile_75</td><td>3435.13508</td></tr><tr><td>MSE_percentile_95</td><td>4614.51955</td></tr><tr><td>MSE_std</td><td>2274.39203</td></tr><tr><td>SMAPE_mean</td><td>6.88958</td></tr><tr><td>SMAPE_median</td><td>7.11561</td></tr><tr><td>SMAPE_percentile_25</td><td>6.12425</td></tr><tr><td>SMAPE_percentile_5</td><td>5.24498</td></tr><tr><td>SMAPE_percentile_75</td><td>7.88093</td></tr><tr><td>SMAPE_percentile_95</td><td>8.21775</td></tr><tr><td>SMAPE_std</td><td>1.45536</td></tr><tr><td>Sign_mean</td><td>0.5</td></tr><tr><td>Sign_median</td><td>0.5</td></tr><tr><td>Sign_percentile_25</td><td>0.25</td></tr><tr><td>Sign_percentile_5</td><td>0.16429</td></tr><tr><td>Sign_percentile_75</td><td>0.75</td></tr><tr><td>Sign_percentile_95</td><td>0.83571</td></tr><tr><td>Sign_std</td><td>0.34007</td></tr></table><br/></div></div>"
      ],
      "text/plain": [
       "<IPython.core.display.HTML object>"
      ]
     },
     "metadata": {},
     "output_type": "display_data"
    },
    {
     "data": {
      "text/html": [
       "Synced <strong style=\"color:#cdcd00\">UkwBVAJx</strong>: <a href=\"https://wandb.ai/gewissta/wandb-sweeps/runs/rlxb0yl9\" target=\"_blank\">https://wandb.ai/gewissta/wandb-sweeps/runs/rlxb0yl9</a><br/>Synced 5 W&B file(s), 3 media file(s), 3 artifact file(s) and 0 other file(s)"
      ],
      "text/plain": [
       "<IPython.core.display.HTML object>"
      ]
     },
     "metadata": {},
     "output_type": "display_data"
    },
    {
     "data": {
      "text/html": [
       "Find logs at: <code>./wandb/run-20230524_151202-rlxb0yl9/logs</code>"
      ],
      "text/plain": [
       "<IPython.core.display.HTML object>"
      ]
     },
     "metadata": {},
     "output_type": "display_data"
    },
    {
     "name": "stderr",
     "output_type": "stream",
     "text": [
      "[Parallel(n_jobs=1)]: Done   3 out of   3 | elapsed:  1.5min remaining:    0.0s\n"
     ]
    },
    {
     "data": {
      "text/html": [
       "Changes to your `wandb` environment variables will be ignored because your `wandb` session has already started. For more information on how to modify your settings with `wandb.init()` arguments, please refer to <a href=\"https://wandb.me/wandb-init\" target=\"_blank\">the W&B docs</a>."
      ],
      "text/plain": [
       "<IPython.core.display.HTML object>"
      ]
     },
     "metadata": {},
     "output_type": "display_data"
    },
    {
     "data": {
      "text/html": [
       "wandb version 0.15.3 is available!  To upgrade, please run:\n",
       " $ pip install wandb --upgrade"
      ],
      "text/plain": [
       "<IPython.core.display.HTML object>"
      ]
     },
     "metadata": {},
     "output_type": "display_data"
    },
    {
     "data": {
      "text/html": [
       "Tracking run with wandb version 0.12.21"
      ],
      "text/plain": [
       "<IPython.core.display.HTML object>"
      ]
     },
     "metadata": {},
     "output_type": "display_data"
    },
    {
     "data": {
      "text/html": [
       "Run data is saved locally in <code>/Users/artemgruzdev/Documents/GitHub/Time_Series/code/wandb/run-20230524_151230-11bojckl</code>"
      ],
      "text/plain": [
       "<IPython.core.display.HTML object>"
      ]
     },
     "metadata": {},
     "output_type": "display_data"
    },
    {
     "data": {
      "text/html": [
       "Syncing run <strong><a href=\"https://wandb.ai/gewissta/wandb-sweeps/runs/11bojckl\" target=\"_blank\">UkwBVAJx</a></strong> to <a href=\"https://wandb.ai/gewissta/wandb-sweeps\" target=\"_blank\">Weights & Biases</a> (<a href=\"https://wandb.me/run\" target=\"_blank\">docs</a>)<br/>"
      ],
      "text/plain": [
       "<IPython.core.display.HTML object>"
      ]
     },
     "metadata": {},
     "output_type": "display_data"
    },
    {
     "data": {
      "text/html": [
       "Waiting for W&B process to finish... <strong style=\"color:green\">(success).</strong>"
      ],
      "text/plain": [
       "<IPython.core.display.HTML object>"
      ]
     },
     "metadata": {},
     "output_type": "display_data"
    },
    {
     "data": {
      "application/vnd.jupyter.widget-view+json": {
       "model_id": "",
       "version_major": 2,
       "version_minor": 0
      },
      "text/plain": [
       "VBox(children=(Label(value='0.018 MB of 0.021 MB uploaded (0.000 MB deduped)\\r'), FloatProgress(value=0.856165…"
      ]
     },
     "metadata": {},
     "output_type": "display_data"
    },
    {
     "data": {
      "text/html": [
       "<style>\n",
       "    table.wandb td:nth-child(1) { padding: 0 10px; text-align: left ; width: auto;} td:nth-child(2) {text-align: left ; width: 100%}\n",
       "    .wandb-row { display: flex; flex-direction: row; flex-wrap: wrap; justify-content: flex-start; width: 100% }\n",
       "    .wandb-col { display: flex; flex-direction: column; flex-basis: 100%; flex: 1; padding: 10px; }\n",
       "    </style>\n",
       "<div class=\"wandb-row\"><div class=\"wandb-col\"><h3>Run history:</h3><br/><table class=\"wandb\"><tr><td>MAE_mean</td><td>▁</td></tr><tr><td>MAE_median</td><td>▁</td></tr><tr><td>MAE_percentile_25</td><td>▁</td></tr><tr><td>MAE_percentile_5</td><td>▁</td></tr><tr><td>MAE_percentile_75</td><td>▁</td></tr><tr><td>MAE_percentile_95</td><td>▁</td></tr><tr><td>MAE_std</td><td>▁</td></tr><tr><td>MSE_mean</td><td>▁</td></tr><tr><td>MSE_median</td><td>▁</td></tr><tr><td>MSE_percentile_25</td><td>▁</td></tr><tr><td>MSE_percentile_5</td><td>▁</td></tr><tr><td>MSE_percentile_75</td><td>▁</td></tr><tr><td>MSE_percentile_95</td><td>▁</td></tr><tr><td>MSE_std</td><td>▁</td></tr><tr><td>SMAPE_mean</td><td>▁</td></tr><tr><td>SMAPE_median</td><td>▁</td></tr><tr><td>SMAPE_percentile_25</td><td>▁</td></tr><tr><td>SMAPE_percentile_5</td><td>▁</td></tr><tr><td>SMAPE_percentile_75</td><td>▁</td></tr><tr><td>SMAPE_percentile_95</td><td>▁</td></tr><tr><td>SMAPE_std</td><td>▁</td></tr><tr><td>Sign_mean</td><td>▁</td></tr><tr><td>Sign_median</td><td>▁</td></tr><tr><td>Sign_percentile_25</td><td>▁</td></tr><tr><td>Sign_percentile_5</td><td>▁</td></tr><tr><td>Sign_percentile_75</td><td>▁</td></tr><tr><td>Sign_percentile_95</td><td>▁</td></tr><tr><td>Sign_std</td><td>▁</td></tr></table><br/></div><div class=\"wandb-col\"><h3>Run summary:</h3><br/><table class=\"wandb\"><tr><td>MAE_mean</td><td>59.7599</td></tr><tr><td>MAE_median</td><td>50.09459</td></tr><tr><td>MAE_percentile_25</td><td>27.87051</td></tr><tr><td>MAE_percentile_5</td><td>23.35274</td></tr><tr><td>MAE_percentile_75</td><td>81.98398</td></tr><tr><td>MAE_percentile_95</td><td>109.6985</td></tr><tr><td>MAE_std</td><td>43.42535</td></tr><tr><td>MSE_mean</td><td>7505.0256</td></tr><tr><td>MSE_median</td><td>5093.8299</td></tr><tr><td>MSE_percentile_25</td><td>1958.50636</td></tr><tr><td>MSE_percentile_5</td><td>925.40535</td></tr><tr><td>MSE_percentile_75</td><td>10640.34914</td></tr><tr><td>MSE_percentile_95</td><td>17460.31983</td></tr><tr><td>MSE_std</td><td>8346.24511</td></tr><tr><td>SMAPE_mean</td><td>12.09706</td></tr><tr><td>SMAPE_median</td><td>12.68891</td></tr><tr><td>SMAPE_percentile_25</td><td>11.67009</td></tr><tr><td>SMAPE_percentile_5</td><td>9.54413</td></tr><tr><td>SMAPE_percentile_75</td><td>13.11588</td></tr><tr><td>SMAPE_percentile_95</td><td>13.82141</td></tr><tr><td>SMAPE_std</td><td>2.1496</td></tr><tr><td>Sign_mean</td><td>0.78571</td></tr><tr><td>Sign_median</td><td>0.85714</td></tr><tr><td>Sign_percentile_25</td><td>0.78571</td></tr><tr><td>Sign_percentile_5</td><td>0.61429</td></tr><tr><td>Sign_percentile_75</td><td>0.85714</td></tr><tr><td>Sign_percentile_95</td><td>0.85714</td></tr><tr><td>Sign_std</td><td>0.14286</td></tr></table><br/></div></div>"
      ],
      "text/plain": [
       "<IPython.core.display.HTML object>"
      ]
     },
     "metadata": {},
     "output_type": "display_data"
    },
    {
     "data": {
      "text/html": [
       "Synced <strong style=\"color:#cdcd00\">UkwBVAJx</strong>: <a href=\"https://wandb.ai/gewissta/wandb-sweeps/runs/11bojckl\" target=\"_blank\">https://wandb.ai/gewissta/wandb-sweeps/runs/11bojckl</a><br/>Synced 5 W&B file(s), 3 media file(s), 3 artifact file(s) and 0 other file(s)"
      ],
      "text/plain": [
       "<IPython.core.display.HTML object>"
      ]
     },
     "metadata": {},
     "output_type": "display_data"
    },
    {
     "data": {
      "text/html": [
       "Find logs at: <code>./wandb/run-20230524_151230-11bojckl/logs</code>"
      ],
      "text/plain": [
       "<IPython.core.display.HTML object>"
      ]
     },
     "metadata": {},
     "output_type": "display_data"
    },
    {
     "name": "stderr",
     "output_type": "stream",
     "text": [
      "[Parallel(n_jobs=1)]: Done   4 out of   4 | elapsed:  1.9min remaining:    0.0s\n"
     ]
    },
    {
     "data": {
      "text/html": [
       "Changes to your `wandb` environment variables will be ignored because your `wandb` session has already started. For more information on how to modify your settings with `wandb.init()` arguments, please refer to <a href=\"https://wandb.me/wandb-init\" target=\"_blank\">the W&B docs</a>."
      ],
      "text/plain": [
       "<IPython.core.display.HTML object>"
      ]
     },
     "metadata": {},
     "output_type": "display_data"
    },
    {
     "data": {
      "text/html": [
       "wandb version 0.15.3 is available!  To upgrade, please run:\n",
       " $ pip install wandb --upgrade"
      ],
      "text/plain": [
       "<IPython.core.display.HTML object>"
      ]
     },
     "metadata": {},
     "output_type": "display_data"
    },
    {
     "data": {
      "text/html": [
       "Tracking run with wandb version 0.12.21"
      ],
      "text/plain": [
       "<IPython.core.display.HTML object>"
      ]
     },
     "metadata": {},
     "output_type": "display_data"
    },
    {
     "data": {
      "text/html": [
       "Run data is saved locally in <code>/Users/artemgruzdev/Documents/GitHub/Time_Series/code/wandb/run-20230524_151259-3lljq7t3</code>"
      ],
      "text/plain": [
       "<IPython.core.display.HTML object>"
      ]
     },
     "metadata": {},
     "output_type": "display_data"
    },
    {
     "data": {
      "text/html": [
       "Syncing run <strong><a href=\"https://wandb.ai/gewissta/wandb-sweeps/runs/3lljq7t3\" target=\"_blank\">UkwBVAJx</a></strong> to <a href=\"https://wandb.ai/gewissta/wandb-sweeps\" target=\"_blank\">Weights & Biases</a> (<a href=\"https://wandb.me/run\" target=\"_blank\">docs</a>)<br/>"
      ],
      "text/plain": [
       "<IPython.core.display.HTML object>"
      ]
     },
     "metadata": {},
     "output_type": "display_data"
    },
    {
     "data": {
      "text/html": [
       "Waiting for W&B process to finish... <strong style=\"color:green\">(success).</strong>"
      ],
      "text/plain": [
       "<IPython.core.display.HTML object>"
      ]
     },
     "metadata": {},
     "output_type": "display_data"
    },
    {
     "data": {
      "application/vnd.jupyter.widget-view+json": {
       "model_id": "",
       "version_major": 2,
       "version_minor": 0
      },
      "text/plain": [
       "VBox(children=(Label(value='0.018 MB of 0.021 MB uploaded (0.000 MB deduped)\\r'), FloatProgress(value=0.856013…"
      ]
     },
     "metadata": {},
     "output_type": "display_data"
    },
    {
     "data": {
      "text/html": [
       "<style>\n",
       "    table.wandb td:nth-child(1) { padding: 0 10px; text-align: left ; width: auto;} td:nth-child(2) {text-align: left ; width: 100%}\n",
       "    .wandb-row { display: flex; flex-direction: row; flex-wrap: wrap; justify-content: flex-start; width: 100% }\n",
       "    .wandb-col { display: flex; flex-direction: column; flex-basis: 100%; flex: 1; padding: 10px; }\n",
       "    </style>\n",
       "<div class=\"wandb-row\"><div class=\"wandb-col\"><h3>Run history:</h3><br/><table class=\"wandb\"><tr><td>MAE_mean</td><td>▁</td></tr><tr><td>MAE_median</td><td>▁</td></tr><tr><td>MAE_percentile_25</td><td>▁</td></tr><tr><td>MAE_percentile_5</td><td>▁</td></tr><tr><td>MAE_percentile_75</td><td>▁</td></tr><tr><td>MAE_percentile_95</td><td>▁</td></tr><tr><td>MAE_std</td><td>▁</td></tr><tr><td>MSE_mean</td><td>▁</td></tr><tr><td>MSE_median</td><td>▁</td></tr><tr><td>MSE_percentile_25</td><td>▁</td></tr><tr><td>MSE_percentile_5</td><td>▁</td></tr><tr><td>MSE_percentile_75</td><td>▁</td></tr><tr><td>MSE_percentile_95</td><td>▁</td></tr><tr><td>MSE_std</td><td>▁</td></tr><tr><td>SMAPE_mean</td><td>▁</td></tr><tr><td>SMAPE_median</td><td>▁</td></tr><tr><td>SMAPE_percentile_25</td><td>▁</td></tr><tr><td>SMAPE_percentile_5</td><td>▁</td></tr><tr><td>SMAPE_percentile_75</td><td>▁</td></tr><tr><td>SMAPE_percentile_95</td><td>▁</td></tr><tr><td>SMAPE_std</td><td>▁</td></tr><tr><td>Sign_mean</td><td>▁</td></tr><tr><td>Sign_median</td><td>▁</td></tr><tr><td>Sign_percentile_25</td><td>▁</td></tr><tr><td>Sign_percentile_5</td><td>▁</td></tr><tr><td>Sign_percentile_75</td><td>▁</td></tr><tr><td>Sign_percentile_95</td><td>▁</td></tr><tr><td>Sign_std</td><td>▁</td></tr></table><br/></div><div class=\"wandb-col\"><h3>Run summary:</h3><br/><table class=\"wandb\"><tr><td>MAE_mean</td><td>60.484</td></tr><tr><td>MAE_median</td><td>50.62853</td></tr><tr><td>MAE_percentile_25</td><td>43.96014</td></tr><tr><td>MAE_percentile_5</td><td>30.98694</td></tr><tr><td>MAE_percentile_75</td><td>67.15239</td></tr><tr><td>MAE_percentile_95</td><td>103.77871</td></tr><tr><td>MAE_std</td><td>36.60838</td></tr><tr><td>MSE_mean</td><td>7163.57722</td></tr><tr><td>MSE_median</td><td>4926.30821</td></tr><tr><td>MSE_percentile_25</td><td>3173.17003</td></tr><tr><td>MSE_percentile_5</td><td>1640.57689</td></tr><tr><td>MSE_percentile_75</td><td>8916.71541</td></tr><tr><td>MSE_percentile_95</td><td>15818.75415</td></tr><tr><td>MSE_std</td><td>7191.11649</td></tr><tr><td>SMAPE_mean</td><td>14.43436</td></tr><tr><td>SMAPE_median</td><td>11.7312</td></tr><tr><td>SMAPE_percentile_25</td><td>10.53523</td></tr><tr><td>SMAPE_percentile_5</td><td>9.46863</td></tr><tr><td>SMAPE_percentile_75</td><td>15.63033</td></tr><tr><td>SMAPE_percentile_95</td><td>23.18451</td></tr><tr><td>SMAPE_std</td><td>7.21811</td></tr><tr><td>Sign_mean</td><td>0.53571</td></tr><tr><td>Sign_median</td><td>0.57143</td></tr><tr><td>Sign_percentile_25</td><td>0.35714</td></tr><tr><td>Sign_percentile_5</td><td>0.18571</td></tr><tr><td>Sign_percentile_75</td><td>0.75</td></tr><tr><td>Sign_percentile_95</td><td>0.83571</td></tr><tr><td>Sign_std</td><td>0.31677</td></tr></table><br/></div></div>"
      ],
      "text/plain": [
       "<IPython.core.display.HTML object>"
      ]
     },
     "metadata": {},
     "output_type": "display_data"
    },
    {
     "data": {
      "text/html": [
       "Synced <strong style=\"color:#cdcd00\">UkwBVAJx</strong>: <a href=\"https://wandb.ai/gewissta/wandb-sweeps/runs/3lljq7t3\" target=\"_blank\">https://wandb.ai/gewissta/wandb-sweeps/runs/3lljq7t3</a><br/>Synced 5 W&B file(s), 3 media file(s), 3 artifact file(s) and 0 other file(s)"
      ],
      "text/plain": [
       "<IPython.core.display.HTML object>"
      ]
     },
     "metadata": {},
     "output_type": "display_data"
    },
    {
     "data": {
      "text/html": [
       "Find logs at: <code>./wandb/run-20230524_151259-3lljq7t3/logs</code>"
      ],
      "text/plain": [
       "<IPython.core.display.HTML object>"
      ]
     },
     "metadata": {},
     "output_type": "display_data"
    },
    {
     "name": "stderr",
     "output_type": "stream",
     "text": [
      "[Parallel(n_jobs=1)]: Done   5 out of   5 | elapsed:  2.4min remaining:    0.0s\n",
      "[Parallel(n_jobs=1)]: Done   5 out of   5 | elapsed:  2.4min finished\n"
     ]
    },
    {
     "data": {
      "text/html": [
       "Changes to your `wandb` environment variables will be ignored because your `wandb` session has already started. For more information on how to modify your settings with `wandb.init()` arguments, please refer to <a href=\"https://wandb.me/wandb-init\" target=\"_blank\">the W&B docs</a>."
      ],
      "text/plain": [
       "<IPython.core.display.HTML object>"
      ]
     },
     "metadata": {},
     "output_type": "display_data"
    },
    {
     "data": {
      "text/html": [
       "wandb version 0.15.3 is available!  To upgrade, please run:\n",
       " $ pip install wandb --upgrade"
      ],
      "text/plain": [
       "<IPython.core.display.HTML object>"
      ]
     },
     "metadata": {},
     "output_type": "display_data"
    },
    {
     "data": {
      "text/html": [
       "Tracking run with wandb version 0.12.21"
      ],
      "text/plain": [
       "<IPython.core.display.HTML object>"
      ]
     },
     "metadata": {},
     "output_type": "display_data"
    },
    {
     "data": {
      "text/html": [
       "Run data is saved locally in <code>/Users/artemgruzdev/Documents/GitHub/Time_Series/code/wandb/run-20230524_151328-2k42umz7</code>"
      ],
      "text/plain": [
       "<IPython.core.display.HTML object>"
      ]
     },
     "metadata": {},
     "output_type": "display_data"
    },
    {
     "data": {
      "text/html": [
       "Syncing run <strong><a href=\"https://wandb.ai/gewissta/wandb-sweeps/runs/2k42umz7\" target=\"_blank\">UkwBVAJx</a></strong> to <a href=\"https://wandb.ai/gewissta/wandb-sweeps\" target=\"_blank\">Weights & Biases</a> (<a href=\"https://wandb.me/run\" target=\"_blank\">docs</a>)<br/>"
      ],
      "text/plain": [
       "<IPython.core.display.HTML object>"
      ]
     },
     "metadata": {},
     "output_type": "display_data"
    },
    {
     "data": {
      "text/html": [
       "Waiting for W&B process to finish... <strong style=\"color:green\">(success).</strong>"
      ],
      "text/plain": [
       "<IPython.core.display.HTML object>"
      ]
     },
     "metadata": {},
     "output_type": "display_data"
    },
    {
     "data": {
      "application/vnd.jupyter.widget-view+json": {
       "model_id": "",
       "version_major": 2,
       "version_minor": 0
      },
      "text/plain": [
       "VBox(children=(Label(value='0.071 MB of 0.128 MB uploaded (0.000 MB deduped)\\r'), FloatProgress(value=0.557347…"
      ]
     },
     "metadata": {},
     "output_type": "display_data"
    },
    {
     "data": {
      "text/html": [
       "<style>\n",
       "    table.wandb td:nth-child(1) { padding: 0 10px; text-align: left ; width: auto;} td:nth-child(2) {text-align: left ; width: 100%}\n",
       "    .wandb-row { display: flex; flex-direction: row; flex-wrap: wrap; justify-content: flex-start; width: 100% }\n",
       "    .wandb-col { display: flex; flex-direction: column; flex-basis: 100%; flex: 1; padding: 10px; }\n",
       "    </style>\n",
       "<div class=\"wandb-row\"><div class=\"wandb-col\"><h3>Run history:</h3><br/><table class=\"wandb\"><tr><td>MAE_mean</td><td>▁</td></tr><tr><td>MAE_median</td><td>▁</td></tr><tr><td>MAE_percentile_25</td><td>▁</td></tr><tr><td>MAE_percentile_5</td><td>▁</td></tr><tr><td>MAE_percentile_75</td><td>▁</td></tr><tr><td>MAE_percentile_95</td><td>▁</td></tr><tr><td>MAE_std</td><td>▁</td></tr><tr><td>MSE_mean</td><td>▁</td></tr><tr><td>MSE_median</td><td>▁</td></tr><tr><td>MSE_percentile_25</td><td>▁</td></tr><tr><td>MSE_percentile_5</td><td>▁</td></tr><tr><td>MSE_percentile_75</td><td>▁</td></tr><tr><td>MSE_percentile_95</td><td>▁</td></tr><tr><td>MSE_std</td><td>▁</td></tr><tr><td>SMAPE_mean</td><td>▁</td></tr><tr><td>SMAPE_median</td><td>▁</td></tr><tr><td>SMAPE_percentile_25</td><td>▁</td></tr><tr><td>SMAPE_percentile_5</td><td>▁</td></tr><tr><td>SMAPE_percentile_75</td><td>▁</td></tr><tr><td>SMAPE_percentile_95</td><td>▁</td></tr><tr><td>SMAPE_std</td><td>▁</td></tr><tr><td>Sign_mean</td><td>▁</td></tr><tr><td>Sign_median</td><td>▁</td></tr><tr><td>Sign_percentile_25</td><td>▁</td></tr><tr><td>Sign_percentile_5</td><td>▁</td></tr><tr><td>Sign_percentile_75</td><td>▁</td></tr><tr><td>Sign_percentile_95</td><td>▁</td></tr><tr><td>Sign_std</td><td>▁</td></tr></table><br/></div><div class=\"wandb-col\"><h3>Run summary:</h3><br/><table class=\"wandb\"><tr><td>MAE_mean</td><td>46.75072</td></tr><tr><td>MAE_median</td><td>40.74741</td></tr><tr><td>MAE_percentile_25</td><td>23.91148</td></tr><tr><td>MAE_percentile_5</td><td>22.29782</td></tr><tr><td>MAE_percentile_75</td><td>63.58665</td></tr><tr><td>MAE_percentile_95</td><td>79.60826</td></tr><tr><td>MAE_std</td><td>29.27635</td></tr><tr><td>MSE_mean</td><td>4699.45385</td></tr><tr><td>MSE_median</td><td>3421.06033</td></tr><tr><td>MSE_percentile_25</td><td>1234.75913</td></tr><tr><td>MSE_percentile_5</td><td>843.85919</td></tr><tr><td>MSE_percentile_75</td><td>6885.75505</td></tr><tr><td>MSE_percentile_95</td><td>10344.79944</td></tr><tr><td>MSE_std</td><td>4812.04436</td></tr><tr><td>SMAPE_mean</td><td>10.6268</td></tr><tr><td>SMAPE_median</td><td>10.37918</td></tr><tr><td>SMAPE_percentile_25</td><td>9.5842</td></tr><tr><td>SMAPE_percentile_5</td><td>9.18954</td></tr><tr><td>SMAPE_percentile_75</td><td>11.42177</td></tr><tr><td>SMAPE_percentile_95</td><td>12.41072</td></tr><tr><td>SMAPE_std</td><td>1.57082</td></tr><tr><td>Sign_mean</td><td>0.50714</td></tr><tr><td>Sign_median</td><td>0.51429</td></tr><tr><td>Sign_percentile_25</td><td>0.5</td></tr><tr><td>Sign_percentile_5</td><td>0.46571</td></tr><tr><td>Sign_percentile_75</td><td>0.52143</td></tr><tr><td>Sign_percentile_95</td><td>0.53857</td></tr><tr><td>Sign_std</td><td>0.03595</td></tr></table><br/></div></div>"
      ],
      "text/plain": [
       "<IPython.core.display.HTML object>"
      ]
     },
     "metadata": {},
     "output_type": "display_data"
    },
    {
     "data": {
      "text/html": [
       "Synced <strong style=\"color:#cdcd00\">UkwBVAJx</strong>: <a href=\"https://wandb.ai/gewissta/wandb-sweeps/runs/2k42umz7\" target=\"_blank\">https://wandb.ai/gewissta/wandb-sweeps/runs/2k42umz7</a><br/>Synced 5 W&B file(s), 4 media file(s), 3 artifact file(s) and 0 other file(s)"
      ],
      "text/plain": [
       "<IPython.core.display.HTML object>"
      ]
     },
     "metadata": {},
     "output_type": "display_data"
    },
    {
     "data": {
      "text/html": [
       "Find logs at: <code>./wandb/run-20230524_151328-2k42umz7/logs</code>"
      ],
      "text/plain": [
       "<IPython.core.display.HTML object>"
      ]
     },
     "metadata": {},
     "output_type": "display_data"
    },
    {
     "name": "stderr",
     "output_type": "stream",
     "text": [
      "\u001b[32m[I 2023-05-24 15:13:56,630]\u001b[0m Trial 0 finished with value: 46.750720277450434 and parameters: {'iterations': 21, 'depth': 6, 'lags': 3}. Best is trial 0 with value: 46.750720277450434.\u001b[0m\n",
      "[Parallel(n_jobs=1)]: Using backend SequentialBackend with 1 concurrent workers.\n"
     ]
    },
    {
     "data": {
      "text/html": [
       "Changes to your `wandb` environment variables will be ignored because your `wandb` session has already started. For more information on how to modify your settings with `wandb.init()` arguments, please refer to <a href=\"https://wandb.me/wandb-init\" target=\"_blank\">the W&B docs</a>."
      ],
      "text/plain": [
       "<IPython.core.display.HTML object>"
      ]
     },
     "metadata": {},
     "output_type": "display_data"
    },
    {
     "data": {
      "text/html": [
       "wandb version 0.15.3 is available!  To upgrade, please run:\n",
       " $ pip install wandb --upgrade"
      ],
      "text/plain": [
       "<IPython.core.display.HTML object>"
      ]
     },
     "metadata": {},
     "output_type": "display_data"
    },
    {
     "data": {
      "text/html": [
       "Tracking run with wandb version 0.12.21"
      ],
      "text/plain": [
       "<IPython.core.display.HTML object>"
      ]
     },
     "metadata": {},
     "output_type": "display_data"
    },
    {
     "data": {
      "text/html": [
       "Run data is saved locally in <code>/Users/artemgruzdev/Documents/GitHub/Time_Series/code/wandb/run-20230524_151356-14hhqtzm</code>"
      ],
      "text/plain": [
       "<IPython.core.display.HTML object>"
      ]
     },
     "metadata": {},
     "output_type": "display_data"
    },
    {
     "data": {
      "text/html": [
       "Syncing run <strong><a href=\"https://wandb.ai/gewissta/wandb-sweeps/runs/14hhqtzm\" target=\"_blank\">aqqUQy85</a></strong> to <a href=\"https://wandb.ai/gewissta/wandb-sweeps\" target=\"_blank\">Weights & Biases</a> (<a href=\"https://wandb.me/run\" target=\"_blank\">docs</a>)<br/>"
      ],
      "text/plain": [
       "<IPython.core.display.HTML object>"
      ]
     },
     "metadata": {},
     "output_type": "display_data"
    },
    {
     "data": {
      "text/html": [
       "Waiting for W&B process to finish... <strong style=\"color:green\">(success).</strong>"
      ],
      "text/plain": [
       "<IPython.core.display.HTML object>"
      ]
     },
     "metadata": {},
     "output_type": "display_data"
    },
    {
     "data": {
      "application/vnd.jupyter.widget-view+json": {
       "model_id": "",
       "version_major": 2,
       "version_minor": 0
      },
      "text/plain": [
       "VBox(children=(Label(value='0.000 MB of 0.000 MB uploaded (0.000 MB deduped)\\r'), FloatProgress(value=1.0, max…"
      ]
     },
     "metadata": {},
     "output_type": "display_data"
    },
    {
     "data": {
      "text/html": [
       "Synced <strong style=\"color:#cdcd00\">aqqUQy85</strong>: <a href=\"https://wandb.ai/gewissta/wandb-sweeps/runs/14hhqtzm\" target=\"_blank\">https://wandb.ai/gewissta/wandb-sweeps/runs/14hhqtzm</a><br/>Synced 5 W&B file(s), 0 media file(s), 0 artifact file(s) and 0 other file(s)"
      ],
      "text/plain": [
       "<IPython.core.display.HTML object>"
      ]
     },
     "metadata": {},
     "output_type": "display_data"
    },
    {
     "data": {
      "text/html": [
       "Find logs at: <code>./wandb/run-20230524_151356-14hhqtzm/logs</code>"
      ],
      "text/plain": [
       "<IPython.core.display.HTML object>"
      ]
     },
     "metadata": {},
     "output_type": "display_data"
    },
    {
     "name": "stderr",
     "output_type": "stream",
     "text": [
      "[Parallel(n_jobs=1)]: Done   1 out of   1 | elapsed:   19.7s remaining:    0.0s\n"
     ]
    },
    {
     "data": {
      "text/html": [
       "Changes to your `wandb` environment variables will be ignored because your `wandb` session has already started. For more information on how to modify your settings with `wandb.init()` arguments, please refer to <a href=\"https://wandb.me/wandb-init\" target=\"_blank\">the W&B docs</a>."
      ],
      "text/plain": [
       "<IPython.core.display.HTML object>"
      ]
     },
     "metadata": {},
     "output_type": "display_data"
    },
    {
     "data": {
      "text/html": [
       "wandb version 0.15.3 is available!  To upgrade, please run:\n",
       " $ pip install wandb --upgrade"
      ],
      "text/plain": [
       "<IPython.core.display.HTML object>"
      ]
     },
     "metadata": {},
     "output_type": "display_data"
    },
    {
     "data": {
      "text/html": [
       "Tracking run with wandb version 0.12.21"
      ],
      "text/plain": [
       "<IPython.core.display.HTML object>"
      ]
     },
     "metadata": {},
     "output_type": "display_data"
    },
    {
     "data": {
      "text/html": [
       "Run data is saved locally in <code>/Users/artemgruzdev/Documents/GitHub/Time_Series/code/wandb/run-20230524_151416-1w1qnvcb</code>"
      ],
      "text/plain": [
       "<IPython.core.display.HTML object>"
      ]
     },
     "metadata": {},
     "output_type": "display_data"
    },
    {
     "data": {
      "text/html": [
       "Syncing run <strong><a href=\"https://wandb.ai/gewissta/wandb-sweeps/runs/1w1qnvcb\" target=\"_blank\">aqqUQy85</a></strong> to <a href=\"https://wandb.ai/gewissta/wandb-sweeps\" target=\"_blank\">Weights & Biases</a> (<a href=\"https://wandb.me/run\" target=\"_blank\">docs</a>)<br/>"
      ],
      "text/plain": [
       "<IPython.core.display.HTML object>"
      ]
     },
     "metadata": {},
     "output_type": "display_data"
    },
    {
     "data": {
      "text/html": [
       "Waiting for W&B process to finish... <strong style=\"color:green\">(success).</strong>"
      ],
      "text/plain": [
       "<IPython.core.display.HTML object>"
      ]
     },
     "metadata": {},
     "output_type": "display_data"
    },
    {
     "data": {
      "application/vnd.jupyter.widget-view+json": {
       "model_id": "",
       "version_major": 2,
       "version_minor": 0
      },
      "text/plain": [
       "VBox(children=(Label(value='0.000 MB of 0.000 MB uploaded (0.000 MB deduped)\\r'), FloatProgress(value=1.0, max…"
      ]
     },
     "metadata": {},
     "output_type": "display_data"
    },
    {
     "data": {
      "text/html": [
       "Synced <strong style=\"color:#cdcd00\">aqqUQy85</strong>: <a href=\"https://wandb.ai/gewissta/wandb-sweeps/runs/1w1qnvcb\" target=\"_blank\">https://wandb.ai/gewissta/wandb-sweeps/runs/1w1qnvcb</a><br/>Synced 5 W&B file(s), 0 media file(s), 0 artifact file(s) and 0 other file(s)"
      ],
      "text/plain": [
       "<IPython.core.display.HTML object>"
      ]
     },
     "metadata": {},
     "output_type": "display_data"
    },
    {
     "data": {
      "text/html": [
       "Find logs at: <code>./wandb/run-20230524_151416-1w1qnvcb/logs</code>"
      ],
      "text/plain": [
       "<IPython.core.display.HTML object>"
      ]
     },
     "metadata": {},
     "output_type": "display_data"
    },
    {
     "name": "stderr",
     "output_type": "stream",
     "text": [
      "[Parallel(n_jobs=1)]: Done   2 out of   2 | elapsed:   40.5s remaining:    0.0s\n"
     ]
    },
    {
     "data": {
      "text/html": [
       "Changes to your `wandb` environment variables will be ignored because your `wandb` session has already started. For more information on how to modify your settings with `wandb.init()` arguments, please refer to <a href=\"https://wandb.me/wandb-init\" target=\"_blank\">the W&B docs</a>."
      ],
      "text/plain": [
       "<IPython.core.display.HTML object>"
      ]
     },
     "metadata": {},
     "output_type": "display_data"
    },
    {
     "data": {
      "text/html": [
       "wandb version 0.15.3 is available!  To upgrade, please run:\n",
       " $ pip install wandb --upgrade"
      ],
      "text/plain": [
       "<IPython.core.display.HTML object>"
      ]
     },
     "metadata": {},
     "output_type": "display_data"
    },
    {
     "data": {
      "text/html": [
       "Tracking run with wandb version 0.12.21"
      ],
      "text/plain": [
       "<IPython.core.display.HTML object>"
      ]
     },
     "metadata": {},
     "output_type": "display_data"
    },
    {
     "data": {
      "text/html": [
       "Run data is saved locally in <code>/Users/artemgruzdev/Documents/GitHub/Time_Series/code/wandb/run-20230524_151437-2bkywrsn</code>"
      ],
      "text/plain": [
       "<IPython.core.display.HTML object>"
      ]
     },
     "metadata": {},
     "output_type": "display_data"
    },
    {
     "data": {
      "text/html": [
       "Syncing run <strong><a href=\"https://wandb.ai/gewissta/wandb-sweeps/runs/2bkywrsn\" target=\"_blank\">aqqUQy85</a></strong> to <a href=\"https://wandb.ai/gewissta/wandb-sweeps\" target=\"_blank\">Weights & Biases</a> (<a href=\"https://wandb.me/run\" target=\"_blank\">docs</a>)<br/>"
      ],
      "text/plain": [
       "<IPython.core.display.HTML object>"
      ]
     },
     "metadata": {},
     "output_type": "display_data"
    },
    {
     "data": {
      "text/html": [
       "Waiting for W&B process to finish... <strong style=\"color:green\">(success).</strong>"
      ],
      "text/plain": [
       "<IPython.core.display.HTML object>"
      ]
     },
     "metadata": {},
     "output_type": "display_data"
    },
    {
     "data": {
      "application/vnd.jupyter.widget-view+json": {
       "model_id": "",
       "version_major": 2,
       "version_minor": 0
      },
      "text/plain": [
       "VBox(children=(Label(value='0.000 MB of 0.000 MB uploaded (0.000 MB deduped)\\r'), FloatProgress(value=1.0, max…"
      ]
     },
     "metadata": {},
     "output_type": "display_data"
    },
    {
     "data": {
      "text/html": [
       "Synced <strong style=\"color:#cdcd00\">aqqUQy85</strong>: <a href=\"https://wandb.ai/gewissta/wandb-sweeps/runs/2bkywrsn\" target=\"_blank\">https://wandb.ai/gewissta/wandb-sweeps/runs/2bkywrsn</a><br/>Synced 5 W&B file(s), 0 media file(s), 0 artifact file(s) and 0 other file(s)"
      ],
      "text/plain": [
       "<IPython.core.display.HTML object>"
      ]
     },
     "metadata": {},
     "output_type": "display_data"
    },
    {
     "data": {
      "text/html": [
       "Find logs at: <code>./wandb/run-20230524_151437-2bkywrsn/logs</code>"
      ],
      "text/plain": [
       "<IPython.core.display.HTML object>"
      ]
     },
     "metadata": {},
     "output_type": "display_data"
    },
    {
     "name": "stderr",
     "output_type": "stream",
     "text": [
      "[Parallel(n_jobs=1)]: Done   3 out of   3 | elapsed:  1.0min remaining:    0.0s\n"
     ]
    },
    {
     "data": {
      "text/html": [
       "Changes to your `wandb` environment variables will be ignored because your `wandb` session has already started. For more information on how to modify your settings with `wandb.init()` arguments, please refer to <a href=\"https://wandb.me/wandb-init\" target=\"_blank\">the W&B docs</a>."
      ],
      "text/plain": [
       "<IPython.core.display.HTML object>"
      ]
     },
     "metadata": {},
     "output_type": "display_data"
    },
    {
     "data": {
      "text/html": [
       "wandb version 0.15.3 is available!  To upgrade, please run:\n",
       " $ pip install wandb --upgrade"
      ],
      "text/plain": [
       "<IPython.core.display.HTML object>"
      ]
     },
     "metadata": {},
     "output_type": "display_data"
    },
    {
     "data": {
      "text/html": [
       "Tracking run with wandb version 0.12.21"
      ],
      "text/plain": [
       "<IPython.core.display.HTML object>"
      ]
     },
     "metadata": {},
     "output_type": "display_data"
    },
    {
     "data": {
      "text/html": [
       "Run data is saved locally in <code>/Users/artemgruzdev/Documents/GitHub/Time_Series/code/wandb/run-20230524_151456-17zp213t</code>"
      ],
      "text/plain": [
       "<IPython.core.display.HTML object>"
      ]
     },
     "metadata": {},
     "output_type": "display_data"
    },
    {
     "data": {
      "text/html": [
       "Syncing run <strong><a href=\"https://wandb.ai/gewissta/wandb-sweeps/runs/17zp213t\" target=\"_blank\">aqqUQy85</a></strong> to <a href=\"https://wandb.ai/gewissta/wandb-sweeps\" target=\"_blank\">Weights & Biases</a> (<a href=\"https://wandb.me/run\" target=\"_blank\">docs</a>)<br/>"
      ],
      "text/plain": [
       "<IPython.core.display.HTML object>"
      ]
     },
     "metadata": {},
     "output_type": "display_data"
    },
    {
     "data": {
      "text/html": [
       "Waiting for W&B process to finish... <strong style=\"color:green\">(success).</strong>"
      ],
      "text/plain": [
       "<IPython.core.display.HTML object>"
      ]
     },
     "metadata": {},
     "output_type": "display_data"
    },
    {
     "data": {
      "application/vnd.jupyter.widget-view+json": {
       "model_id": "",
       "version_major": 2,
       "version_minor": 0
      },
      "text/plain": [
       "VBox(children=(Label(value='0.000 MB of 0.000 MB uploaded (0.000 MB deduped)\\r'), FloatProgress(value=1.0, max…"
      ]
     },
     "metadata": {},
     "output_type": "display_data"
    },
    {
     "data": {
      "text/html": [
       "Synced <strong style=\"color:#cdcd00\">aqqUQy85</strong>: <a href=\"https://wandb.ai/gewissta/wandb-sweeps/runs/17zp213t\" target=\"_blank\">https://wandb.ai/gewissta/wandb-sweeps/runs/17zp213t</a><br/>Synced 5 W&B file(s), 0 media file(s), 0 artifact file(s) and 0 other file(s)"
      ],
      "text/plain": [
       "<IPython.core.display.HTML object>"
      ]
     },
     "metadata": {},
     "output_type": "display_data"
    },
    {
     "data": {
      "text/html": [
       "Find logs at: <code>./wandb/run-20230524_151456-17zp213t/logs</code>"
      ],
      "text/plain": [
       "<IPython.core.display.HTML object>"
      ]
     },
     "metadata": {},
     "output_type": "display_data"
    },
    {
     "name": "stderr",
     "output_type": "stream",
     "text": [
      "[Parallel(n_jobs=1)]: Done   4 out of   4 | elapsed:  1.3min remaining:    0.0s\n"
     ]
    },
    {
     "data": {
      "text/html": [
       "Changes to your `wandb` environment variables will be ignored because your `wandb` session has already started. For more information on how to modify your settings with `wandb.init()` arguments, please refer to <a href=\"https://wandb.me/wandb-init\" target=\"_blank\">the W&B docs</a>."
      ],
      "text/plain": [
       "<IPython.core.display.HTML object>"
      ]
     },
     "metadata": {},
     "output_type": "display_data"
    },
    {
     "data": {
      "text/html": [
       "wandb version 0.15.3 is available!  To upgrade, please run:\n",
       " $ pip install wandb --upgrade"
      ],
      "text/plain": [
       "<IPython.core.display.HTML object>"
      ]
     },
     "metadata": {},
     "output_type": "display_data"
    },
    {
     "data": {
      "text/html": [
       "Tracking run with wandb version 0.12.21"
      ],
      "text/plain": [
       "<IPython.core.display.HTML object>"
      ]
     },
     "metadata": {},
     "output_type": "display_data"
    },
    {
     "data": {
      "text/html": [
       "Run data is saved locally in <code>/Users/artemgruzdev/Documents/GitHub/Time_Series/code/wandb/run-20230524_151516-160fj6p1</code>"
      ],
      "text/plain": [
       "<IPython.core.display.HTML object>"
      ]
     },
     "metadata": {},
     "output_type": "display_data"
    },
    {
     "data": {
      "text/html": [
       "Syncing run <strong><a href=\"https://wandb.ai/gewissta/wandb-sweeps/runs/160fj6p1\" target=\"_blank\">aqqUQy85</a></strong> to <a href=\"https://wandb.ai/gewissta/wandb-sweeps\" target=\"_blank\">Weights & Biases</a> (<a href=\"https://wandb.me/run\" target=\"_blank\">docs</a>)<br/>"
      ],
      "text/plain": [
       "<IPython.core.display.HTML object>"
      ]
     },
     "metadata": {},
     "output_type": "display_data"
    },
    {
     "data": {
      "text/html": [
       "Waiting for W&B process to finish... <strong style=\"color:green\">(success).</strong>"
      ],
      "text/plain": [
       "<IPython.core.display.HTML object>"
      ]
     },
     "metadata": {},
     "output_type": "display_data"
    },
    {
     "data": {
      "application/vnd.jupyter.widget-view+json": {
       "model_id": "",
       "version_major": 2,
       "version_minor": 0
      },
      "text/plain": [
       "VBox(children=(Label(value='0.000 MB of 0.000 MB uploaded (0.000 MB deduped)\\r'), FloatProgress(value=1.0, max…"
      ]
     },
     "metadata": {},
     "output_type": "display_data"
    },
    {
     "data": {
      "text/html": [
       "Synced <strong style=\"color:#cdcd00\">aqqUQy85</strong>: <a href=\"https://wandb.ai/gewissta/wandb-sweeps/runs/160fj6p1\" target=\"_blank\">https://wandb.ai/gewissta/wandb-sweeps/runs/160fj6p1</a><br/>Synced 5 W&B file(s), 0 media file(s), 0 artifact file(s) and 0 other file(s)"
      ],
      "text/plain": [
       "<IPython.core.display.HTML object>"
      ]
     },
     "metadata": {},
     "output_type": "display_data"
    },
    {
     "data": {
      "text/html": [
       "Find logs at: <code>./wandb/run-20230524_151516-160fj6p1/logs</code>"
      ],
      "text/plain": [
       "<IPython.core.display.HTML object>"
      ]
     },
     "metadata": {},
     "output_type": "display_data"
    },
    {
     "name": "stderr",
     "output_type": "stream",
     "text": [
      "[Parallel(n_jobs=1)]: Done   5 out of   5 | elapsed:  1.7min remaining:    0.0s\n",
      "[Parallel(n_jobs=1)]: Done   5 out of   5 | elapsed:  1.7min finished\n",
      "[Parallel(n_jobs=1)]: Using backend SequentialBackend with 1 concurrent workers.\n"
     ]
    },
    {
     "data": {
      "text/html": [
       "Changes to your `wandb` environment variables will be ignored because your `wandb` session has already started. For more information on how to modify your settings with `wandb.init()` arguments, please refer to <a href=\"https://wandb.me/wandb-init\" target=\"_blank\">the W&B docs</a>."
      ],
      "text/plain": [
       "<IPython.core.display.HTML object>"
      ]
     },
     "metadata": {},
     "output_type": "display_data"
    },
    {
     "data": {
      "text/html": [
       "wandb version 0.15.3 is available!  To upgrade, please run:\n",
       " $ pip install wandb --upgrade"
      ],
      "text/plain": [
       "<IPython.core.display.HTML object>"
      ]
     },
     "metadata": {},
     "output_type": "display_data"
    },
    {
     "data": {
      "text/html": [
       "Tracking run with wandb version 0.12.21"
      ],
      "text/plain": [
       "<IPython.core.display.HTML object>"
      ]
     },
     "metadata": {},
     "output_type": "display_data"
    },
    {
     "data": {
      "text/html": [
       "Run data is saved locally in <code>/Users/artemgruzdev/Documents/GitHub/Time_Series/code/wandb/run-20230524_151536-2iaue9yl</code>"
      ],
      "text/plain": [
       "<IPython.core.display.HTML object>"
      ]
     },
     "metadata": {},
     "output_type": "display_data"
    },
    {
     "data": {
      "text/html": [
       "Syncing run <strong><a href=\"https://wandb.ai/gewissta/wandb-sweeps/runs/2iaue9yl\" target=\"_blank\">aqqUQy85</a></strong> to <a href=\"https://wandb.ai/gewissta/wandb-sweeps\" target=\"_blank\">Weights & Biases</a> (<a href=\"https://wandb.me/run\" target=\"_blank\">docs</a>)<br/>"
      ],
      "text/plain": [
       "<IPython.core.display.HTML object>"
      ]
     },
     "metadata": {},
     "output_type": "display_data"
    },
    {
     "data": {
      "text/html": [
       "Waiting for W&B process to finish... <strong style=\"color:green\">(success).</strong>"
      ],
      "text/plain": [
       "<IPython.core.display.HTML object>"
      ]
     },
     "metadata": {},
     "output_type": "display_data"
    },
    {
     "data": {
      "application/vnd.jupyter.widget-view+json": {
       "model_id": "",
       "version_major": 2,
       "version_minor": 0
      },
      "text/plain": [
       "VBox(children=(Label(value='0.000 MB of 0.000 MB uploaded (0.000 MB deduped)\\r'), FloatProgress(value=1.0, max…"
      ]
     },
     "metadata": {},
     "output_type": "display_data"
    },
    {
     "data": {
      "text/html": [
       "Synced <strong style=\"color:#cdcd00\">aqqUQy85</strong>: <a href=\"https://wandb.ai/gewissta/wandb-sweeps/runs/2iaue9yl\" target=\"_blank\">https://wandb.ai/gewissta/wandb-sweeps/runs/2iaue9yl</a><br/>Synced 5 W&B file(s), 0 media file(s), 0 artifact file(s) and 0 other file(s)"
      ],
      "text/plain": [
       "<IPython.core.display.HTML object>"
      ]
     },
     "metadata": {},
     "output_type": "display_data"
    },
    {
     "data": {
      "text/html": [
       "Find logs at: <code>./wandb/run-20230524_151536-2iaue9yl/logs</code>"
      ],
      "text/plain": [
       "<IPython.core.display.HTML object>"
      ]
     },
     "metadata": {},
     "output_type": "display_data"
    },
    {
     "name": "stderr",
     "output_type": "stream",
     "text": [
      "[Parallel(n_jobs=1)]: Done   1 out of   1 | elapsed:   19.7s remaining:    0.0s\n"
     ]
    },
    {
     "data": {
      "text/html": [
       "Changes to your `wandb` environment variables will be ignored because your `wandb` session has already started. For more information on how to modify your settings with `wandb.init()` arguments, please refer to <a href=\"https://wandb.me/wandb-init\" target=\"_blank\">the W&B docs</a>."
      ],
      "text/plain": [
       "<IPython.core.display.HTML object>"
      ]
     },
     "metadata": {},
     "output_type": "display_data"
    },
    {
     "data": {
      "text/html": [
       "wandb version 0.15.3 is available!  To upgrade, please run:\n",
       " $ pip install wandb --upgrade"
      ],
      "text/plain": [
       "<IPython.core.display.HTML object>"
      ]
     },
     "metadata": {},
     "output_type": "display_data"
    },
    {
     "data": {
      "text/html": [
       "Tracking run with wandb version 0.12.21"
      ],
      "text/plain": [
       "<IPython.core.display.HTML object>"
      ]
     },
     "metadata": {},
     "output_type": "display_data"
    },
    {
     "data": {
      "text/html": [
       "Run data is saved locally in <code>/Users/artemgruzdev/Documents/GitHub/Time_Series/code/wandb/run-20230524_151555-3jli4ckl</code>"
      ],
      "text/plain": [
       "<IPython.core.display.HTML object>"
      ]
     },
     "metadata": {},
     "output_type": "display_data"
    },
    {
     "data": {
      "text/html": [
       "Syncing run <strong><a href=\"https://wandb.ai/gewissta/wandb-sweeps/runs/3jli4ckl\" target=\"_blank\">aqqUQy85</a></strong> to <a href=\"https://wandb.ai/gewissta/wandb-sweeps\" target=\"_blank\">Weights & Biases</a> (<a href=\"https://wandb.me/run\" target=\"_blank\">docs</a>)<br/>"
      ],
      "text/plain": [
       "<IPython.core.display.HTML object>"
      ]
     },
     "metadata": {},
     "output_type": "display_data"
    },
    {
     "data": {
      "text/html": [
       "Waiting for W&B process to finish... <strong style=\"color:green\">(success).</strong>"
      ],
      "text/plain": [
       "<IPython.core.display.HTML object>"
      ]
     },
     "metadata": {},
     "output_type": "display_data"
    },
    {
     "data": {
      "application/vnd.jupyter.widget-view+json": {
       "model_id": "",
       "version_major": 2,
       "version_minor": 0
      },
      "text/plain": [
       "VBox(children=(Label(value='0.000 MB of 0.000 MB uploaded (0.000 MB deduped)\\r'), FloatProgress(value=1.0, max…"
      ]
     },
     "metadata": {},
     "output_type": "display_data"
    },
    {
     "data": {
      "text/html": [
       "Synced <strong style=\"color:#cdcd00\">aqqUQy85</strong>: <a href=\"https://wandb.ai/gewissta/wandb-sweeps/runs/3jli4ckl\" target=\"_blank\">https://wandb.ai/gewissta/wandb-sweeps/runs/3jli4ckl</a><br/>Synced 5 W&B file(s), 0 media file(s), 0 artifact file(s) and 0 other file(s)"
      ],
      "text/plain": [
       "<IPython.core.display.HTML object>"
      ]
     },
     "metadata": {},
     "output_type": "display_data"
    },
    {
     "data": {
      "text/html": [
       "Find logs at: <code>./wandb/run-20230524_151555-3jli4ckl/logs</code>"
      ],
      "text/plain": [
       "<IPython.core.display.HTML object>"
      ]
     },
     "metadata": {},
     "output_type": "display_data"
    },
    {
     "name": "stderr",
     "output_type": "stream",
     "text": [
      "[Parallel(n_jobs=1)]: Done   2 out of   2 | elapsed:   39.5s remaining:    0.0s\n"
     ]
    },
    {
     "data": {
      "text/html": [
       "Changes to your `wandb` environment variables will be ignored because your `wandb` session has already started. For more information on how to modify your settings with `wandb.init()` arguments, please refer to <a href=\"https://wandb.me/wandb-init\" target=\"_blank\">the W&B docs</a>."
      ],
      "text/plain": [
       "<IPython.core.display.HTML object>"
      ]
     },
     "metadata": {},
     "output_type": "display_data"
    },
    {
     "data": {
      "text/html": [
       "wandb version 0.15.3 is available!  To upgrade, please run:\n",
       " $ pip install wandb --upgrade"
      ],
      "text/plain": [
       "<IPython.core.display.HTML object>"
      ]
     },
     "metadata": {},
     "output_type": "display_data"
    },
    {
     "data": {
      "text/html": [
       "Tracking run with wandb version 0.12.21"
      ],
      "text/plain": [
       "<IPython.core.display.HTML object>"
      ]
     },
     "metadata": {},
     "output_type": "display_data"
    },
    {
     "data": {
      "text/html": [
       "Run data is saved locally in <code>/Users/artemgruzdev/Documents/GitHub/Time_Series/code/wandb/run-20230524_151615-1iz4v6xh</code>"
      ],
      "text/plain": [
       "<IPython.core.display.HTML object>"
      ]
     },
     "metadata": {},
     "output_type": "display_data"
    },
    {
     "data": {
      "text/html": [
       "Syncing run <strong><a href=\"https://wandb.ai/gewissta/wandb-sweeps/runs/1iz4v6xh\" target=\"_blank\">aqqUQy85</a></strong> to <a href=\"https://wandb.ai/gewissta/wandb-sweeps\" target=\"_blank\">Weights & Biases</a> (<a href=\"https://wandb.me/run\" target=\"_blank\">docs</a>)<br/>"
      ],
      "text/plain": [
       "<IPython.core.display.HTML object>"
      ]
     },
     "metadata": {},
     "output_type": "display_data"
    },
    {
     "data": {
      "text/html": [
       "Waiting for W&B process to finish... <strong style=\"color:green\">(success).</strong>"
      ],
      "text/plain": [
       "<IPython.core.display.HTML object>"
      ]
     },
     "metadata": {},
     "output_type": "display_data"
    },
    {
     "data": {
      "application/vnd.jupyter.widget-view+json": {
       "model_id": "",
       "version_major": 2,
       "version_minor": 0
      },
      "text/plain": [
       "VBox(children=(Label(value='0.000 MB of 0.000 MB uploaded (0.000 MB deduped)\\r'), FloatProgress(value=1.0, max…"
      ]
     },
     "metadata": {},
     "output_type": "display_data"
    },
    {
     "data": {
      "text/html": [
       "Synced <strong style=\"color:#cdcd00\">aqqUQy85</strong>: <a href=\"https://wandb.ai/gewissta/wandb-sweeps/runs/1iz4v6xh\" target=\"_blank\">https://wandb.ai/gewissta/wandb-sweeps/runs/1iz4v6xh</a><br/>Synced 5 W&B file(s), 0 media file(s), 0 artifact file(s) and 0 other file(s)"
      ],
      "text/plain": [
       "<IPython.core.display.HTML object>"
      ]
     },
     "metadata": {},
     "output_type": "display_data"
    },
    {
     "data": {
      "text/html": [
       "Find logs at: <code>./wandb/run-20230524_151615-1iz4v6xh/logs</code>"
      ],
      "text/plain": [
       "<IPython.core.display.HTML object>"
      ]
     },
     "metadata": {},
     "output_type": "display_data"
    },
    {
     "name": "stderr",
     "output_type": "stream",
     "text": [
      "[Parallel(n_jobs=1)]: Done   3 out of   3 | elapsed:  1.0min remaining:    0.0s\n"
     ]
    },
    {
     "data": {
      "text/html": [
       "Changes to your `wandb` environment variables will be ignored because your `wandb` session has already started. For more information on how to modify your settings with `wandb.init()` arguments, please refer to <a href=\"https://wandb.me/wandb-init\" target=\"_blank\">the W&B docs</a>."
      ],
      "text/plain": [
       "<IPython.core.display.HTML object>"
      ]
     },
     "metadata": {},
     "output_type": "display_data"
    },
    {
     "data": {
      "text/html": [
       "wandb version 0.15.3 is available!  To upgrade, please run:\n",
       " $ pip install wandb --upgrade"
      ],
      "text/plain": [
       "<IPython.core.display.HTML object>"
      ]
     },
     "metadata": {},
     "output_type": "display_data"
    },
    {
     "data": {
      "text/html": [
       "Tracking run with wandb version 0.12.21"
      ],
      "text/plain": [
       "<IPython.core.display.HTML object>"
      ]
     },
     "metadata": {},
     "output_type": "display_data"
    },
    {
     "data": {
      "text/html": [
       "Run data is saved locally in <code>/Users/artemgruzdev/Documents/GitHub/Time_Series/code/wandb/run-20230524_151636-2mz5y728</code>"
      ],
      "text/plain": [
       "<IPython.core.display.HTML object>"
      ]
     },
     "metadata": {},
     "output_type": "display_data"
    },
    {
     "data": {
      "text/html": [
       "Syncing run <strong><a href=\"https://wandb.ai/gewissta/wandb-sweeps/runs/2mz5y728\" target=\"_blank\">aqqUQy85</a></strong> to <a href=\"https://wandb.ai/gewissta/wandb-sweeps\" target=\"_blank\">Weights & Biases</a> (<a href=\"https://wandb.me/run\" target=\"_blank\">docs</a>)<br/>"
      ],
      "text/plain": [
       "<IPython.core.display.HTML object>"
      ]
     },
     "metadata": {},
     "output_type": "display_data"
    },
    {
     "data": {
      "text/html": [
       "Waiting for W&B process to finish... <strong style=\"color:green\">(success).</strong>"
      ],
      "text/plain": [
       "<IPython.core.display.HTML object>"
      ]
     },
     "metadata": {},
     "output_type": "display_data"
    },
    {
     "data": {
      "application/vnd.jupyter.widget-view+json": {
       "model_id": "",
       "version_major": 2,
       "version_minor": 0
      },
      "text/plain": [
       "VBox(children=(Label(value='0.000 MB of 0.000 MB uploaded (0.000 MB deduped)\\r'), FloatProgress(value=1.0, max…"
      ]
     },
     "metadata": {},
     "output_type": "display_data"
    },
    {
     "data": {
      "text/html": [
       "Synced <strong style=\"color:#cdcd00\">aqqUQy85</strong>: <a href=\"https://wandb.ai/gewissta/wandb-sweeps/runs/2mz5y728\" target=\"_blank\">https://wandb.ai/gewissta/wandb-sweeps/runs/2mz5y728</a><br/>Synced 5 W&B file(s), 0 media file(s), 0 artifact file(s) and 0 other file(s)"
      ],
      "text/plain": [
       "<IPython.core.display.HTML object>"
      ]
     },
     "metadata": {},
     "output_type": "display_data"
    },
    {
     "data": {
      "text/html": [
       "Find logs at: <code>./wandb/run-20230524_151636-2mz5y728/logs</code>"
      ],
      "text/plain": [
       "<IPython.core.display.HTML object>"
      ]
     },
     "metadata": {},
     "output_type": "display_data"
    },
    {
     "name": "stderr",
     "output_type": "stream",
     "text": [
      "[Parallel(n_jobs=1)]: Done   4 out of   4 | elapsed:  1.3min remaining:    0.0s\n"
     ]
    },
    {
     "data": {
      "text/html": [
       "Changes to your `wandb` environment variables will be ignored because your `wandb` session has already started. For more information on how to modify your settings with `wandb.init()` arguments, please refer to <a href=\"https://wandb.me/wandb-init\" target=\"_blank\">the W&B docs</a>."
      ],
      "text/plain": [
       "<IPython.core.display.HTML object>"
      ]
     },
     "metadata": {},
     "output_type": "display_data"
    },
    {
     "data": {
      "text/html": [
       "wandb version 0.15.3 is available!  To upgrade, please run:\n",
       " $ pip install wandb --upgrade"
      ],
      "text/plain": [
       "<IPython.core.display.HTML object>"
      ]
     },
     "metadata": {},
     "output_type": "display_data"
    },
    {
     "data": {
      "text/html": [
       "Tracking run with wandb version 0.12.21"
      ],
      "text/plain": [
       "<IPython.core.display.HTML object>"
      ]
     },
     "metadata": {},
     "output_type": "display_data"
    },
    {
     "data": {
      "text/html": [
       "Run data is saved locally in <code>/Users/artemgruzdev/Documents/GitHub/Time_Series/code/wandb/run-20230524_151657-357az4uf</code>"
      ],
      "text/plain": [
       "<IPython.core.display.HTML object>"
      ]
     },
     "metadata": {},
     "output_type": "display_data"
    },
    {
     "data": {
      "text/html": [
       "Syncing run <strong><a href=\"https://wandb.ai/gewissta/wandb-sweeps/runs/357az4uf\" target=\"_blank\">aqqUQy85</a></strong> to <a href=\"https://wandb.ai/gewissta/wandb-sweeps\" target=\"_blank\">Weights & Biases</a> (<a href=\"https://wandb.me/run\" target=\"_blank\">docs</a>)<br/>"
      ],
      "text/plain": [
       "<IPython.core.display.HTML object>"
      ]
     },
     "metadata": {},
     "output_type": "display_data"
    },
    {
     "data": {
      "text/html": [
       "Waiting for W&B process to finish... <strong style=\"color:green\">(success).</strong>"
      ],
      "text/plain": [
       "<IPython.core.display.HTML object>"
      ]
     },
     "metadata": {},
     "output_type": "display_data"
    },
    {
     "data": {
      "application/vnd.jupyter.widget-view+json": {
       "model_id": "",
       "version_major": 2,
       "version_minor": 0
      },
      "text/plain": [
       "VBox(children=(Label(value='0.000 MB of 0.000 MB uploaded (0.000 MB deduped)\\r'), FloatProgress(value=1.0, max…"
      ]
     },
     "metadata": {},
     "output_type": "display_data"
    },
    {
     "data": {
      "text/html": [
       "Synced <strong style=\"color:#cdcd00\">aqqUQy85</strong>: <a href=\"https://wandb.ai/gewissta/wandb-sweeps/runs/357az4uf\" target=\"_blank\">https://wandb.ai/gewissta/wandb-sweeps/runs/357az4uf</a><br/>Synced 5 W&B file(s), 0 media file(s), 0 artifact file(s) and 0 other file(s)"
      ],
      "text/plain": [
       "<IPython.core.display.HTML object>"
      ]
     },
     "metadata": {},
     "output_type": "display_data"
    },
    {
     "data": {
      "text/html": [
       "Find logs at: <code>./wandb/run-20230524_151657-357az4uf/logs</code>"
      ],
      "text/plain": [
       "<IPython.core.display.HTML object>"
      ]
     },
     "metadata": {},
     "output_type": "display_data"
    },
    {
     "name": "stderr",
     "output_type": "stream",
     "text": [
      "[Parallel(n_jobs=1)]: Done   5 out of   5 | elapsed:  1.7min remaining:    0.0s\n",
      "[Parallel(n_jobs=1)]: Done   5 out of   5 | elapsed:  1.7min finished\n",
      "[Parallel(n_jobs=1)]: Using backend SequentialBackend with 1 concurrent workers.\n"
     ]
    },
    {
     "data": {
      "text/html": [
       "Changes to your `wandb` environment variables will be ignored because your `wandb` session has already started. For more information on how to modify your settings with `wandb.init()` arguments, please refer to <a href=\"https://wandb.me/wandb-init\" target=\"_blank\">the W&B docs</a>."
      ],
      "text/plain": [
       "<IPython.core.display.HTML object>"
      ]
     },
     "metadata": {},
     "output_type": "display_data"
    },
    {
     "data": {
      "text/html": [
       "wandb version 0.15.3 is available!  To upgrade, please run:\n",
       " $ pip install wandb --upgrade"
      ],
      "text/plain": [
       "<IPython.core.display.HTML object>"
      ]
     },
     "metadata": {},
     "output_type": "display_data"
    },
    {
     "data": {
      "text/html": [
       "Tracking run with wandb version 0.12.21"
      ],
      "text/plain": [
       "<IPython.core.display.HTML object>"
      ]
     },
     "metadata": {},
     "output_type": "display_data"
    },
    {
     "data": {
      "text/html": [
       "Run data is saved locally in <code>/Users/artemgruzdev/Documents/GitHub/Time_Series/code/wandb/run-20230524_151716-2jveq6nk</code>"
      ],
      "text/plain": [
       "<IPython.core.display.HTML object>"
      ]
     },
     "metadata": {},
     "output_type": "display_data"
    },
    {
     "data": {
      "text/html": [
       "Syncing run <strong><a href=\"https://wandb.ai/gewissta/wandb-sweeps/runs/2jveq6nk\" target=\"_blank\">aqqUQy85</a></strong> to <a href=\"https://wandb.ai/gewissta/wandb-sweeps\" target=\"_blank\">Weights & Biases</a> (<a href=\"https://wandb.me/run\" target=\"_blank\">docs</a>)<br/>"
      ],
      "text/plain": [
       "<IPython.core.display.HTML object>"
      ]
     },
     "metadata": {},
     "output_type": "display_data"
    },
    {
     "data": {
      "text/html": [
       "Waiting for W&B process to finish... <strong style=\"color:green\">(success).</strong>"
      ],
      "text/plain": [
       "<IPython.core.display.HTML object>"
      ]
     },
     "metadata": {},
     "output_type": "display_data"
    },
    {
     "data": {
      "application/vnd.jupyter.widget-view+json": {
       "model_id": "",
       "version_major": 2,
       "version_minor": 0
      },
      "text/plain": [
       "VBox(children=(Label(value='0.033 MB of 0.036 MB uploaded (0.000 MB deduped)\\r'), FloatProgress(value=0.916095…"
      ]
     },
     "metadata": {},
     "output_type": "display_data"
    },
    {
     "data": {
      "text/html": [
       "<style>\n",
       "    table.wandb td:nth-child(1) { padding: 0 10px; text-align: left ; width: auto;} td:nth-child(2) {text-align: left ; width: 100%}\n",
       "    .wandb-row { display: flex; flex-direction: row; flex-wrap: wrap; justify-content: flex-start; width: 100% }\n",
       "    .wandb-col { display: flex; flex-direction: column; flex-basis: 100%; flex: 1; padding: 10px; }\n",
       "    </style>\n",
       "<div class=\"wandb-row\"><div class=\"wandb-col\"><h3>Run history:</h3><br/><table class=\"wandb\"><tr><td>MAE_mean</td><td>▁</td></tr><tr><td>MAE_median</td><td>▁</td></tr><tr><td>MAE_percentile_25</td><td>▁</td></tr><tr><td>MAE_percentile_5</td><td>▁</td></tr><tr><td>MAE_percentile_75</td><td>▁</td></tr><tr><td>MAE_percentile_95</td><td>▁</td></tr><tr><td>MAE_std</td><td>▁</td></tr><tr><td>MSE_mean</td><td>▁</td></tr><tr><td>MSE_median</td><td>▁</td></tr><tr><td>MSE_percentile_25</td><td>▁</td></tr><tr><td>MSE_percentile_5</td><td>▁</td></tr><tr><td>MSE_percentile_75</td><td>▁</td></tr><tr><td>MSE_percentile_95</td><td>▁</td></tr><tr><td>MSE_std</td><td>▁</td></tr><tr><td>SMAPE_mean</td><td>▁</td></tr><tr><td>SMAPE_median</td><td>▁</td></tr><tr><td>SMAPE_percentile_25</td><td>▁</td></tr><tr><td>SMAPE_percentile_5</td><td>▁</td></tr><tr><td>SMAPE_percentile_75</td><td>▁</td></tr><tr><td>SMAPE_percentile_95</td><td>▁</td></tr><tr><td>SMAPE_std</td><td>▁</td></tr><tr><td>Sign_mean</td><td>▁</td></tr><tr><td>Sign_median</td><td>▁</td></tr><tr><td>Sign_percentile_25</td><td>▁</td></tr><tr><td>Sign_percentile_5</td><td>▁</td></tr><tr><td>Sign_percentile_75</td><td>▁</td></tr><tr><td>Sign_percentile_95</td><td>▁</td></tr><tr><td>Sign_std</td><td>▁</td></tr></table><br/></div><div class=\"wandb-col\"><h3>Run summary:</h3><br/><table class=\"wandb\"><tr><td>MAE_mean</td><td>37.09731</td></tr><tr><td>MAE_median</td><td>36.5655</td></tr><tr><td>MAE_percentile_25</td><td>16.41243</td></tr><tr><td>MAE_percentile_5</td><td>11.84759</td></tr><tr><td>MAE_percentile_75</td><td>57.25038</td></tr><tr><td>MAE_percentile_95</td><td>63.09156</td></tr><tr><td>MAE_std</td><td>26.56439</td></tr><tr><td>MSE_mean</td><td>3623.35117</td></tr><tr><td>MSE_median</td><td>2804.44383</td></tr><tr><td>MSE_percentile_25</td><td>461.50835</td></tr><tr><td>MSE_percentile_5</td><td>232.41266</td></tr><tr><td>MSE_percentile_75</td><td>5966.28664</td></tr><tr><td>MSE_percentile_95</td><td>8160.75995</td></tr><tr><td>MSE_std</td><td>4049.74824</td></tr><tr><td>SMAPE_mean</td><td>8.62743</td></tr><tr><td>SMAPE_median</td><td>8.08051</td></tr><tr><td>SMAPE_percentile_25</td><td>7.65485</td></tr><tr><td>SMAPE_percentile_5</td><td>6.77468</td></tr><tr><td>SMAPE_percentile_75</td><td>9.05308</td></tr><tr><td>SMAPE_percentile_95</td><td>11.24588</td></tr><tr><td>SMAPE_std</td><td>2.2308</td></tr><tr><td>Sign_mean</td><td>-0.03571</td></tr><tr><td>Sign_median</td><td>-0.28571</td></tr><tr><td>Sign_percentile_25</td><td>-0.28571</td></tr><tr><td>Sign_percentile_5</td><td>-0.28571</td></tr><tr><td>Sign_percentile_75</td><td>-0.03571</td></tr><tr><td>Sign_percentile_95</td><td>0.56429</td></tr><tr><td>Sign_std</td><td>0.5</td></tr></table><br/></div></div>"
      ],
      "text/plain": [
       "<IPython.core.display.HTML object>"
      ]
     },
     "metadata": {},
     "output_type": "display_data"
    },
    {
     "data": {
      "text/html": [
       "Synced <strong style=\"color:#cdcd00\">aqqUQy85</strong>: <a href=\"https://wandb.ai/gewissta/wandb-sweeps/runs/2jveq6nk\" target=\"_blank\">https://wandb.ai/gewissta/wandb-sweeps/runs/2jveq6nk</a><br/>Synced 5 W&B file(s), 3 media file(s), 3 artifact file(s) and 0 other file(s)"
      ],
      "text/plain": [
       "<IPython.core.display.HTML object>"
      ]
     },
     "metadata": {},
     "output_type": "display_data"
    },
    {
     "data": {
      "text/html": [
       "Find logs at: <code>./wandb/run-20230524_151716-2jveq6nk/logs</code>"
      ],
      "text/plain": [
       "<IPython.core.display.HTML object>"
      ]
     },
     "metadata": {},
     "output_type": "display_data"
    },
    {
     "name": "stderr",
     "output_type": "stream",
     "text": [
      "[Parallel(n_jobs=1)]: Done   1 out of   1 | elapsed:   28.7s remaining:    0.0s\n"
     ]
    },
    {
     "data": {
      "text/html": [
       "Changes to your `wandb` environment variables will be ignored because your `wandb` session has already started. For more information on how to modify your settings with `wandb.init()` arguments, please refer to <a href=\"https://wandb.me/wandb-init\" target=\"_blank\">the W&B docs</a>."
      ],
      "text/plain": [
       "<IPython.core.display.HTML object>"
      ]
     },
     "metadata": {},
     "output_type": "display_data"
    },
    {
     "data": {
      "text/html": [
       "wandb version 0.15.3 is available!  To upgrade, please run:\n",
       " $ pip install wandb --upgrade"
      ],
      "text/plain": [
       "<IPython.core.display.HTML object>"
      ]
     },
     "metadata": {},
     "output_type": "display_data"
    },
    {
     "data": {
      "text/html": [
       "Tracking run with wandb version 0.12.21"
      ],
      "text/plain": [
       "<IPython.core.display.HTML object>"
      ]
     },
     "metadata": {},
     "output_type": "display_data"
    },
    {
     "data": {
      "text/html": [
       "Run data is saved locally in <code>/Users/artemgruzdev/Documents/GitHub/Time_Series/code/wandb/run-20230524_151745-1u1n8sne</code>"
      ],
      "text/plain": [
       "<IPython.core.display.HTML object>"
      ]
     },
     "metadata": {},
     "output_type": "display_data"
    },
    {
     "data": {
      "text/html": [
       "Syncing run <strong><a href=\"https://wandb.ai/gewissta/wandb-sweeps/runs/1u1n8sne\" target=\"_blank\">aqqUQy85</a></strong> to <a href=\"https://wandb.ai/gewissta/wandb-sweeps\" target=\"_blank\">Weights & Biases</a> (<a href=\"https://wandb.me/run\" target=\"_blank\">docs</a>)<br/>"
      ],
      "text/plain": [
       "<IPython.core.display.HTML object>"
      ]
     },
     "metadata": {},
     "output_type": "display_data"
    },
    {
     "data": {
      "text/html": [
       "Waiting for W&B process to finish... <strong style=\"color:green\">(success).</strong>"
      ],
      "text/plain": [
       "<IPython.core.display.HTML object>"
      ]
     },
     "metadata": {},
     "output_type": "display_data"
    },
    {
     "data": {
      "application/vnd.jupyter.widget-view+json": {
       "model_id": "",
       "version_major": 2,
       "version_minor": 0
      },
      "text/plain": [
       "VBox(children=(Label(value='0.033 MB of 0.036 MB uploaded (0.000 MB deduped)\\r'), FloatProgress(value=0.915550…"
      ]
     },
     "metadata": {},
     "output_type": "display_data"
    },
    {
     "data": {
      "text/html": [
       "<style>\n",
       "    table.wandb td:nth-child(1) { padding: 0 10px; text-align: left ; width: auto;} td:nth-child(2) {text-align: left ; width: 100%}\n",
       "    .wandb-row { display: flex; flex-direction: row; flex-wrap: wrap; justify-content: flex-start; width: 100% }\n",
       "    .wandb-col { display: flex; flex-direction: column; flex-basis: 100%; flex: 1; padding: 10px; }\n",
       "    </style>\n",
       "<div class=\"wandb-row\"><div class=\"wandb-col\"><h3>Run history:</h3><br/><table class=\"wandb\"><tr><td>MAE_mean</td><td>▁</td></tr><tr><td>MAE_median</td><td>▁</td></tr><tr><td>MAE_percentile_25</td><td>▁</td></tr><tr><td>MAE_percentile_5</td><td>▁</td></tr><tr><td>MAE_percentile_75</td><td>▁</td></tr><tr><td>MAE_percentile_95</td><td>▁</td></tr><tr><td>MAE_std</td><td>▁</td></tr><tr><td>MSE_mean</td><td>▁</td></tr><tr><td>MSE_median</td><td>▁</td></tr><tr><td>MSE_percentile_25</td><td>▁</td></tr><tr><td>MSE_percentile_5</td><td>▁</td></tr><tr><td>MSE_percentile_75</td><td>▁</td></tr><tr><td>MSE_percentile_95</td><td>▁</td></tr><tr><td>MSE_std</td><td>▁</td></tr><tr><td>SMAPE_mean</td><td>▁</td></tr><tr><td>SMAPE_median</td><td>▁</td></tr><tr><td>SMAPE_percentile_25</td><td>▁</td></tr><tr><td>SMAPE_percentile_5</td><td>▁</td></tr><tr><td>SMAPE_percentile_75</td><td>▁</td></tr><tr><td>SMAPE_percentile_95</td><td>▁</td></tr><tr><td>SMAPE_std</td><td>▁</td></tr><tr><td>Sign_mean</td><td>▁</td></tr><tr><td>Sign_median</td><td>▁</td></tr><tr><td>Sign_percentile_25</td><td>▁</td></tr><tr><td>Sign_percentile_5</td><td>▁</td></tr><tr><td>Sign_percentile_75</td><td>▁</td></tr><tr><td>Sign_percentile_95</td><td>▁</td></tr><tr><td>Sign_std</td><td>▁</td></tr></table><br/></div><div class=\"wandb-col\"><h3>Run summary:</h3><br/><table class=\"wandb\"><tr><td>MAE_mean</td><td>38.36182</td></tr><tr><td>MAE_median</td><td>40.35705</td></tr><tr><td>MAE_percentile_25</td><td>20.87262</td></tr><tr><td>MAE_percentile_5</td><td>11.09067</td></tr><tr><td>MAE_percentile_75</td><td>57.84625</td></tr><tr><td>MAE_percentile_95</td><td>62.83965</td></tr><tr><td>MAE_std</td><td>25.99826</td></tr><tr><td>MSE_mean</td><td>2863.59524</td></tr><tr><td>MSE_median</td><td>2785.88166</td></tr><tr><td>MSE_percentile_25</td><td>718.43275</td></tr><tr><td>MSE_percentile_5</td><td>245.09056</td></tr><tr><td>MSE_percentile_75</td><td>4931.04415</td></tr><tr><td>MSE_percentile_95</td><td>5590.89892</td></tr><tr><td>MSE_std</td><td>2760.61901</td></tr><tr><td>SMAPE_mean</td><td>8.52762</td></tr><tr><td>SMAPE_median</td><td>9.09762</td></tr><tr><td>SMAPE_percentile_25</td><td>7.17095</td></tr><tr><td>SMAPE_percentile_5</td><td>5.43225</td></tr><tr><td>SMAPE_percentile_75</td><td>10.45429</td></tr><tr><td>SMAPE_percentile_95</td><td>10.82496</td></tr><tr><td>SMAPE_std</td><td>2.69034</td></tr><tr><td>Sign_mean</td><td>0.39286</td></tr><tr><td>Sign_median</td><td>0.42857</td></tr><tr><td>Sign_percentile_25</td><td>0.10714</td></tr><tr><td>Sign_percentile_5</td><td>0.02143</td></tr><tr><td>Sign_percentile_75</td><td>0.71429</td></tr><tr><td>Sign_percentile_95</td><td>0.71429</td></tr><tr><td>Sign_std</td><td>0.37571</td></tr></table><br/></div></div>"
      ],
      "text/plain": [
       "<IPython.core.display.HTML object>"
      ]
     },
     "metadata": {},
     "output_type": "display_data"
    },
    {
     "data": {
      "text/html": [
       "Synced <strong style=\"color:#cdcd00\">aqqUQy85</strong>: <a href=\"https://wandb.ai/gewissta/wandb-sweeps/runs/1u1n8sne\" target=\"_blank\">https://wandb.ai/gewissta/wandb-sweeps/runs/1u1n8sne</a><br/>Synced 5 W&B file(s), 3 media file(s), 3 artifact file(s) and 0 other file(s)"
      ],
      "text/plain": [
       "<IPython.core.display.HTML object>"
      ]
     },
     "metadata": {},
     "output_type": "display_data"
    },
    {
     "data": {
      "text/html": [
       "Find logs at: <code>./wandb/run-20230524_151745-1u1n8sne/logs</code>"
      ],
      "text/plain": [
       "<IPython.core.display.HTML object>"
      ]
     },
     "metadata": {},
     "output_type": "display_data"
    },
    {
     "name": "stderr",
     "output_type": "stream",
     "text": [
      "[Parallel(n_jobs=1)]: Done   2 out of   2 | elapsed:   57.3s remaining:    0.0s\n"
     ]
    },
    {
     "data": {
      "text/html": [
       "Changes to your `wandb` environment variables will be ignored because your `wandb` session has already started. For more information on how to modify your settings with `wandb.init()` arguments, please refer to <a href=\"https://wandb.me/wandb-init\" target=\"_blank\">the W&B docs</a>."
      ],
      "text/plain": [
       "<IPython.core.display.HTML object>"
      ]
     },
     "metadata": {},
     "output_type": "display_data"
    },
    {
     "data": {
      "text/html": [
       "wandb version 0.15.3 is available!  To upgrade, please run:\n",
       " $ pip install wandb --upgrade"
      ],
      "text/plain": [
       "<IPython.core.display.HTML object>"
      ]
     },
     "metadata": {},
     "output_type": "display_data"
    },
    {
     "data": {
      "text/html": [
       "Tracking run with wandb version 0.12.21"
      ],
      "text/plain": [
       "<IPython.core.display.HTML object>"
      ]
     },
     "metadata": {},
     "output_type": "display_data"
    },
    {
     "data": {
      "text/html": [
       "Run data is saved locally in <code>/Users/artemgruzdev/Documents/GitHub/Time_Series/code/wandb/run-20230524_151814-irc02pbw</code>"
      ],
      "text/plain": [
       "<IPython.core.display.HTML object>"
      ]
     },
     "metadata": {},
     "output_type": "display_data"
    },
    {
     "data": {
      "text/html": [
       "Syncing run <strong><a href=\"https://wandb.ai/gewissta/wandb-sweeps/runs/irc02pbw\" target=\"_blank\">aqqUQy85</a></strong> to <a href=\"https://wandb.ai/gewissta/wandb-sweeps\" target=\"_blank\">Weights & Biases</a> (<a href=\"https://wandb.me/run\" target=\"_blank\">docs</a>)<br/>"
      ],
      "text/plain": [
       "<IPython.core.display.HTML object>"
      ]
     },
     "metadata": {},
     "output_type": "display_data"
    },
    {
     "data": {
      "text/html": [
       "Waiting for W&B process to finish... <strong style=\"color:green\">(success).</strong>"
      ],
      "text/plain": [
       "<IPython.core.display.HTML object>"
      ]
     },
     "metadata": {},
     "output_type": "display_data"
    },
    {
     "data": {
      "application/vnd.jupyter.widget-view+json": {
       "model_id": "",
       "version_major": 2,
       "version_minor": 0
      },
      "text/plain": [
       "VBox(children=(Label(value='0.033 MB of 0.036 MB uploaded (0.000 MB deduped)\\r'), FloatProgress(value=0.915668…"
      ]
     },
     "metadata": {},
     "output_type": "display_data"
    },
    {
     "data": {
      "text/html": [
       "<style>\n",
       "    table.wandb td:nth-child(1) { padding: 0 10px; text-align: left ; width: auto;} td:nth-child(2) {text-align: left ; width: 100%}\n",
       "    .wandb-row { display: flex; flex-direction: row; flex-wrap: wrap; justify-content: flex-start; width: 100% }\n",
       "    .wandb-col { display: flex; flex-direction: column; flex-basis: 100%; flex: 1; padding: 10px; }\n",
       "    </style>\n",
       "<div class=\"wandb-row\"><div class=\"wandb-col\"><h3>Run history:</h3><br/><table class=\"wandb\"><tr><td>MAE_mean</td><td>▁</td></tr><tr><td>MAE_median</td><td>▁</td></tr><tr><td>MAE_percentile_25</td><td>▁</td></tr><tr><td>MAE_percentile_5</td><td>▁</td></tr><tr><td>MAE_percentile_75</td><td>▁</td></tr><tr><td>MAE_percentile_95</td><td>▁</td></tr><tr><td>MAE_std</td><td>▁</td></tr><tr><td>MSE_mean</td><td>▁</td></tr><tr><td>MSE_median</td><td>▁</td></tr><tr><td>MSE_percentile_25</td><td>▁</td></tr><tr><td>MSE_percentile_5</td><td>▁</td></tr><tr><td>MSE_percentile_75</td><td>▁</td></tr><tr><td>MSE_percentile_95</td><td>▁</td></tr><tr><td>MSE_std</td><td>▁</td></tr><tr><td>SMAPE_mean</td><td>▁</td></tr><tr><td>SMAPE_median</td><td>▁</td></tr><tr><td>SMAPE_percentile_25</td><td>▁</td></tr><tr><td>SMAPE_percentile_5</td><td>▁</td></tr><tr><td>SMAPE_percentile_75</td><td>▁</td></tr><tr><td>SMAPE_percentile_95</td><td>▁</td></tr><tr><td>SMAPE_std</td><td>▁</td></tr><tr><td>Sign_mean</td><td>▁</td></tr><tr><td>Sign_median</td><td>▁</td></tr><tr><td>Sign_percentile_25</td><td>▁</td></tr><tr><td>Sign_percentile_5</td><td>▁</td></tr><tr><td>Sign_percentile_75</td><td>▁</td></tr><tr><td>Sign_percentile_95</td><td>▁</td></tr><tr><td>Sign_std</td><td>▁</td></tr></table><br/></div><div class=\"wandb-col\"><h3>Run summary:</h3><br/><table class=\"wandb\"><tr><td>MAE_mean</td><td>29.72458</td></tr><tr><td>MAE_median</td><td>25.81161</td></tr><tr><td>MAE_percentile_25</td><td>11.18832</td></tr><tr><td>MAE_percentile_5</td><td>6.3673</td></tr><tr><td>MAE_percentile_75</td><td>44.34787</td></tr><tr><td>MAE_percentile_95</td><td>58.56004</td></tr><tr><td>MAE_std</td><td>25.82769</td></tr><tr><td>MSE_mean</td><td>2131.12878</td></tr><tr><td>MSE_median</td><td>1205.83535</td></tr><tr><td>MSE_percentile_25</td><td>257.03788</td></tr><tr><td>MSE_percentile_5</td><td>81.73224</td></tr><tr><td>MSE_percentile_75</td><td>3079.92625</td></tr><tr><td>MSE_percentile_95</td><td>5475.93613</td></tr><tr><td>MSE_std</td><td>2779.77471</td></tr><tr><td>SMAPE_mean</td><td>5.79739</td></tr><tr><td>SMAPE_median</td><td>6.38182</td></tr><tr><td>SMAPE_percentile_25</td><td>4.82261</td></tr><tr><td>SMAPE_percentile_5</td><td>3.20363</td></tr><tr><td>SMAPE_percentile_75</td><td>7.35659</td></tr><tr><td>SMAPE_percentile_95</td><td>7.57293</td></tr><tr><td>SMAPE_std</td><td>2.20506</td></tr><tr><td>Sign_mean</td><td>0.39286</td></tr><tr><td>Sign_median</td><td>0.28571</td></tr><tr><td>Sign_percentile_25</td><td>0.14286</td></tr><tr><td>Sign_percentile_5</td><td>0.14286</td></tr><tr><td>Sign_percentile_75</td><td>0.53571</td></tr><tr><td>Sign_percentile_95</td><td>0.79286</td></tr><tr><td>Sign_std</td><td>0.33756</td></tr></table><br/></div></div>"
      ],
      "text/plain": [
       "<IPython.core.display.HTML object>"
      ]
     },
     "metadata": {},
     "output_type": "display_data"
    },
    {
     "data": {
      "text/html": [
       "Synced <strong style=\"color:#cdcd00\">aqqUQy85</strong>: <a href=\"https://wandb.ai/gewissta/wandb-sweeps/runs/irc02pbw\" target=\"_blank\">https://wandb.ai/gewissta/wandb-sweeps/runs/irc02pbw</a><br/>Synced 5 W&B file(s), 3 media file(s), 3 artifact file(s) and 0 other file(s)"
      ],
      "text/plain": [
       "<IPython.core.display.HTML object>"
      ]
     },
     "metadata": {},
     "output_type": "display_data"
    },
    {
     "data": {
      "text/html": [
       "Find logs at: <code>./wandb/run-20230524_151814-irc02pbw/logs</code>"
      ],
      "text/plain": [
       "<IPython.core.display.HTML object>"
      ]
     },
     "metadata": {},
     "output_type": "display_data"
    },
    {
     "name": "stderr",
     "output_type": "stream",
     "text": [
      "[Parallel(n_jobs=1)]: Done   3 out of   3 | elapsed:  1.4min remaining:    0.0s\n"
     ]
    },
    {
     "data": {
      "text/html": [
       "Changes to your `wandb` environment variables will be ignored because your `wandb` session has already started. For more information on how to modify your settings with `wandb.init()` arguments, please refer to <a href=\"https://wandb.me/wandb-init\" target=\"_blank\">the W&B docs</a>."
      ],
      "text/plain": [
       "<IPython.core.display.HTML object>"
      ]
     },
     "metadata": {},
     "output_type": "display_data"
    },
    {
     "data": {
      "text/html": [
       "wandb version 0.15.3 is available!  To upgrade, please run:\n",
       " $ pip install wandb --upgrade"
      ],
      "text/plain": [
       "<IPython.core.display.HTML object>"
      ]
     },
     "metadata": {},
     "output_type": "display_data"
    },
    {
     "data": {
      "text/html": [
       "Tracking run with wandb version 0.12.21"
      ],
      "text/plain": [
       "<IPython.core.display.HTML object>"
      ]
     },
     "metadata": {},
     "output_type": "display_data"
    },
    {
     "data": {
      "text/html": [
       "Run data is saved locally in <code>/Users/artemgruzdev/Documents/GitHub/Time_Series/code/wandb/run-20230524_151843-1lki29e7</code>"
      ],
      "text/plain": [
       "<IPython.core.display.HTML object>"
      ]
     },
     "metadata": {},
     "output_type": "display_data"
    },
    {
     "data": {
      "text/html": [
       "Syncing run <strong><a href=\"https://wandb.ai/gewissta/wandb-sweeps/runs/1lki29e7\" target=\"_blank\">aqqUQy85</a></strong> to <a href=\"https://wandb.ai/gewissta/wandb-sweeps\" target=\"_blank\">Weights & Biases</a> (<a href=\"https://wandb.me/run\" target=\"_blank\">docs</a>)<br/>"
      ],
      "text/plain": [
       "<IPython.core.display.HTML object>"
      ]
     },
     "metadata": {},
     "output_type": "display_data"
    },
    {
     "data": {
      "text/html": [
       "Waiting for W&B process to finish... <strong style=\"color:green\">(success).</strong>"
      ],
      "text/plain": [
       "<IPython.core.display.HTML object>"
      ]
     },
     "metadata": {},
     "output_type": "display_data"
    },
    {
     "data": {
      "application/vnd.jupyter.widget-view+json": {
       "model_id": "",
       "version_major": 2,
       "version_minor": 0
      },
      "text/plain": [
       "VBox(children=(Label(value='0.033 MB of 0.036 MB uploaded (0.000 MB deduped)\\r'), FloatProgress(value=0.915624…"
      ]
     },
     "metadata": {},
     "output_type": "display_data"
    },
    {
     "data": {
      "text/html": [
       "<style>\n",
       "    table.wandb td:nth-child(1) { padding: 0 10px; text-align: left ; width: auto;} td:nth-child(2) {text-align: left ; width: 100%}\n",
       "    .wandb-row { display: flex; flex-direction: row; flex-wrap: wrap; justify-content: flex-start; width: 100% }\n",
       "    .wandb-col { display: flex; flex-direction: column; flex-basis: 100%; flex: 1; padding: 10px; }\n",
       "    </style>\n",
       "<div class=\"wandb-row\"><div class=\"wandb-col\"><h3>Run history:</h3><br/><table class=\"wandb\"><tr><td>MAE_mean</td><td>▁</td></tr><tr><td>MAE_median</td><td>▁</td></tr><tr><td>MAE_percentile_25</td><td>▁</td></tr><tr><td>MAE_percentile_5</td><td>▁</td></tr><tr><td>MAE_percentile_75</td><td>▁</td></tr><tr><td>MAE_percentile_95</td><td>▁</td></tr><tr><td>MAE_std</td><td>▁</td></tr><tr><td>MSE_mean</td><td>▁</td></tr><tr><td>MSE_median</td><td>▁</td></tr><tr><td>MSE_percentile_25</td><td>▁</td></tr><tr><td>MSE_percentile_5</td><td>▁</td></tr><tr><td>MSE_percentile_75</td><td>▁</td></tr><tr><td>MSE_percentile_95</td><td>▁</td></tr><tr><td>MSE_std</td><td>▁</td></tr><tr><td>SMAPE_mean</td><td>▁</td></tr><tr><td>SMAPE_median</td><td>▁</td></tr><tr><td>SMAPE_percentile_25</td><td>▁</td></tr><tr><td>SMAPE_percentile_5</td><td>▁</td></tr><tr><td>SMAPE_percentile_75</td><td>▁</td></tr><tr><td>SMAPE_percentile_95</td><td>▁</td></tr><tr><td>SMAPE_std</td><td>▁</td></tr><tr><td>Sign_mean</td><td>▁</td></tr><tr><td>Sign_median</td><td>▁</td></tr><tr><td>Sign_percentile_25</td><td>▁</td></tr><tr><td>Sign_percentile_5</td><td>▁</td></tr><tr><td>Sign_percentile_75</td><td>▁</td></tr><tr><td>Sign_percentile_95</td><td>▁</td></tr><tr><td>Sign_std</td><td>▁</td></tr></table><br/></div><div class=\"wandb-col\"><h3>Run summary:</h3><br/><table class=\"wandb\"><tr><td>MAE_mean</td><td>57.88605</td></tr><tr><td>MAE_median</td><td>47.08736</td></tr><tr><td>MAE_percentile_25</td><td>26.51715</td></tr><tr><td>MAE_percentile_5</td><td>24.91408</td></tr><tr><td>MAE_percentile_75</td><td>78.45626</td></tr><tr><td>MAE_percentile_95</td><td>105.9762</td></tr><tr><td>MAE_std</td><td>41.47641</td></tr><tr><td>MSE_mean</td><td>6597.90368</td></tr><tr><td>MSE_median</td><td>4831.41587</td></tr><tr><td>MSE_percentile_25</td><td>1485.82053</td></tr><tr><td>MSE_percentile_5</td><td>1118.04121</td></tr><tr><td>MSE_percentile_75</td><td>9943.49902</td></tr><tr><td>MSE_percentile_95</td><td>14550.84911</td></tr><tr><td>MSE_std</td><td>6845.07889</td></tr><tr><td>SMAPE_mean</td><td>11.67084</td></tr><tr><td>SMAPE_median</td><td>11.5016</td></tr><tr><td>SMAPE_percentile_25</td><td>11.08231</td></tr><tr><td>SMAPE_percentile_5</td><td>11.06898</td></tr><tr><td>SMAPE_percentile_75</td><td>12.09012</td></tr><tr><td>SMAPE_percentile_95</td><td>12.50964</td></tr><tr><td>SMAPE_std</td><td>0.74306</td></tr><tr><td>Sign_mean</td><td>0.53571</td></tr><tr><td>Sign_median</td><td>0.71429</td></tr><tr><td>Sign_percentile_25</td><td>0.39286</td></tr><tr><td>Sign_percentile_5</td><td>-0.03571</td></tr><tr><td>Sign_percentile_75</td><td>0.85714</td></tr><tr><td>Sign_percentile_95</td><td>0.85714</td></tr><tr><td>Sign_std</td><td>0.47201</td></tr></table><br/></div></div>"
      ],
      "text/plain": [
       "<IPython.core.display.HTML object>"
      ]
     },
     "metadata": {},
     "output_type": "display_data"
    },
    {
     "data": {
      "text/html": [
       "Synced <strong style=\"color:#cdcd00\">aqqUQy85</strong>: <a href=\"https://wandb.ai/gewissta/wandb-sweeps/runs/1lki29e7\" target=\"_blank\">https://wandb.ai/gewissta/wandb-sweeps/runs/1lki29e7</a><br/>Synced 5 W&B file(s), 3 media file(s), 3 artifact file(s) and 0 other file(s)"
      ],
      "text/plain": [
       "<IPython.core.display.HTML object>"
      ]
     },
     "metadata": {},
     "output_type": "display_data"
    },
    {
     "data": {
      "text/html": [
       "Find logs at: <code>./wandb/run-20230524_151843-1lki29e7/logs</code>"
      ],
      "text/plain": [
       "<IPython.core.display.HTML object>"
      ]
     },
     "metadata": {},
     "output_type": "display_data"
    },
    {
     "name": "stderr",
     "output_type": "stream",
     "text": [
      "[Parallel(n_jobs=1)]: Done   4 out of   4 | elapsed:  1.9min remaining:    0.0s\n"
     ]
    },
    {
     "data": {
      "text/html": [
       "Changes to your `wandb` environment variables will be ignored because your `wandb` session has already started. For more information on how to modify your settings with `wandb.init()` arguments, please refer to <a href=\"https://wandb.me/wandb-init\" target=\"_blank\">the W&B docs</a>."
      ],
      "text/plain": [
       "<IPython.core.display.HTML object>"
      ]
     },
     "metadata": {},
     "output_type": "display_data"
    },
    {
     "data": {
      "text/html": [
       "wandb version 0.15.3 is available!  To upgrade, please run:\n",
       " $ pip install wandb --upgrade"
      ],
      "text/plain": [
       "<IPython.core.display.HTML object>"
      ]
     },
     "metadata": {},
     "output_type": "display_data"
    },
    {
     "data": {
      "text/html": [
       "Tracking run with wandb version 0.12.21"
      ],
      "text/plain": [
       "<IPython.core.display.HTML object>"
      ]
     },
     "metadata": {},
     "output_type": "display_data"
    },
    {
     "data": {
      "text/html": [
       "Run data is saved locally in <code>/Users/artemgruzdev/Documents/GitHub/Time_Series/code/wandb/run-20230524_151912-u9qe39di</code>"
      ],
      "text/plain": [
       "<IPython.core.display.HTML object>"
      ]
     },
     "metadata": {},
     "output_type": "display_data"
    },
    {
     "data": {
      "text/html": [
       "Syncing run <strong><a href=\"https://wandb.ai/gewissta/wandb-sweeps/runs/u9qe39di\" target=\"_blank\">aqqUQy85</a></strong> to <a href=\"https://wandb.ai/gewissta/wandb-sweeps\" target=\"_blank\">Weights & Biases</a> (<a href=\"https://wandb.me/run\" target=\"_blank\">docs</a>)<br/>"
      ],
      "text/plain": [
       "<IPython.core.display.HTML object>"
      ]
     },
     "metadata": {},
     "output_type": "display_data"
    },
    {
     "data": {
      "text/html": [
       "Waiting for W&B process to finish... <strong style=\"color:green\">(success).</strong>"
      ],
      "text/plain": [
       "<IPython.core.display.HTML object>"
      ]
     },
     "metadata": {},
     "output_type": "display_data"
    },
    {
     "data": {
      "application/vnd.jupyter.widget-view+json": {
       "model_id": "",
       "version_major": 2,
       "version_minor": 0
      },
      "text/plain": [
       "VBox(children=(Label(value='0.032 MB of 0.035 MB uploaded (0.000 MB deduped)\\r'), FloatProgress(value=0.915142…"
      ]
     },
     "metadata": {},
     "output_type": "display_data"
    },
    {
     "data": {
      "text/html": [
       "<style>\n",
       "    table.wandb td:nth-child(1) { padding: 0 10px; text-align: left ; width: auto;} td:nth-child(2) {text-align: left ; width: 100%}\n",
       "    .wandb-row { display: flex; flex-direction: row; flex-wrap: wrap; justify-content: flex-start; width: 100% }\n",
       "    .wandb-col { display: flex; flex-direction: column; flex-basis: 100%; flex: 1; padding: 10px; }\n",
       "    </style>\n",
       "<div class=\"wandb-row\"><div class=\"wandb-col\"><h3>Run history:</h3><br/><table class=\"wandb\"><tr><td>MAE_mean</td><td>▁</td></tr><tr><td>MAE_median</td><td>▁</td></tr><tr><td>MAE_percentile_25</td><td>▁</td></tr><tr><td>MAE_percentile_5</td><td>▁</td></tr><tr><td>MAE_percentile_75</td><td>▁</td></tr><tr><td>MAE_percentile_95</td><td>▁</td></tr><tr><td>MAE_std</td><td>▁</td></tr><tr><td>MSE_mean</td><td>▁</td></tr><tr><td>MSE_median</td><td>▁</td></tr><tr><td>MSE_percentile_25</td><td>▁</td></tr><tr><td>MSE_percentile_5</td><td>▁</td></tr><tr><td>MSE_percentile_75</td><td>▁</td></tr><tr><td>MSE_percentile_95</td><td>▁</td></tr><tr><td>MSE_std</td><td>▁</td></tr><tr><td>SMAPE_mean</td><td>▁</td></tr><tr><td>SMAPE_median</td><td>▁</td></tr><tr><td>SMAPE_percentile_25</td><td>▁</td></tr><tr><td>SMAPE_percentile_5</td><td>▁</td></tr><tr><td>SMAPE_percentile_75</td><td>▁</td></tr><tr><td>SMAPE_percentile_95</td><td>▁</td></tr><tr><td>SMAPE_std</td><td>▁</td></tr><tr><td>Sign_mean</td><td>▁</td></tr><tr><td>Sign_median</td><td>▁</td></tr><tr><td>Sign_percentile_25</td><td>▁</td></tr><tr><td>Sign_percentile_5</td><td>▁</td></tr><tr><td>Sign_percentile_75</td><td>▁</td></tr><tr><td>Sign_percentile_95</td><td>▁</td></tr><tr><td>Sign_std</td><td>▁</td></tr></table><br/></div><div class=\"wandb-col\"><h3>Run summary:</h3><br/><table class=\"wandb\"><tr><td>MAE_mean</td><td>53.43969</td></tr><tr><td>MAE_median</td><td>48.2835</td></tr><tr><td>MAE_percentile_25</td><td>40.9521</td></tr><tr><td>MAE_percentile_5</td><td>27.0005</td></tr><tr><td>MAE_percentile_75</td><td>60.77109</td></tr><tr><td>MAE_percentile_95</td><td>87.09753</td></tr><tr><td>MAE_std</td><td>29.28382</td></tr><tr><td>MSE_mean</td><td>6130.09445</td></tr><tr><td>MSE_median</td><td>4590.61514</td></tr><tr><td>MSE_percentile_25</td><td>2468.93838</td></tr><tr><td>MSE_percentile_5</td><td>1317.21278</td></tr><tr><td>MSE_percentile_75</td><td>8251.77121</td></tr><tr><td>MSE_percentile_95</td><td>13098.24717</td></tr><tr><td>MSE_std</td><td>5861.11219</td></tr><tr><td>SMAPE_mean</td><td>12.79159</td></tr><tr><td>SMAPE_median</td><td>9.83483</td></tr><tr><td>SMAPE_percentile_25</td><td>9.40248</td></tr><tr><td>SMAPE_percentile_5</td><td>9.35733</td></tr><tr><td>SMAPE_percentile_75</td><td>13.22394</td></tr><tr><td>SMAPE_percentile_95</td><td>20.3653</td></tr><tr><td>SMAPE_std</td><td>6.25275</td></tr><tr><td>Sign_mean</td><td>0.39286</td></tr><tr><td>Sign_median</td><td>0.42857</td></tr><tr><td>Sign_percentile_25</td><td>0.35714</td></tr><tr><td>Sign_percentile_5</td><td>0.18571</td></tr><tr><td>Sign_percentile_75</td><td>0.46429</td></tr><tr><td>Sign_percentile_95</td><td>0.55</td></tr><tr><td>Sign_std</td><td>0.17976</td></tr></table><br/></div></div>"
      ],
      "text/plain": [
       "<IPython.core.display.HTML object>"
      ]
     },
     "metadata": {},
     "output_type": "display_data"
    },
    {
     "data": {
      "text/html": [
       "Synced <strong style=\"color:#cdcd00\">aqqUQy85</strong>: <a href=\"https://wandb.ai/gewissta/wandb-sweeps/runs/u9qe39di\" target=\"_blank\">https://wandb.ai/gewissta/wandb-sweeps/runs/u9qe39di</a><br/>Synced 5 W&B file(s), 3 media file(s), 3 artifact file(s) and 0 other file(s)"
      ],
      "text/plain": [
       "<IPython.core.display.HTML object>"
      ]
     },
     "metadata": {},
     "output_type": "display_data"
    },
    {
     "data": {
      "text/html": [
       "Find logs at: <code>./wandb/run-20230524_151912-u9qe39di/logs</code>"
      ],
      "text/plain": [
       "<IPython.core.display.HTML object>"
      ]
     },
     "metadata": {},
     "output_type": "display_data"
    },
    {
     "name": "stderr",
     "output_type": "stream",
     "text": [
      "[Parallel(n_jobs=1)]: Done   5 out of   5 | elapsed:  2.4min remaining:    0.0s\n",
      "[Parallel(n_jobs=1)]: Done   5 out of   5 | elapsed:  2.4min finished\n"
     ]
    },
    {
     "data": {
      "text/html": [
       "Changes to your `wandb` environment variables will be ignored because your `wandb` session has already started. For more information on how to modify your settings with `wandb.init()` arguments, please refer to <a href=\"https://wandb.me/wandb-init\" target=\"_blank\">the W&B docs</a>."
      ],
      "text/plain": [
       "<IPython.core.display.HTML object>"
      ]
     },
     "metadata": {},
     "output_type": "display_data"
    },
    {
     "data": {
      "text/html": [
       "wandb version 0.15.3 is available!  To upgrade, please run:\n",
       " $ pip install wandb --upgrade"
      ],
      "text/plain": [
       "<IPython.core.display.HTML object>"
      ]
     },
     "metadata": {},
     "output_type": "display_data"
    },
    {
     "data": {
      "text/html": [
       "Tracking run with wandb version 0.12.21"
      ],
      "text/plain": [
       "<IPython.core.display.HTML object>"
      ]
     },
     "metadata": {},
     "output_type": "display_data"
    },
    {
     "data": {
      "text/html": [
       "Run data is saved locally in <code>/Users/artemgruzdev/Documents/GitHub/Time_Series/code/wandb/run-20230524_151941-npun5r51</code>"
      ],
      "text/plain": [
       "<IPython.core.display.HTML object>"
      ]
     },
     "metadata": {},
     "output_type": "display_data"
    },
    {
     "data": {
      "text/html": [
       "Syncing run <strong><a href=\"https://wandb.ai/gewissta/wandb-sweeps/runs/npun5r51\" target=\"_blank\">aqqUQy85</a></strong> to <a href=\"https://wandb.ai/gewissta/wandb-sweeps\" target=\"_blank\">Weights & Biases</a> (<a href=\"https://wandb.me/run\" target=\"_blank\">docs</a>)<br/>"
      ],
      "text/plain": [
       "<IPython.core.display.HTML object>"
      ]
     },
     "metadata": {},
     "output_type": "display_data"
    },
    {
     "data": {
      "text/html": [
       "Waiting for W&B process to finish... <strong style=\"color:green\">(success).</strong>"
      ],
      "text/plain": [
       "<IPython.core.display.HTML object>"
      ]
     },
     "metadata": {},
     "output_type": "display_data"
    },
    {
     "data": {
      "application/vnd.jupyter.widget-view+json": {
       "model_id": "",
       "version_major": 2,
       "version_minor": 0
      },
      "text/plain": [
       "VBox(children=(Label(value='0.137 MB of 0.194 MB uploaded (0.000 MB deduped)\\r'), FloatProgress(value=0.708487…"
      ]
     },
     "metadata": {},
     "output_type": "display_data"
    },
    {
     "data": {
      "text/html": [
       "<style>\n",
       "    table.wandb td:nth-child(1) { padding: 0 10px; text-align: left ; width: auto;} td:nth-child(2) {text-align: left ; width: 100%}\n",
       "    .wandb-row { display: flex; flex-direction: row; flex-wrap: wrap; justify-content: flex-start; width: 100% }\n",
       "    .wandb-col { display: flex; flex-direction: column; flex-basis: 100%; flex: 1; padding: 10px; }\n",
       "    </style>\n",
       "<div class=\"wandb-row\"><div class=\"wandb-col\"><h3>Run history:</h3><br/><table class=\"wandb\"><tr><td>MAE_mean</td><td>▁</td></tr><tr><td>MAE_median</td><td>▁</td></tr><tr><td>MAE_percentile_25</td><td>▁</td></tr><tr><td>MAE_percentile_5</td><td>▁</td></tr><tr><td>MAE_percentile_75</td><td>▁</td></tr><tr><td>MAE_percentile_95</td><td>▁</td></tr><tr><td>MAE_std</td><td>▁</td></tr><tr><td>MSE_mean</td><td>▁</td></tr><tr><td>MSE_median</td><td>▁</td></tr><tr><td>MSE_percentile_25</td><td>▁</td></tr><tr><td>MSE_percentile_5</td><td>▁</td></tr><tr><td>MSE_percentile_75</td><td>▁</td></tr><tr><td>MSE_percentile_95</td><td>▁</td></tr><tr><td>MSE_std</td><td>▁</td></tr><tr><td>SMAPE_mean</td><td>▁</td></tr><tr><td>SMAPE_median</td><td>▁</td></tr><tr><td>SMAPE_percentile_25</td><td>▁</td></tr><tr><td>SMAPE_percentile_5</td><td>▁</td></tr><tr><td>SMAPE_percentile_75</td><td>▁</td></tr><tr><td>SMAPE_percentile_95</td><td>▁</td></tr><tr><td>SMAPE_std</td><td>▁</td></tr><tr><td>Sign_mean</td><td>▁</td></tr><tr><td>Sign_median</td><td>▁</td></tr><tr><td>Sign_percentile_25</td><td>▁</td></tr><tr><td>Sign_percentile_5</td><td>▁</td></tr><tr><td>Sign_percentile_75</td><td>▁</td></tr><tr><td>Sign_percentile_95</td><td>▁</td></tr><tr><td>Sign_std</td><td>▁</td></tr></table><br/></div><div class=\"wandb-col\"><h3>Run summary:</h3><br/><table class=\"wandb\"><tr><td>MAE_mean</td><td>43.30189</td></tr><tr><td>MAE_median</td><td>37.29574</td></tr><tr><td>MAE_percentile_25</td><td>20.86325</td></tr><tr><td>MAE_percentile_5</td><td>19.4994</td></tr><tr><td>MAE_percentile_75</td><td>59.73437</td></tr><tr><td>MAE_percentile_95</td><td>75.51299</td></tr><tr><td>MAE_std</td><td>28.66845</td></tr><tr><td>MSE_mean</td><td>4269.21466</td></tr><tr><td>MSE_median</td><td>3097.34778</td></tr><tr><td>MSE_percentile_25</td><td>932.05699</td></tr><tr><td>MSE_percentile_5</td><td>803.70471</td></tr><tr><td>MSE_percentile_75</td><td>6434.50545</td></tr><tr><td>MSE_percentile_95</td><td>9375.33826</td></tr><tr><td>MSE_std</td><td>4397.74115</td></tr><tr><td>SMAPE_mean</td><td>9.48297</td></tr><tr><td>SMAPE_median</td><td>9.39743</td></tr><tr><td>SMAPE_percentile_25</td><td>9.18332</td></tr><tr><td>SMAPE_percentile_5</td><td>8.94796</td></tr><tr><td>SMAPE_percentile_75</td><td>9.69708</td></tr><tr><td>SMAPE_percentile_95</td><td>10.13774</td></tr><tr><td>SMAPE_std</td><td>0.57136</td></tr><tr><td>Sign_mean</td><td>0.33571</td></tr><tr><td>Sign_median</td><td>0.32857</td></tr><tr><td>Sign_percentile_25</td><td>0.27857</td></tr><tr><td>Sign_percentile_5</td><td>0.19286</td></tr><tr><td>Sign_percentile_75</td><td>0.38571</td></tr><tr><td>Sign_percentile_95</td><td>0.48857</td></tr><tr><td>Sign_std</td><td>0.1407</td></tr></table><br/></div></div>"
      ],
      "text/plain": [
       "<IPython.core.display.HTML object>"
      ]
     },
     "metadata": {},
     "output_type": "display_data"
    },
    {
     "data": {
      "text/html": [
       "Synced <strong style=\"color:#cdcd00\">aqqUQy85</strong>: <a href=\"https://wandb.ai/gewissta/wandb-sweeps/runs/npun5r51\" target=\"_blank\">https://wandb.ai/gewissta/wandb-sweeps/runs/npun5r51</a><br/>Synced 5 W&B file(s), 4 media file(s), 3 artifact file(s) and 0 other file(s)"
      ],
      "text/plain": [
       "<IPython.core.display.HTML object>"
      ]
     },
     "metadata": {},
     "output_type": "display_data"
    },
    {
     "data": {
      "text/html": [
       "Find logs at: <code>./wandb/run-20230524_151941-npun5r51/logs</code>"
      ],
      "text/plain": [
       "<IPython.core.display.HTML object>"
      ]
     },
     "metadata": {},
     "output_type": "display_data"
    },
    {
     "name": "stderr",
     "output_type": "stream",
     "text": [
      "\u001b[32m[I 2023-05-24 15:20:09,668]\u001b[0m Trial 1 finished with value: 43.30188972892675 and parameters: {'iterations': 67, 'depth': 9, 'lags': 9}. Best is trial 1 with value: 43.30188972892675.\u001b[0m\n",
      "[Parallel(n_jobs=1)]: Using backend SequentialBackend with 1 concurrent workers.\n"
     ]
    },
    {
     "data": {
      "text/html": [
       "Changes to your `wandb` environment variables will be ignored because your `wandb` session has already started. For more information on how to modify your settings with `wandb.init()` arguments, please refer to <a href=\"https://wandb.me/wandb-init\" target=\"_blank\">the W&B docs</a>."
      ],
      "text/plain": [
       "<IPython.core.display.HTML object>"
      ]
     },
     "metadata": {},
     "output_type": "display_data"
    },
    {
     "data": {
      "text/html": [
       "wandb version 0.15.3 is available!  To upgrade, please run:\n",
       " $ pip install wandb --upgrade"
      ],
      "text/plain": [
       "<IPython.core.display.HTML object>"
      ]
     },
     "metadata": {},
     "output_type": "display_data"
    },
    {
     "data": {
      "text/html": [
       "Tracking run with wandb version 0.12.21"
      ],
      "text/plain": [
       "<IPython.core.display.HTML object>"
      ]
     },
     "metadata": {},
     "output_type": "display_data"
    },
    {
     "data": {
      "text/html": [
       "Run data is saved locally in <code>/Users/artemgruzdev/Documents/GitHub/Time_Series/code/wandb/run-20230524_152009-3h4vdvjv</code>"
      ],
      "text/plain": [
       "<IPython.core.display.HTML object>"
      ]
     },
     "metadata": {},
     "output_type": "display_data"
    },
    {
     "data": {
      "text/html": [
       "Syncing run <strong><a href=\"https://wandb.ai/gewissta/wandb-sweeps/runs/3h4vdvjv\" target=\"_blank\">f8FbL8sN</a></strong> to <a href=\"https://wandb.ai/gewissta/wandb-sweeps\" target=\"_blank\">Weights & Biases</a> (<a href=\"https://wandb.me/run\" target=\"_blank\">docs</a>)<br/>"
      ],
      "text/plain": [
       "<IPython.core.display.HTML object>"
      ]
     },
     "metadata": {},
     "output_type": "display_data"
    },
    {
     "data": {
      "text/html": [
       "Waiting for W&B process to finish... <strong style=\"color:green\">(success).</strong>"
      ],
      "text/plain": [
       "<IPython.core.display.HTML object>"
      ]
     },
     "metadata": {},
     "output_type": "display_data"
    },
    {
     "data": {
      "application/vnd.jupyter.widget-view+json": {
       "model_id": "",
       "version_major": 2,
       "version_minor": 0
      },
      "text/plain": [
       "VBox(children=(Label(value='0.000 MB of 0.000 MB uploaded (0.000 MB deduped)\\r'), FloatProgress(value=1.0, max…"
      ]
     },
     "metadata": {},
     "output_type": "display_data"
    },
    {
     "data": {
      "text/html": [
       "Synced <strong style=\"color:#cdcd00\">f8FbL8sN</strong>: <a href=\"https://wandb.ai/gewissta/wandb-sweeps/runs/3h4vdvjv\" target=\"_blank\">https://wandb.ai/gewissta/wandb-sweeps/runs/3h4vdvjv</a><br/>Synced 5 W&B file(s), 0 media file(s), 0 artifact file(s) and 0 other file(s)"
      ],
      "text/plain": [
       "<IPython.core.display.HTML object>"
      ]
     },
     "metadata": {},
     "output_type": "display_data"
    },
    {
     "data": {
      "text/html": [
       "Find logs at: <code>./wandb/run-20230524_152009-3h4vdvjv/logs</code>"
      ],
      "text/plain": [
       "<IPython.core.display.HTML object>"
      ]
     },
     "metadata": {},
     "output_type": "display_data"
    },
    {
     "name": "stderr",
     "output_type": "stream",
     "text": [
      "[Parallel(n_jobs=1)]: Done   1 out of   1 | elapsed:   19.8s remaining:    0.0s\n"
     ]
    },
    {
     "data": {
      "text/html": [
       "Changes to your `wandb` environment variables will be ignored because your `wandb` session has already started. For more information on how to modify your settings with `wandb.init()` arguments, please refer to <a href=\"https://wandb.me/wandb-init\" target=\"_blank\">the W&B docs</a>."
      ],
      "text/plain": [
       "<IPython.core.display.HTML object>"
      ]
     },
     "metadata": {},
     "output_type": "display_data"
    },
    {
     "data": {
      "text/html": [
       "wandb version 0.15.3 is available!  To upgrade, please run:\n",
       " $ pip install wandb --upgrade"
      ],
      "text/plain": [
       "<IPython.core.display.HTML object>"
      ]
     },
     "metadata": {},
     "output_type": "display_data"
    },
    {
     "data": {
      "text/html": [
       "Tracking run with wandb version 0.12.21"
      ],
      "text/plain": [
       "<IPython.core.display.HTML object>"
      ]
     },
     "metadata": {},
     "output_type": "display_data"
    },
    {
     "data": {
      "text/html": [
       "Run data is saved locally in <code>/Users/artemgruzdev/Documents/GitHub/Time_Series/code/wandb/run-20230524_152029-2tfdbvx3</code>"
      ],
      "text/plain": [
       "<IPython.core.display.HTML object>"
      ]
     },
     "metadata": {},
     "output_type": "display_data"
    },
    {
     "data": {
      "text/html": [
       "Syncing run <strong><a href=\"https://wandb.ai/gewissta/wandb-sweeps/runs/2tfdbvx3\" target=\"_blank\">f8FbL8sN</a></strong> to <a href=\"https://wandb.ai/gewissta/wandb-sweeps\" target=\"_blank\">Weights & Biases</a> (<a href=\"https://wandb.me/run\" target=\"_blank\">docs</a>)<br/>"
      ],
      "text/plain": [
       "<IPython.core.display.HTML object>"
      ]
     },
     "metadata": {},
     "output_type": "display_data"
    },
    {
     "data": {
      "text/html": [
       "Waiting for W&B process to finish... <strong style=\"color:green\">(success).</strong>"
      ],
      "text/plain": [
       "<IPython.core.display.HTML object>"
      ]
     },
     "metadata": {},
     "output_type": "display_data"
    },
    {
     "data": {
      "application/vnd.jupyter.widget-view+json": {
       "model_id": "",
       "version_major": 2,
       "version_minor": 0
      },
      "text/plain": [
       "VBox(children=(Label(value='0.000 MB of 0.000 MB uploaded (0.000 MB deduped)\\r'), FloatProgress(value=1.0, max…"
      ]
     },
     "metadata": {},
     "output_type": "display_data"
    },
    {
     "data": {
      "text/html": [
       "Synced <strong style=\"color:#cdcd00\">f8FbL8sN</strong>: <a href=\"https://wandb.ai/gewissta/wandb-sweeps/runs/2tfdbvx3\" target=\"_blank\">https://wandb.ai/gewissta/wandb-sweeps/runs/2tfdbvx3</a><br/>Synced 5 W&B file(s), 0 media file(s), 0 artifact file(s) and 0 other file(s)"
      ],
      "text/plain": [
       "<IPython.core.display.HTML object>"
      ]
     },
     "metadata": {},
     "output_type": "display_data"
    },
    {
     "data": {
      "text/html": [
       "Find logs at: <code>./wandb/run-20230524_152029-2tfdbvx3/logs</code>"
      ],
      "text/plain": [
       "<IPython.core.display.HTML object>"
      ]
     },
     "metadata": {},
     "output_type": "display_data"
    },
    {
     "name": "stderr",
     "output_type": "stream",
     "text": [
      "[Parallel(n_jobs=1)]: Done   2 out of   2 | elapsed:   40.6s remaining:    0.0s\n"
     ]
    },
    {
     "data": {
      "text/html": [
       "Changes to your `wandb` environment variables will be ignored because your `wandb` session has already started. For more information on how to modify your settings with `wandb.init()` arguments, please refer to <a href=\"https://wandb.me/wandb-init\" target=\"_blank\">the W&B docs</a>."
      ],
      "text/plain": [
       "<IPython.core.display.HTML object>"
      ]
     },
     "metadata": {},
     "output_type": "display_data"
    },
    {
     "data": {
      "text/html": [
       "wandb version 0.15.3 is available!  To upgrade, please run:\n",
       " $ pip install wandb --upgrade"
      ],
      "text/plain": [
       "<IPython.core.display.HTML object>"
      ]
     },
     "metadata": {},
     "output_type": "display_data"
    },
    {
     "data": {
      "text/html": [
       "Tracking run with wandb version 0.12.21"
      ],
      "text/plain": [
       "<IPython.core.display.HTML object>"
      ]
     },
     "metadata": {},
     "output_type": "display_data"
    },
    {
     "data": {
      "text/html": [
       "Run data is saved locally in <code>/Users/artemgruzdev/Documents/GitHub/Time_Series/code/wandb/run-20230524_152050-3ovilaan</code>"
      ],
      "text/plain": [
       "<IPython.core.display.HTML object>"
      ]
     },
     "metadata": {},
     "output_type": "display_data"
    },
    {
     "data": {
      "text/html": [
       "Syncing run <strong><a href=\"https://wandb.ai/gewissta/wandb-sweeps/runs/3ovilaan\" target=\"_blank\">f8FbL8sN</a></strong> to <a href=\"https://wandb.ai/gewissta/wandb-sweeps\" target=\"_blank\">Weights & Biases</a> (<a href=\"https://wandb.me/run\" target=\"_blank\">docs</a>)<br/>"
      ],
      "text/plain": [
       "<IPython.core.display.HTML object>"
      ]
     },
     "metadata": {},
     "output_type": "display_data"
    },
    {
     "data": {
      "text/html": [
       "Waiting for W&B process to finish... <strong style=\"color:green\">(success).</strong>"
      ],
      "text/plain": [
       "<IPython.core.display.HTML object>"
      ]
     },
     "metadata": {},
     "output_type": "display_data"
    },
    {
     "data": {
      "application/vnd.jupyter.widget-view+json": {
       "model_id": "",
       "version_major": 2,
       "version_minor": 0
      },
      "text/plain": [
       "VBox(children=(Label(value='0.000 MB of 0.001 MB uploaded (0.000 MB deduped)\\r'), FloatProgress(value=0.0, max…"
      ]
     },
     "metadata": {},
     "output_type": "display_data"
    },
    {
     "data": {
      "text/html": [
       "Synced <strong style=\"color:#cdcd00\">f8FbL8sN</strong>: <a href=\"https://wandb.ai/gewissta/wandb-sweeps/runs/3ovilaan\" target=\"_blank\">https://wandb.ai/gewissta/wandb-sweeps/runs/3ovilaan</a><br/>Synced 5 W&B file(s), 0 media file(s), 0 artifact file(s) and 0 other file(s)"
      ],
      "text/plain": [
       "<IPython.core.display.HTML object>"
      ]
     },
     "metadata": {},
     "output_type": "display_data"
    },
    {
     "data": {
      "text/html": [
       "Find logs at: <code>./wandb/run-20230524_152050-3ovilaan/logs</code>"
      ],
      "text/plain": [
       "<IPython.core.display.HTML object>"
      ]
     },
     "metadata": {},
     "output_type": "display_data"
    },
    {
     "name": "stderr",
     "output_type": "stream",
     "text": [
      "[Parallel(n_jobs=1)]: Done   3 out of   3 | elapsed:  1.1min remaining:    0.0s\n"
     ]
    },
    {
     "data": {
      "text/html": [
       "Changes to your `wandb` environment variables will be ignored because your `wandb` session has already started. For more information on how to modify your settings with `wandb.init()` arguments, please refer to <a href=\"https://wandb.me/wandb-init\" target=\"_blank\">the W&B docs</a>."
      ],
      "text/plain": [
       "<IPython.core.display.HTML object>"
      ]
     },
     "metadata": {},
     "output_type": "display_data"
    },
    {
     "data": {
      "text/html": [
       "wandb version 0.15.3 is available!  To upgrade, please run:\n",
       " $ pip install wandb --upgrade"
      ],
      "text/plain": [
       "<IPython.core.display.HTML object>"
      ]
     },
     "metadata": {},
     "output_type": "display_data"
    },
    {
     "data": {
      "text/html": [
       "Tracking run with wandb version 0.12.21"
      ],
      "text/plain": [
       "<IPython.core.display.HTML object>"
      ]
     },
     "metadata": {},
     "output_type": "display_data"
    },
    {
     "data": {
      "text/html": [
       "Run data is saved locally in <code>/Users/artemgruzdev/Documents/GitHub/Time_Series/code/wandb/run-20230524_152114-c8vjomsh</code>"
      ],
      "text/plain": [
       "<IPython.core.display.HTML object>"
      ]
     },
     "metadata": {},
     "output_type": "display_data"
    },
    {
     "data": {
      "text/html": [
       "Syncing run <strong><a href=\"https://wandb.ai/gewissta/wandb-sweeps/runs/c8vjomsh\" target=\"_blank\">f8FbL8sN</a></strong> to <a href=\"https://wandb.ai/gewissta/wandb-sweeps\" target=\"_blank\">Weights & Biases</a> (<a href=\"https://wandb.me/run\" target=\"_blank\">docs</a>)<br/>"
      ],
      "text/plain": [
       "<IPython.core.display.HTML object>"
      ]
     },
     "metadata": {},
     "output_type": "display_data"
    },
    {
     "data": {
      "text/html": [
       "Waiting for W&B process to finish... <strong style=\"color:green\">(success).</strong>"
      ],
      "text/plain": [
       "<IPython.core.display.HTML object>"
      ]
     },
     "metadata": {},
     "output_type": "display_data"
    },
    {
     "data": {
      "application/vnd.jupyter.widget-view+json": {
       "model_id": "",
       "version_major": 2,
       "version_minor": 0
      },
      "text/plain": [
       "VBox(children=(Label(value='0.000 MB of 0.000 MB uploaded (0.000 MB deduped)\\r'), FloatProgress(value=1.0, max…"
      ]
     },
     "metadata": {},
     "output_type": "display_data"
    },
    {
     "data": {
      "text/html": [
       "Synced <strong style=\"color:#cdcd00\">f8FbL8sN</strong>: <a href=\"https://wandb.ai/gewissta/wandb-sweeps/runs/c8vjomsh\" target=\"_blank\">https://wandb.ai/gewissta/wandb-sweeps/runs/c8vjomsh</a><br/>Synced 5 W&B file(s), 0 media file(s), 0 artifact file(s) and 0 other file(s)"
      ],
      "text/plain": [
       "<IPython.core.display.HTML object>"
      ]
     },
     "metadata": {},
     "output_type": "display_data"
    },
    {
     "data": {
      "text/html": [
       "Find logs at: <code>./wandb/run-20230524_152114-c8vjomsh/logs</code>"
      ],
      "text/plain": [
       "<IPython.core.display.HTML object>"
      ]
     },
     "metadata": {},
     "output_type": "display_data"
    },
    {
     "name": "stderr",
     "output_type": "stream",
     "text": [
      "[Parallel(n_jobs=1)]: Done   4 out of   4 | elapsed:  1.4min remaining:    0.0s\n"
     ]
    },
    {
     "data": {
      "text/html": [
       "Changes to your `wandb` environment variables will be ignored because your `wandb` session has already started. For more information on how to modify your settings with `wandb.init()` arguments, please refer to <a href=\"https://wandb.me/wandb-init\" target=\"_blank\">the W&B docs</a>."
      ],
      "text/plain": [
       "<IPython.core.display.HTML object>"
      ]
     },
     "metadata": {},
     "output_type": "display_data"
    },
    {
     "data": {
      "text/html": [
       "wandb version 0.15.3 is available!  To upgrade, please run:\n",
       " $ pip install wandb --upgrade"
      ],
      "text/plain": [
       "<IPython.core.display.HTML object>"
      ]
     },
     "metadata": {},
     "output_type": "display_data"
    },
    {
     "data": {
      "text/html": [
       "Tracking run with wandb version 0.12.21"
      ],
      "text/plain": [
       "<IPython.core.display.HTML object>"
      ]
     },
     "metadata": {},
     "output_type": "display_data"
    },
    {
     "data": {
      "text/html": [
       "Run data is saved locally in <code>/Users/artemgruzdev/Documents/GitHub/Time_Series/code/wandb/run-20230524_152134-1xtitsd4</code>"
      ],
      "text/plain": [
       "<IPython.core.display.HTML object>"
      ]
     },
     "metadata": {},
     "output_type": "display_data"
    },
    {
     "data": {
      "text/html": [
       "Syncing run <strong><a href=\"https://wandb.ai/gewissta/wandb-sweeps/runs/1xtitsd4\" target=\"_blank\">f8FbL8sN</a></strong> to <a href=\"https://wandb.ai/gewissta/wandb-sweeps\" target=\"_blank\">Weights & Biases</a> (<a href=\"https://wandb.me/run\" target=\"_blank\">docs</a>)<br/>"
      ],
      "text/plain": [
       "<IPython.core.display.HTML object>"
      ]
     },
     "metadata": {},
     "output_type": "display_data"
    },
    {
     "data": {
      "text/html": [
       "Waiting for W&B process to finish... <strong style=\"color:green\">(success).</strong>"
      ],
      "text/plain": [
       "<IPython.core.display.HTML object>"
      ]
     },
     "metadata": {},
     "output_type": "display_data"
    },
    {
     "data": {
      "application/vnd.jupyter.widget-view+json": {
       "model_id": "",
       "version_major": 2,
       "version_minor": 0
      },
      "text/plain": [
       "VBox(children=(Label(value='0.000 MB of 0.000 MB uploaded (0.000 MB deduped)\\r'), FloatProgress(value=1.0, max…"
      ]
     },
     "metadata": {},
     "output_type": "display_data"
    },
    {
     "data": {
      "text/html": [
       "Synced <strong style=\"color:#cdcd00\">f8FbL8sN</strong>: <a href=\"https://wandb.ai/gewissta/wandb-sweeps/runs/1xtitsd4\" target=\"_blank\">https://wandb.ai/gewissta/wandb-sweeps/runs/1xtitsd4</a><br/>Synced 5 W&B file(s), 0 media file(s), 0 artifact file(s) and 0 other file(s)"
      ],
      "text/plain": [
       "<IPython.core.display.HTML object>"
      ]
     },
     "metadata": {},
     "output_type": "display_data"
    },
    {
     "data": {
      "text/html": [
       "Find logs at: <code>./wandb/run-20230524_152134-1xtitsd4/logs</code>"
      ],
      "text/plain": [
       "<IPython.core.display.HTML object>"
      ]
     },
     "metadata": {},
     "output_type": "display_data"
    },
    {
     "name": "stderr",
     "output_type": "stream",
     "text": [
      "[Parallel(n_jobs=1)]: Done   5 out of   5 | elapsed:  1.8min remaining:    0.0s\n",
      "[Parallel(n_jobs=1)]: Done   5 out of   5 | elapsed:  1.8min finished\n",
      "[Parallel(n_jobs=1)]: Using backend SequentialBackend with 1 concurrent workers.\n"
     ]
    },
    {
     "data": {
      "text/html": [
       "Changes to your `wandb` environment variables will be ignored because your `wandb` session has already started. For more information on how to modify your settings with `wandb.init()` arguments, please refer to <a href=\"https://wandb.me/wandb-init\" target=\"_blank\">the W&B docs</a>."
      ],
      "text/plain": [
       "<IPython.core.display.HTML object>"
      ]
     },
     "metadata": {},
     "output_type": "display_data"
    },
    {
     "data": {
      "text/html": [
       "wandb version 0.15.3 is available!  To upgrade, please run:\n",
       " $ pip install wandb --upgrade"
      ],
      "text/plain": [
       "<IPython.core.display.HTML object>"
      ]
     },
     "metadata": {},
     "output_type": "display_data"
    },
    {
     "data": {
      "text/html": [
       "Tracking run with wandb version 0.12.21"
      ],
      "text/plain": [
       "<IPython.core.display.HTML object>"
      ]
     },
     "metadata": {},
     "output_type": "display_data"
    },
    {
     "data": {
      "text/html": [
       "Run data is saved locally in <code>/Users/artemgruzdev/Documents/GitHub/Time_Series/code/wandb/run-20230524_152155-1ltjww6w</code>"
      ],
      "text/plain": [
       "<IPython.core.display.HTML object>"
      ]
     },
     "metadata": {},
     "output_type": "display_data"
    },
    {
     "data": {
      "text/html": [
       "Syncing run <strong><a href=\"https://wandb.ai/gewissta/wandb-sweeps/runs/1ltjww6w\" target=\"_blank\">f8FbL8sN</a></strong> to <a href=\"https://wandb.ai/gewissta/wandb-sweeps\" target=\"_blank\">Weights & Biases</a> (<a href=\"https://wandb.me/run\" target=\"_blank\">docs</a>)<br/>"
      ],
      "text/plain": [
       "<IPython.core.display.HTML object>"
      ]
     },
     "metadata": {},
     "output_type": "display_data"
    },
    {
     "data": {
      "text/html": [
       "Waiting for W&B process to finish... <strong style=\"color:green\">(success).</strong>"
      ],
      "text/plain": [
       "<IPython.core.display.HTML object>"
      ]
     },
     "metadata": {},
     "output_type": "display_data"
    },
    {
     "data": {
      "application/vnd.jupyter.widget-view+json": {
       "model_id": "",
       "version_major": 2,
       "version_minor": 0
      },
      "text/plain": [
       "VBox(children=(Label(value='0.000 MB of 0.001 MB uploaded (0.000 MB deduped)\\r'), FloatProgress(value=0.0, max…"
      ]
     },
     "metadata": {},
     "output_type": "display_data"
    },
    {
     "data": {
      "text/html": [
       "Synced <strong style=\"color:#cdcd00\">f8FbL8sN</strong>: <a href=\"https://wandb.ai/gewissta/wandb-sweeps/runs/1ltjww6w\" target=\"_blank\">https://wandb.ai/gewissta/wandb-sweeps/runs/1ltjww6w</a><br/>Synced 5 W&B file(s), 0 media file(s), 0 artifact file(s) and 0 other file(s)"
      ],
      "text/plain": [
       "<IPython.core.display.HTML object>"
      ]
     },
     "metadata": {},
     "output_type": "display_data"
    },
    {
     "data": {
      "text/html": [
       "Find logs at: <code>./wandb/run-20230524_152155-1ltjww6w/logs</code>"
      ],
      "text/plain": [
       "<IPython.core.display.HTML object>"
      ]
     },
     "metadata": {},
     "output_type": "display_data"
    },
    {
     "name": "stderr",
     "output_type": "stream",
     "text": [
      "[Parallel(n_jobs=1)]: Done   1 out of   1 | elapsed:   20.8s remaining:    0.0s\n"
     ]
    },
    {
     "data": {
      "text/html": [
       "Changes to your `wandb` environment variables will be ignored because your `wandb` session has already started. For more information on how to modify your settings with `wandb.init()` arguments, please refer to <a href=\"https://wandb.me/wandb-init\" target=\"_blank\">the W&B docs</a>."
      ],
      "text/plain": [
       "<IPython.core.display.HTML object>"
      ]
     },
     "metadata": {},
     "output_type": "display_data"
    },
    {
     "data": {
      "text/html": [
       "wandb version 0.15.3 is available!  To upgrade, please run:\n",
       " $ pip install wandb --upgrade"
      ],
      "text/plain": [
       "<IPython.core.display.HTML object>"
      ]
     },
     "metadata": {},
     "output_type": "display_data"
    },
    {
     "data": {
      "text/html": [
       "Tracking run with wandb version 0.12.21"
      ],
      "text/plain": [
       "<IPython.core.display.HTML object>"
      ]
     },
     "metadata": {},
     "output_type": "display_data"
    },
    {
     "data": {
      "text/html": [
       "Run data is saved locally in <code>/Users/artemgruzdev/Documents/GitHub/Time_Series/code/wandb/run-20230524_152216-1rf4pa2u</code>"
      ],
      "text/plain": [
       "<IPython.core.display.HTML object>"
      ]
     },
     "metadata": {},
     "output_type": "display_data"
    },
    {
     "data": {
      "text/html": [
       "Syncing run <strong><a href=\"https://wandb.ai/gewissta/wandb-sweeps/runs/1rf4pa2u\" target=\"_blank\">f8FbL8sN</a></strong> to <a href=\"https://wandb.ai/gewissta/wandb-sweeps\" target=\"_blank\">Weights & Biases</a> (<a href=\"https://wandb.me/run\" target=\"_blank\">docs</a>)<br/>"
      ],
      "text/plain": [
       "<IPython.core.display.HTML object>"
      ]
     },
     "metadata": {},
     "output_type": "display_data"
    },
    {
     "data": {
      "text/html": [
       "Waiting for W&B process to finish... <strong style=\"color:green\">(success).</strong>"
      ],
      "text/plain": [
       "<IPython.core.display.HTML object>"
      ]
     },
     "metadata": {},
     "output_type": "display_data"
    },
    {
     "data": {
      "application/vnd.jupyter.widget-view+json": {
       "model_id": "",
       "version_major": 2,
       "version_minor": 0
      },
      "text/plain": [
       "VBox(children=(Label(value='0.000 MB of 0.000 MB uploaded (0.000 MB deduped)\\r'), FloatProgress(value=1.0, max…"
      ]
     },
     "metadata": {},
     "output_type": "display_data"
    },
    {
     "data": {
      "text/html": [
       "Synced <strong style=\"color:#cdcd00\">f8FbL8sN</strong>: <a href=\"https://wandb.ai/gewissta/wandb-sweeps/runs/1rf4pa2u\" target=\"_blank\">https://wandb.ai/gewissta/wandb-sweeps/runs/1rf4pa2u</a><br/>Synced 5 W&B file(s), 0 media file(s), 0 artifact file(s) and 0 other file(s)"
      ],
      "text/plain": [
       "<IPython.core.display.HTML object>"
      ]
     },
     "metadata": {},
     "output_type": "display_data"
    },
    {
     "data": {
      "text/html": [
       "Find logs at: <code>./wandb/run-20230524_152216-1rf4pa2u/logs</code>"
      ],
      "text/plain": [
       "<IPython.core.display.HTML object>"
      ]
     },
     "metadata": {},
     "output_type": "display_data"
    },
    {
     "name": "stderr",
     "output_type": "stream",
     "text": [
      "[Parallel(n_jobs=1)]: Done   2 out of   2 | elapsed:   40.7s remaining:    0.0s\n"
     ]
    },
    {
     "data": {
      "text/html": [
       "Changes to your `wandb` environment variables will be ignored because your `wandb` session has already started. For more information on how to modify your settings with `wandb.init()` arguments, please refer to <a href=\"https://wandb.me/wandb-init\" target=\"_blank\">the W&B docs</a>."
      ],
      "text/plain": [
       "<IPython.core.display.HTML object>"
      ]
     },
     "metadata": {},
     "output_type": "display_data"
    },
    {
     "data": {
      "text/html": [
       "wandb version 0.15.3 is available!  To upgrade, please run:\n",
       " $ pip install wandb --upgrade"
      ],
      "text/plain": [
       "<IPython.core.display.HTML object>"
      ]
     },
     "metadata": {},
     "output_type": "display_data"
    },
    {
     "data": {
      "text/html": [
       "Tracking run with wandb version 0.12.21"
      ],
      "text/plain": [
       "<IPython.core.display.HTML object>"
      ]
     },
     "metadata": {},
     "output_type": "display_data"
    },
    {
     "data": {
      "text/html": [
       "Run data is saved locally in <code>/Users/artemgruzdev/Documents/GitHub/Time_Series/code/wandb/run-20230524_152236-2i6wq3s3</code>"
      ],
      "text/plain": [
       "<IPython.core.display.HTML object>"
      ]
     },
     "metadata": {},
     "output_type": "display_data"
    },
    {
     "data": {
      "text/html": [
       "Syncing run <strong><a href=\"https://wandb.ai/gewissta/wandb-sweeps/runs/2i6wq3s3\" target=\"_blank\">f8FbL8sN</a></strong> to <a href=\"https://wandb.ai/gewissta/wandb-sweeps\" target=\"_blank\">Weights & Biases</a> (<a href=\"https://wandb.me/run\" target=\"_blank\">docs</a>)<br/>"
      ],
      "text/plain": [
       "<IPython.core.display.HTML object>"
      ]
     },
     "metadata": {},
     "output_type": "display_data"
    },
    {
     "data": {
      "text/html": [
       "Waiting for W&B process to finish... <strong style=\"color:green\">(success).</strong>"
      ],
      "text/plain": [
       "<IPython.core.display.HTML object>"
      ]
     },
     "metadata": {},
     "output_type": "display_data"
    },
    {
     "data": {
      "application/vnd.jupyter.widget-view+json": {
       "model_id": "",
       "version_major": 2,
       "version_minor": 0
      },
      "text/plain": [
       "VBox(children=(Label(value='0.000 MB of 0.000 MB uploaded (0.000 MB deduped)\\r'), FloatProgress(value=1.0, max…"
      ]
     },
     "metadata": {},
     "output_type": "display_data"
    },
    {
     "data": {
      "text/html": [
       "Synced <strong style=\"color:#cdcd00\">f8FbL8sN</strong>: <a href=\"https://wandb.ai/gewissta/wandb-sweeps/runs/2i6wq3s3\" target=\"_blank\">https://wandb.ai/gewissta/wandb-sweeps/runs/2i6wq3s3</a><br/>Synced 5 W&B file(s), 0 media file(s), 0 artifact file(s) and 0 other file(s)"
      ],
      "text/plain": [
       "<IPython.core.display.HTML object>"
      ]
     },
     "metadata": {},
     "output_type": "display_data"
    },
    {
     "data": {
      "text/html": [
       "Find logs at: <code>./wandb/run-20230524_152236-2i6wq3s3/logs</code>"
      ],
      "text/plain": [
       "<IPython.core.display.HTML object>"
      ]
     },
     "metadata": {},
     "output_type": "display_data"
    },
    {
     "name": "stderr",
     "output_type": "stream",
     "text": [
      "[Parallel(n_jobs=1)]: Done   3 out of   3 | elapsed:  1.0min remaining:    0.0s\n"
     ]
    },
    {
     "data": {
      "text/html": [
       "Changes to your `wandb` environment variables will be ignored because your `wandb` session has already started. For more information on how to modify your settings with `wandb.init()` arguments, please refer to <a href=\"https://wandb.me/wandb-init\" target=\"_blank\">the W&B docs</a>."
      ],
      "text/plain": [
       "<IPython.core.display.HTML object>"
      ]
     },
     "metadata": {},
     "output_type": "display_data"
    },
    {
     "data": {
      "text/html": [
       "wandb version 0.15.3 is available!  To upgrade, please run:\n",
       " $ pip install wandb --upgrade"
      ],
      "text/plain": [
       "<IPython.core.display.HTML object>"
      ]
     },
     "metadata": {},
     "output_type": "display_data"
    },
    {
     "data": {
      "text/html": [
       "Tracking run with wandb version 0.12.21"
      ],
      "text/plain": [
       "<IPython.core.display.HTML object>"
      ]
     },
     "metadata": {},
     "output_type": "display_data"
    },
    {
     "data": {
      "text/html": [
       "Run data is saved locally in <code>/Users/artemgruzdev/Documents/GitHub/Time_Series/code/wandb/run-20230524_152256-1njui43t</code>"
      ],
      "text/plain": [
       "<IPython.core.display.HTML object>"
      ]
     },
     "metadata": {},
     "output_type": "display_data"
    },
    {
     "data": {
      "text/html": [
       "Syncing run <strong><a href=\"https://wandb.ai/gewissta/wandb-sweeps/runs/1njui43t\" target=\"_blank\">f8FbL8sN</a></strong> to <a href=\"https://wandb.ai/gewissta/wandb-sweeps\" target=\"_blank\">Weights & Biases</a> (<a href=\"https://wandb.me/run\" target=\"_blank\">docs</a>)<br/>"
      ],
      "text/plain": [
       "<IPython.core.display.HTML object>"
      ]
     },
     "metadata": {},
     "output_type": "display_data"
    },
    {
     "data": {
      "text/html": [
       "Waiting for W&B process to finish... <strong style=\"color:green\">(success).</strong>"
      ],
      "text/plain": [
       "<IPython.core.display.HTML object>"
      ]
     },
     "metadata": {},
     "output_type": "display_data"
    },
    {
     "data": {
      "application/vnd.jupyter.widget-view+json": {
       "model_id": "",
       "version_major": 2,
       "version_minor": 0
      },
      "text/plain": [
       "VBox(children=(Label(value='0.000 MB of 0.000 MB uploaded (0.000 MB deduped)\\r'), FloatProgress(value=1.0, max…"
      ]
     },
     "metadata": {},
     "output_type": "display_data"
    },
    {
     "data": {
      "text/html": [
       "Synced <strong style=\"color:#cdcd00\">f8FbL8sN</strong>: <a href=\"https://wandb.ai/gewissta/wandb-sweeps/runs/1njui43t\" target=\"_blank\">https://wandb.ai/gewissta/wandb-sweeps/runs/1njui43t</a><br/>Synced 5 W&B file(s), 0 media file(s), 0 artifact file(s) and 0 other file(s)"
      ],
      "text/plain": [
       "<IPython.core.display.HTML object>"
      ]
     },
     "metadata": {},
     "output_type": "display_data"
    },
    {
     "data": {
      "text/html": [
       "Find logs at: <code>./wandb/run-20230524_152256-1njui43t/logs</code>"
      ],
      "text/plain": [
       "<IPython.core.display.HTML object>"
      ]
     },
     "metadata": {},
     "output_type": "display_data"
    },
    {
     "name": "stderr",
     "output_type": "stream",
     "text": [
      "[Parallel(n_jobs=1)]: Done   4 out of   4 | elapsed:  1.3min remaining:    0.0s\n"
     ]
    },
    {
     "data": {
      "text/html": [
       "Changes to your `wandb` environment variables will be ignored because your `wandb` session has already started. For more information on how to modify your settings with `wandb.init()` arguments, please refer to <a href=\"https://wandb.me/wandb-init\" target=\"_blank\">the W&B docs</a>."
      ],
      "text/plain": [
       "<IPython.core.display.HTML object>"
      ]
     },
     "metadata": {},
     "output_type": "display_data"
    },
    {
     "data": {
      "text/html": [
       "wandb version 0.15.3 is available!  To upgrade, please run:\n",
       " $ pip install wandb --upgrade"
      ],
      "text/plain": [
       "<IPython.core.display.HTML object>"
      ]
     },
     "metadata": {},
     "output_type": "display_data"
    },
    {
     "data": {
      "text/html": [
       "Tracking run with wandb version 0.12.21"
      ],
      "text/plain": [
       "<IPython.core.display.HTML object>"
      ]
     },
     "metadata": {},
     "output_type": "display_data"
    },
    {
     "data": {
      "text/html": [
       "Run data is saved locally in <code>/Users/artemgruzdev/Documents/GitHub/Time_Series/code/wandb/run-20230524_152315-1ugzu58q</code>"
      ],
      "text/plain": [
       "<IPython.core.display.HTML object>"
      ]
     },
     "metadata": {},
     "output_type": "display_data"
    },
    {
     "data": {
      "text/html": [
       "Syncing run <strong><a href=\"https://wandb.ai/gewissta/wandb-sweeps/runs/1ugzu58q\" target=\"_blank\">f8FbL8sN</a></strong> to <a href=\"https://wandb.ai/gewissta/wandb-sweeps\" target=\"_blank\">Weights & Biases</a> (<a href=\"https://wandb.me/run\" target=\"_blank\">docs</a>)<br/>"
      ],
      "text/plain": [
       "<IPython.core.display.HTML object>"
      ]
     },
     "metadata": {},
     "output_type": "display_data"
    },
    {
     "data": {
      "text/html": [
       "Waiting for W&B process to finish... <strong style=\"color:green\">(success).</strong>"
      ],
      "text/plain": [
       "<IPython.core.display.HTML object>"
      ]
     },
     "metadata": {},
     "output_type": "display_data"
    },
    {
     "data": {
      "application/vnd.jupyter.widget-view+json": {
       "model_id": "",
       "version_major": 2,
       "version_minor": 0
      },
      "text/plain": [
       "VBox(children=(Label(value='0.000 MB of 0.000 MB uploaded (0.000 MB deduped)\\r'), FloatProgress(value=1.0, max…"
      ]
     },
     "metadata": {},
     "output_type": "display_data"
    },
    {
     "data": {
      "text/html": [
       "Synced <strong style=\"color:#cdcd00\">f8FbL8sN</strong>: <a href=\"https://wandb.ai/gewissta/wandb-sweeps/runs/1ugzu58q\" target=\"_blank\">https://wandb.ai/gewissta/wandb-sweeps/runs/1ugzu58q</a><br/>Synced 5 W&B file(s), 0 media file(s), 0 artifact file(s) and 0 other file(s)"
      ],
      "text/plain": [
       "<IPython.core.display.HTML object>"
      ]
     },
     "metadata": {},
     "output_type": "display_data"
    },
    {
     "data": {
      "text/html": [
       "Find logs at: <code>./wandb/run-20230524_152315-1ugzu58q/logs</code>"
      ],
      "text/plain": [
       "<IPython.core.display.HTML object>"
      ]
     },
     "metadata": {},
     "output_type": "display_data"
    },
    {
     "name": "stderr",
     "output_type": "stream",
     "text": [
      "[Parallel(n_jobs=1)]: Done   5 out of   5 | elapsed:  1.7min remaining:    0.0s\n",
      "[Parallel(n_jobs=1)]: Done   5 out of   5 | elapsed:  1.7min finished\n",
      "[Parallel(n_jobs=1)]: Using backend SequentialBackend with 1 concurrent workers.\n"
     ]
    },
    {
     "data": {
      "text/html": [
       "Changes to your `wandb` environment variables will be ignored because your `wandb` session has already started. For more information on how to modify your settings with `wandb.init()` arguments, please refer to <a href=\"https://wandb.me/wandb-init\" target=\"_blank\">the W&B docs</a>."
      ],
      "text/plain": [
       "<IPython.core.display.HTML object>"
      ]
     },
     "metadata": {},
     "output_type": "display_data"
    },
    {
     "data": {
      "text/html": [
       "wandb version 0.15.3 is available!  To upgrade, please run:\n",
       " $ pip install wandb --upgrade"
      ],
      "text/plain": [
       "<IPython.core.display.HTML object>"
      ]
     },
     "metadata": {},
     "output_type": "display_data"
    },
    {
     "data": {
      "text/html": [
       "Tracking run with wandb version 0.12.21"
      ],
      "text/plain": [
       "<IPython.core.display.HTML object>"
      ]
     },
     "metadata": {},
     "output_type": "display_data"
    },
    {
     "data": {
      "text/html": [
       "Run data is saved locally in <code>/Users/artemgruzdev/Documents/GitHub/Time_Series/code/wandb/run-20230524_152335-3jhh4n5b</code>"
      ],
      "text/plain": [
       "<IPython.core.display.HTML object>"
      ]
     },
     "metadata": {},
     "output_type": "display_data"
    },
    {
     "data": {
      "text/html": [
       "Syncing run <strong><a href=\"https://wandb.ai/gewissta/wandb-sweeps/runs/3jhh4n5b\" target=\"_blank\">f8FbL8sN</a></strong> to <a href=\"https://wandb.ai/gewissta/wandb-sweeps\" target=\"_blank\">Weights & Biases</a> (<a href=\"https://wandb.me/run\" target=\"_blank\">docs</a>)<br/>"
      ],
      "text/plain": [
       "<IPython.core.display.HTML object>"
      ]
     },
     "metadata": {},
     "output_type": "display_data"
    },
    {
     "data": {
      "text/html": [
       "Waiting for W&B process to finish... <strong style=\"color:green\">(success).</strong>"
      ],
      "text/plain": [
       "<IPython.core.display.HTML object>"
      ]
     },
     "metadata": {},
     "output_type": "display_data"
    },
    {
     "data": {
      "application/vnd.jupyter.widget-view+json": {
       "model_id": "",
       "version_major": 2,
       "version_minor": 0
      },
      "text/plain": [
       "VBox(children=(Label(value='0.060 MB of 0.063 MB uploaded (0.000 MB deduped)\\r'), FloatProgress(value=0.952249…"
      ]
     },
     "metadata": {},
     "output_type": "display_data"
    },
    {
     "data": {
      "text/html": [
       "<style>\n",
       "    table.wandb td:nth-child(1) { padding: 0 10px; text-align: left ; width: auto;} td:nth-child(2) {text-align: left ; width: 100%}\n",
       "    .wandb-row { display: flex; flex-direction: row; flex-wrap: wrap; justify-content: flex-start; width: 100% }\n",
       "    .wandb-col { display: flex; flex-direction: column; flex-basis: 100%; flex: 1; padding: 10px; }\n",
       "    </style>\n",
       "<div class=\"wandb-row\"><div class=\"wandb-col\"><h3>Run history:</h3><br/><table class=\"wandb\"><tr><td>MAE_mean</td><td>▁</td></tr><tr><td>MAE_median</td><td>▁</td></tr><tr><td>MAE_percentile_25</td><td>▁</td></tr><tr><td>MAE_percentile_5</td><td>▁</td></tr><tr><td>MAE_percentile_75</td><td>▁</td></tr><tr><td>MAE_percentile_95</td><td>▁</td></tr><tr><td>MAE_std</td><td>▁</td></tr><tr><td>MSE_mean</td><td>▁</td></tr><tr><td>MSE_median</td><td>▁</td></tr><tr><td>MSE_percentile_25</td><td>▁</td></tr><tr><td>MSE_percentile_5</td><td>▁</td></tr><tr><td>MSE_percentile_75</td><td>▁</td></tr><tr><td>MSE_percentile_95</td><td>▁</td></tr><tr><td>MSE_std</td><td>▁</td></tr><tr><td>SMAPE_mean</td><td>▁</td></tr><tr><td>SMAPE_median</td><td>▁</td></tr><tr><td>SMAPE_percentile_25</td><td>▁</td></tr><tr><td>SMAPE_percentile_5</td><td>▁</td></tr><tr><td>SMAPE_percentile_75</td><td>▁</td></tr><tr><td>SMAPE_percentile_95</td><td>▁</td></tr><tr><td>SMAPE_std</td><td>▁</td></tr><tr><td>Sign_mean</td><td>▁</td></tr><tr><td>Sign_median</td><td>▁</td></tr><tr><td>Sign_percentile_25</td><td>▁</td></tr><tr><td>Sign_percentile_5</td><td>▁</td></tr><tr><td>Sign_percentile_75</td><td>▁</td></tr><tr><td>Sign_percentile_95</td><td>▁</td></tr><tr><td>Sign_std</td><td>▁</td></tr></table><br/></div><div class=\"wandb-col\"><h3>Run summary:</h3><br/><table class=\"wandb\"><tr><td>MAE_mean</td><td>32.90001</td></tr><tr><td>MAE_median</td><td>34.56702</td></tr><tr><td>MAE_percentile_25</td><td>17.64216</td></tr><tr><td>MAE_percentile_5</td><td>12.64084</td></tr><tr><td>MAE_percentile_75</td><td>49.82486</td></tr><tr><td>MAE_percentile_95</td><td>50.82536</td></tr><tr><td>MAE_std</td><td>20.323</td></tr><tr><td>MSE_mean</td><td>2522.65562</td></tr><tr><td>MSE_median</td><td>2375.45948</td></tr><tr><td>MSE_percentile_25</td><td>535.31794</td></tr><tr><td>MSE_percentile_5</td><td>304.2492</td></tr><tr><td>MSE_percentile_75</td><td>4362.79716</td></tr><tr><td>MSE_percentile_95</td><td>4947.13664</td></tr><tr><td>MSE_std</td><td>2443.64648</td></tr><tr><td>SMAPE_mean</td><td>8.16137</td></tr><tr><td>SMAPE_median</td><td>7.72352</td></tr><tr><td>SMAPE_percentile_25</td><td>6.781</td></tr><tr><td>SMAPE_percentile_5</td><td>6.37801</td></tr><tr><td>SMAPE_percentile_75</td><td>9.1039</td></tr><tr><td>SMAPE_percentile_95</td><td>10.55771</td></tr><tr><td>SMAPE_std</td><td>2.06154</td></tr><tr><td>Sign_mean</td><td>-0.32143</td></tr><tr><td>Sign_median</td><td>-0.35714</td></tr><tr><td>Sign_percentile_25</td><td>-0.57143</td></tr><tr><td>Sign_percentile_5</td><td>-0.57143</td></tr><tr><td>Sign_percentile_75</td><td>-0.10714</td></tr><tr><td>Sign_percentile_95</td><td>-0.02143</td></tr><tr><td>Sign_std</td><td>0.29451</td></tr></table><br/></div></div>"
      ],
      "text/plain": [
       "<IPython.core.display.HTML object>"
      ]
     },
     "metadata": {},
     "output_type": "display_data"
    },
    {
     "data": {
      "text/html": [
       "Synced <strong style=\"color:#cdcd00\">f8FbL8sN</strong>: <a href=\"https://wandb.ai/gewissta/wandb-sweeps/runs/3jhh4n5b\" target=\"_blank\">https://wandb.ai/gewissta/wandb-sweeps/runs/3jhh4n5b</a><br/>Synced 5 W&B file(s), 3 media file(s), 3 artifact file(s) and 0 other file(s)"
      ],
      "text/plain": [
       "<IPython.core.display.HTML object>"
      ]
     },
     "metadata": {},
     "output_type": "display_data"
    },
    {
     "data": {
      "text/html": [
       "Find logs at: <code>./wandb/run-20230524_152335-3jhh4n5b/logs</code>"
      ],
      "text/plain": [
       "<IPython.core.display.HTML object>"
      ]
     },
     "metadata": {},
     "output_type": "display_data"
    },
    {
     "name": "stderr",
     "output_type": "stream",
     "text": [
      "[Parallel(n_jobs=1)]: Done   1 out of   1 | elapsed:   28.6s remaining:    0.0s\n"
     ]
    },
    {
     "data": {
      "text/html": [
       "Changes to your `wandb` environment variables will be ignored because your `wandb` session has already started. For more information on how to modify your settings with `wandb.init()` arguments, please refer to <a href=\"https://wandb.me/wandb-init\" target=\"_blank\">the W&B docs</a>."
      ],
      "text/plain": [
       "<IPython.core.display.HTML object>"
      ]
     },
     "metadata": {},
     "output_type": "display_data"
    },
    {
     "data": {
      "text/html": [
       "wandb version 0.15.3 is available!  To upgrade, please run:\n",
       " $ pip install wandb --upgrade"
      ],
      "text/plain": [
       "<IPython.core.display.HTML object>"
      ]
     },
     "metadata": {},
     "output_type": "display_data"
    },
    {
     "data": {
      "text/html": [
       "Tracking run with wandb version 0.12.21"
      ],
      "text/plain": [
       "<IPython.core.display.HTML object>"
      ]
     },
     "metadata": {},
     "output_type": "display_data"
    },
    {
     "data": {
      "text/html": [
       "Run data is saved locally in <code>/Users/artemgruzdev/Documents/GitHub/Time_Series/code/wandb/run-20230524_152404-1oou46so</code>"
      ],
      "text/plain": [
       "<IPython.core.display.HTML object>"
      ]
     },
     "metadata": {},
     "output_type": "display_data"
    },
    {
     "data": {
      "text/html": [
       "Syncing run <strong><a href=\"https://wandb.ai/gewissta/wandb-sweeps/runs/1oou46so\" target=\"_blank\">f8FbL8sN</a></strong> to <a href=\"https://wandb.ai/gewissta/wandb-sweeps\" target=\"_blank\">Weights & Biases</a> (<a href=\"https://wandb.me/run\" target=\"_blank\">docs</a>)<br/>"
      ],
      "text/plain": [
       "<IPython.core.display.HTML object>"
      ]
     },
     "metadata": {},
     "output_type": "display_data"
    },
    {
     "data": {
      "text/html": [
       "Waiting for W&B process to finish... <strong style=\"color:green\">(success).</strong>"
      ],
      "text/plain": [
       "<IPython.core.display.HTML object>"
      ]
     },
     "metadata": {},
     "output_type": "display_data"
    },
    {
     "data": {
      "application/vnd.jupyter.widget-view+json": {
       "model_id": "",
       "version_major": 2,
       "version_minor": 0
      },
      "text/plain": [
       "VBox(children=(Label(value='0.060 MB of 0.063 MB uploaded (0.000 MB deduped)\\r'), FloatProgress(value=0.952055…"
      ]
     },
     "metadata": {},
     "output_type": "display_data"
    },
    {
     "data": {
      "text/html": [
       "<style>\n",
       "    table.wandb td:nth-child(1) { padding: 0 10px; text-align: left ; width: auto;} td:nth-child(2) {text-align: left ; width: 100%}\n",
       "    .wandb-row { display: flex; flex-direction: row; flex-wrap: wrap; justify-content: flex-start; width: 100% }\n",
       "    .wandb-col { display: flex; flex-direction: column; flex-basis: 100%; flex: 1; padding: 10px; }\n",
       "    </style>\n",
       "<div class=\"wandb-row\"><div class=\"wandb-col\"><h3>Run history:</h3><br/><table class=\"wandb\"><tr><td>MAE_mean</td><td>▁</td></tr><tr><td>MAE_median</td><td>▁</td></tr><tr><td>MAE_percentile_25</td><td>▁</td></tr><tr><td>MAE_percentile_5</td><td>▁</td></tr><tr><td>MAE_percentile_75</td><td>▁</td></tr><tr><td>MAE_percentile_95</td><td>▁</td></tr><tr><td>MAE_std</td><td>▁</td></tr><tr><td>MSE_mean</td><td>▁</td></tr><tr><td>MSE_median</td><td>▁</td></tr><tr><td>MSE_percentile_25</td><td>▁</td></tr><tr><td>MSE_percentile_5</td><td>▁</td></tr><tr><td>MSE_percentile_75</td><td>▁</td></tr><tr><td>MSE_percentile_95</td><td>▁</td></tr><tr><td>MSE_std</td><td>▁</td></tr><tr><td>SMAPE_mean</td><td>▁</td></tr><tr><td>SMAPE_median</td><td>▁</td></tr><tr><td>SMAPE_percentile_25</td><td>▁</td></tr><tr><td>SMAPE_percentile_5</td><td>▁</td></tr><tr><td>SMAPE_percentile_75</td><td>▁</td></tr><tr><td>SMAPE_percentile_95</td><td>▁</td></tr><tr><td>SMAPE_std</td><td>▁</td></tr><tr><td>Sign_mean</td><td>▁</td></tr><tr><td>Sign_median</td><td>▁</td></tr><tr><td>Sign_percentile_25</td><td>▁</td></tr><tr><td>Sign_percentile_5</td><td>▁</td></tr><tr><td>Sign_percentile_75</td><td>▁</td></tr><tr><td>Sign_percentile_95</td><td>▁</td></tr><tr><td>Sign_std</td><td>▁</td></tr></table><br/></div><div class=\"wandb-col\"><h3>Run summary:</h3><br/><table class=\"wandb\"><tr><td>MAE_mean</td><td>32.32054</td></tr><tr><td>MAE_median</td><td>27.96169</td></tr><tr><td>MAE_percentile_25</td><td>18.23119</td></tr><tr><td>MAE_percentile_5</td><td>13.24272</td></tr><tr><td>MAE_percentile_75</td><td>42.05104</td></tr><tr><td>MAE_percentile_95</td><td>57.50075</td></tr><tr><td>MAE_std</td><td>21.69241</td></tr><tr><td>MSE_mean</td><td>2225.30301</td></tr><tr><td>MSE_median</td><td>1146.92372</td></tr><tr><td>MSE_percentile_25</td><td>468.65171</td></tr><tr><td>MSE_percentile_5</td><td>280.22621</td></tr><tr><td>MSE_percentile_75</td><td>2903.57503</td></tr><tr><td>MSE_percentile_95</td><td>5680.11083</td></tr><tr><td>MSE_std</td><td>2841.81531</td></tr><tr><td>SMAPE_mean</td><td>7.4189</td></tr><tr><td>SMAPE_median</td><td>7.20263</td></tr><tr><td>SMAPE_percentile_25</td><td>7.03927</td></tr><tr><td>SMAPE_percentile_5</td><td>6.92697</td></tr><tr><td>SMAPE_percentile_75</td><td>7.58226</td></tr><tr><td>SMAPE_percentile_95</td><td>8.21363</td></tr><tr><td>SMAPE_std</td><td>0.65791</td></tr><tr><td>Sign_mean</td><td>0.5</td></tr><tr><td>Sign_median</td><td>0.5</td></tr><tr><td>Sign_percentile_25</td><td>0.39286</td></tr><tr><td>Sign_percentile_5</td><td>0.30714</td></tr><tr><td>Sign_percentile_75</td><td>0.60714</td></tr><tr><td>Sign_percentile_95</td><td>0.69286</td></tr><tr><td>Sign_std</td><td>0.18443</td></tr></table><br/></div></div>"
      ],
      "text/plain": [
       "<IPython.core.display.HTML object>"
      ]
     },
     "metadata": {},
     "output_type": "display_data"
    },
    {
     "data": {
      "text/html": [
       "Synced <strong style=\"color:#cdcd00\">f8FbL8sN</strong>: <a href=\"https://wandb.ai/gewissta/wandb-sweeps/runs/1oou46so\" target=\"_blank\">https://wandb.ai/gewissta/wandb-sweeps/runs/1oou46so</a><br/>Synced 5 W&B file(s), 3 media file(s), 3 artifact file(s) and 0 other file(s)"
      ],
      "text/plain": [
       "<IPython.core.display.HTML object>"
      ]
     },
     "metadata": {},
     "output_type": "display_data"
    },
    {
     "data": {
      "text/html": [
       "Find logs at: <code>./wandb/run-20230524_152404-1oou46so/logs</code>"
      ],
      "text/plain": [
       "<IPython.core.display.HTML object>"
      ]
     },
     "metadata": {},
     "output_type": "display_data"
    },
    {
     "name": "stderr",
     "output_type": "stream",
     "text": [
      "[Parallel(n_jobs=1)]: Done   2 out of   2 | elapsed:   57.9s remaining:    0.0s\n"
     ]
    },
    {
     "data": {
      "text/html": [
       "Changes to your `wandb` environment variables will be ignored because your `wandb` session has already started. For more information on how to modify your settings with `wandb.init()` arguments, please refer to <a href=\"https://wandb.me/wandb-init\" target=\"_blank\">the W&B docs</a>."
      ],
      "text/plain": [
       "<IPython.core.display.HTML object>"
      ]
     },
     "metadata": {},
     "output_type": "display_data"
    },
    {
     "data": {
      "text/html": [
       "wandb version 0.15.3 is available!  To upgrade, please run:\n",
       " $ pip install wandb --upgrade"
      ],
      "text/plain": [
       "<IPython.core.display.HTML object>"
      ]
     },
     "metadata": {},
     "output_type": "display_data"
    },
    {
     "data": {
      "text/html": [
       "Tracking run with wandb version 0.12.21"
      ],
      "text/plain": [
       "<IPython.core.display.HTML object>"
      ]
     },
     "metadata": {},
     "output_type": "display_data"
    },
    {
     "data": {
      "text/html": [
       "Run data is saved locally in <code>/Users/artemgruzdev/Documents/GitHub/Time_Series/code/wandb/run-20230524_152433-1vuu5rnu</code>"
      ],
      "text/plain": [
       "<IPython.core.display.HTML object>"
      ]
     },
     "metadata": {},
     "output_type": "display_data"
    },
    {
     "data": {
      "text/html": [
       "Syncing run <strong><a href=\"https://wandb.ai/gewissta/wandb-sweeps/runs/1vuu5rnu\" target=\"_blank\">f8FbL8sN</a></strong> to <a href=\"https://wandb.ai/gewissta/wandb-sweeps\" target=\"_blank\">Weights & Biases</a> (<a href=\"https://wandb.me/run\" target=\"_blank\">docs</a>)<br/>"
      ],
      "text/plain": [
       "<IPython.core.display.HTML object>"
      ]
     },
     "metadata": {},
     "output_type": "display_data"
    },
    {
     "data": {
      "text/html": [
       "Waiting for W&B process to finish... <strong style=\"color:green\">(success).</strong>"
      ],
      "text/plain": [
       "<IPython.core.display.HTML object>"
      ]
     },
     "metadata": {},
     "output_type": "display_data"
    },
    {
     "data": {
      "application/vnd.jupyter.widget-view+json": {
       "model_id": "",
       "version_major": 2,
       "version_minor": 0
      },
      "text/plain": [
       "VBox(children=(Label(value='0.060 MB of 0.063 MB uploaded (0.000 MB deduped)\\r'), FloatProgress(value=0.952006…"
      ]
     },
     "metadata": {},
     "output_type": "display_data"
    },
    {
     "data": {
      "text/html": [
       "<style>\n",
       "    table.wandb td:nth-child(1) { padding: 0 10px; text-align: left ; width: auto;} td:nth-child(2) {text-align: left ; width: 100%}\n",
       "    .wandb-row { display: flex; flex-direction: row; flex-wrap: wrap; justify-content: flex-start; width: 100% }\n",
       "    .wandb-col { display: flex; flex-direction: column; flex-basis: 100%; flex: 1; padding: 10px; }\n",
       "    </style>\n",
       "<div class=\"wandb-row\"><div class=\"wandb-col\"><h3>Run history:</h3><br/><table class=\"wandb\"><tr><td>MAE_mean</td><td>▁</td></tr><tr><td>MAE_median</td><td>▁</td></tr><tr><td>MAE_percentile_25</td><td>▁</td></tr><tr><td>MAE_percentile_5</td><td>▁</td></tr><tr><td>MAE_percentile_75</td><td>▁</td></tr><tr><td>MAE_percentile_95</td><td>▁</td></tr><tr><td>MAE_std</td><td>▁</td></tr><tr><td>MSE_mean</td><td>▁</td></tr><tr><td>MSE_median</td><td>▁</td></tr><tr><td>MSE_percentile_25</td><td>▁</td></tr><tr><td>MSE_percentile_5</td><td>▁</td></tr><tr><td>MSE_percentile_75</td><td>▁</td></tr><tr><td>MSE_percentile_95</td><td>▁</td></tr><tr><td>MSE_std</td><td>▁</td></tr><tr><td>SMAPE_mean</td><td>▁</td></tr><tr><td>SMAPE_median</td><td>▁</td></tr><tr><td>SMAPE_percentile_25</td><td>▁</td></tr><tr><td>SMAPE_percentile_5</td><td>▁</td></tr><tr><td>SMAPE_percentile_75</td><td>▁</td></tr><tr><td>SMAPE_percentile_95</td><td>▁</td></tr><tr><td>SMAPE_std</td><td>▁</td></tr><tr><td>Sign_mean</td><td>▁</td></tr><tr><td>Sign_median</td><td>▁</td></tr><tr><td>Sign_percentile_25</td><td>▁</td></tr><tr><td>Sign_percentile_5</td><td>▁</td></tr><tr><td>Sign_percentile_75</td><td>▁</td></tr><tr><td>Sign_percentile_95</td><td>▁</td></tr><tr><td>Sign_std</td><td>▁</td></tr></table><br/></div><div class=\"wandb-col\"><h3>Run summary:</h3><br/><table class=\"wandb\"><tr><td>MAE_mean</td><td>43.86752</td></tr><tr><td>MAE_median</td><td>39.30131</td></tr><tr><td>MAE_percentile_25</td><td>14.42653</td></tr><tr><td>MAE_percentile_5</td><td>10.3559</td></tr><tr><td>MAE_percentile_75</td><td>68.7423</td></tr><tr><td>MAE_percentile_95</td><td>83.77183</td></tr><tr><td>MAE_std</td><td>37.48252</td></tr><tr><td>MSE_mean</td><td>4208.27093</td></tr><tr><td>MSE_median</td><td>2645.20077</td></tr><tr><td>MSE_percentile_25</td><td>307.77313</td></tr><tr><td>MSE_percentile_5</td><td>155.40984</td></tr><tr><td>MSE_percentile_75</td><td>6545.69857</td></tr><tr><td>MSE_percentile_95</td><td>10449.43024</td></tr><tr><td>MSE_std</td><td>5293.08723</td></tr><tr><td>SMAPE_mean</td><td>8.68577</td></tr><tr><td>SMAPE_median</td><td>8.78394</td></tr><tr><td>SMAPE_percentile_25</td><td>6.37798</td></tr><tr><td>SMAPE_percentile_5</td><td>5.32722</td></tr><tr><td>SMAPE_percentile_75</td><td>11.09172</td></tr><tr><td>SMAPE_percentile_95</td><td>11.90687</td></tr><tr><td>SMAPE_std</td><td>3.29695</td></tr><tr><td>Sign_mean</td><td>0.32143</td></tr><tr><td>Sign_median</td><td>0.42857</td></tr><tr><td>Sign_percentile_25</td><td>0.28571</td></tr><tr><td>Sign_percentile_5</td><td>-0.05714</td></tr><tr><td>Sign_percentile_75</td><td>0.46429</td></tr><tr><td>Sign_percentile_95</td><td>0.55</td></tr><tr><td>Sign_std</td><td>0.31677</td></tr></table><br/></div></div>"
      ],
      "text/plain": [
       "<IPython.core.display.HTML object>"
      ]
     },
     "metadata": {},
     "output_type": "display_data"
    },
    {
     "data": {
      "text/html": [
       "Synced <strong style=\"color:#cdcd00\">f8FbL8sN</strong>: <a href=\"https://wandb.ai/gewissta/wandb-sweeps/runs/1vuu5rnu\" target=\"_blank\">https://wandb.ai/gewissta/wandb-sweeps/runs/1vuu5rnu</a><br/>Synced 5 W&B file(s), 3 media file(s), 3 artifact file(s) and 0 other file(s)"
      ],
      "text/plain": [
       "<IPython.core.display.HTML object>"
      ]
     },
     "metadata": {},
     "output_type": "display_data"
    },
    {
     "data": {
      "text/html": [
       "Find logs at: <code>./wandb/run-20230524_152433-1vuu5rnu/logs</code>"
      ],
      "text/plain": [
       "<IPython.core.display.HTML object>"
      ]
     },
     "metadata": {},
     "output_type": "display_data"
    },
    {
     "name": "stderr",
     "output_type": "stream",
     "text": [
      "[Parallel(n_jobs=1)]: Done   3 out of   3 | elapsed:  1.4min remaining:    0.0s\n"
     ]
    },
    {
     "data": {
      "text/html": [
       "Changes to your `wandb` environment variables will be ignored because your `wandb` session has already started. For more information on how to modify your settings with `wandb.init()` arguments, please refer to <a href=\"https://wandb.me/wandb-init\" target=\"_blank\">the W&B docs</a>."
      ],
      "text/plain": [
       "<IPython.core.display.HTML object>"
      ]
     },
     "metadata": {},
     "output_type": "display_data"
    },
    {
     "data": {
      "text/html": [
       "wandb version 0.15.3 is available!  To upgrade, please run:\n",
       " $ pip install wandb --upgrade"
      ],
      "text/plain": [
       "<IPython.core.display.HTML object>"
      ]
     },
     "metadata": {},
     "output_type": "display_data"
    },
    {
     "data": {
      "text/html": [
       "Tracking run with wandb version 0.12.21"
      ],
      "text/plain": [
       "<IPython.core.display.HTML object>"
      ]
     },
     "metadata": {},
     "output_type": "display_data"
    },
    {
     "data": {
      "text/html": [
       "Run data is saved locally in <code>/Users/artemgruzdev/Documents/GitHub/Time_Series/code/wandb/run-20230524_152501-oa6q5db7</code>"
      ],
      "text/plain": [
       "<IPython.core.display.HTML object>"
      ]
     },
     "metadata": {},
     "output_type": "display_data"
    },
    {
     "data": {
      "text/html": [
       "Syncing run <strong><a href=\"https://wandb.ai/gewissta/wandb-sweeps/runs/oa6q5db7\" target=\"_blank\">f8FbL8sN</a></strong> to <a href=\"https://wandb.ai/gewissta/wandb-sweeps\" target=\"_blank\">Weights & Biases</a> (<a href=\"https://wandb.me/run\" target=\"_blank\">docs</a>)<br/>"
      ],
      "text/plain": [
       "<IPython.core.display.HTML object>"
      ]
     },
     "metadata": {},
     "output_type": "display_data"
    },
    {
     "data": {
      "text/html": [
       "Waiting for W&B process to finish... <strong style=\"color:green\">(success).</strong>"
      ],
      "text/plain": [
       "<IPython.core.display.HTML object>"
      ]
     },
     "metadata": {},
     "output_type": "display_data"
    },
    {
     "data": {
      "application/vnd.jupyter.widget-view+json": {
       "model_id": "",
       "version_major": 2,
       "version_minor": 0
      },
      "text/plain": [
       "VBox(children=(Label(value='0.060 MB of 0.063 MB uploaded (0.000 MB deduped)\\r'), FloatProgress(value=0.951933…"
      ]
     },
     "metadata": {},
     "output_type": "display_data"
    },
    {
     "data": {
      "text/html": [
       "<style>\n",
       "    table.wandb td:nth-child(1) { padding: 0 10px; text-align: left ; width: auto;} td:nth-child(2) {text-align: left ; width: 100%}\n",
       "    .wandb-row { display: flex; flex-direction: row; flex-wrap: wrap; justify-content: flex-start; width: 100% }\n",
       "    .wandb-col { display: flex; flex-direction: column; flex-basis: 100%; flex: 1; padding: 10px; }\n",
       "    </style>\n",
       "<div class=\"wandb-row\"><div class=\"wandb-col\"><h3>Run history:</h3><br/><table class=\"wandb\"><tr><td>MAE_mean</td><td>▁</td></tr><tr><td>MAE_median</td><td>▁</td></tr><tr><td>MAE_percentile_25</td><td>▁</td></tr><tr><td>MAE_percentile_5</td><td>▁</td></tr><tr><td>MAE_percentile_75</td><td>▁</td></tr><tr><td>MAE_percentile_95</td><td>▁</td></tr><tr><td>MAE_std</td><td>▁</td></tr><tr><td>MSE_mean</td><td>▁</td></tr><tr><td>MSE_median</td><td>▁</td></tr><tr><td>MSE_percentile_25</td><td>▁</td></tr><tr><td>MSE_percentile_5</td><td>▁</td></tr><tr><td>MSE_percentile_75</td><td>▁</td></tr><tr><td>MSE_percentile_95</td><td>▁</td></tr><tr><td>MSE_std</td><td>▁</td></tr><tr><td>SMAPE_mean</td><td>▁</td></tr><tr><td>SMAPE_median</td><td>▁</td></tr><tr><td>SMAPE_percentile_25</td><td>▁</td></tr><tr><td>SMAPE_percentile_5</td><td>▁</td></tr><tr><td>SMAPE_percentile_75</td><td>▁</td></tr><tr><td>SMAPE_percentile_95</td><td>▁</td></tr><tr><td>SMAPE_std</td><td>▁</td></tr><tr><td>Sign_mean</td><td>▁</td></tr><tr><td>Sign_median</td><td>▁</td></tr><tr><td>Sign_percentile_25</td><td>▁</td></tr><tr><td>Sign_percentile_5</td><td>▁</td></tr><tr><td>Sign_percentile_75</td><td>▁</td></tr><tr><td>Sign_percentile_95</td><td>▁</td></tr><tr><td>Sign_std</td><td>▁</td></tr></table><br/></div><div class=\"wandb-col\"><h3>Run summary:</h3><br/><table class=\"wandb\"><tr><td>MAE_mean</td><td>59.13141</td></tr><tr><td>MAE_median</td><td>47.62388</td></tr><tr><td>MAE_percentile_25</td><td>22.8684</td></tr><tr><td>MAE_percentile_5</td><td>19.9522</td></tr><tr><td>MAE_percentile_75</td><td>83.88689</td></tr><tr><td>MAE_percentile_95</td><td>114.42116</td></tr><tr><td>MAE_std</td><td>48.04568</td></tr><tr><td>MSE_mean</td><td>7324.01296</td></tr><tr><td>MSE_median</td><td>4646.02332</td></tr><tr><td>MSE_percentile_25</td><td>1191.54299</td></tr><tr><td>MSE_percentile_5</td><td>664.62432</td></tr><tr><td>MSE_percentile_75</td><td>10778.49328</td></tr><tr><td>MSE_percentile_95</td><td>17732.58709</td></tr><tr><td>MSE_std</td><td>8735.82815</td></tr><tr><td>SMAPE_mean</td><td>11.29292</td></tr><tr><td>SMAPE_median</td><td>11.9307</td></tr><tr><td>SMAPE_percentile_25</td><td>10.28944</td></tr><tr><td>SMAPE_percentile_5</td><td>8.28282</td></tr><tr><td>SMAPE_percentile_75</td><td>12.93418</td></tr><tr><td>SMAPE_percentile_95</td><td>13.41013</td></tr><tr><td>SMAPE_std</td><td>2.54579</td></tr><tr><td>Sign_mean</td><td>0.71429</td></tr><tr><td>Sign_median</td><td>0.71429</td></tr><tr><td>Sign_percentile_25</td><td>0.57143</td></tr><tr><td>Sign_percentile_5</td><td>0.57143</td></tr><tr><td>Sign_percentile_75</td><td>0.85714</td></tr><tr><td>Sign_percentile_95</td><td>0.85714</td></tr><tr><td>Sign_std</td><td>0.16496</td></tr></table><br/></div></div>"
      ],
      "text/plain": [
       "<IPython.core.display.HTML object>"
      ]
     },
     "metadata": {},
     "output_type": "display_data"
    },
    {
     "data": {
      "text/html": [
       "Synced <strong style=\"color:#cdcd00\">f8FbL8sN</strong>: <a href=\"https://wandb.ai/gewissta/wandb-sweeps/runs/oa6q5db7\" target=\"_blank\">https://wandb.ai/gewissta/wandb-sweeps/runs/oa6q5db7</a><br/>Synced 5 W&B file(s), 3 media file(s), 3 artifact file(s) and 0 other file(s)"
      ],
      "text/plain": [
       "<IPython.core.display.HTML object>"
      ]
     },
     "metadata": {},
     "output_type": "display_data"
    },
    {
     "data": {
      "text/html": [
       "Find logs at: <code>./wandb/run-20230524_152501-oa6q5db7/logs</code>"
      ],
      "text/plain": [
       "<IPython.core.display.HTML object>"
      ]
     },
     "metadata": {},
     "output_type": "display_data"
    },
    {
     "name": "stderr",
     "output_type": "stream",
     "text": [
      "[Parallel(n_jobs=1)]: Done   4 out of   4 | elapsed:  1.9min remaining:    0.0s\n"
     ]
    },
    {
     "data": {
      "text/html": [
       "Changes to your `wandb` environment variables will be ignored because your `wandb` session has already started. For more information on how to modify your settings with `wandb.init()` arguments, please refer to <a href=\"https://wandb.me/wandb-init\" target=\"_blank\">the W&B docs</a>."
      ],
      "text/plain": [
       "<IPython.core.display.HTML object>"
      ]
     },
     "metadata": {},
     "output_type": "display_data"
    },
    {
     "data": {
      "text/html": [
       "wandb version 0.15.3 is available!  To upgrade, please run:\n",
       " $ pip install wandb --upgrade"
      ],
      "text/plain": [
       "<IPython.core.display.HTML object>"
      ]
     },
     "metadata": {},
     "output_type": "display_data"
    },
    {
     "data": {
      "text/html": [
       "Tracking run with wandb version 0.12.21"
      ],
      "text/plain": [
       "<IPython.core.display.HTML object>"
      ]
     },
     "metadata": {},
     "output_type": "display_data"
    },
    {
     "data": {
      "text/html": [
       "Run data is saved locally in <code>/Users/artemgruzdev/Documents/GitHub/Time_Series/code/wandb/run-20230524_152530-2w1ax6py</code>"
      ],
      "text/plain": [
       "<IPython.core.display.HTML object>"
      ]
     },
     "metadata": {},
     "output_type": "display_data"
    },
    {
     "data": {
      "text/html": [
       "Syncing run <strong><a href=\"https://wandb.ai/gewissta/wandb-sweeps/runs/2w1ax6py\" target=\"_blank\">f8FbL8sN</a></strong> to <a href=\"https://wandb.ai/gewissta/wandb-sweeps\" target=\"_blank\">Weights & Biases</a> (<a href=\"https://wandb.me/run\" target=\"_blank\">docs</a>)<br/>"
      ],
      "text/plain": [
       "<IPython.core.display.HTML object>"
      ]
     },
     "metadata": {},
     "output_type": "display_data"
    },
    {
     "data": {
      "text/html": [
       "Waiting for W&B process to finish... <strong style=\"color:green\">(success).</strong>"
      ],
      "text/plain": [
       "<IPython.core.display.HTML object>"
      ]
     },
     "metadata": {},
     "output_type": "display_data"
    },
    {
     "data": {
      "application/vnd.jupyter.widget-view+json": {
       "model_id": "",
       "version_major": 2,
       "version_minor": 0
      },
      "text/plain": [
       "VBox(children=(Label(value='0.059 MB of 0.062 MB uploaded (0.000 MB deduped)\\r'), FloatProgress(value=0.951639…"
      ]
     },
     "metadata": {},
     "output_type": "display_data"
    },
    {
     "data": {
      "text/html": [
       "<style>\n",
       "    table.wandb td:nth-child(1) { padding: 0 10px; text-align: left ; width: auto;} td:nth-child(2) {text-align: left ; width: 100%}\n",
       "    .wandb-row { display: flex; flex-direction: row; flex-wrap: wrap; justify-content: flex-start; width: 100% }\n",
       "    .wandb-col { display: flex; flex-direction: column; flex-basis: 100%; flex: 1; padding: 10px; }\n",
       "    </style>\n",
       "<div class=\"wandb-row\"><div class=\"wandb-col\"><h3>Run history:</h3><br/><table class=\"wandb\"><tr><td>MAE_mean</td><td>▁</td></tr><tr><td>MAE_median</td><td>▁</td></tr><tr><td>MAE_percentile_25</td><td>▁</td></tr><tr><td>MAE_percentile_5</td><td>▁</td></tr><tr><td>MAE_percentile_75</td><td>▁</td></tr><tr><td>MAE_percentile_95</td><td>▁</td></tr><tr><td>MAE_std</td><td>▁</td></tr><tr><td>MSE_mean</td><td>▁</td></tr><tr><td>MSE_median</td><td>▁</td></tr><tr><td>MSE_percentile_25</td><td>▁</td></tr><tr><td>MSE_percentile_5</td><td>▁</td></tr><tr><td>MSE_percentile_75</td><td>▁</td></tr><tr><td>MSE_percentile_95</td><td>▁</td></tr><tr><td>MSE_std</td><td>▁</td></tr><tr><td>SMAPE_mean</td><td>▁</td></tr><tr><td>SMAPE_median</td><td>▁</td></tr><tr><td>SMAPE_percentile_25</td><td>▁</td></tr><tr><td>SMAPE_percentile_5</td><td>▁</td></tr><tr><td>SMAPE_percentile_75</td><td>▁</td></tr><tr><td>SMAPE_percentile_95</td><td>▁</td></tr><tr><td>SMAPE_std</td><td>▁</td></tr><tr><td>Sign_mean</td><td>▁</td></tr><tr><td>Sign_median</td><td>▁</td></tr><tr><td>Sign_percentile_25</td><td>▁</td></tr><tr><td>Sign_percentile_5</td><td>▁</td></tr><tr><td>Sign_percentile_75</td><td>▁</td></tr><tr><td>Sign_percentile_95</td><td>▁</td></tr><tr><td>Sign_std</td><td>▁</td></tr></table><br/></div><div class=\"wandb-col\"><h3>Run summary:</h3><br/><table class=\"wandb\"><tr><td>MAE_mean</td><td>51.82822</td></tr><tr><td>MAE_median</td><td>46.99862</td></tr><tr><td>MAE_percentile_25</td><td>42.1653</td></tr><tr><td>MAE_percentile_5</td><td>31.73353</td></tr><tr><td>MAE_percentile_75</td><td>56.66155</td></tr><tr><td>MAE_percentile_95</td><td>78.68436</td></tr><tr><td>MAE_std</td><td>23.16479</td></tr><tr><td>MSE_mean</td><td>5892.0591</td></tr><tr><td>MSE_median</td><td>4445.4029</td></tr><tr><td>MSE_percentile_25</td><td>2889.24021</td></tr><tr><td>MSE_percentile_5</td><td>1651.51348</td></tr><tr><td>MSE_percentile_75</td><td>7448.2218</td></tr><tr><td>MSE_percentile_95</td><td>12157.92341</td></tr><tr><td>MSE_std</td><td>5242.63063</td></tr><tr><td>SMAPE_mean</td><td>13.00674</td></tr><tr><td>SMAPE_median</td><td>10.49218</td></tr><tr><td>SMAPE_percentile_25</td><td>9.23723</td></tr><tr><td>SMAPE_percentile_5</td><td>8.97077</td></tr><tr><td>SMAPE_percentile_75</td><td>14.26169</td></tr><tr><td>SMAPE_percentile_95</td><td>20.56308</td></tr><tr><td>SMAPE_std</td><td>6.20435</td></tr><tr><td>Sign_mean</td><td>0.28571</td></tr><tr><td>Sign_median</td><td>0.21429</td></tr><tr><td>Sign_percentile_25</td><td>0.0</td></tr><tr><td>Sign_percentile_5</td><td>0.0</td></tr><tr><td>Sign_percentile_75</td><td>0.5</td></tr><tr><td>Sign_percentile_95</td><td>0.67143</td></tr><tr><td>Sign_std</td><td>0.34993</td></tr></table><br/></div></div>"
      ],
      "text/plain": [
       "<IPython.core.display.HTML object>"
      ]
     },
     "metadata": {},
     "output_type": "display_data"
    },
    {
     "data": {
      "text/html": [
       "Synced <strong style=\"color:#cdcd00\">f8FbL8sN</strong>: <a href=\"https://wandb.ai/gewissta/wandb-sweeps/runs/2w1ax6py\" target=\"_blank\">https://wandb.ai/gewissta/wandb-sweeps/runs/2w1ax6py</a><br/>Synced 5 W&B file(s), 3 media file(s), 3 artifact file(s) and 0 other file(s)"
      ],
      "text/plain": [
       "<IPython.core.display.HTML object>"
      ]
     },
     "metadata": {},
     "output_type": "display_data"
    },
    {
     "data": {
      "text/html": [
       "Find logs at: <code>./wandb/run-20230524_152530-2w1ax6py/logs</code>"
      ],
      "text/plain": [
       "<IPython.core.display.HTML object>"
      ]
     },
     "metadata": {},
     "output_type": "display_data"
    },
    {
     "name": "stderr",
     "output_type": "stream",
     "text": [
      "[Parallel(n_jobs=1)]: Done   5 out of   5 | elapsed:  2.4min remaining:    0.0s\n",
      "[Parallel(n_jobs=1)]: Done   5 out of   5 | elapsed:  2.4min finished\n"
     ]
    },
    {
     "data": {
      "text/html": [
       "Changes to your `wandb` environment variables will be ignored because your `wandb` session has already started. For more information on how to modify your settings with `wandb.init()` arguments, please refer to <a href=\"https://wandb.me/wandb-init\" target=\"_blank\">the W&B docs</a>."
      ],
      "text/plain": [
       "<IPython.core.display.HTML object>"
      ]
     },
     "metadata": {},
     "output_type": "display_data"
    },
    {
     "data": {
      "text/html": [
       "wandb version 0.15.3 is available!  To upgrade, please run:\n",
       " $ pip install wandb --upgrade"
      ],
      "text/plain": [
       "<IPython.core.display.HTML object>"
      ]
     },
     "metadata": {},
     "output_type": "display_data"
    },
    {
     "data": {
      "text/html": [
       "Tracking run with wandb version 0.12.21"
      ],
      "text/plain": [
       "<IPython.core.display.HTML object>"
      ]
     },
     "metadata": {},
     "output_type": "display_data"
    },
    {
     "data": {
      "text/html": [
       "Run data is saved locally in <code>/Users/artemgruzdev/Documents/GitHub/Time_Series/code/wandb/run-20230524_152601-10vjqb0s</code>"
      ],
      "text/plain": [
       "<IPython.core.display.HTML object>"
      ]
     },
     "metadata": {},
     "output_type": "display_data"
    },
    {
     "data": {
      "text/html": [
       "Syncing run <strong><a href=\"https://wandb.ai/gewissta/wandb-sweeps/runs/10vjqb0s\" target=\"_blank\">f8FbL8sN</a></strong> to <a href=\"https://wandb.ai/gewissta/wandb-sweeps\" target=\"_blank\">Weights & Biases</a> (<a href=\"https://wandb.me/run\" target=\"_blank\">docs</a>)<br/>"
      ],
      "text/plain": [
       "<IPython.core.display.HTML object>"
      ]
     },
     "metadata": {},
     "output_type": "display_data"
    },
    {
     "data": {
      "text/html": [
       "Waiting for W&B process to finish... <strong style=\"color:green\">(success).</strong>"
      ],
      "text/plain": [
       "<IPython.core.display.HTML object>"
      ]
     },
     "metadata": {},
     "output_type": "display_data"
    },
    {
     "data": {
      "application/vnd.jupyter.widget-view+json": {
       "model_id": "",
       "version_major": 2,
       "version_minor": 0
      },
      "text/plain": [
       "VBox(children=(Label(value='0.259 MB of 0.315 MB uploaded (0.000 MB deduped)\\r'), FloatProgress(value=0.820852…"
      ]
     },
     "metadata": {},
     "output_type": "display_data"
    },
    {
     "data": {
      "text/html": [
       "<style>\n",
       "    table.wandb td:nth-child(1) { padding: 0 10px; text-align: left ; width: auto;} td:nth-child(2) {text-align: left ; width: 100%}\n",
       "    .wandb-row { display: flex; flex-direction: row; flex-wrap: wrap; justify-content: flex-start; width: 100% }\n",
       "    .wandb-col { display: flex; flex-direction: column; flex-basis: 100%; flex: 1; padding: 10px; }\n",
       "    </style>\n",
       "<div class=\"wandb-row\"><div class=\"wandb-col\"><h3>Run history:</h3><br/><table class=\"wandb\"><tr><td>MAE_mean</td><td>▁</td></tr><tr><td>MAE_median</td><td>▁</td></tr><tr><td>MAE_percentile_25</td><td>▁</td></tr><tr><td>MAE_percentile_5</td><td>▁</td></tr><tr><td>MAE_percentile_75</td><td>▁</td></tr><tr><td>MAE_percentile_95</td><td>▁</td></tr><tr><td>MAE_std</td><td>▁</td></tr><tr><td>MSE_mean</td><td>▁</td></tr><tr><td>MSE_median</td><td>▁</td></tr><tr><td>MSE_percentile_25</td><td>▁</td></tr><tr><td>MSE_percentile_5</td><td>▁</td></tr><tr><td>MSE_percentile_75</td><td>▁</td></tr><tr><td>MSE_percentile_95</td><td>▁</td></tr><tr><td>MSE_std</td><td>▁</td></tr><tr><td>SMAPE_mean</td><td>▁</td></tr><tr><td>SMAPE_median</td><td>▁</td></tr><tr><td>SMAPE_percentile_25</td><td>▁</td></tr><tr><td>SMAPE_percentile_5</td><td>▁</td></tr><tr><td>SMAPE_percentile_75</td><td>▁</td></tr><tr><td>SMAPE_percentile_95</td><td>▁</td></tr><tr><td>SMAPE_std</td><td>▁</td></tr><tr><td>Sign_mean</td><td>▁</td></tr><tr><td>Sign_median</td><td>▁</td></tr><tr><td>Sign_percentile_25</td><td>▁</td></tr><tr><td>Sign_percentile_5</td><td>▁</td></tr><tr><td>Sign_percentile_75</td><td>▁</td></tr><tr><td>Sign_percentile_95</td><td>▁</td></tr><tr><td>Sign_std</td><td>▁</td></tr></table><br/></div><div class=\"wandb-col\"><h3>Run summary:</h3><br/><table class=\"wandb\"><tr><td>MAE_mean</td><td>44.00954</td></tr><tr><td>MAE_median</td><td>37.23259</td></tr><tr><td>MAE_percentile_25</td><td>20.84205</td></tr><tr><td>MAE_percentile_5</td><td>20.69956</td></tr><tr><td>MAE_percentile_75</td><td>60.40008</td></tr><tr><td>MAE_percentile_95</td><td>76.80724</td></tr><tr><td>MAE_std</td><td>29.05086</td></tr><tr><td>MSE_mean</td><td>4434.46033</td></tr><tr><td>MSE_median</td><td>2956.49245</td></tr><tr><td>MSE_percentile_25</td><td>983.19561</td></tr><tr><td>MSE_percentile_5</td><td>744.63803</td></tr><tr><td>MSE_percentile_75</td><td>6407.75717</td></tr><tr><td>MSE_percentile_95</td><td>10193.43764</td></tr><tr><td>MSE_std</td><td>4844.67344</td></tr><tr><td>SMAPE_mean</td><td>9.71314</td></tr><tr><td>SMAPE_median</td><td>9.87966</td></tr><tr><td>SMAPE_percentile_25</td><td>9.23902</td></tr><tr><td>SMAPE_percentile_5</td><td>8.74423</td></tr><tr><td>SMAPE_percentile_75</td><td>10.35378</td></tr><tr><td>SMAPE_percentile_95</td><td>10.44891</td></tr><tr><td>SMAPE_std</td><td>0.85707</td></tr><tr><td>Sign_mean</td><td>0.3</td></tr><tr><td>Sign_median</td><td>0.32857</td></tr><tr><td>Sign_percentile_25</td><td>0.25</td></tr><tr><td>Sign_percentile_5</td><td>0.16429</td></tr><tr><td>Sign_percentile_75</td><td>0.37857</td></tr><tr><td>Sign_percentile_95</td><td>0.39571</td></tr><tr><td>Sign_std</td><td>0.11547</td></tr></table><br/></div></div>"
      ],
      "text/plain": [
       "<IPython.core.display.HTML object>"
      ]
     },
     "metadata": {},
     "output_type": "display_data"
    },
    {
     "data": {
      "text/html": [
       "Synced <strong style=\"color:#cdcd00\">f8FbL8sN</strong>: <a href=\"https://wandb.ai/gewissta/wandb-sweeps/runs/10vjqb0s\" target=\"_blank\">https://wandb.ai/gewissta/wandb-sweeps/runs/10vjqb0s</a><br/>Synced 5 W&B file(s), 4 media file(s), 3 artifact file(s) and 0 other file(s)"
      ],
      "text/plain": [
       "<IPython.core.display.HTML object>"
      ]
     },
     "metadata": {},
     "output_type": "display_data"
    },
    {
     "data": {
      "text/html": [
       "Find logs at: <code>./wandb/run-20230524_152601-10vjqb0s/logs</code>"
      ],
      "text/plain": [
       "<IPython.core.display.HTML object>"
      ]
     },
     "metadata": {},
     "output_type": "display_data"
    },
    {
     "name": "stderr",
     "output_type": "stream",
     "text": [
      "\u001b[32m[I 2023-05-24 15:26:33,988]\u001b[0m Trial 2 finished with value: 44.0095391400481 and parameters: {'iterations': 45, 'depth': 8, 'lags': 20}. Best is trial 1 with value: 43.30188972892675.\u001b[0m\n",
      "[Parallel(n_jobs=1)]: Using backend SequentialBackend with 1 concurrent workers.\n"
     ]
    },
    {
     "data": {
      "text/html": [
       "Changes to your `wandb` environment variables will be ignored because your `wandb` session has already started. For more information on how to modify your settings with `wandb.init()` arguments, please refer to <a href=\"https://wandb.me/wandb-init\" target=\"_blank\">the W&B docs</a>."
      ],
      "text/plain": [
       "<IPython.core.display.HTML object>"
      ]
     },
     "metadata": {},
     "output_type": "display_data"
    },
    {
     "data": {
      "text/html": [
       "wandb version 0.15.3 is available!  To upgrade, please run:\n",
       " $ pip install wandb --upgrade"
      ],
      "text/plain": [
       "<IPython.core.display.HTML object>"
      ]
     },
     "metadata": {},
     "output_type": "display_data"
    },
    {
     "data": {
      "text/html": [
       "Tracking run with wandb version 0.12.21"
      ],
      "text/plain": [
       "<IPython.core.display.HTML object>"
      ]
     },
     "metadata": {},
     "output_type": "display_data"
    },
    {
     "data": {
      "text/html": [
       "Run data is saved locally in <code>/Users/artemgruzdev/Documents/GitHub/Time_Series/code/wandb/run-20230524_152634-39qoeker</code>"
      ],
      "text/plain": [
       "<IPython.core.display.HTML object>"
      ]
     },
     "metadata": {},
     "output_type": "display_data"
    },
    {
     "data": {
      "text/html": [
       "Syncing run <strong><a href=\"https://wandb.ai/gewissta/wandb-sweeps/runs/39qoeker\" target=\"_blank\">hBBLTT8M</a></strong> to <a href=\"https://wandb.ai/gewissta/wandb-sweeps\" target=\"_blank\">Weights & Biases</a> (<a href=\"https://wandb.me/run\" target=\"_blank\">docs</a>)<br/>"
      ],
      "text/plain": [
       "<IPython.core.display.HTML object>"
      ]
     },
     "metadata": {},
     "output_type": "display_data"
    },
    {
     "data": {
      "text/html": [
       "Waiting for W&B process to finish... <strong style=\"color:green\">(success).</strong>"
      ],
      "text/plain": [
       "<IPython.core.display.HTML object>"
      ]
     },
     "metadata": {},
     "output_type": "display_data"
    },
    {
     "data": {
      "application/vnd.jupyter.widget-view+json": {
       "model_id": "",
       "version_major": 2,
       "version_minor": 0
      },
      "text/plain": [
       "VBox(children=(Label(value='0.000 MB of 0.000 MB uploaded (0.000 MB deduped)\\r'), FloatProgress(value=1.0, max…"
      ]
     },
     "metadata": {},
     "output_type": "display_data"
    },
    {
     "data": {
      "text/html": [
       "Synced <strong style=\"color:#cdcd00\">hBBLTT8M</strong>: <a href=\"https://wandb.ai/gewissta/wandb-sweeps/runs/39qoeker\" target=\"_blank\">https://wandb.ai/gewissta/wandb-sweeps/runs/39qoeker</a><br/>Synced 5 W&B file(s), 0 media file(s), 0 artifact file(s) and 0 other file(s)"
      ],
      "text/plain": [
       "<IPython.core.display.HTML object>"
      ]
     },
     "metadata": {},
     "output_type": "display_data"
    },
    {
     "data": {
      "text/html": [
       "Find logs at: <code>./wandb/run-20230524_152634-39qoeker/logs</code>"
      ],
      "text/plain": [
       "<IPython.core.display.HTML object>"
      ]
     },
     "metadata": {},
     "output_type": "display_data"
    },
    {
     "name": "stderr",
     "output_type": "stream",
     "text": [
      "[Parallel(n_jobs=1)]: Done   1 out of   1 | elapsed:   27.9s remaining:    0.0s\n"
     ]
    },
    {
     "data": {
      "text/html": [
       "Changes to your `wandb` environment variables will be ignored because your `wandb` session has already started. For more information on how to modify your settings with `wandb.init()` arguments, please refer to <a href=\"https://wandb.me/wandb-init\" target=\"_blank\">the W&B docs</a>."
      ],
      "text/plain": [
       "<IPython.core.display.HTML object>"
      ]
     },
     "metadata": {},
     "output_type": "display_data"
    },
    {
     "data": {
      "text/html": [
       "wandb version 0.15.3 is available!  To upgrade, please run:\n",
       " $ pip install wandb --upgrade"
      ],
      "text/plain": [
       "<IPython.core.display.HTML object>"
      ]
     },
     "metadata": {},
     "output_type": "display_data"
    },
    {
     "data": {
      "text/html": [
       "Tracking run with wandb version 0.12.21"
      ],
      "text/plain": [
       "<IPython.core.display.HTML object>"
      ]
     },
     "metadata": {},
     "output_type": "display_data"
    },
    {
     "data": {
      "text/html": [
       "Run data is saved locally in <code>/Users/artemgruzdev/Documents/GitHub/Time_Series/code/wandb/run-20230524_152701-149e71cx</code>"
      ],
      "text/plain": [
       "<IPython.core.display.HTML object>"
      ]
     },
     "metadata": {},
     "output_type": "display_data"
    },
    {
     "data": {
      "text/html": [
       "Syncing run <strong><a href=\"https://wandb.ai/gewissta/wandb-sweeps/runs/149e71cx\" target=\"_blank\">hBBLTT8M</a></strong> to <a href=\"https://wandb.ai/gewissta/wandb-sweeps\" target=\"_blank\">Weights & Biases</a> (<a href=\"https://wandb.me/run\" target=\"_blank\">docs</a>)<br/>"
      ],
      "text/plain": [
       "<IPython.core.display.HTML object>"
      ]
     },
     "metadata": {},
     "output_type": "display_data"
    },
    {
     "data": {
      "text/html": [
       "Waiting for W&B process to finish... <strong style=\"color:green\">(success).</strong>"
      ],
      "text/plain": [
       "<IPython.core.display.HTML object>"
      ]
     },
     "metadata": {},
     "output_type": "display_data"
    },
    {
     "data": {
      "application/vnd.jupyter.widget-view+json": {
       "model_id": "",
       "version_major": 2,
       "version_minor": 0
      },
      "text/plain": [
       "VBox(children=(Label(value='0.000 MB of 0.000 MB uploaded (0.000 MB deduped)\\r'), FloatProgress(value=1.0, max…"
      ]
     },
     "metadata": {},
     "output_type": "display_data"
    },
    {
     "data": {
      "text/html": [
       "Synced <strong style=\"color:#cdcd00\">hBBLTT8M</strong>: <a href=\"https://wandb.ai/gewissta/wandb-sweeps/runs/149e71cx\" target=\"_blank\">https://wandb.ai/gewissta/wandb-sweeps/runs/149e71cx</a><br/>Synced 5 W&B file(s), 0 media file(s), 0 artifact file(s) and 0 other file(s)"
      ],
      "text/plain": [
       "<IPython.core.display.HTML object>"
      ]
     },
     "metadata": {},
     "output_type": "display_data"
    },
    {
     "data": {
      "text/html": [
       "Find logs at: <code>./wandb/run-20230524_152701-149e71cx/logs</code>"
      ],
      "text/plain": [
       "<IPython.core.display.HTML object>"
      ]
     },
     "metadata": {},
     "output_type": "display_data"
    },
    {
     "name": "stderr",
     "output_type": "stream",
     "text": [
      "[Parallel(n_jobs=1)]: Done   2 out of   2 | elapsed:   52.8s remaining:    0.0s\n"
     ]
    },
    {
     "data": {
      "text/html": [
       "Changes to your `wandb` environment variables will be ignored because your `wandb` session has already started. For more information on how to modify your settings with `wandb.init()` arguments, please refer to <a href=\"https://wandb.me/wandb-init\" target=\"_blank\">the W&B docs</a>."
      ],
      "text/plain": [
       "<IPython.core.display.HTML object>"
      ]
     },
     "metadata": {},
     "output_type": "display_data"
    },
    {
     "data": {
      "text/html": [
       "wandb version 0.15.3 is available!  To upgrade, please run:\n",
       " $ pip install wandb --upgrade"
      ],
      "text/plain": [
       "<IPython.core.display.HTML object>"
      ]
     },
     "metadata": {},
     "output_type": "display_data"
    },
    {
     "data": {
      "text/html": [
       "Tracking run with wandb version 0.12.21"
      ],
      "text/plain": [
       "<IPython.core.display.HTML object>"
      ]
     },
     "metadata": {},
     "output_type": "display_data"
    },
    {
     "data": {
      "text/html": [
       "Run data is saved locally in <code>/Users/artemgruzdev/Documents/GitHub/Time_Series/code/wandb/run-20230524_152726-2xfdfafm</code>"
      ],
      "text/plain": [
       "<IPython.core.display.HTML object>"
      ]
     },
     "metadata": {},
     "output_type": "display_data"
    },
    {
     "data": {
      "text/html": [
       "Syncing run <strong><a href=\"https://wandb.ai/gewissta/wandb-sweeps/runs/2xfdfafm\" target=\"_blank\">hBBLTT8M</a></strong> to <a href=\"https://wandb.ai/gewissta/wandb-sweeps\" target=\"_blank\">Weights & Biases</a> (<a href=\"https://wandb.me/run\" target=\"_blank\">docs</a>)<br/>"
      ],
      "text/plain": [
       "<IPython.core.display.HTML object>"
      ]
     },
     "metadata": {},
     "output_type": "display_data"
    },
    {
     "data": {
      "text/html": [
       "Waiting for W&B process to finish... <strong style=\"color:green\">(success).</strong>"
      ],
      "text/plain": [
       "<IPython.core.display.HTML object>"
      ]
     },
     "metadata": {},
     "output_type": "display_data"
    },
    {
     "data": {
      "application/vnd.jupyter.widget-view+json": {
       "model_id": "",
       "version_major": 2,
       "version_minor": 0
      },
      "text/plain": [
       "VBox(children=(Label(value='0.000 MB of 0.000 MB uploaded (0.000 MB deduped)\\r'), FloatProgress(value=1.0, max…"
      ]
     },
     "metadata": {},
     "output_type": "display_data"
    },
    {
     "data": {
      "text/html": [
       "Synced <strong style=\"color:#cdcd00\">hBBLTT8M</strong>: <a href=\"https://wandb.ai/gewissta/wandb-sweeps/runs/2xfdfafm\" target=\"_blank\">https://wandb.ai/gewissta/wandb-sweeps/runs/2xfdfafm</a><br/>Synced 5 W&B file(s), 0 media file(s), 0 artifact file(s) and 0 other file(s)"
      ],
      "text/plain": [
       "<IPython.core.display.HTML object>"
      ]
     },
     "metadata": {},
     "output_type": "display_data"
    },
    {
     "data": {
      "text/html": [
       "Find logs at: <code>./wandb/run-20230524_152726-2xfdfafm/logs</code>"
      ],
      "text/plain": [
       "<IPython.core.display.HTML object>"
      ]
     },
     "metadata": {},
     "output_type": "display_data"
    },
    {
     "name": "stderr",
     "output_type": "stream",
     "text": [
      "[Parallel(n_jobs=1)]: Done   3 out of   3 | elapsed:  1.2min remaining:    0.0s\n"
     ]
    },
    {
     "data": {
      "text/html": [
       "Changes to your `wandb` environment variables will be ignored because your `wandb` session has already started. For more information on how to modify your settings with `wandb.init()` arguments, please refer to <a href=\"https://wandb.me/wandb-init\" target=\"_blank\">the W&B docs</a>."
      ],
      "text/plain": [
       "<IPython.core.display.HTML object>"
      ]
     },
     "metadata": {},
     "output_type": "display_data"
    },
    {
     "data": {
      "text/html": [
       "wandb version 0.15.3 is available!  To upgrade, please run:\n",
       " $ pip install wandb --upgrade"
      ],
      "text/plain": [
       "<IPython.core.display.HTML object>"
      ]
     },
     "metadata": {},
     "output_type": "display_data"
    },
    {
     "data": {
      "text/html": [
       "Tracking run with wandb version 0.12.21"
      ],
      "text/plain": [
       "<IPython.core.display.HTML object>"
      ]
     },
     "metadata": {},
     "output_type": "display_data"
    },
    {
     "data": {
      "text/html": [
       "Run data is saved locally in <code>/Users/artemgruzdev/Documents/GitHub/Time_Series/code/wandb/run-20230524_152748-3otr5loc</code>"
      ],
      "text/plain": [
       "<IPython.core.display.HTML object>"
      ]
     },
     "metadata": {},
     "output_type": "display_data"
    },
    {
     "data": {
      "text/html": [
       "Syncing run <strong><a href=\"https://wandb.ai/gewissta/wandb-sweeps/runs/3otr5loc\" target=\"_blank\">hBBLTT8M</a></strong> to <a href=\"https://wandb.ai/gewissta/wandb-sweeps\" target=\"_blank\">Weights & Biases</a> (<a href=\"https://wandb.me/run\" target=\"_blank\">docs</a>)<br/>"
      ],
      "text/plain": [
       "<IPython.core.display.HTML object>"
      ]
     },
     "metadata": {},
     "output_type": "display_data"
    },
    {
     "data": {
      "text/html": [
       "Waiting for W&B process to finish... <strong style=\"color:green\">(success).</strong>"
      ],
      "text/plain": [
       "<IPython.core.display.HTML object>"
      ]
     },
     "metadata": {},
     "output_type": "display_data"
    },
    {
     "data": {
      "application/vnd.jupyter.widget-view+json": {
       "model_id": "",
       "version_major": 2,
       "version_minor": 0
      },
      "text/plain": [
       "VBox(children=(Label(value='0.000 MB of 0.000 MB uploaded (0.000 MB deduped)\\r'), FloatProgress(value=1.0, max…"
      ]
     },
     "metadata": {},
     "output_type": "display_data"
    },
    {
     "data": {
      "text/html": [
       "Synced <strong style=\"color:#cdcd00\">hBBLTT8M</strong>: <a href=\"https://wandb.ai/gewissta/wandb-sweeps/runs/3otr5loc\" target=\"_blank\">https://wandb.ai/gewissta/wandb-sweeps/runs/3otr5loc</a><br/>Synced 5 W&B file(s), 0 media file(s), 0 artifact file(s) and 0 other file(s)"
      ],
      "text/plain": [
       "<IPython.core.display.HTML object>"
      ]
     },
     "metadata": {},
     "output_type": "display_data"
    },
    {
     "data": {
      "text/html": [
       "Find logs at: <code>./wandb/run-20230524_152748-3otr5loc/logs</code>"
      ],
      "text/plain": [
       "<IPython.core.display.HTML object>"
      ]
     },
     "metadata": {},
     "output_type": "display_data"
    },
    {
     "name": "stderr",
     "output_type": "stream",
     "text": [
      "[Parallel(n_jobs=1)]: Done   4 out of   4 | elapsed:  1.6min remaining:    0.0s\n"
     ]
    },
    {
     "data": {
      "text/html": [
       "Changes to your `wandb` environment variables will be ignored because your `wandb` session has already started. For more information on how to modify your settings with `wandb.init()` arguments, please refer to <a href=\"https://wandb.me/wandb-init\" target=\"_blank\">the W&B docs</a>."
      ],
      "text/plain": [
       "<IPython.core.display.HTML object>"
      ]
     },
     "metadata": {},
     "output_type": "display_data"
    },
    {
     "data": {
      "text/html": [
       "wandb version 0.15.3 is available!  To upgrade, please run:\n",
       " $ pip install wandb --upgrade"
      ],
      "text/plain": [
       "<IPython.core.display.HTML object>"
      ]
     },
     "metadata": {},
     "output_type": "display_data"
    },
    {
     "data": {
      "text/html": [
       "Tracking run with wandb version 0.12.21"
      ],
      "text/plain": [
       "<IPython.core.display.HTML object>"
      ]
     },
     "metadata": {},
     "output_type": "display_data"
    },
    {
     "data": {
      "text/html": [
       "Run data is saved locally in <code>/Users/artemgruzdev/Documents/GitHub/Time_Series/code/wandb/run-20230524_152811-97enfihl</code>"
      ],
      "text/plain": [
       "<IPython.core.display.HTML object>"
      ]
     },
     "metadata": {},
     "output_type": "display_data"
    },
    {
     "data": {
      "text/html": [
       "Syncing run <strong><a href=\"https://wandb.ai/gewissta/wandb-sweeps/runs/97enfihl\" target=\"_blank\">hBBLTT8M</a></strong> to <a href=\"https://wandb.ai/gewissta/wandb-sweeps\" target=\"_blank\">Weights & Biases</a> (<a href=\"https://wandb.me/run\" target=\"_blank\">docs</a>)<br/>"
      ],
      "text/plain": [
       "<IPython.core.display.HTML object>"
      ]
     },
     "metadata": {},
     "output_type": "display_data"
    },
    {
     "data": {
      "text/html": [
       "Waiting for W&B process to finish... <strong style=\"color:green\">(success).</strong>"
      ],
      "text/plain": [
       "<IPython.core.display.HTML object>"
      ]
     },
     "metadata": {},
     "output_type": "display_data"
    },
    {
     "data": {
      "application/vnd.jupyter.widget-view+json": {
       "model_id": "",
       "version_major": 2,
       "version_minor": 0
      },
      "text/plain": [
       "VBox(children=(Label(value='0.000 MB of 0.000 MB uploaded (0.000 MB deduped)\\r'), FloatProgress(value=1.0, max…"
      ]
     },
     "metadata": {},
     "output_type": "display_data"
    },
    {
     "data": {
      "text/html": [
       "Synced <strong style=\"color:#cdcd00\">hBBLTT8M</strong>: <a href=\"https://wandb.ai/gewissta/wandb-sweeps/runs/97enfihl\" target=\"_blank\">https://wandb.ai/gewissta/wandb-sweeps/runs/97enfihl</a><br/>Synced 5 W&B file(s), 0 media file(s), 0 artifact file(s) and 0 other file(s)"
      ],
      "text/plain": [
       "<IPython.core.display.HTML object>"
      ]
     },
     "metadata": {},
     "output_type": "display_data"
    },
    {
     "data": {
      "text/html": [
       "Find logs at: <code>./wandb/run-20230524_152811-97enfihl/logs</code>"
      ],
      "text/plain": [
       "<IPython.core.display.HTML object>"
      ]
     },
     "metadata": {},
     "output_type": "display_data"
    },
    {
     "name": "stderr",
     "output_type": "stream",
     "text": [
      "[Parallel(n_jobs=1)]: Done   5 out of   5 | elapsed:  2.0min remaining:    0.0s\n",
      "[Parallel(n_jobs=1)]: Done   5 out of   5 | elapsed:  2.0min finished\n",
      "[Parallel(n_jobs=1)]: Using backend SequentialBackend with 1 concurrent workers.\n"
     ]
    },
    {
     "data": {
      "text/html": [
       "Changes to your `wandb` environment variables will be ignored because your `wandb` session has already started. For more information on how to modify your settings with `wandb.init()` arguments, please refer to <a href=\"https://wandb.me/wandb-init\" target=\"_blank\">the W&B docs</a>."
      ],
      "text/plain": [
       "<IPython.core.display.HTML object>"
      ]
     },
     "metadata": {},
     "output_type": "display_data"
    },
    {
     "data": {
      "text/html": [
       "wandb version 0.15.3 is available!  To upgrade, please run:\n",
       " $ pip install wandb --upgrade"
      ],
      "text/plain": [
       "<IPython.core.display.HTML object>"
      ]
     },
     "metadata": {},
     "output_type": "display_data"
    },
    {
     "data": {
      "text/html": [
       "Tracking run with wandb version 0.12.21"
      ],
      "text/plain": [
       "<IPython.core.display.HTML object>"
      ]
     },
     "metadata": {},
     "output_type": "display_data"
    },
    {
     "data": {
      "text/html": [
       "Run data is saved locally in <code>/Users/artemgruzdev/Documents/GitHub/Time_Series/code/wandb/run-20230524_152833-3ulgth9n</code>"
      ],
      "text/plain": [
       "<IPython.core.display.HTML object>"
      ]
     },
     "metadata": {},
     "output_type": "display_data"
    },
    {
     "data": {
      "text/html": [
       "Syncing run <strong><a href=\"https://wandb.ai/gewissta/wandb-sweeps/runs/3ulgth9n\" target=\"_blank\">hBBLTT8M</a></strong> to <a href=\"https://wandb.ai/gewissta/wandb-sweeps\" target=\"_blank\">Weights & Biases</a> (<a href=\"https://wandb.me/run\" target=\"_blank\">docs</a>)<br/>"
      ],
      "text/plain": [
       "<IPython.core.display.HTML object>"
      ]
     },
     "metadata": {},
     "output_type": "display_data"
    },
    {
     "data": {
      "text/html": [
       "Waiting for W&B process to finish... <strong style=\"color:green\">(success).</strong>"
      ],
      "text/plain": [
       "<IPython.core.display.HTML object>"
      ]
     },
     "metadata": {},
     "output_type": "display_data"
    },
    {
     "data": {
      "application/vnd.jupyter.widget-view+json": {
       "model_id": "",
       "version_major": 2,
       "version_minor": 0
      },
      "text/plain": [
       "VBox(children=(Label(value='0.000 MB of 0.000 MB uploaded (0.000 MB deduped)\\r'), FloatProgress(value=1.0, max…"
      ]
     },
     "metadata": {},
     "output_type": "display_data"
    },
    {
     "data": {
      "text/html": [
       "Synced <strong style=\"color:#cdcd00\">hBBLTT8M</strong>: <a href=\"https://wandb.ai/gewissta/wandb-sweeps/runs/3ulgth9n\" target=\"_blank\">https://wandb.ai/gewissta/wandb-sweeps/runs/3ulgth9n</a><br/>Synced 5 W&B file(s), 0 media file(s), 0 artifact file(s) and 0 other file(s)"
      ],
      "text/plain": [
       "<IPython.core.display.HTML object>"
      ]
     },
     "metadata": {},
     "output_type": "display_data"
    },
    {
     "data": {
      "text/html": [
       "Find logs at: <code>./wandb/run-20230524_152833-3ulgth9n/logs</code>"
      ],
      "text/plain": [
       "<IPython.core.display.HTML object>"
      ]
     },
     "metadata": {},
     "output_type": "display_data"
    },
    {
     "name": "stderr",
     "output_type": "stream",
     "text": [
      "[Parallel(n_jobs=1)]: Done   1 out of   1 | elapsed:   21.7s remaining:    0.0s\n"
     ]
    },
    {
     "data": {
      "text/html": [
       "Changes to your `wandb` environment variables will be ignored because your `wandb` session has already started. For more information on how to modify your settings with `wandb.init()` arguments, please refer to <a href=\"https://wandb.me/wandb-init\" target=\"_blank\">the W&B docs</a>."
      ],
      "text/plain": [
       "<IPython.core.display.HTML object>"
      ]
     },
     "metadata": {},
     "output_type": "display_data"
    },
    {
     "data": {
      "text/html": [
       "wandb version 0.15.3 is available!  To upgrade, please run:\n",
       " $ pip install wandb --upgrade"
      ],
      "text/plain": [
       "<IPython.core.display.HTML object>"
      ]
     },
     "metadata": {},
     "output_type": "display_data"
    },
    {
     "data": {
      "text/html": [
       "Tracking run with wandb version 0.12.21"
      ],
      "text/plain": [
       "<IPython.core.display.HTML object>"
      ]
     },
     "metadata": {},
     "output_type": "display_data"
    },
    {
     "data": {
      "text/html": [
       "Run data is saved locally in <code>/Users/artemgruzdev/Documents/GitHub/Time_Series/code/wandb/run-20230524_152854-c5hrxs2l</code>"
      ],
      "text/plain": [
       "<IPython.core.display.HTML object>"
      ]
     },
     "metadata": {},
     "output_type": "display_data"
    },
    {
     "data": {
      "text/html": [
       "Syncing run <strong><a href=\"https://wandb.ai/gewissta/wandb-sweeps/runs/c5hrxs2l\" target=\"_blank\">hBBLTT8M</a></strong> to <a href=\"https://wandb.ai/gewissta/wandb-sweeps\" target=\"_blank\">Weights & Biases</a> (<a href=\"https://wandb.me/run\" target=\"_blank\">docs</a>)<br/>"
      ],
      "text/plain": [
       "<IPython.core.display.HTML object>"
      ]
     },
     "metadata": {},
     "output_type": "display_data"
    },
    {
     "data": {
      "text/html": [
       "Waiting for W&B process to finish... <strong style=\"color:green\">(success).</strong>"
      ],
      "text/plain": [
       "<IPython.core.display.HTML object>"
      ]
     },
     "metadata": {},
     "output_type": "display_data"
    },
    {
     "data": {
      "application/vnd.jupyter.widget-view+json": {
       "model_id": "",
       "version_major": 2,
       "version_minor": 0
      },
      "text/plain": [
       "VBox(children=(Label(value='0.000 MB of 0.000 MB uploaded (0.000 MB deduped)\\r'), FloatProgress(value=1.0, max…"
      ]
     },
     "metadata": {},
     "output_type": "display_data"
    },
    {
     "data": {
      "text/html": [
       "Synced <strong style=\"color:#cdcd00\">hBBLTT8M</strong>: <a href=\"https://wandb.ai/gewissta/wandb-sweeps/runs/c5hrxs2l\" target=\"_blank\">https://wandb.ai/gewissta/wandb-sweeps/runs/c5hrxs2l</a><br/>Synced 5 W&B file(s), 0 media file(s), 0 artifact file(s) and 0 other file(s)"
      ],
      "text/plain": [
       "<IPython.core.display.HTML object>"
      ]
     },
     "metadata": {},
     "output_type": "display_data"
    },
    {
     "data": {
      "text/html": [
       "Find logs at: <code>./wandb/run-20230524_152854-c5hrxs2l/logs</code>"
      ],
      "text/plain": [
       "<IPython.core.display.HTML object>"
      ]
     },
     "metadata": {},
     "output_type": "display_data"
    },
    {
     "name": "stderr",
     "output_type": "stream",
     "text": [
      "[Parallel(n_jobs=1)]: Done   2 out of   2 | elapsed:   43.8s remaining:    0.0s\n"
     ]
    },
    {
     "data": {
      "text/html": [
       "Changes to your `wandb` environment variables will be ignored because your `wandb` session has already started. For more information on how to modify your settings with `wandb.init()` arguments, please refer to <a href=\"https://wandb.me/wandb-init\" target=\"_blank\">the W&B docs</a>."
      ],
      "text/plain": [
       "<IPython.core.display.HTML object>"
      ]
     },
     "metadata": {},
     "output_type": "display_data"
    },
    {
     "data": {
      "text/html": [
       "wandb version 0.15.3 is available!  To upgrade, please run:\n",
       " $ pip install wandb --upgrade"
      ],
      "text/plain": [
       "<IPython.core.display.HTML object>"
      ]
     },
     "metadata": {},
     "output_type": "display_data"
    },
    {
     "data": {
      "text/html": [
       "Tracking run with wandb version 0.12.21"
      ],
      "text/plain": [
       "<IPython.core.display.HTML object>"
      ]
     },
     "metadata": {},
     "output_type": "display_data"
    },
    {
     "data": {
      "text/html": [
       "Run data is saved locally in <code>/Users/artemgruzdev/Documents/GitHub/Time_Series/code/wandb/run-20230524_152917-rjmpk0cz</code>"
      ],
      "text/plain": [
       "<IPython.core.display.HTML object>"
      ]
     },
     "metadata": {},
     "output_type": "display_data"
    },
    {
     "data": {
      "text/html": [
       "Syncing run <strong><a href=\"https://wandb.ai/gewissta/wandb-sweeps/runs/rjmpk0cz\" target=\"_blank\">hBBLTT8M</a></strong> to <a href=\"https://wandb.ai/gewissta/wandb-sweeps\" target=\"_blank\">Weights & Biases</a> (<a href=\"https://wandb.me/run\" target=\"_blank\">docs</a>)<br/>"
      ],
      "text/plain": [
       "<IPython.core.display.HTML object>"
      ]
     },
     "metadata": {},
     "output_type": "display_data"
    },
    {
     "data": {
      "text/html": [
       "Waiting for W&B process to finish... <strong style=\"color:green\">(success).</strong>"
      ],
      "text/plain": [
       "<IPython.core.display.HTML object>"
      ]
     },
     "metadata": {},
     "output_type": "display_data"
    },
    {
     "data": {
      "application/vnd.jupyter.widget-view+json": {
       "model_id": "",
       "version_major": 2,
       "version_minor": 0
      },
      "text/plain": [
       "VBox(children=(Label(value='0.000 MB of 0.000 MB uploaded (0.000 MB deduped)\\r'), FloatProgress(value=1.0, max…"
      ]
     },
     "metadata": {},
     "output_type": "display_data"
    },
    {
     "data": {
      "text/html": [
       "Synced <strong style=\"color:#cdcd00\">hBBLTT8M</strong>: <a href=\"https://wandb.ai/gewissta/wandb-sweeps/runs/rjmpk0cz\" target=\"_blank\">https://wandb.ai/gewissta/wandb-sweeps/runs/rjmpk0cz</a><br/>Synced 5 W&B file(s), 0 media file(s), 0 artifact file(s) and 0 other file(s)"
      ],
      "text/plain": [
       "<IPython.core.display.HTML object>"
      ]
     },
     "metadata": {},
     "output_type": "display_data"
    },
    {
     "data": {
      "text/html": [
       "Find logs at: <code>./wandb/run-20230524_152917-rjmpk0cz/logs</code>"
      ],
      "text/plain": [
       "<IPython.core.display.HTML object>"
      ]
     },
     "metadata": {},
     "output_type": "display_data"
    },
    {
     "name": "stderr",
     "output_type": "stream",
     "text": [
      "[Parallel(n_jobs=1)]: Done   3 out of   3 | elapsed:  1.1min remaining:    0.0s\n"
     ]
    },
    {
     "data": {
      "text/html": [
       "Changes to your `wandb` environment variables will be ignored because your `wandb` session has already started. For more information on how to modify your settings with `wandb.init()` arguments, please refer to <a href=\"https://wandb.me/wandb-init\" target=\"_blank\">the W&B docs</a>."
      ],
      "text/plain": [
       "<IPython.core.display.HTML object>"
      ]
     },
     "metadata": {},
     "output_type": "display_data"
    },
    {
     "data": {
      "text/html": [
       "wandb version 0.15.3 is available!  To upgrade, please run:\n",
       " $ pip install wandb --upgrade"
      ],
      "text/plain": [
       "<IPython.core.display.HTML object>"
      ]
     },
     "metadata": {},
     "output_type": "display_data"
    },
    {
     "data": {
      "text/html": [
       "Tracking run with wandb version 0.12.21"
      ],
      "text/plain": [
       "<IPython.core.display.HTML object>"
      ]
     },
     "metadata": {},
     "output_type": "display_data"
    },
    {
     "data": {
      "text/html": [
       "Run data is saved locally in <code>/Users/artemgruzdev/Documents/GitHub/Time_Series/code/wandb/run-20230524_152938-357too84</code>"
      ],
      "text/plain": [
       "<IPython.core.display.HTML object>"
      ]
     },
     "metadata": {},
     "output_type": "display_data"
    },
    {
     "data": {
      "text/html": [
       "Syncing run <strong><a href=\"https://wandb.ai/gewissta/wandb-sweeps/runs/357too84\" target=\"_blank\">hBBLTT8M</a></strong> to <a href=\"https://wandb.ai/gewissta/wandb-sweeps\" target=\"_blank\">Weights & Biases</a> (<a href=\"https://wandb.me/run\" target=\"_blank\">docs</a>)<br/>"
      ],
      "text/plain": [
       "<IPython.core.display.HTML object>"
      ]
     },
     "metadata": {},
     "output_type": "display_data"
    },
    {
     "data": {
      "text/html": [
       "Waiting for W&B process to finish... <strong style=\"color:green\">(success).</strong>"
      ],
      "text/plain": [
       "<IPython.core.display.HTML object>"
      ]
     },
     "metadata": {},
     "output_type": "display_data"
    },
    {
     "data": {
      "application/vnd.jupyter.widget-view+json": {
       "model_id": "",
       "version_major": 2,
       "version_minor": 0
      },
      "text/plain": [
       "VBox(children=(Label(value='0.000 MB of 0.000 MB uploaded (0.000 MB deduped)\\r'), FloatProgress(value=1.0, max…"
      ]
     },
     "metadata": {},
     "output_type": "display_data"
    },
    {
     "data": {
      "text/html": [
       "Synced <strong style=\"color:#cdcd00\">hBBLTT8M</strong>: <a href=\"https://wandb.ai/gewissta/wandb-sweeps/runs/357too84\" target=\"_blank\">https://wandb.ai/gewissta/wandb-sweeps/runs/357too84</a><br/>Synced 5 W&B file(s), 0 media file(s), 0 artifact file(s) and 0 other file(s)"
      ],
      "text/plain": [
       "<IPython.core.display.HTML object>"
      ]
     },
     "metadata": {},
     "output_type": "display_data"
    },
    {
     "data": {
      "text/html": [
       "Find logs at: <code>./wandb/run-20230524_152938-357too84/logs</code>"
      ],
      "text/plain": [
       "<IPython.core.display.HTML object>"
      ]
     },
     "metadata": {},
     "output_type": "display_data"
    },
    {
     "name": "stderr",
     "output_type": "stream",
     "text": [
      "[Parallel(n_jobs=1)]: Done   4 out of   4 | elapsed:  1.5min remaining:    0.0s\n"
     ]
    },
    {
     "data": {
      "text/html": [
       "Changes to your `wandb` environment variables will be ignored because your `wandb` session has already started. For more information on how to modify your settings with `wandb.init()` arguments, please refer to <a href=\"https://wandb.me/wandb-init\" target=\"_blank\">the W&B docs</a>."
      ],
      "text/plain": [
       "<IPython.core.display.HTML object>"
      ]
     },
     "metadata": {},
     "output_type": "display_data"
    },
    {
     "data": {
      "text/html": [
       "wandb version 0.15.3 is available!  To upgrade, please run:\n",
       " $ pip install wandb --upgrade"
      ],
      "text/plain": [
       "<IPython.core.display.HTML object>"
      ]
     },
     "metadata": {},
     "output_type": "display_data"
    },
    {
     "data": {
      "text/html": [
       "Tracking run with wandb version 0.12.21"
      ],
      "text/plain": [
       "<IPython.core.display.HTML object>"
      ]
     },
     "metadata": {},
     "output_type": "display_data"
    },
    {
     "data": {
      "text/html": [
       "Run data is saved locally in <code>/Users/artemgruzdev/Documents/GitHub/Time_Series/code/wandb/run-20230524_153000-1h89qmfg</code>"
      ],
      "text/plain": [
       "<IPython.core.display.HTML object>"
      ]
     },
     "metadata": {},
     "output_type": "display_data"
    },
    {
     "data": {
      "text/html": [
       "Syncing run <strong><a href=\"https://wandb.ai/gewissta/wandb-sweeps/runs/1h89qmfg\" target=\"_blank\">hBBLTT8M</a></strong> to <a href=\"https://wandb.ai/gewissta/wandb-sweeps\" target=\"_blank\">Weights & Biases</a> (<a href=\"https://wandb.me/run\" target=\"_blank\">docs</a>)<br/>"
      ],
      "text/plain": [
       "<IPython.core.display.HTML object>"
      ]
     },
     "metadata": {},
     "output_type": "display_data"
    },
    {
     "data": {
      "text/html": [
       "Waiting for W&B process to finish... <strong style=\"color:green\">(success).</strong>"
      ],
      "text/plain": [
       "<IPython.core.display.HTML object>"
      ]
     },
     "metadata": {},
     "output_type": "display_data"
    },
    {
     "data": {
      "application/vnd.jupyter.widget-view+json": {
       "model_id": "",
       "version_major": 2,
       "version_minor": 0
      },
      "text/plain": [
       "VBox(children=(Label(value='0.000 MB of 0.000 MB uploaded (0.000 MB deduped)\\r'), FloatProgress(value=1.0, max…"
      ]
     },
     "metadata": {},
     "output_type": "display_data"
    },
    {
     "data": {
      "text/html": [
       "Synced <strong style=\"color:#cdcd00\">hBBLTT8M</strong>: <a href=\"https://wandb.ai/gewissta/wandb-sweeps/runs/1h89qmfg\" target=\"_blank\">https://wandb.ai/gewissta/wandb-sweeps/runs/1h89qmfg</a><br/>Synced 5 W&B file(s), 0 media file(s), 0 artifact file(s) and 0 other file(s)"
      ],
      "text/plain": [
       "<IPython.core.display.HTML object>"
      ]
     },
     "metadata": {},
     "output_type": "display_data"
    },
    {
     "data": {
      "text/html": [
       "Find logs at: <code>./wandb/run-20230524_153000-1h89qmfg/logs</code>"
      ],
      "text/plain": [
       "<IPython.core.display.HTML object>"
      ]
     },
     "metadata": {},
     "output_type": "display_data"
    },
    {
     "name": "stderr",
     "output_type": "stream",
     "text": [
      "[Parallel(n_jobs=1)]: Done   5 out of   5 | elapsed:  1.8min remaining:    0.0s\n",
      "[Parallel(n_jobs=1)]: Done   5 out of   5 | elapsed:  1.8min finished\n",
      "[Parallel(n_jobs=1)]: Using backend SequentialBackend with 1 concurrent workers.\n"
     ]
    },
    {
     "data": {
      "text/html": [
       "Changes to your `wandb` environment variables will be ignored because your `wandb` session has already started. For more information on how to modify your settings with `wandb.init()` arguments, please refer to <a href=\"https://wandb.me/wandb-init\" target=\"_blank\">the W&B docs</a>."
      ],
      "text/plain": [
       "<IPython.core.display.HTML object>"
      ]
     },
     "metadata": {},
     "output_type": "display_data"
    },
    {
     "data": {
      "text/html": [
       "wandb version 0.15.3 is available!  To upgrade, please run:\n",
       " $ pip install wandb --upgrade"
      ],
      "text/plain": [
       "<IPython.core.display.HTML object>"
      ]
     },
     "metadata": {},
     "output_type": "display_data"
    },
    {
     "data": {
      "text/html": [
       "Tracking run with wandb version 0.12.21"
      ],
      "text/plain": [
       "<IPython.core.display.HTML object>"
      ]
     },
     "metadata": {},
     "output_type": "display_data"
    },
    {
     "data": {
      "text/html": [
       "Run data is saved locally in <code>/Users/artemgruzdev/Documents/GitHub/Time_Series/code/wandb/run-20230524_153023-2tip7mng</code>"
      ],
      "text/plain": [
       "<IPython.core.display.HTML object>"
      ]
     },
     "metadata": {},
     "output_type": "display_data"
    },
    {
     "data": {
      "text/html": [
       "Syncing run <strong><a href=\"https://wandb.ai/gewissta/wandb-sweeps/runs/2tip7mng\" target=\"_blank\">hBBLTT8M</a></strong> to <a href=\"https://wandb.ai/gewissta/wandb-sweeps\" target=\"_blank\">Weights & Biases</a> (<a href=\"https://wandb.me/run\" target=\"_blank\">docs</a>)<br/>"
      ],
      "text/plain": [
       "<IPython.core.display.HTML object>"
      ]
     },
     "metadata": {},
     "output_type": "display_data"
    },
    {
     "data": {
      "text/html": [
       "Waiting for W&B process to finish... <strong style=\"color:green\">(success).</strong>"
      ],
      "text/plain": [
       "<IPython.core.display.HTML object>"
      ]
     },
     "metadata": {},
     "output_type": "display_data"
    },
    {
     "data": {
      "application/vnd.jupyter.widget-view+json": {
       "model_id": "",
       "version_major": 2,
       "version_minor": 0
      },
      "text/plain": [
       "VBox(children=(Label(value='0.025 MB of 0.028 MB uploaded (0.000 MB deduped)\\r'), FloatProgress(value=0.894173…"
      ]
     },
     "metadata": {},
     "output_type": "display_data"
    },
    {
     "data": {
      "text/html": [
       "<style>\n",
       "    table.wandb td:nth-child(1) { padding: 0 10px; text-align: left ; width: auto;} td:nth-child(2) {text-align: left ; width: 100%}\n",
       "    .wandb-row { display: flex; flex-direction: row; flex-wrap: wrap; justify-content: flex-start; width: 100% }\n",
       "    .wandb-col { display: flex; flex-direction: column; flex-basis: 100%; flex: 1; padding: 10px; }\n",
       "    </style>\n",
       "<div class=\"wandb-row\"><div class=\"wandb-col\"><h3>Run history:</h3><br/><table class=\"wandb\"><tr><td>MAE_mean</td><td>▁</td></tr><tr><td>MAE_median</td><td>▁</td></tr><tr><td>MAE_percentile_25</td><td>▁</td></tr><tr><td>MAE_percentile_5</td><td>▁</td></tr><tr><td>MAE_percentile_75</td><td>▁</td></tr><tr><td>MAE_percentile_95</td><td>▁</td></tr><tr><td>MAE_std</td><td>▁</td></tr><tr><td>MSE_mean</td><td>▁</td></tr><tr><td>MSE_median</td><td>▁</td></tr><tr><td>MSE_percentile_25</td><td>▁</td></tr><tr><td>MSE_percentile_5</td><td>▁</td></tr><tr><td>MSE_percentile_75</td><td>▁</td></tr><tr><td>MSE_percentile_95</td><td>▁</td></tr><tr><td>MSE_std</td><td>▁</td></tr><tr><td>SMAPE_mean</td><td>▁</td></tr><tr><td>SMAPE_median</td><td>▁</td></tr><tr><td>SMAPE_percentile_25</td><td>▁</td></tr><tr><td>SMAPE_percentile_5</td><td>▁</td></tr><tr><td>SMAPE_percentile_75</td><td>▁</td></tr><tr><td>SMAPE_percentile_95</td><td>▁</td></tr><tr><td>SMAPE_std</td><td>▁</td></tr><tr><td>Sign_mean</td><td>▁</td></tr><tr><td>Sign_median</td><td>▁</td></tr><tr><td>Sign_percentile_25</td><td>▁</td></tr><tr><td>Sign_percentile_5</td><td>▁</td></tr><tr><td>Sign_percentile_75</td><td>▁</td></tr><tr><td>Sign_percentile_95</td><td>▁</td></tr><tr><td>Sign_std</td><td>▁</td></tr></table><br/></div><div class=\"wandb-col\"><h3>Run summary:</h3><br/><table class=\"wandb\"><tr><td>MAE_mean</td><td>32.17662</td></tr><tr><td>MAE_median</td><td>30.40669</td></tr><tr><td>MAE_percentile_25</td><td>14.65073</td></tr><tr><td>MAE_percentile_5</td><td>12.0197</td></tr><tr><td>MAE_percentile_75</td><td>47.93258</td></tr><tr><td>MAE_percentile_95</td><td>54.81145</td></tr><tr><td>MAE_std</td><td>22.0792</td></tr><tr><td>MSE_mean</td><td>2229.48927</td></tr><tr><td>MSE_median</td><td>1990.79448</td></tr><tr><td>MSE_percentile_25</td><td>321.65086</td></tr><tr><td>MSE_percentile_5</td><td>205.54742</td></tr><tr><td>MSE_percentile_75</td><td>3898.63289</td></tr><tr><td>MSE_percentile_95</td><td>4587.60382</td></tr><tr><td>MSE_std</td><td>2308.32604</td></tr><tr><td>SMAPE_mean</td><td>7.77425</td></tr><tr><td>SMAPE_median</td><td>7.14808</td></tr><tr><td>SMAPE_percentile_25</td><td>7.05383</td></tr><tr><td>SMAPE_percentile_5</td><td>6.99227</td></tr><tr><td>SMAPE_percentile_75</td><td>7.86851</td></tr><tr><td>SMAPE_percentile_95</td><td>9.43287</td></tr><tr><td>SMAPE_std</td><td>1.37</td></tr><tr><td>Sign_mean</td><td>0.07143</td></tr><tr><td>Sign_median</td><td>0.14286</td></tr><tr><td>Sign_percentile_25</td><td>-0.21429</td></tr><tr><td>Sign_percentile_5</td><td>-0.38571</td></tr><tr><td>Sign_percentile_75</td><td>0.42857</td></tr><tr><td>Sign_percentile_95</td><td>0.42857</td></tr><tr><td>Sign_std</td><td>0.42857</td></tr></table><br/></div></div>"
      ],
      "text/plain": [
       "<IPython.core.display.HTML object>"
      ]
     },
     "metadata": {},
     "output_type": "display_data"
    },
    {
     "data": {
      "text/html": [
       "Synced <strong style=\"color:#cdcd00\">hBBLTT8M</strong>: <a href=\"https://wandb.ai/gewissta/wandb-sweeps/runs/2tip7mng\" target=\"_blank\">https://wandb.ai/gewissta/wandb-sweeps/runs/2tip7mng</a><br/>Synced 5 W&B file(s), 3 media file(s), 3 artifact file(s) and 0 other file(s)"
      ],
      "text/plain": [
       "<IPython.core.display.HTML object>"
      ]
     },
     "metadata": {},
     "output_type": "display_data"
    },
    {
     "data": {
      "text/html": [
       "Find logs at: <code>./wandb/run-20230524_153023-2tip7mng/logs</code>"
      ],
      "text/plain": [
       "<IPython.core.display.HTML object>"
      ]
     },
     "metadata": {},
     "output_type": "display_data"
    },
    {
     "name": "stderr",
     "output_type": "stream",
     "text": [
      "[Parallel(n_jobs=1)]: Done   1 out of   1 | elapsed:   35.8s remaining:    0.0s\n"
     ]
    },
    {
     "data": {
      "text/html": [
       "Changes to your `wandb` environment variables will be ignored because your `wandb` session has already started. For more information on how to modify your settings with `wandb.init()` arguments, please refer to <a href=\"https://wandb.me/wandb-init\" target=\"_blank\">the W&B docs</a>."
      ],
      "text/plain": [
       "<IPython.core.display.HTML object>"
      ]
     },
     "metadata": {},
     "output_type": "display_data"
    },
    {
     "data": {
      "text/html": [
       "wandb version 0.15.3 is available!  To upgrade, please run:\n",
       " $ pip install wandb --upgrade"
      ],
      "text/plain": [
       "<IPython.core.display.HTML object>"
      ]
     },
     "metadata": {},
     "output_type": "display_data"
    },
    {
     "data": {
      "text/html": [
       "Tracking run with wandb version 0.12.21"
      ],
      "text/plain": [
       "<IPython.core.display.HTML object>"
      ]
     },
     "metadata": {},
     "output_type": "display_data"
    },
    {
     "data": {
      "text/html": [
       "Run data is saved locally in <code>/Users/artemgruzdev/Documents/GitHub/Time_Series/code/wandb/run-20230524_153059-3tq67aje</code>"
      ],
      "text/plain": [
       "<IPython.core.display.HTML object>"
      ]
     },
     "metadata": {},
     "output_type": "display_data"
    },
    {
     "data": {
      "text/html": [
       "Syncing run <strong><a href=\"https://wandb.ai/gewissta/wandb-sweeps/runs/3tq67aje\" target=\"_blank\">hBBLTT8M</a></strong> to <a href=\"https://wandb.ai/gewissta/wandb-sweeps\" target=\"_blank\">Weights & Biases</a> (<a href=\"https://wandb.me/run\" target=\"_blank\">docs</a>)<br/>"
      ],
      "text/plain": [
       "<IPython.core.display.HTML object>"
      ]
     },
     "metadata": {},
     "output_type": "display_data"
    },
    {
     "data": {
      "text/html": [
       "Waiting for W&B process to finish... <strong style=\"color:green\">(success).</strong>"
      ],
      "text/plain": [
       "<IPython.core.display.HTML object>"
      ]
     },
     "metadata": {},
     "output_type": "display_data"
    },
    {
     "data": {
      "application/vnd.jupyter.widget-view+json": {
       "model_id": "",
       "version_major": 2,
       "version_minor": 0
      },
      "text/plain": [
       "VBox(children=(Label(value='0.025 MB of 0.028 MB uploaded (0.000 MB deduped)\\r'), FloatProgress(value=0.893737…"
      ]
     },
     "metadata": {},
     "output_type": "display_data"
    },
    {
     "data": {
      "text/html": [
       "<style>\n",
       "    table.wandb td:nth-child(1) { padding: 0 10px; text-align: left ; width: auto;} td:nth-child(2) {text-align: left ; width: 100%}\n",
       "    .wandb-row { display: flex; flex-direction: row; flex-wrap: wrap; justify-content: flex-start; width: 100% }\n",
       "    .wandb-col { display: flex; flex-direction: column; flex-basis: 100%; flex: 1; padding: 10px; }\n",
       "    </style>\n",
       "<div class=\"wandb-row\"><div class=\"wandb-col\"><h3>Run history:</h3><br/><table class=\"wandb\"><tr><td>MAE_mean</td><td>▁</td></tr><tr><td>MAE_median</td><td>▁</td></tr><tr><td>MAE_percentile_25</td><td>▁</td></tr><tr><td>MAE_percentile_5</td><td>▁</td></tr><tr><td>MAE_percentile_75</td><td>▁</td></tr><tr><td>MAE_percentile_95</td><td>▁</td></tr><tr><td>MAE_std</td><td>▁</td></tr><tr><td>MSE_mean</td><td>▁</td></tr><tr><td>MSE_median</td><td>▁</td></tr><tr><td>MSE_percentile_25</td><td>▁</td></tr><tr><td>MSE_percentile_5</td><td>▁</td></tr><tr><td>MSE_percentile_75</td><td>▁</td></tr><tr><td>MSE_percentile_95</td><td>▁</td></tr><tr><td>MSE_std</td><td>▁</td></tr><tr><td>SMAPE_mean</td><td>▁</td></tr><tr><td>SMAPE_median</td><td>▁</td></tr><tr><td>SMAPE_percentile_25</td><td>▁</td></tr><tr><td>SMAPE_percentile_5</td><td>▁</td></tr><tr><td>SMAPE_percentile_75</td><td>▁</td></tr><tr><td>SMAPE_percentile_95</td><td>▁</td></tr><tr><td>SMAPE_std</td><td>▁</td></tr><tr><td>Sign_mean</td><td>▁</td></tr><tr><td>Sign_median</td><td>▁</td></tr><tr><td>Sign_percentile_25</td><td>▁</td></tr><tr><td>Sign_percentile_5</td><td>▁</td></tr><tr><td>Sign_percentile_75</td><td>▁</td></tr><tr><td>Sign_percentile_95</td><td>▁</td></tr><tr><td>Sign_std</td><td>▁</td></tr></table><br/></div><div class=\"wandb-col\"><h3>Run summary:</h3><br/><table class=\"wandb\"><tr><td>MAE_mean</td><td>55.35305</td></tr><tr><td>MAE_median</td><td>49.99626</td></tr><tr><td>MAE_percentile_25</td><td>25.83575</td></tr><tr><td>MAE_percentile_5</td><td>17.86868</td></tr><tr><td>MAE_percentile_75</td><td>79.51357</td></tr><tr><td>MAE_percentile_95</td><td>100.33692</td></tr><tr><td>MAE_std</td><td>40.83891</td></tr><tr><td>MSE_mean</td><td>5369.93896</td></tr><tr><td>MSE_median</td><td>3678.56993</td></tr><tr><td>MSE_percentile_25</td><td>872.93347</td></tr><tr><td>MSE_percentile_5</td><td>432.66784</td></tr><tr><td>MSE_percentile_75</td><td>8175.57543</td></tr><tr><td>MSE_percentile_95</td><td>12675.12673</td></tr><tr><td>MSE_std</td><td>6218.65569</td></tr><tr><td>SMAPE_mean</td><td>12.25711</td></tr><tr><td>SMAPE_median</td><td>12.62889</td></tr><tr><td>SMAPE_percentile_25</td><td>11.54882</td></tr><tr><td>SMAPE_percentile_5</td><td>9.80033</td></tr><tr><td>SMAPE_percentile_75</td><td>13.33719</td></tr><tr><td>SMAPE_percentile_95</td><td>14.1934</td></tr><tr><td>SMAPE_std</td><td>2.12307</td></tr><tr><td>Sign_mean</td><td>0.64286</td></tr><tr><td>Sign_median</td><td>0.64286</td></tr><tr><td>Sign_percentile_25</td><td>0.57143</td></tr><tr><td>Sign_percentile_5</td><td>0.57143</td></tr><tr><td>Sign_percentile_75</td><td>0.71429</td></tr><tr><td>Sign_percentile_95</td><td>0.71429</td></tr><tr><td>Sign_std</td><td>0.08248</td></tr></table><br/></div></div>"
      ],
      "text/plain": [
       "<IPython.core.display.HTML object>"
      ]
     },
     "metadata": {},
     "output_type": "display_data"
    },
    {
     "data": {
      "text/html": [
       "Synced <strong style=\"color:#cdcd00\">hBBLTT8M</strong>: <a href=\"https://wandb.ai/gewissta/wandb-sweeps/runs/3tq67aje\" target=\"_blank\">https://wandb.ai/gewissta/wandb-sweeps/runs/3tq67aje</a><br/>Synced 5 W&B file(s), 3 media file(s), 3 artifact file(s) and 0 other file(s)"
      ],
      "text/plain": [
       "<IPython.core.display.HTML object>"
      ]
     },
     "metadata": {},
     "output_type": "display_data"
    },
    {
     "data": {
      "text/html": [
       "Find logs at: <code>./wandb/run-20230524_153059-3tq67aje/logs</code>"
      ],
      "text/plain": [
       "<IPython.core.display.HTML object>"
      ]
     },
     "metadata": {},
     "output_type": "display_data"
    },
    {
     "name": "stderr",
     "output_type": "stream",
     "text": [
      "[Parallel(n_jobs=1)]: Done   2 out of   2 | elapsed:  1.2min remaining:    0.0s\n"
     ]
    },
    {
     "data": {
      "text/html": [
       "Changes to your `wandb` environment variables will be ignored because your `wandb` session has already started. For more information on how to modify your settings with `wandb.init()` arguments, please refer to <a href=\"https://wandb.me/wandb-init\" target=\"_blank\">the W&B docs</a>."
      ],
      "text/plain": [
       "<IPython.core.display.HTML object>"
      ]
     },
     "metadata": {},
     "output_type": "display_data"
    },
    {
     "data": {
      "text/html": [
       "wandb version 0.15.3 is available!  To upgrade, please run:\n",
       " $ pip install wandb --upgrade"
      ],
      "text/plain": [
       "<IPython.core.display.HTML object>"
      ]
     },
     "metadata": {},
     "output_type": "display_data"
    },
    {
     "data": {
      "text/html": [
       "Tracking run with wandb version 0.12.21"
      ],
      "text/plain": [
       "<IPython.core.display.HTML object>"
      ]
     },
     "metadata": {},
     "output_type": "display_data"
    },
    {
     "data": {
      "text/html": [
       "Run data is saved locally in <code>/Users/artemgruzdev/Documents/GitHub/Time_Series/code/wandb/run-20230524_153135-h312zmwr</code>"
      ],
      "text/plain": [
       "<IPython.core.display.HTML object>"
      ]
     },
     "metadata": {},
     "output_type": "display_data"
    },
    {
     "data": {
      "text/html": [
       "Syncing run <strong><a href=\"https://wandb.ai/gewissta/wandb-sweeps/runs/h312zmwr\" target=\"_blank\">hBBLTT8M</a></strong> to <a href=\"https://wandb.ai/gewissta/wandb-sweeps\" target=\"_blank\">Weights & Biases</a> (<a href=\"https://wandb.me/run\" target=\"_blank\">docs</a>)<br/>"
      ],
      "text/plain": [
       "<IPython.core.display.HTML object>"
      ]
     },
     "metadata": {},
     "output_type": "display_data"
    },
    {
     "data": {
      "text/html": [
       "Waiting for W&B process to finish... <strong style=\"color:green\">(success).</strong>"
      ],
      "text/plain": [
       "<IPython.core.display.HTML object>"
      ]
     },
     "metadata": {},
     "output_type": "display_data"
    },
    {
     "data": {
      "application/vnd.jupyter.widget-view+json": {
       "model_id": "",
       "version_major": 2,
       "version_minor": 0
      },
      "text/plain": [
       "VBox(children=(Label(value='0.025 MB of 0.028 MB uploaded (0.000 MB deduped)\\r'), FloatProgress(value=0.893644…"
      ]
     },
     "metadata": {},
     "output_type": "display_data"
    },
    {
     "data": {
      "text/html": [
       "<style>\n",
       "    table.wandb td:nth-child(1) { padding: 0 10px; text-align: left ; width: auto;} td:nth-child(2) {text-align: left ; width: 100%}\n",
       "    .wandb-row { display: flex; flex-direction: row; flex-wrap: wrap; justify-content: flex-start; width: 100% }\n",
       "    .wandb-col { display: flex; flex-direction: column; flex-basis: 100%; flex: 1; padding: 10px; }\n",
       "    </style>\n",
       "<div class=\"wandb-row\"><div class=\"wandb-col\"><h3>Run history:</h3><br/><table class=\"wandb\"><tr><td>MAE_mean</td><td>▁</td></tr><tr><td>MAE_median</td><td>▁</td></tr><tr><td>MAE_percentile_25</td><td>▁</td></tr><tr><td>MAE_percentile_5</td><td>▁</td></tr><tr><td>MAE_percentile_75</td><td>▁</td></tr><tr><td>MAE_percentile_95</td><td>▁</td></tr><tr><td>MAE_std</td><td>▁</td></tr><tr><td>MSE_mean</td><td>▁</td></tr><tr><td>MSE_median</td><td>▁</td></tr><tr><td>MSE_percentile_25</td><td>▁</td></tr><tr><td>MSE_percentile_5</td><td>▁</td></tr><tr><td>MSE_percentile_75</td><td>▁</td></tr><tr><td>MSE_percentile_95</td><td>▁</td></tr><tr><td>MSE_std</td><td>▁</td></tr><tr><td>SMAPE_mean</td><td>▁</td></tr><tr><td>SMAPE_median</td><td>▁</td></tr><tr><td>SMAPE_percentile_25</td><td>▁</td></tr><tr><td>SMAPE_percentile_5</td><td>▁</td></tr><tr><td>SMAPE_percentile_75</td><td>▁</td></tr><tr><td>SMAPE_percentile_95</td><td>▁</td></tr><tr><td>SMAPE_std</td><td>▁</td></tr><tr><td>Sign_mean</td><td>▁</td></tr><tr><td>Sign_median</td><td>▁</td></tr><tr><td>Sign_percentile_25</td><td>▁</td></tr><tr><td>Sign_percentile_5</td><td>▁</td></tr><tr><td>Sign_percentile_75</td><td>▁</td></tr><tr><td>Sign_percentile_95</td><td>▁</td></tr><tr><td>Sign_std</td><td>▁</td></tr></table><br/></div><div class=\"wandb-col\"><h3>Run summary:</h3><br/><table class=\"wandb\"><tr><td>MAE_mean</td><td>33.78079</td></tr><tr><td>MAE_median</td><td>26.47041</td></tr><tr><td>MAE_percentile_25</td><td>16.06891</td></tr><tr><td>MAE_percentile_5</td><td>11.66831</td></tr><tr><td>MAE_percentile_75</td><td>44.1823</td></tr><tr><td>MAE_percentile_95</td><td>66.12779</td></tr><tr><td>MAE_std</td><td>27.22678</td></tr><tr><td>MSE_mean</td><td>2461.97492</td></tr><tr><td>MSE_median</td><td>1073.61532</td></tr><tr><td>MSE_percentile_25</td><td>360.57432</td></tr><tr><td>MSE_percentile_5</td><td>219.13512</td></tr><tr><td>MSE_percentile_75</td><td>3175.01592</td></tr><tr><td>MSE_percentile_95</td><td>6648.51817</td></tr><tr><td>MSE_std</td><td>3437.69288</td></tr><tr><td>SMAPE_mean</td><td>7.37691</td></tr><tr><td>SMAPE_median</td><td>7.51311</td></tr><tr><td>SMAPE_percentile_25</td><td>5.99001</td></tr><tr><td>SMAPE_percentile_5</td><td>4.75668</td></tr><tr><td>SMAPE_percentile_75</td><td>8.90001</td></tr><tr><td>SMAPE_percentile_95</td><td>9.80646</td></tr><tr><td>SMAPE_std</td><td>2.42939</td></tr><tr><td>Sign_mean</td><td>0.60714</td></tr><tr><td>Sign_median</td><td>0.78571</td></tr><tr><td>Sign_percentile_25</td><td>0.53571</td></tr><tr><td>Sign_percentile_5</td><td>0.10714</td></tr><tr><td>Sign_percentile_75</td><td>0.85714</td></tr><tr><td>Sign_percentile_95</td><td>0.85714</td></tr><tr><td>Sign_std</td><td>0.41033</td></tr></table><br/></div></div>"
      ],
      "text/plain": [
       "<IPython.core.display.HTML object>"
      ]
     },
     "metadata": {},
     "output_type": "display_data"
    },
    {
     "data": {
      "text/html": [
       "Synced <strong style=\"color:#cdcd00\">hBBLTT8M</strong>: <a href=\"https://wandb.ai/gewissta/wandb-sweeps/runs/h312zmwr\" target=\"_blank\">https://wandb.ai/gewissta/wandb-sweeps/runs/h312zmwr</a><br/>Synced 5 W&B file(s), 3 media file(s), 3 artifact file(s) and 0 other file(s)"
      ],
      "text/plain": [
       "<IPython.core.display.HTML object>"
      ]
     },
     "metadata": {},
     "output_type": "display_data"
    },
    {
     "data": {
      "text/html": [
       "Find logs at: <code>./wandb/run-20230524_153135-h312zmwr/logs</code>"
      ],
      "text/plain": [
       "<IPython.core.display.HTML object>"
      ]
     },
     "metadata": {},
     "output_type": "display_data"
    },
    {
     "name": "stderr",
     "output_type": "stream",
     "text": [
      "[Parallel(n_jobs=1)]: Done   3 out of   3 | elapsed:  1.7min remaining:    0.0s\n"
     ]
    },
    {
     "data": {
      "text/html": [
       "Changes to your `wandb` environment variables will be ignored because your `wandb` session has already started. For more information on how to modify your settings with `wandb.init()` arguments, please refer to <a href=\"https://wandb.me/wandb-init\" target=\"_blank\">the W&B docs</a>."
      ],
      "text/plain": [
       "<IPython.core.display.HTML object>"
      ]
     },
     "metadata": {},
     "output_type": "display_data"
    },
    {
     "data": {
      "text/html": [
       "wandb version 0.15.3 is available!  To upgrade, please run:\n",
       " $ pip install wandb --upgrade"
      ],
      "text/plain": [
       "<IPython.core.display.HTML object>"
      ]
     },
     "metadata": {},
     "output_type": "display_data"
    },
    {
     "data": {
      "text/html": [
       "Tracking run with wandb version 0.12.21"
      ],
      "text/plain": [
       "<IPython.core.display.HTML object>"
      ]
     },
     "metadata": {},
     "output_type": "display_data"
    },
    {
     "data": {
      "text/html": [
       "Run data is saved locally in <code>/Users/artemgruzdev/Documents/GitHub/Time_Series/code/wandb/run-20230524_153205-1o1k4srk</code>"
      ],
      "text/plain": [
       "<IPython.core.display.HTML object>"
      ]
     },
     "metadata": {},
     "output_type": "display_data"
    },
    {
     "data": {
      "text/html": [
       "Syncing run <strong><a href=\"https://wandb.ai/gewissta/wandb-sweeps/runs/1o1k4srk\" target=\"_blank\">hBBLTT8M</a></strong> to <a href=\"https://wandb.ai/gewissta/wandb-sweeps\" target=\"_blank\">Weights & Biases</a> (<a href=\"https://wandb.me/run\" target=\"_blank\">docs</a>)<br/>"
      ],
      "text/plain": [
       "<IPython.core.display.HTML object>"
      ]
     },
     "metadata": {},
     "output_type": "display_data"
    },
    {
     "data": {
      "text/html": [
       "Waiting for W&B process to finish... <strong style=\"color:green\">(success).</strong>"
      ],
      "text/plain": [
       "<IPython.core.display.HTML object>"
      ]
     },
     "metadata": {},
     "output_type": "display_data"
    },
    {
     "data": {
      "application/vnd.jupyter.widget-view+json": {
       "model_id": "",
       "version_major": 2,
       "version_minor": 0
      },
      "text/plain": [
       "VBox(children=(Label(value='0.025 MB of 0.028 MB uploaded (0.000 MB deduped)\\r'), FloatProgress(value=0.893506…"
      ]
     },
     "metadata": {},
     "output_type": "display_data"
    },
    {
     "data": {
      "text/html": [
       "<style>\n",
       "    table.wandb td:nth-child(1) { padding: 0 10px; text-align: left ; width: auto;} td:nth-child(2) {text-align: left ; width: 100%}\n",
       "    .wandb-row { display: flex; flex-direction: row; flex-wrap: wrap; justify-content: flex-start; width: 100% }\n",
       "    .wandb-col { display: flex; flex-direction: column; flex-basis: 100%; flex: 1; padding: 10px; }\n",
       "    </style>\n",
       "<div class=\"wandb-row\"><div class=\"wandb-col\"><h3>Run history:</h3><br/><table class=\"wandb\"><tr><td>MAE_mean</td><td>▁</td></tr><tr><td>MAE_median</td><td>▁</td></tr><tr><td>MAE_percentile_25</td><td>▁</td></tr><tr><td>MAE_percentile_5</td><td>▁</td></tr><tr><td>MAE_percentile_75</td><td>▁</td></tr><tr><td>MAE_percentile_95</td><td>▁</td></tr><tr><td>MAE_std</td><td>▁</td></tr><tr><td>MSE_mean</td><td>▁</td></tr><tr><td>MSE_median</td><td>▁</td></tr><tr><td>MSE_percentile_25</td><td>▁</td></tr><tr><td>MSE_percentile_5</td><td>▁</td></tr><tr><td>MSE_percentile_75</td><td>▁</td></tr><tr><td>MSE_percentile_95</td><td>▁</td></tr><tr><td>MSE_std</td><td>▁</td></tr><tr><td>SMAPE_mean</td><td>▁</td></tr><tr><td>SMAPE_median</td><td>▁</td></tr><tr><td>SMAPE_percentile_25</td><td>▁</td></tr><tr><td>SMAPE_percentile_5</td><td>▁</td></tr><tr><td>SMAPE_percentile_75</td><td>▁</td></tr><tr><td>SMAPE_percentile_95</td><td>▁</td></tr><tr><td>SMAPE_std</td><td>▁</td></tr><tr><td>Sign_mean</td><td>▁</td></tr><tr><td>Sign_median</td><td>▁</td></tr><tr><td>Sign_percentile_25</td><td>▁</td></tr><tr><td>Sign_percentile_5</td><td>▁</td></tr><tr><td>Sign_percentile_75</td><td>▁</td></tr><tr><td>Sign_percentile_95</td><td>▁</td></tr><tr><td>Sign_std</td><td>▁</td></tr></table><br/></div><div class=\"wandb-col\"><h3>Run summary:</h3><br/><table class=\"wandb\"><tr><td>MAE_mean</td><td>62.88374</td></tr><tr><td>MAE_median</td><td>48.47266</td></tr><tr><td>MAE_percentile_25</td><td>27.5384</td></tr><tr><td>MAE_percentile_5</td><td>21.34696</td></tr><tr><td>MAE_percentile_75</td><td>83.81799</td></tr><tr><td>MAE_percentile_95</td><td>124.59603</td></tr><tr><td>MAE_std</td><td>52.01284</td></tr><tr><td>MSE_mean</td><td>8657.76378</td></tr><tr><td>MSE_median</td><td>4589.01133</td></tr><tr><td>MSE_percentile_25</td><td>1862.29283</td></tr><tr><td>MSE_percentile_5</td><td>771.21882</td></tr><tr><td>MSE_percentile_75</td><td>11384.48228</td></tr><tr><td>MSE_percentile_95</td><td>22240.56217</td></tr><tr><td>MSE_std</td><td>11189.20751</td></tr><tr><td>SMAPE_mean</td><td>12.16613</td></tr><tr><td>SMAPE_median</td><td>13.00704</td></tr><tr><td>SMAPE_percentile_25</td><td>10.82747</td></tr><tr><td>SMAPE_percentile_5</td><td>8.48953</td></tr><tr><td>SMAPE_percentile_75</td><td>14.3457</td></tr><tr><td>SMAPE_percentile_95</td><td>14.66544</td></tr><tr><td>SMAPE_std</td><td>3.11607</td></tr><tr><td>Sign_mean</td><td>0.71429</td></tr><tr><td>Sign_median</td><td>0.64286</td></tr><tr><td>Sign_percentile_25</td><td>0.57143</td></tr><tr><td>Sign_percentile_5</td><td>0.57143</td></tr><tr><td>Sign_percentile_75</td><td>0.78571</td></tr><tr><td>Sign_percentile_95</td><td>0.95714</td></tr><tr><td>Sign_std</td><td>0.20203</td></tr></table><br/></div></div>"
      ],
      "text/plain": [
       "<IPython.core.display.HTML object>"
      ]
     },
     "metadata": {},
     "output_type": "display_data"
    },
    {
     "data": {
      "text/html": [
       "Synced <strong style=\"color:#cdcd00\">hBBLTT8M</strong>: <a href=\"https://wandb.ai/gewissta/wandb-sweeps/runs/1o1k4srk\" target=\"_blank\">https://wandb.ai/gewissta/wandb-sweeps/runs/1o1k4srk</a><br/>Synced 5 W&B file(s), 3 media file(s), 3 artifact file(s) and 0 other file(s)"
      ],
      "text/plain": [
       "<IPython.core.display.HTML object>"
      ]
     },
     "metadata": {},
     "output_type": "display_data"
    },
    {
     "data": {
      "text/html": [
       "Find logs at: <code>./wandb/run-20230524_153205-1o1k4srk/logs</code>"
      ],
      "text/plain": [
       "<IPython.core.display.HTML object>"
      ]
     },
     "metadata": {},
     "output_type": "display_data"
    },
    {
     "name": "stderr",
     "output_type": "stream",
     "text": [
      "[Parallel(n_jobs=1)]: Done   4 out of   4 | elapsed:  2.2min remaining:    0.0s\n"
     ]
    },
    {
     "data": {
      "text/html": [
       "Changes to your `wandb` environment variables will be ignored because your `wandb` session has already started. For more information on how to modify your settings with `wandb.init()` arguments, please refer to <a href=\"https://wandb.me/wandb-init\" target=\"_blank\">the W&B docs</a>."
      ],
      "text/plain": [
       "<IPython.core.display.HTML object>"
      ]
     },
     "metadata": {},
     "output_type": "display_data"
    },
    {
     "data": {
      "text/html": [
       "wandb version 0.15.3 is available!  To upgrade, please run:\n",
       " $ pip install wandb --upgrade"
      ],
      "text/plain": [
       "<IPython.core.display.HTML object>"
      ]
     },
     "metadata": {},
     "output_type": "display_data"
    },
    {
     "data": {
      "text/html": [
       "Tracking run with wandb version 0.12.21"
      ],
      "text/plain": [
       "<IPython.core.display.HTML object>"
      ]
     },
     "metadata": {},
     "output_type": "display_data"
    },
    {
     "data": {
      "text/html": [
       "Run data is saved locally in <code>/Users/artemgruzdev/Documents/GitHub/Time_Series/code/wandb/run-20230524_153237-39gjzy5r</code>"
      ],
      "text/plain": [
       "<IPython.core.display.HTML object>"
      ]
     },
     "metadata": {},
     "output_type": "display_data"
    },
    {
     "data": {
      "text/html": [
       "Syncing run <strong><a href=\"https://wandb.ai/gewissta/wandb-sweeps/runs/39gjzy5r\" target=\"_blank\">hBBLTT8M</a></strong> to <a href=\"https://wandb.ai/gewissta/wandb-sweeps\" target=\"_blank\">Weights & Biases</a> (<a href=\"https://wandb.me/run\" target=\"_blank\">docs</a>)<br/>"
      ],
      "text/plain": [
       "<IPython.core.display.HTML object>"
      ]
     },
     "metadata": {},
     "output_type": "display_data"
    },
    {
     "data": {
      "text/html": [
       "Waiting for W&B process to finish... <strong style=\"color:green\">(success).</strong>"
      ],
      "text/plain": [
       "<IPython.core.display.HTML object>"
      ]
     },
     "metadata": {},
     "output_type": "display_data"
    },
    {
     "data": {
      "application/vnd.jupyter.widget-view+json": {
       "model_id": "",
       "version_major": 2,
       "version_minor": 0
      },
      "text/plain": [
       "VBox(children=(Label(value='0.025 MB of 0.028 MB uploaded (0.000 MB deduped)\\r'), FloatProgress(value=0.893157…"
      ]
     },
     "metadata": {},
     "output_type": "display_data"
    },
    {
     "data": {
      "text/html": [
       "<style>\n",
       "    table.wandb td:nth-child(1) { padding: 0 10px; text-align: left ; width: auto;} td:nth-child(2) {text-align: left ; width: 100%}\n",
       "    .wandb-row { display: flex; flex-direction: row; flex-wrap: wrap; justify-content: flex-start; width: 100% }\n",
       "    .wandb-col { display: flex; flex-direction: column; flex-basis: 100%; flex: 1; padding: 10px; }\n",
       "    </style>\n",
       "<div class=\"wandb-row\"><div class=\"wandb-col\"><h3>Run history:</h3><br/><table class=\"wandb\"><tr><td>MAE_mean</td><td>▁</td></tr><tr><td>MAE_median</td><td>▁</td></tr><tr><td>MAE_percentile_25</td><td>▁</td></tr><tr><td>MAE_percentile_5</td><td>▁</td></tr><tr><td>MAE_percentile_75</td><td>▁</td></tr><tr><td>MAE_percentile_95</td><td>▁</td></tr><tr><td>MAE_std</td><td>▁</td></tr><tr><td>MSE_mean</td><td>▁</td></tr><tr><td>MSE_median</td><td>▁</td></tr><tr><td>MSE_percentile_25</td><td>▁</td></tr><tr><td>MSE_percentile_5</td><td>▁</td></tr><tr><td>MSE_percentile_75</td><td>▁</td></tr><tr><td>MSE_percentile_95</td><td>▁</td></tr><tr><td>MSE_std</td><td>▁</td></tr><tr><td>SMAPE_mean</td><td>▁</td></tr><tr><td>SMAPE_median</td><td>▁</td></tr><tr><td>SMAPE_percentile_25</td><td>▁</td></tr><tr><td>SMAPE_percentile_5</td><td>▁</td></tr><tr><td>SMAPE_percentile_75</td><td>▁</td></tr><tr><td>SMAPE_percentile_95</td><td>▁</td></tr><tr><td>SMAPE_std</td><td>▁</td></tr><tr><td>Sign_mean</td><td>▁</td></tr><tr><td>Sign_median</td><td>▁</td></tr><tr><td>Sign_percentile_25</td><td>▁</td></tr><tr><td>Sign_percentile_5</td><td>▁</td></tr><tr><td>Sign_percentile_75</td><td>▁</td></tr><tr><td>Sign_percentile_95</td><td>▁</td></tr><tr><td>Sign_std</td><td>▁</td></tr></table><br/></div><div class=\"wandb-col\"><h3>Run summary:</h3><br/><table class=\"wandb\"><tr><td>MAE_mean</td><td>59.78148</td></tr><tr><td>MAE_median</td><td>48.30879</td></tr><tr><td>MAE_percentile_25</td><td>41.77099</td></tr><tr><td>MAE_percentile_5</td><td>29.11355</td></tr><tr><td>MAE_percentile_75</td><td>66.31928</td></tr><tr><td>MAE_percentile_95</td><td>106.51119</td></tr><tr><td>MAE_std</td><td>39.30551</td></tr><tr><td>MSE_mean</td><td>6807.45363</td></tr><tr><td>MSE_median</td><td>4062.13077</td></tr><tr><td>MSE_percentile_25</td><td>2811.18155</td></tr><tr><td>MSE_percentile_5</td><td>1363.04318</td></tr><tr><td>MSE_percentile_75</td><td>8058.40285</td></tr><tr><td>MSE_percentile_95</td><td>16095.31607</td></tr><tr><td>MSE_std</td><td>7686.59704</td></tr><tr><td>SMAPE_mean</td><td>13.8676</td></tr><tr><td>SMAPE_median</td><td>11.53319</td></tr><tr><td>SMAPE_percentile_25</td><td>9.87989</td></tr><tr><td>SMAPE_percentile_5</td><td>8.99768</td></tr><tr><td>SMAPE_percentile_75</td><td>15.52091</td></tr><tr><td>SMAPE_percentile_95</td><td>22.00571</td></tr><tr><td>SMAPE_std</td><td>6.71719</td></tr><tr><td>Sign_mean</td><td>0.5</td></tr><tr><td>Sign_median</td><td>0.57143</td></tr><tr><td>Sign_percentile_25</td><td>0.46429</td></tr><tr><td>Sign_percentile_5</td><td>0.20714</td></tr><tr><td>Sign_percentile_75</td><td>0.60714</td></tr><tr><td>Sign_percentile_95</td><td>0.69286</td></tr><tr><td>Sign_std</td><td>0.24744</td></tr></table><br/></div></div>"
      ],
      "text/plain": [
       "<IPython.core.display.HTML object>"
      ]
     },
     "metadata": {},
     "output_type": "display_data"
    },
    {
     "data": {
      "text/html": [
       "Synced <strong style=\"color:#cdcd00\">hBBLTT8M</strong>: <a href=\"https://wandb.ai/gewissta/wandb-sweeps/runs/39gjzy5r\" target=\"_blank\">https://wandb.ai/gewissta/wandb-sweeps/runs/39gjzy5r</a><br/>Synced 5 W&B file(s), 3 media file(s), 3 artifact file(s) and 0 other file(s)"
      ],
      "text/plain": [
       "<IPython.core.display.HTML object>"
      ]
     },
     "metadata": {},
     "output_type": "display_data"
    },
    {
     "data": {
      "text/html": [
       "Find logs at: <code>./wandb/run-20230524_153237-39gjzy5r/logs</code>"
      ],
      "text/plain": [
       "<IPython.core.display.HTML object>"
      ]
     },
     "metadata": {},
     "output_type": "display_data"
    },
    {
     "name": "stderr",
     "output_type": "stream",
     "text": [
      "[Parallel(n_jobs=1)]: Done   5 out of   5 | elapsed:  2.8min remaining:    0.0s\n",
      "[Parallel(n_jobs=1)]: Done   5 out of   5 | elapsed:  2.8min finished\n"
     ]
    },
    {
     "data": {
      "text/html": [
       "Changes to your `wandb` environment variables will be ignored because your `wandb` session has already started. For more information on how to modify your settings with `wandb.init()` arguments, please refer to <a href=\"https://wandb.me/wandb-init\" target=\"_blank\">the W&B docs</a>."
      ],
      "text/plain": [
       "<IPython.core.display.HTML object>"
      ]
     },
     "metadata": {},
     "output_type": "display_data"
    },
    {
     "data": {
      "text/html": [
       "wandb version 0.15.3 is available!  To upgrade, please run:\n",
       " $ pip install wandb --upgrade"
      ],
      "text/plain": [
       "<IPython.core.display.HTML object>"
      ]
     },
     "metadata": {},
     "output_type": "display_data"
    },
    {
     "data": {
      "text/html": [
       "Tracking run with wandb version 0.12.21"
      ],
      "text/plain": [
       "<IPython.core.display.HTML object>"
      ]
     },
     "metadata": {},
     "output_type": "display_data"
    },
    {
     "data": {
      "text/html": [
       "Run data is saved locally in <code>/Users/artemgruzdev/Documents/GitHub/Time_Series/code/wandb/run-20230524_153310-8qii6d0a</code>"
      ],
      "text/plain": [
       "<IPython.core.display.HTML object>"
      ]
     },
     "metadata": {},
     "output_type": "display_data"
    },
    {
     "data": {
      "text/html": [
       "Syncing run <strong><a href=\"https://wandb.ai/gewissta/wandb-sweeps/runs/8qii6d0a\" target=\"_blank\">hBBLTT8M</a></strong> to <a href=\"https://wandb.ai/gewissta/wandb-sweeps\" target=\"_blank\">Weights & Biases</a> (<a href=\"https://wandb.me/run\" target=\"_blank\">docs</a>)<br/>"
      ],
      "text/plain": [
       "<IPython.core.display.HTML object>"
      ]
     },
     "metadata": {},
     "output_type": "display_data"
    },
    {
     "data": {
      "text/html": [
       "Waiting for W&B process to finish... <strong style=\"color:green\">(success).</strong>"
      ],
      "text/plain": [
       "<IPython.core.display.HTML object>"
      ]
     },
     "metadata": {},
     "output_type": "display_data"
    },
    {
     "data": {
      "application/vnd.jupyter.widget-view+json": {
       "model_id": "",
       "version_major": 2,
       "version_minor": 0
      },
      "text/plain": [
       "VBox(children=(Label(value='0.104 MB of 0.161 MB uploaded (0.000 MB deduped)\\r'), FloatProgress(value=0.648400…"
      ]
     },
     "metadata": {},
     "output_type": "display_data"
    },
    {
     "data": {
      "text/html": [
       "<style>\n",
       "    table.wandb td:nth-child(1) { padding: 0 10px; text-align: left ; width: auto;} td:nth-child(2) {text-align: left ; width: 100%}\n",
       "    .wandb-row { display: flex; flex-direction: row; flex-wrap: wrap; justify-content: flex-start; width: 100% }\n",
       "    .wandb-col { display: flex; flex-direction: column; flex-basis: 100%; flex: 1; padding: 10px; }\n",
       "    </style>\n",
       "<div class=\"wandb-row\"><div class=\"wandb-col\"><h3>Run history:</h3><br/><table class=\"wandb\"><tr><td>MAE_mean</td><td>▁</td></tr><tr><td>MAE_median</td><td>▁</td></tr><tr><td>MAE_percentile_25</td><td>▁</td></tr><tr><td>MAE_percentile_5</td><td>▁</td></tr><tr><td>MAE_percentile_75</td><td>▁</td></tr><tr><td>MAE_percentile_95</td><td>▁</td></tr><tr><td>MAE_std</td><td>▁</td></tr><tr><td>MSE_mean</td><td>▁</td></tr><tr><td>MSE_median</td><td>▁</td></tr><tr><td>MSE_percentile_25</td><td>▁</td></tr><tr><td>MSE_percentile_5</td><td>▁</td></tr><tr><td>MSE_percentile_75</td><td>▁</td></tr><tr><td>MSE_percentile_95</td><td>▁</td></tr><tr><td>MSE_std</td><td>▁</td></tr><tr><td>SMAPE_mean</td><td>▁</td></tr><tr><td>SMAPE_median</td><td>▁</td></tr><tr><td>SMAPE_percentile_25</td><td>▁</td></tr><tr><td>SMAPE_percentile_5</td><td>▁</td></tr><tr><td>SMAPE_percentile_75</td><td>▁</td></tr><tr><td>SMAPE_percentile_95</td><td>▁</td></tr><tr><td>SMAPE_std</td><td>▁</td></tr><tr><td>Sign_mean</td><td>▁</td></tr><tr><td>Sign_median</td><td>▁</td></tr><tr><td>Sign_percentile_25</td><td>▁</td></tr><tr><td>Sign_percentile_5</td><td>▁</td></tr><tr><td>Sign_percentile_75</td><td>▁</td></tr><tr><td>Sign_percentile_95</td><td>▁</td></tr><tr><td>Sign_std</td><td>▁</td></tr></table><br/></div><div class=\"wandb-col\"><h3>Run summary:</h3><br/><table class=\"wandb\"><tr><td>MAE_mean</td><td>48.79514</td></tr><tr><td>MAE_median</td><td>38.96461</td></tr><tr><td>MAE_percentile_25</td><td>23.78576</td></tr><tr><td>MAE_percentile_5</td><td>20.95216</td></tr><tr><td>MAE_percentile_75</td><td>63.97398</td></tr><tr><td>MAE_percentile_95</td><td>90.40085</td></tr><tr><td>MAE_std</td><td>35.23632</td></tr><tr><td>MSE_mean</td><td>5105.32411</td></tr><tr><td>MSE_median</td><td>2986.09619</td></tr><tr><td>MSE_percentile_25</td><td>1152.99843</td></tr><tr><td>MSE_percentile_5</td><td>728.14193</td></tr><tr><td>MSE_percentile_75</td><td>6938.42187</td></tr><tr><td>MSE_percentile_95</td><td>12449.42539</td></tr><tr><td>MSE_std</td><td>6072.86218</td></tr><tr><td>SMAPE_mean</td><td>10.6884</td></tr><tr><td>SMAPE_median</td><td>10.75978</td></tr><tr><td>SMAPE_percentile_25</td><td>9.79499</td></tr><tr><td>SMAPE_percentile_5</td><td>8.67223</td></tr><tr><td>SMAPE_percentile_75</td><td>11.65319</td></tr><tr><td>SMAPE_percentile_95</td><td>12.60465</td></tr><tr><td>SMAPE_std</td><td>1.86368</td></tr><tr><td>Sign_mean</td><td>0.50714</td></tr><tr><td>Sign_median</td><td>0.5</td></tr><tr><td>Sign_percentile_25</td><td>0.45</td></tr><tr><td>Sign_percentile_5</td><td>0.36429</td></tr><tr><td>Sign_percentile_75</td><td>0.55714</td></tr><tr><td>Sign_percentile_95</td><td>0.66</td></tr><tr><td>Sign_std</td><td>0.1407</td></tr></table><br/></div></div>"
      ],
      "text/plain": [
       "<IPython.core.display.HTML object>"
      ]
     },
     "metadata": {},
     "output_type": "display_data"
    },
    {
     "data": {
      "text/html": [
       "Synced <strong style=\"color:#cdcd00\">hBBLTT8M</strong>: <a href=\"https://wandb.ai/gewissta/wandb-sweeps/runs/8qii6d0a\" target=\"_blank\">https://wandb.ai/gewissta/wandb-sweeps/runs/8qii6d0a</a><br/>Synced 5 W&B file(s), 4 media file(s), 3 artifact file(s) and 0 other file(s)"
      ],
      "text/plain": [
       "<IPython.core.display.HTML object>"
      ]
     },
     "metadata": {},
     "output_type": "display_data"
    },
    {
     "data": {
      "text/html": [
       "Find logs at: <code>./wandb/run-20230524_153310-8qii6d0a/logs</code>"
      ],
      "text/plain": [
       "<IPython.core.display.HTML object>"
      ]
     },
     "metadata": {},
     "output_type": "display_data"
    },
    {
     "name": "stderr",
     "output_type": "stream",
     "text": [
      "\u001b[32m[I 2023-05-24 15:34:19,902]\u001b[0m Trial 3 finished with value: 48.79513640933699 and parameters: {'iterations': 55, 'depth': 1, 'lags': 6}. Best is trial 1 with value: 43.30188972892675.\u001b[0m\n",
      "[Parallel(n_jobs=1)]: Using backend SequentialBackend with 1 concurrent workers.\n"
     ]
    },
    {
     "data": {
      "text/html": [
       "Changes to your `wandb` environment variables will be ignored because your `wandb` session has already started. For more information on how to modify your settings with `wandb.init()` arguments, please refer to <a href=\"https://wandb.me/wandb-init\" target=\"_blank\">the W&B docs</a>."
      ],
      "text/plain": [
       "<IPython.core.display.HTML object>"
      ]
     },
     "metadata": {},
     "output_type": "display_data"
    },
    {
     "data": {
      "text/html": [
       "wandb version 0.15.3 is available!  To upgrade, please run:\n",
       " $ pip install wandb --upgrade"
      ],
      "text/plain": [
       "<IPython.core.display.HTML object>"
      ]
     },
     "metadata": {},
     "output_type": "display_data"
    },
    {
     "data": {
      "text/html": [
       "Tracking run with wandb version 0.12.21"
      ],
      "text/plain": [
       "<IPython.core.display.HTML object>"
      ]
     },
     "metadata": {},
     "output_type": "display_data"
    },
    {
     "data": {
      "text/html": [
       "Run data is saved locally in <code>/Users/artemgruzdev/Documents/GitHub/Time_Series/code/wandb/run-20230524_153419-1jl4el6u</code>"
      ],
      "text/plain": [
       "<IPython.core.display.HTML object>"
      ]
     },
     "metadata": {},
     "output_type": "display_data"
    },
    {
     "data": {
      "text/html": [
       "Syncing run <strong><a href=\"https://wandb.ai/gewissta/wandb-sweeps/runs/1jl4el6u\" target=\"_blank\">I5Xg62LG</a></strong> to <a href=\"https://wandb.ai/gewissta/wandb-sweeps\" target=\"_blank\">Weights & Biases</a> (<a href=\"https://wandb.me/run\" target=\"_blank\">docs</a>)<br/>"
      ],
      "text/plain": [
       "<IPython.core.display.HTML object>"
      ]
     },
     "metadata": {},
     "output_type": "display_data"
    },
    {
     "data": {
      "text/html": [
       "Waiting for W&B process to finish... <strong style=\"color:green\">(success).</strong>"
      ],
      "text/plain": [
       "<IPython.core.display.HTML object>"
      ]
     },
     "metadata": {},
     "output_type": "display_data"
    },
    {
     "data": {
      "application/vnd.jupyter.widget-view+json": {
       "model_id": "",
       "version_major": 2,
       "version_minor": 0
      },
      "text/plain": [
       "VBox(children=(Label(value='0.000 MB of 0.000 MB uploaded (0.000 MB deduped)\\r'), FloatProgress(value=1.0, max…"
      ]
     },
     "metadata": {},
     "output_type": "display_data"
    },
    {
     "data": {
      "text/html": [
       "Synced <strong style=\"color:#cdcd00\">I5Xg62LG</strong>: <a href=\"https://wandb.ai/gewissta/wandb-sweeps/runs/1jl4el6u\" target=\"_blank\">https://wandb.ai/gewissta/wandb-sweeps/runs/1jl4el6u</a><br/>Synced 5 W&B file(s), 0 media file(s), 0 artifact file(s) and 0 other file(s)"
      ],
      "text/plain": [
       "<IPython.core.display.HTML object>"
      ]
     },
     "metadata": {},
     "output_type": "display_data"
    },
    {
     "data": {
      "text/html": [
       "Find logs at: <code>./wandb/run-20230524_153419-1jl4el6u/logs</code>"
      ],
      "text/plain": [
       "<IPython.core.display.HTML object>"
      ]
     },
     "metadata": {},
     "output_type": "display_data"
    },
    {
     "name": "stderr",
     "output_type": "stream",
     "text": [
      "[Parallel(n_jobs=1)]: Done   1 out of   1 | elapsed:   19.7s remaining:    0.0s\n"
     ]
    },
    {
     "data": {
      "text/html": [
       "Changes to your `wandb` environment variables will be ignored because your `wandb` session has already started. For more information on how to modify your settings with `wandb.init()` arguments, please refer to <a href=\"https://wandb.me/wandb-init\" target=\"_blank\">the W&B docs</a>."
      ],
      "text/plain": [
       "<IPython.core.display.HTML object>"
      ]
     },
     "metadata": {},
     "output_type": "display_data"
    },
    {
     "data": {
      "text/html": [
       "wandb version 0.15.3 is available!  To upgrade, please run:\n",
       " $ pip install wandb --upgrade"
      ],
      "text/plain": [
       "<IPython.core.display.HTML object>"
      ]
     },
     "metadata": {},
     "output_type": "display_data"
    },
    {
     "data": {
      "text/html": [
       "Tracking run with wandb version 0.12.21"
      ],
      "text/plain": [
       "<IPython.core.display.HTML object>"
      ]
     },
     "metadata": {},
     "output_type": "display_data"
    },
    {
     "data": {
      "text/html": [
       "Run data is saved locally in <code>/Users/artemgruzdev/Documents/GitHub/Time_Series/code/wandb/run-20230524_153439-2g75djkc</code>"
      ],
      "text/plain": [
       "<IPython.core.display.HTML object>"
      ]
     },
     "metadata": {},
     "output_type": "display_data"
    },
    {
     "data": {
      "text/html": [
       "Syncing run <strong><a href=\"https://wandb.ai/gewissta/wandb-sweeps/runs/2g75djkc\" target=\"_blank\">I5Xg62LG</a></strong> to <a href=\"https://wandb.ai/gewissta/wandb-sweeps\" target=\"_blank\">Weights & Biases</a> (<a href=\"https://wandb.me/run\" target=\"_blank\">docs</a>)<br/>"
      ],
      "text/plain": [
       "<IPython.core.display.HTML object>"
      ]
     },
     "metadata": {},
     "output_type": "display_data"
    },
    {
     "data": {
      "text/html": [
       "Waiting for W&B process to finish... <strong style=\"color:green\">(success).</strong>"
      ],
      "text/plain": [
       "<IPython.core.display.HTML object>"
      ]
     },
     "metadata": {},
     "output_type": "display_data"
    },
    {
     "data": {
      "application/vnd.jupyter.widget-view+json": {
       "model_id": "",
       "version_major": 2,
       "version_minor": 0
      },
      "text/plain": [
       "VBox(children=(Label(value='0.000 MB of 0.000 MB uploaded (0.000 MB deduped)\\r'), FloatProgress(value=1.0, max…"
      ]
     },
     "metadata": {},
     "output_type": "display_data"
    },
    {
     "data": {
      "text/html": [
       "Synced <strong style=\"color:#cdcd00\">I5Xg62LG</strong>: <a href=\"https://wandb.ai/gewissta/wandb-sweeps/runs/2g75djkc\" target=\"_blank\">https://wandb.ai/gewissta/wandb-sweeps/runs/2g75djkc</a><br/>Synced 5 W&B file(s), 0 media file(s), 0 artifact file(s) and 0 other file(s)"
      ],
      "text/plain": [
       "<IPython.core.display.HTML object>"
      ]
     },
     "metadata": {},
     "output_type": "display_data"
    },
    {
     "data": {
      "text/html": [
       "Find logs at: <code>./wandb/run-20230524_153439-2g75djkc/logs</code>"
      ],
      "text/plain": [
       "<IPython.core.display.HTML object>"
      ]
     },
     "metadata": {},
     "output_type": "display_data"
    },
    {
     "name": "stderr",
     "output_type": "stream",
     "text": [
      "[Parallel(n_jobs=1)]: Done   2 out of   2 | elapsed:   39.4s remaining:    0.0s\n"
     ]
    },
    {
     "data": {
      "text/html": [
       "Changes to your `wandb` environment variables will be ignored because your `wandb` session has already started. For more information on how to modify your settings with `wandb.init()` arguments, please refer to <a href=\"https://wandb.me/wandb-init\" target=\"_blank\">the W&B docs</a>."
      ],
      "text/plain": [
       "<IPython.core.display.HTML object>"
      ]
     },
     "metadata": {},
     "output_type": "display_data"
    },
    {
     "data": {
      "text/html": [
       "wandb version 0.15.3 is available!  To upgrade, please run:\n",
       " $ pip install wandb --upgrade"
      ],
      "text/plain": [
       "<IPython.core.display.HTML object>"
      ]
     },
     "metadata": {},
     "output_type": "display_data"
    },
    {
     "data": {
      "text/html": [
       "Tracking run with wandb version 0.12.21"
      ],
      "text/plain": [
       "<IPython.core.display.HTML object>"
      ]
     },
     "metadata": {},
     "output_type": "display_data"
    },
    {
     "data": {
      "text/html": [
       "Run data is saved locally in <code>/Users/artemgruzdev/Documents/GitHub/Time_Series/code/wandb/run-20230524_153459-29x2wruo</code>"
      ],
      "text/plain": [
       "<IPython.core.display.HTML object>"
      ]
     },
     "metadata": {},
     "output_type": "display_data"
    },
    {
     "data": {
      "text/html": [
       "Syncing run <strong><a href=\"https://wandb.ai/gewissta/wandb-sweeps/runs/29x2wruo\" target=\"_blank\">I5Xg62LG</a></strong> to <a href=\"https://wandb.ai/gewissta/wandb-sweeps\" target=\"_blank\">Weights & Biases</a> (<a href=\"https://wandb.me/run\" target=\"_blank\">docs</a>)<br/>"
      ],
      "text/plain": [
       "<IPython.core.display.HTML object>"
      ]
     },
     "metadata": {},
     "output_type": "display_data"
    },
    {
     "data": {
      "text/html": [
       "Waiting for W&B process to finish... <strong style=\"color:green\">(success).</strong>"
      ],
      "text/plain": [
       "<IPython.core.display.HTML object>"
      ]
     },
     "metadata": {},
     "output_type": "display_data"
    },
    {
     "data": {
      "application/vnd.jupyter.widget-view+json": {
       "model_id": "",
       "version_major": 2,
       "version_minor": 0
      },
      "text/plain": [
       "VBox(children=(Label(value='0.000 MB of 0.000 MB uploaded (0.000 MB deduped)\\r'), FloatProgress(value=1.0, max…"
      ]
     },
     "metadata": {},
     "output_type": "display_data"
    },
    {
     "data": {
      "text/html": [
       "Synced <strong style=\"color:#cdcd00\">I5Xg62LG</strong>: <a href=\"https://wandb.ai/gewissta/wandb-sweeps/runs/29x2wruo\" target=\"_blank\">https://wandb.ai/gewissta/wandb-sweeps/runs/29x2wruo</a><br/>Synced 5 W&B file(s), 0 media file(s), 0 artifact file(s) and 0 other file(s)"
      ],
      "text/plain": [
       "<IPython.core.display.HTML object>"
      ]
     },
     "metadata": {},
     "output_type": "display_data"
    },
    {
     "data": {
      "text/html": [
       "Find logs at: <code>./wandb/run-20230524_153459-29x2wruo/logs</code>"
      ],
      "text/plain": [
       "<IPython.core.display.HTML object>"
      ]
     },
     "metadata": {},
     "output_type": "display_data"
    },
    {
     "name": "stderr",
     "output_type": "stream",
     "text": [
      "[Parallel(n_jobs=1)]: Done   3 out of   3 | elapsed:  1.0min remaining:    0.0s\n"
     ]
    },
    {
     "data": {
      "text/html": [
       "Changes to your `wandb` environment variables will be ignored because your `wandb` session has already started. For more information on how to modify your settings with `wandb.init()` arguments, please refer to <a href=\"https://wandb.me/wandb-init\" target=\"_blank\">the W&B docs</a>."
      ],
      "text/plain": [
       "<IPython.core.display.HTML object>"
      ]
     },
     "metadata": {},
     "output_type": "display_data"
    },
    {
     "data": {
      "text/html": [
       "wandb version 0.15.3 is available!  To upgrade, please run:\n",
       " $ pip install wandb --upgrade"
      ],
      "text/plain": [
       "<IPython.core.display.HTML object>"
      ]
     },
     "metadata": {},
     "output_type": "display_data"
    },
    {
     "data": {
      "text/html": [
       "Tracking run with wandb version 0.12.21"
      ],
      "text/plain": [
       "<IPython.core.display.HTML object>"
      ]
     },
     "metadata": {},
     "output_type": "display_data"
    },
    {
     "data": {
      "text/html": [
       "Run data is saved locally in <code>/Users/artemgruzdev/Documents/GitHub/Time_Series/code/wandb/run-20230524_153520-dh65mfk9</code>"
      ],
      "text/plain": [
       "<IPython.core.display.HTML object>"
      ]
     },
     "metadata": {},
     "output_type": "display_data"
    },
    {
     "data": {
      "text/html": [
       "Syncing run <strong><a href=\"https://wandb.ai/gewissta/wandb-sweeps/runs/dh65mfk9\" target=\"_blank\">I5Xg62LG</a></strong> to <a href=\"https://wandb.ai/gewissta/wandb-sweeps\" target=\"_blank\">Weights & Biases</a> (<a href=\"https://wandb.me/run\" target=\"_blank\">docs</a>)<br/>"
      ],
      "text/plain": [
       "<IPython.core.display.HTML object>"
      ]
     },
     "metadata": {},
     "output_type": "display_data"
    },
    {
     "data": {
      "text/html": [
       "Waiting for W&B process to finish... <strong style=\"color:green\">(success).</strong>"
      ],
      "text/plain": [
       "<IPython.core.display.HTML object>"
      ]
     },
     "metadata": {},
     "output_type": "display_data"
    },
    {
     "data": {
      "application/vnd.jupyter.widget-view+json": {
       "model_id": "",
       "version_major": 2,
       "version_minor": 0
      },
      "text/plain": [
       "VBox(children=(Label(value='0.000 MB of 0.000 MB uploaded (0.000 MB deduped)\\r'), FloatProgress(value=1.0, max…"
      ]
     },
     "metadata": {},
     "output_type": "display_data"
    },
    {
     "data": {
      "text/html": [
       "Synced <strong style=\"color:#cdcd00\">I5Xg62LG</strong>: <a href=\"https://wandb.ai/gewissta/wandb-sweeps/runs/dh65mfk9\" target=\"_blank\">https://wandb.ai/gewissta/wandb-sweeps/runs/dh65mfk9</a><br/>Synced 5 W&B file(s), 0 media file(s), 0 artifact file(s) and 0 other file(s)"
      ],
      "text/plain": [
       "<IPython.core.display.HTML object>"
      ]
     },
     "metadata": {},
     "output_type": "display_data"
    },
    {
     "data": {
      "text/html": [
       "Find logs at: <code>./wandb/run-20230524_153520-dh65mfk9/logs</code>"
      ],
      "text/plain": [
       "<IPython.core.display.HTML object>"
      ]
     },
     "metadata": {},
     "output_type": "display_data"
    },
    {
     "name": "stderr",
     "output_type": "stream",
     "text": [
      "[Parallel(n_jobs=1)]: Done   4 out of   4 | elapsed:  1.3min remaining:    0.0s\n"
     ]
    },
    {
     "data": {
      "text/html": [
       "Changes to your `wandb` environment variables will be ignored because your `wandb` session has already started. For more information on how to modify your settings with `wandb.init()` arguments, please refer to <a href=\"https://wandb.me/wandb-init\" target=\"_blank\">the W&B docs</a>."
      ],
      "text/plain": [
       "<IPython.core.display.HTML object>"
      ]
     },
     "metadata": {},
     "output_type": "display_data"
    },
    {
     "data": {
      "text/html": [
       "wandb version 0.15.3 is available!  To upgrade, please run:\n",
       " $ pip install wandb --upgrade"
      ],
      "text/plain": [
       "<IPython.core.display.HTML object>"
      ]
     },
     "metadata": {},
     "output_type": "display_data"
    },
    {
     "data": {
      "text/html": [
       "Tracking run with wandb version 0.12.21"
      ],
      "text/plain": [
       "<IPython.core.display.HTML object>"
      ]
     },
     "metadata": {},
     "output_type": "display_data"
    },
    {
     "data": {
      "text/html": [
       "Run data is saved locally in <code>/Users/artemgruzdev/Documents/GitHub/Time_Series/code/wandb/run-20230524_153539-2ilsfslf</code>"
      ],
      "text/plain": [
       "<IPython.core.display.HTML object>"
      ]
     },
     "metadata": {},
     "output_type": "display_data"
    },
    {
     "data": {
      "text/html": [
       "Syncing run <strong><a href=\"https://wandb.ai/gewissta/wandb-sweeps/runs/2ilsfslf\" target=\"_blank\">I5Xg62LG</a></strong> to <a href=\"https://wandb.ai/gewissta/wandb-sweeps\" target=\"_blank\">Weights & Biases</a> (<a href=\"https://wandb.me/run\" target=\"_blank\">docs</a>)<br/>"
      ],
      "text/plain": [
       "<IPython.core.display.HTML object>"
      ]
     },
     "metadata": {},
     "output_type": "display_data"
    },
    {
     "data": {
      "text/html": [
       "Waiting for W&B process to finish... <strong style=\"color:green\">(success).</strong>"
      ],
      "text/plain": [
       "<IPython.core.display.HTML object>"
      ]
     },
     "metadata": {},
     "output_type": "display_data"
    },
    {
     "data": {
      "application/vnd.jupyter.widget-view+json": {
       "model_id": "",
       "version_major": 2,
       "version_minor": 0
      },
      "text/plain": [
       "VBox(children=(Label(value='0.000 MB of 0.000 MB uploaded (0.000 MB deduped)\\r'), FloatProgress(value=1.0, max…"
      ]
     },
     "metadata": {},
     "output_type": "display_data"
    },
    {
     "data": {
      "text/html": [
       "Synced <strong style=\"color:#cdcd00\">I5Xg62LG</strong>: <a href=\"https://wandb.ai/gewissta/wandb-sweeps/runs/2ilsfslf\" target=\"_blank\">https://wandb.ai/gewissta/wandb-sweeps/runs/2ilsfslf</a><br/>Synced 5 W&B file(s), 0 media file(s), 0 artifact file(s) and 0 other file(s)"
      ],
      "text/plain": [
       "<IPython.core.display.HTML object>"
      ]
     },
     "metadata": {},
     "output_type": "display_data"
    },
    {
     "data": {
      "text/html": [
       "Find logs at: <code>./wandb/run-20230524_153539-2ilsfslf/logs</code>"
      ],
      "text/plain": [
       "<IPython.core.display.HTML object>"
      ]
     },
     "metadata": {},
     "output_type": "display_data"
    },
    {
     "name": "stderr",
     "output_type": "stream",
     "text": [
      "[Parallel(n_jobs=1)]: Done   5 out of   5 | elapsed:  1.7min remaining:    0.0s\n",
      "[Parallel(n_jobs=1)]: Done   5 out of   5 | elapsed:  1.7min finished\n",
      "[Parallel(n_jobs=1)]: Using backend SequentialBackend with 1 concurrent workers.\n"
     ]
    },
    {
     "data": {
      "text/html": [
       "Changes to your `wandb` environment variables will be ignored because your `wandb` session has already started. For more information on how to modify your settings with `wandb.init()` arguments, please refer to <a href=\"https://wandb.me/wandb-init\" target=\"_blank\">the W&B docs</a>."
      ],
      "text/plain": [
       "<IPython.core.display.HTML object>"
      ]
     },
     "metadata": {},
     "output_type": "display_data"
    },
    {
     "data": {
      "text/html": [
       "wandb version 0.15.3 is available!  To upgrade, please run:\n",
       " $ pip install wandb --upgrade"
      ],
      "text/plain": [
       "<IPython.core.display.HTML object>"
      ]
     },
     "metadata": {},
     "output_type": "display_data"
    },
    {
     "data": {
      "text/html": [
       "Tracking run with wandb version 0.12.21"
      ],
      "text/plain": [
       "<IPython.core.display.HTML object>"
      ]
     },
     "metadata": {},
     "output_type": "display_data"
    },
    {
     "data": {
      "text/html": [
       "Run data is saved locally in <code>/Users/artemgruzdev/Documents/GitHub/Time_Series/code/wandb/run-20230524_153559-1njd7pcj</code>"
      ],
      "text/plain": [
       "<IPython.core.display.HTML object>"
      ]
     },
     "metadata": {},
     "output_type": "display_data"
    },
    {
     "data": {
      "text/html": [
       "Syncing run <strong><a href=\"https://wandb.ai/gewissta/wandb-sweeps/runs/1njd7pcj\" target=\"_blank\">I5Xg62LG</a></strong> to <a href=\"https://wandb.ai/gewissta/wandb-sweeps\" target=\"_blank\">Weights & Biases</a> (<a href=\"https://wandb.me/run\" target=\"_blank\">docs</a>)<br/>"
      ],
      "text/plain": [
       "<IPython.core.display.HTML object>"
      ]
     },
     "metadata": {},
     "output_type": "display_data"
    },
    {
     "data": {
      "text/html": [
       "Waiting for W&B process to finish... <strong style=\"color:green\">(success).</strong>"
      ],
      "text/plain": [
       "<IPython.core.display.HTML object>"
      ]
     },
     "metadata": {},
     "output_type": "display_data"
    },
    {
     "data": {
      "application/vnd.jupyter.widget-view+json": {
       "model_id": "",
       "version_major": 2,
       "version_minor": 0
      },
      "text/plain": [
       "VBox(children=(Label(value='0.000 MB of 0.000 MB uploaded (0.000 MB deduped)\\r'), FloatProgress(value=1.0, max…"
      ]
     },
     "metadata": {},
     "output_type": "display_data"
    },
    {
     "data": {
      "text/html": [
       "Synced <strong style=\"color:#cdcd00\">I5Xg62LG</strong>: <a href=\"https://wandb.ai/gewissta/wandb-sweeps/runs/1njd7pcj\" target=\"_blank\">https://wandb.ai/gewissta/wandb-sweeps/runs/1njd7pcj</a><br/>Synced 5 W&B file(s), 0 media file(s), 0 artifact file(s) and 0 other file(s)"
      ],
      "text/plain": [
       "<IPython.core.display.HTML object>"
      ]
     },
     "metadata": {},
     "output_type": "display_data"
    },
    {
     "data": {
      "text/html": [
       "Find logs at: <code>./wandb/run-20230524_153559-1njd7pcj/logs</code>"
      ],
      "text/plain": [
       "<IPython.core.display.HTML object>"
      ]
     },
     "metadata": {},
     "output_type": "display_data"
    },
    {
     "name": "stderr",
     "output_type": "stream",
     "text": [
      "[Parallel(n_jobs=1)]: Done   1 out of   1 | elapsed:   20.0s remaining:    0.0s\n"
     ]
    },
    {
     "data": {
      "text/html": [
       "Changes to your `wandb` environment variables will be ignored because your `wandb` session has already started. For more information on how to modify your settings with `wandb.init()` arguments, please refer to <a href=\"https://wandb.me/wandb-init\" target=\"_blank\">the W&B docs</a>."
      ],
      "text/plain": [
       "<IPython.core.display.HTML object>"
      ]
     },
     "metadata": {},
     "output_type": "display_data"
    },
    {
     "data": {
      "text/html": [
       "wandb version 0.15.3 is available!  To upgrade, please run:\n",
       " $ pip install wandb --upgrade"
      ],
      "text/plain": [
       "<IPython.core.display.HTML object>"
      ]
     },
     "metadata": {},
     "output_type": "display_data"
    },
    {
     "data": {
      "text/html": [
       "Tracking run with wandb version 0.12.21"
      ],
      "text/plain": [
       "<IPython.core.display.HTML object>"
      ]
     },
     "metadata": {},
     "output_type": "display_data"
    },
    {
     "data": {
      "text/html": [
       "Run data is saved locally in <code>/Users/artemgruzdev/Documents/GitHub/Time_Series/code/wandb/run-20230524_153619-35j1sn3o</code>"
      ],
      "text/plain": [
       "<IPython.core.display.HTML object>"
      ]
     },
     "metadata": {},
     "output_type": "display_data"
    },
    {
     "data": {
      "text/html": [
       "Syncing run <strong><a href=\"https://wandb.ai/gewissta/wandb-sweeps/runs/35j1sn3o\" target=\"_blank\">I5Xg62LG</a></strong> to <a href=\"https://wandb.ai/gewissta/wandb-sweeps\" target=\"_blank\">Weights & Biases</a> (<a href=\"https://wandb.me/run\" target=\"_blank\">docs</a>)<br/>"
      ],
      "text/plain": [
       "<IPython.core.display.HTML object>"
      ]
     },
     "metadata": {},
     "output_type": "display_data"
    },
    {
     "data": {
      "text/html": [
       "Waiting for W&B process to finish... <strong style=\"color:green\">(success).</strong>"
      ],
      "text/plain": [
       "<IPython.core.display.HTML object>"
      ]
     },
     "metadata": {},
     "output_type": "display_data"
    },
    {
     "data": {
      "application/vnd.jupyter.widget-view+json": {
       "model_id": "",
       "version_major": 2,
       "version_minor": 0
      },
      "text/plain": [
       "VBox(children=(Label(value='0.000 MB of 0.000 MB uploaded (0.000 MB deduped)\\r'), FloatProgress(value=1.0, max…"
      ]
     },
     "metadata": {},
     "output_type": "display_data"
    },
    {
     "data": {
      "text/html": [
       "Synced <strong style=\"color:#cdcd00\">I5Xg62LG</strong>: <a href=\"https://wandb.ai/gewissta/wandb-sweeps/runs/35j1sn3o\" target=\"_blank\">https://wandb.ai/gewissta/wandb-sweeps/runs/35j1sn3o</a><br/>Synced 5 W&B file(s), 0 media file(s), 0 artifact file(s) and 0 other file(s)"
      ],
      "text/plain": [
       "<IPython.core.display.HTML object>"
      ]
     },
     "metadata": {},
     "output_type": "display_data"
    },
    {
     "data": {
      "text/html": [
       "Find logs at: <code>./wandb/run-20230524_153619-35j1sn3o/logs</code>"
      ],
      "text/plain": [
       "<IPython.core.display.HTML object>"
      ]
     },
     "metadata": {},
     "output_type": "display_data"
    },
    {
     "name": "stderr",
     "output_type": "stream",
     "text": [
      "[Parallel(n_jobs=1)]: Done   2 out of   2 | elapsed:   39.8s remaining:    0.0s\n"
     ]
    },
    {
     "data": {
      "text/html": [
       "Changes to your `wandb` environment variables will be ignored because your `wandb` session has already started. For more information on how to modify your settings with `wandb.init()` arguments, please refer to <a href=\"https://wandb.me/wandb-init\" target=\"_blank\">the W&B docs</a>."
      ],
      "text/plain": [
       "<IPython.core.display.HTML object>"
      ]
     },
     "metadata": {},
     "output_type": "display_data"
    },
    {
     "data": {
      "text/html": [
       "wandb version 0.15.3 is available!  To upgrade, please run:\n",
       " $ pip install wandb --upgrade"
      ],
      "text/plain": [
       "<IPython.core.display.HTML object>"
      ]
     },
     "metadata": {},
     "output_type": "display_data"
    },
    {
     "data": {
      "text/html": [
       "Tracking run with wandb version 0.12.21"
      ],
      "text/plain": [
       "<IPython.core.display.HTML object>"
      ]
     },
     "metadata": {},
     "output_type": "display_data"
    },
    {
     "data": {
      "text/html": [
       "Run data is saved locally in <code>/Users/artemgruzdev/Documents/GitHub/Time_Series/code/wandb/run-20230524_153639-jry3tovm</code>"
      ],
      "text/plain": [
       "<IPython.core.display.HTML object>"
      ]
     },
     "metadata": {},
     "output_type": "display_data"
    },
    {
     "data": {
      "text/html": [
       "Syncing run <strong><a href=\"https://wandb.ai/gewissta/wandb-sweeps/runs/jry3tovm\" target=\"_blank\">I5Xg62LG</a></strong> to <a href=\"https://wandb.ai/gewissta/wandb-sweeps\" target=\"_blank\">Weights & Biases</a> (<a href=\"https://wandb.me/run\" target=\"_blank\">docs</a>)<br/>"
      ],
      "text/plain": [
       "<IPython.core.display.HTML object>"
      ]
     },
     "metadata": {},
     "output_type": "display_data"
    },
    {
     "data": {
      "text/html": [
       "Waiting for W&B process to finish... <strong style=\"color:green\">(success).</strong>"
      ],
      "text/plain": [
       "<IPython.core.display.HTML object>"
      ]
     },
     "metadata": {},
     "output_type": "display_data"
    },
    {
     "data": {
      "application/vnd.jupyter.widget-view+json": {
       "model_id": "",
       "version_major": 2,
       "version_minor": 0
      },
      "text/plain": [
       "VBox(children=(Label(value='0.000 MB of 0.000 MB uploaded (0.000 MB deduped)\\r'), FloatProgress(value=1.0, max…"
      ]
     },
     "metadata": {},
     "output_type": "display_data"
    },
    {
     "data": {
      "text/html": [
       "Synced <strong style=\"color:#cdcd00\">I5Xg62LG</strong>: <a href=\"https://wandb.ai/gewissta/wandb-sweeps/runs/jry3tovm\" target=\"_blank\">https://wandb.ai/gewissta/wandb-sweeps/runs/jry3tovm</a><br/>Synced 5 W&B file(s), 0 media file(s), 0 artifact file(s) and 0 other file(s)"
      ],
      "text/plain": [
       "<IPython.core.display.HTML object>"
      ]
     },
     "metadata": {},
     "output_type": "display_data"
    },
    {
     "data": {
      "text/html": [
       "Find logs at: <code>./wandb/run-20230524_153639-jry3tovm/logs</code>"
      ],
      "text/plain": [
       "<IPython.core.display.HTML object>"
      ]
     },
     "metadata": {},
     "output_type": "display_data"
    },
    {
     "name": "stderr",
     "output_type": "stream",
     "text": [
      "[Parallel(n_jobs=1)]: Done   3 out of   3 | elapsed:   59.5s remaining:    0.0s\n"
     ]
    },
    {
     "data": {
      "text/html": [
       "Changes to your `wandb` environment variables will be ignored because your `wandb` session has already started. For more information on how to modify your settings with `wandb.init()` arguments, please refer to <a href=\"https://wandb.me/wandb-init\" target=\"_blank\">the W&B docs</a>."
      ],
      "text/plain": [
       "<IPython.core.display.HTML object>"
      ]
     },
     "metadata": {},
     "output_type": "display_data"
    },
    {
     "data": {
      "text/html": [
       "wandb version 0.15.3 is available!  To upgrade, please run:\n",
       " $ pip install wandb --upgrade"
      ],
      "text/plain": [
       "<IPython.core.display.HTML object>"
      ]
     },
     "metadata": {},
     "output_type": "display_data"
    },
    {
     "data": {
      "text/html": [
       "Tracking run with wandb version 0.12.21"
      ],
      "text/plain": [
       "<IPython.core.display.HTML object>"
      ]
     },
     "metadata": {},
     "output_type": "display_data"
    },
    {
     "data": {
      "text/html": [
       "Run data is saved locally in <code>/Users/artemgruzdev/Documents/GitHub/Time_Series/code/wandb/run-20230524_153659-3b23ditr</code>"
      ],
      "text/plain": [
       "<IPython.core.display.HTML object>"
      ]
     },
     "metadata": {},
     "output_type": "display_data"
    },
    {
     "data": {
      "text/html": [
       "Syncing run <strong><a href=\"https://wandb.ai/gewissta/wandb-sweeps/runs/3b23ditr\" target=\"_blank\">I5Xg62LG</a></strong> to <a href=\"https://wandb.ai/gewissta/wandb-sweeps\" target=\"_blank\">Weights & Biases</a> (<a href=\"https://wandb.me/run\" target=\"_blank\">docs</a>)<br/>"
      ],
      "text/plain": [
       "<IPython.core.display.HTML object>"
      ]
     },
     "metadata": {},
     "output_type": "display_data"
    },
    {
     "data": {
      "text/html": [
       "Waiting for W&B process to finish... <strong style=\"color:green\">(success).</strong>"
      ],
      "text/plain": [
       "<IPython.core.display.HTML object>"
      ]
     },
     "metadata": {},
     "output_type": "display_data"
    },
    {
     "data": {
      "application/vnd.jupyter.widget-view+json": {
       "model_id": "",
       "version_major": 2,
       "version_minor": 0
      },
      "text/plain": [
       "VBox(children=(Label(value='0.000 MB of 0.000 MB uploaded (0.000 MB deduped)\\r'), FloatProgress(value=1.0, max…"
      ]
     },
     "metadata": {},
     "output_type": "display_data"
    },
    {
     "data": {
      "text/html": [
       "Synced <strong style=\"color:#cdcd00\">I5Xg62LG</strong>: <a href=\"https://wandb.ai/gewissta/wandb-sweeps/runs/3b23ditr\" target=\"_blank\">https://wandb.ai/gewissta/wandb-sweeps/runs/3b23ditr</a><br/>Synced 5 W&B file(s), 0 media file(s), 0 artifact file(s) and 0 other file(s)"
      ],
      "text/plain": [
       "<IPython.core.display.HTML object>"
      ]
     },
     "metadata": {},
     "output_type": "display_data"
    },
    {
     "data": {
      "text/html": [
       "Find logs at: <code>./wandb/run-20230524_153659-3b23ditr/logs</code>"
      ],
      "text/plain": [
       "<IPython.core.display.HTML object>"
      ]
     },
     "metadata": {},
     "output_type": "display_data"
    },
    {
     "name": "stderr",
     "output_type": "stream",
     "text": [
      "[Parallel(n_jobs=1)]: Done   4 out of   4 | elapsed:  1.3min remaining:    0.0s\n"
     ]
    },
    {
     "data": {
      "text/html": [
       "Changes to your `wandb` environment variables will be ignored because your `wandb` session has already started. For more information on how to modify your settings with `wandb.init()` arguments, please refer to <a href=\"https://wandb.me/wandb-init\" target=\"_blank\">the W&B docs</a>."
      ],
      "text/plain": [
       "<IPython.core.display.HTML object>"
      ]
     },
     "metadata": {},
     "output_type": "display_data"
    },
    {
     "data": {
      "text/html": [
       "wandb version 0.15.3 is available!  To upgrade, please run:\n",
       " $ pip install wandb --upgrade"
      ],
      "text/plain": [
       "<IPython.core.display.HTML object>"
      ]
     },
     "metadata": {},
     "output_type": "display_data"
    },
    {
     "data": {
      "text/html": [
       "Tracking run with wandb version 0.12.21"
      ],
      "text/plain": [
       "<IPython.core.display.HTML object>"
      ]
     },
     "metadata": {},
     "output_type": "display_data"
    },
    {
     "data": {
      "text/html": [
       "Run data is saved locally in <code>/Users/artemgruzdev/Documents/GitHub/Time_Series/code/wandb/run-20230524_153719-1ctklcro</code>"
      ],
      "text/plain": [
       "<IPython.core.display.HTML object>"
      ]
     },
     "metadata": {},
     "output_type": "display_data"
    },
    {
     "data": {
      "text/html": [
       "Syncing run <strong><a href=\"https://wandb.ai/gewissta/wandb-sweeps/runs/1ctklcro\" target=\"_blank\">I5Xg62LG</a></strong> to <a href=\"https://wandb.ai/gewissta/wandb-sweeps\" target=\"_blank\">Weights & Biases</a> (<a href=\"https://wandb.me/run\" target=\"_blank\">docs</a>)<br/>"
      ],
      "text/plain": [
       "<IPython.core.display.HTML object>"
      ]
     },
     "metadata": {},
     "output_type": "display_data"
    },
    {
     "data": {
      "text/html": [
       "Waiting for W&B process to finish... <strong style=\"color:green\">(success).</strong>"
      ],
      "text/plain": [
       "<IPython.core.display.HTML object>"
      ]
     },
     "metadata": {},
     "output_type": "display_data"
    },
    {
     "data": {
      "application/vnd.jupyter.widget-view+json": {
       "model_id": "",
       "version_major": 2,
       "version_minor": 0
      },
      "text/plain": [
       "VBox(children=(Label(value='0.000 MB of 0.000 MB uploaded (0.000 MB deduped)\\r'), FloatProgress(value=1.0, max…"
      ]
     },
     "metadata": {},
     "output_type": "display_data"
    },
    {
     "data": {
      "text/html": [
       "Synced <strong style=\"color:#cdcd00\">I5Xg62LG</strong>: <a href=\"https://wandb.ai/gewissta/wandb-sweeps/runs/1ctklcro\" target=\"_blank\">https://wandb.ai/gewissta/wandb-sweeps/runs/1ctklcro</a><br/>Synced 5 W&B file(s), 0 media file(s), 0 artifact file(s) and 0 other file(s)"
      ],
      "text/plain": [
       "<IPython.core.display.HTML object>"
      ]
     },
     "metadata": {},
     "output_type": "display_data"
    },
    {
     "data": {
      "text/html": [
       "Find logs at: <code>./wandb/run-20230524_153719-1ctklcro/logs</code>"
      ],
      "text/plain": [
       "<IPython.core.display.HTML object>"
      ]
     },
     "metadata": {},
     "output_type": "display_data"
    },
    {
     "name": "stderr",
     "output_type": "stream",
     "text": [
      "[Parallel(n_jobs=1)]: Done   5 out of   5 | elapsed:  1.7min remaining:    0.0s\n",
      "[Parallel(n_jobs=1)]: Done   5 out of   5 | elapsed:  1.7min finished\n",
      "[Parallel(n_jobs=1)]: Using backend SequentialBackend with 1 concurrent workers.\n"
     ]
    },
    {
     "data": {
      "text/html": [
       "Changes to your `wandb` environment variables will be ignored because your `wandb` session has already started. For more information on how to modify your settings with `wandb.init()` arguments, please refer to <a href=\"https://wandb.me/wandb-init\" target=\"_blank\">the W&B docs</a>."
      ],
      "text/plain": [
       "<IPython.core.display.HTML object>"
      ]
     },
     "metadata": {},
     "output_type": "display_data"
    },
    {
     "data": {
      "text/html": [
       "wandb version 0.15.3 is available!  To upgrade, please run:\n",
       " $ pip install wandb --upgrade"
      ],
      "text/plain": [
       "<IPython.core.display.HTML object>"
      ]
     },
     "metadata": {},
     "output_type": "display_data"
    },
    {
     "data": {
      "text/html": [
       "Tracking run with wandb version 0.12.21"
      ],
      "text/plain": [
       "<IPython.core.display.HTML object>"
      ]
     },
     "metadata": {},
     "output_type": "display_data"
    },
    {
     "data": {
      "text/html": [
       "Run data is saved locally in <code>/Users/artemgruzdev/Documents/GitHub/Time_Series/code/wandb/run-20230524_153739-1ervauwu</code>"
      ],
      "text/plain": [
       "<IPython.core.display.HTML object>"
      ]
     },
     "metadata": {},
     "output_type": "display_data"
    },
    {
     "data": {
      "text/html": [
       "Syncing run <strong><a href=\"https://wandb.ai/gewissta/wandb-sweeps/runs/1ervauwu\" target=\"_blank\">I5Xg62LG</a></strong> to <a href=\"https://wandb.ai/gewissta/wandb-sweeps\" target=\"_blank\">Weights & Biases</a> (<a href=\"https://wandb.me/run\" target=\"_blank\">docs</a>)<br/>"
      ],
      "text/plain": [
       "<IPython.core.display.HTML object>"
      ]
     },
     "metadata": {},
     "output_type": "display_data"
    },
    {
     "data": {
      "text/html": [
       "Waiting for W&B process to finish... <strong style=\"color:green\">(success).</strong>"
      ],
      "text/plain": [
       "<IPython.core.display.HTML object>"
      ]
     },
     "metadata": {},
     "output_type": "display_data"
    },
    {
     "data": {
      "application/vnd.jupyter.widget-view+json": {
       "model_id": "",
       "version_major": 2,
       "version_minor": 0
      },
      "text/plain": [
       "VBox(children=(Label(value='0.067 MB of 0.070 MB uploaded (0.000 MB deduped)\\r'), FloatProgress(value=0.957304…"
      ]
     },
     "metadata": {},
     "output_type": "display_data"
    },
    {
     "data": {
      "text/html": [
       "<style>\n",
       "    table.wandb td:nth-child(1) { padding: 0 10px; text-align: left ; width: auto;} td:nth-child(2) {text-align: left ; width: 100%}\n",
       "    .wandb-row { display: flex; flex-direction: row; flex-wrap: wrap; justify-content: flex-start; width: 100% }\n",
       "    .wandb-col { display: flex; flex-direction: column; flex-basis: 100%; flex: 1; padding: 10px; }\n",
       "    </style>\n",
       "<div class=\"wandb-row\"><div class=\"wandb-col\"><h3>Run history:</h3><br/><table class=\"wandb\"><tr><td>MAE_mean</td><td>▁</td></tr><tr><td>MAE_median</td><td>▁</td></tr><tr><td>MAE_percentile_25</td><td>▁</td></tr><tr><td>MAE_percentile_5</td><td>▁</td></tr><tr><td>MAE_percentile_75</td><td>▁</td></tr><tr><td>MAE_percentile_95</td><td>▁</td></tr><tr><td>MAE_std</td><td>▁</td></tr><tr><td>MSE_mean</td><td>▁</td></tr><tr><td>MSE_median</td><td>▁</td></tr><tr><td>MSE_percentile_25</td><td>▁</td></tr><tr><td>MSE_percentile_5</td><td>▁</td></tr><tr><td>MSE_percentile_75</td><td>▁</td></tr><tr><td>MSE_percentile_95</td><td>▁</td></tr><tr><td>MSE_std</td><td>▁</td></tr><tr><td>SMAPE_mean</td><td>▁</td></tr><tr><td>SMAPE_median</td><td>▁</td></tr><tr><td>SMAPE_percentile_25</td><td>▁</td></tr><tr><td>SMAPE_percentile_5</td><td>▁</td></tr><tr><td>SMAPE_percentile_75</td><td>▁</td></tr><tr><td>SMAPE_percentile_95</td><td>▁</td></tr><tr><td>SMAPE_std</td><td>▁</td></tr><tr><td>Sign_mean</td><td>▁</td></tr><tr><td>Sign_median</td><td>▁</td></tr><tr><td>Sign_percentile_25</td><td>▁</td></tr><tr><td>Sign_percentile_5</td><td>▁</td></tr><tr><td>Sign_percentile_75</td><td>▁</td></tr><tr><td>Sign_percentile_95</td><td>▁</td></tr><tr><td>Sign_std</td><td>▁</td></tr></table><br/></div><div class=\"wandb-col\"><h3>Run summary:</h3><br/><table class=\"wandb\"><tr><td>MAE_mean</td><td>38.80554</td></tr><tr><td>MAE_median</td><td>35.79013</td></tr><tr><td>MAE_percentile_25</td><td>16.99227</td></tr><tr><td>MAE_percentile_5</td><td>15.41927</td></tr><tr><td>MAE_percentile_75</td><td>57.60339</td></tr><tr><td>MAE_percentile_95</td><td>66.41339</td></tr><tr><td>MAE_std</td><td>26.6496</td></tr><tr><td>MSE_mean</td><td>3091.09067</td></tr><tr><td>MSE_median</td><td>2795.18884</td></tr><tr><td>MSE_percentile_25</td><td>549.11486</td></tr><tr><td>MSE_percentile_5</td><td>376.87742</td></tr><tr><td>MSE_percentile_75</td><td>5337.16465</td></tr><tr><td>MSE_percentile_95</td><td>6219.5665</td></tr><tr><td>MSE_std</td><td>3079.45958</td></tr><tr><td>SMAPE_mean</td><td>9.138</td></tr><tr><td>SMAPE_median</td><td>8.81895</td></tr><tr><td>SMAPE_percentile_25</td><td>8.44235</td></tr><tr><td>SMAPE_percentile_5</td><td>7.84505</td></tr><tr><td>SMAPE_percentile_75</td><td>9.5146</td></tr><tr><td>SMAPE_percentile_95</td><td>10.8776</td></tr><tr><td>SMAPE_std</td><td>1.4882</td></tr><tr><td>Sign_mean</td><td>-0.21429</td></tr><tr><td>Sign_median</td><td>-0.35714</td></tr><tr><td>Sign_percentile_25</td><td>-0.57143</td></tr><tr><td>Sign_percentile_5</td><td>-0.57143</td></tr><tr><td>Sign_percentile_75</td><td>0.0</td></tr><tr><td>Sign_percentile_95</td><td>0.34286</td></tr><tr><td>Sign_std</td><td>0.4738</td></tr></table><br/></div></div>"
      ],
      "text/plain": [
       "<IPython.core.display.HTML object>"
      ]
     },
     "metadata": {},
     "output_type": "display_data"
    },
    {
     "data": {
      "text/html": [
       "Synced <strong style=\"color:#cdcd00\">I5Xg62LG</strong>: <a href=\"https://wandb.ai/gewissta/wandb-sweeps/runs/1ervauwu\" target=\"_blank\">https://wandb.ai/gewissta/wandb-sweeps/runs/1ervauwu</a><br/>Synced 5 W&B file(s), 3 media file(s), 3 artifact file(s) and 0 other file(s)"
      ],
      "text/plain": [
       "<IPython.core.display.HTML object>"
      ]
     },
     "metadata": {},
     "output_type": "display_data"
    },
    {
     "data": {
      "text/html": [
       "Find logs at: <code>./wandb/run-20230524_153739-1ervauwu/logs</code>"
      ],
      "text/plain": [
       "<IPython.core.display.HTML object>"
      ]
     },
     "metadata": {},
     "output_type": "display_data"
    },
    {
     "name": "stderr",
     "output_type": "stream",
     "text": [
      "[Parallel(n_jobs=1)]: Done   1 out of   1 | elapsed:   38.4s remaining:    0.0s\n"
     ]
    },
    {
     "data": {
      "text/html": [
       "Changes to your `wandb` environment variables will be ignored because your `wandb` session has already started. For more information on how to modify your settings with `wandb.init()` arguments, please refer to <a href=\"https://wandb.me/wandb-init\" target=\"_blank\">the W&B docs</a>."
      ],
      "text/plain": [
       "<IPython.core.display.HTML object>"
      ]
     },
     "metadata": {},
     "output_type": "display_data"
    },
    {
     "data": {
      "text/html": [
       "wandb version 0.15.3 is available!  To upgrade, please run:\n",
       " $ pip install wandb --upgrade"
      ],
      "text/plain": [
       "<IPython.core.display.HTML object>"
      ]
     },
     "metadata": {},
     "output_type": "display_data"
    },
    {
     "data": {
      "text/html": [
       "Tracking run with wandb version 0.12.21"
      ],
      "text/plain": [
       "<IPython.core.display.HTML object>"
      ]
     },
     "metadata": {},
     "output_type": "display_data"
    },
    {
     "data": {
      "text/html": [
       "Run data is saved locally in <code>/Users/artemgruzdev/Documents/GitHub/Time_Series/code/wandb/run-20230524_153817-1zpxt3fu</code>"
      ],
      "text/plain": [
       "<IPython.core.display.HTML object>"
      ]
     },
     "metadata": {},
     "output_type": "display_data"
    },
    {
     "data": {
      "text/html": [
       "Syncing run <strong><a href=\"https://wandb.ai/gewissta/wandb-sweeps/runs/1zpxt3fu\" target=\"_blank\">I5Xg62LG</a></strong> to <a href=\"https://wandb.ai/gewissta/wandb-sweeps\" target=\"_blank\">Weights & Biases</a> (<a href=\"https://wandb.me/run\" target=\"_blank\">docs</a>)<br/>"
      ],
      "text/plain": [
       "<IPython.core.display.HTML object>"
      ]
     },
     "metadata": {},
     "output_type": "display_data"
    },
    {
     "data": {
      "text/html": [
       "Waiting for W&B process to finish... <strong style=\"color:green\">(success).</strong>"
      ],
      "text/plain": [
       "<IPython.core.display.HTML object>"
      ]
     },
     "metadata": {},
     "output_type": "display_data"
    },
    {
     "data": {
      "application/vnd.jupyter.widget-view+json": {
       "model_id": "",
       "version_major": 2,
       "version_minor": 0
      },
      "text/plain": [
       "VBox(children=(Label(value='0.067 MB of 0.070 MB uploaded (0.000 MB deduped)\\r'), FloatProgress(value=0.957111…"
      ]
     },
     "metadata": {},
     "output_type": "display_data"
    },
    {
     "data": {
      "text/html": [
       "<style>\n",
       "    table.wandb td:nth-child(1) { padding: 0 10px; text-align: left ; width: auto;} td:nth-child(2) {text-align: left ; width: 100%}\n",
       "    .wandb-row { display: flex; flex-direction: row; flex-wrap: wrap; justify-content: flex-start; width: 100% }\n",
       "    .wandb-col { display: flex; flex-direction: column; flex-basis: 100%; flex: 1; padding: 10px; }\n",
       "    </style>\n",
       "<div class=\"wandb-row\"><div class=\"wandb-col\"><h3>Run history:</h3><br/><table class=\"wandb\"><tr><td>MAE_mean</td><td>▁</td></tr><tr><td>MAE_median</td><td>▁</td></tr><tr><td>MAE_percentile_25</td><td>▁</td></tr><tr><td>MAE_percentile_5</td><td>▁</td></tr><tr><td>MAE_percentile_75</td><td>▁</td></tr><tr><td>MAE_percentile_95</td><td>▁</td></tr><tr><td>MAE_std</td><td>▁</td></tr><tr><td>MSE_mean</td><td>▁</td></tr><tr><td>MSE_median</td><td>▁</td></tr><tr><td>MSE_percentile_25</td><td>▁</td></tr><tr><td>MSE_percentile_5</td><td>▁</td></tr><tr><td>MSE_percentile_75</td><td>▁</td></tr><tr><td>MSE_percentile_95</td><td>▁</td></tr><tr><td>MSE_std</td><td>▁</td></tr><tr><td>SMAPE_mean</td><td>▁</td></tr><tr><td>SMAPE_median</td><td>▁</td></tr><tr><td>SMAPE_percentile_25</td><td>▁</td></tr><tr><td>SMAPE_percentile_5</td><td>▁</td></tr><tr><td>SMAPE_percentile_75</td><td>▁</td></tr><tr><td>SMAPE_percentile_95</td><td>▁</td></tr><tr><td>SMAPE_std</td><td>▁</td></tr><tr><td>Sign_mean</td><td>▁</td></tr><tr><td>Sign_median</td><td>▁</td></tr><tr><td>Sign_percentile_25</td><td>▁</td></tr><tr><td>Sign_percentile_5</td><td>▁</td></tr><tr><td>Sign_percentile_75</td><td>▁</td></tr><tr><td>Sign_percentile_95</td><td>▁</td></tr><tr><td>Sign_std</td><td>▁</td></tr></table><br/></div><div class=\"wandb-col\"><h3>Run summary:</h3><br/><table class=\"wandb\"><tr><td>MAE_mean</td><td>42.34812</td></tr><tr><td>MAE_median</td><td>38.5017</td></tr><tr><td>MAE_percentile_25</td><td>23.95393</td></tr><tr><td>MAE_percentile_5</td><td>18.4349</td></tr><tr><td>MAE_percentile_75</td><td>56.89588</td></tr><tr><td>MAE_percentile_95</td><td>71.64633</td></tr><tr><td>MAE_std</td><td>26.18794</td></tr><tr><td>MSE_mean</td><td>3017.84619</td></tr><tr><td>MSE_median</td><td>2041.39448</td></tr><tr><td>MSE_percentile_25</td><td>813.28658</td></tr><tr><td>MSE_percentile_5</td><td>469.78328</td></tr><tr><td>MSE_percentile_75</td><td>4245.95409</td></tr><tr><td>MSE_percentile_95</td><td>6932.94148</td></tr><tr><td>MSE_std</td><td>3278.11123</td></tr><tr><td>SMAPE_mean</td><td>9.99231</td></tr><tr><td>SMAPE_median</td><td>10.11344</td></tr><tr><td>SMAPE_percentile_25</td><td>9.78141</td></tr><tr><td>SMAPE_percentile_5</td><td>9.30617</td></tr><tr><td>SMAPE_percentile_75</td><td>10.32435</td></tr><tr><td>SMAPE_percentile_95</td><td>10.50887</td></tr><tr><td>SMAPE_std</td><td>0.5859</td></tr><tr><td>Sign_mean</td><td>0.53571</td></tr><tr><td>Sign_median</td><td>0.57143</td></tr><tr><td>Sign_percentile_25</td><td>0.53571</td></tr><tr><td>Sign_percentile_5</td><td>0.45</td></tr><tr><td>Sign_percentile_75</td><td>0.57143</td></tr><tr><td>Sign_percentile_95</td><td>0.57143</td></tr><tr><td>Sign_std</td><td>0.07143</td></tr></table><br/></div></div>"
      ],
      "text/plain": [
       "<IPython.core.display.HTML object>"
      ]
     },
     "metadata": {},
     "output_type": "display_data"
    },
    {
     "data": {
      "text/html": [
       "Synced <strong style=\"color:#cdcd00\">I5Xg62LG</strong>: <a href=\"https://wandb.ai/gewissta/wandb-sweeps/runs/1zpxt3fu\" target=\"_blank\">https://wandb.ai/gewissta/wandb-sweeps/runs/1zpxt3fu</a><br/>Synced 5 W&B file(s), 3 media file(s), 3 artifact file(s) and 0 other file(s)"
      ],
      "text/plain": [
       "<IPython.core.display.HTML object>"
      ]
     },
     "metadata": {},
     "output_type": "display_data"
    },
    {
     "data": {
      "text/html": [
       "Find logs at: <code>./wandb/run-20230524_153817-1zpxt3fu/logs</code>"
      ],
      "text/plain": [
       "<IPython.core.display.HTML object>"
      ]
     },
     "metadata": {},
     "output_type": "display_data"
    },
    {
     "name": "stderr",
     "output_type": "stream",
     "text": [
      "[Parallel(n_jobs=1)]: Done   2 out of   2 | elapsed:  1.1min remaining:    0.0s\n"
     ]
    },
    {
     "data": {
      "text/html": [
       "Changes to your `wandb` environment variables will be ignored because your `wandb` session has already started. For more information on how to modify your settings with `wandb.init()` arguments, please refer to <a href=\"https://wandb.me/wandb-init\" target=\"_blank\">the W&B docs</a>."
      ],
      "text/plain": [
       "<IPython.core.display.HTML object>"
      ]
     },
     "metadata": {},
     "output_type": "display_data"
    },
    {
     "data": {
      "text/html": [
       "wandb version 0.15.3 is available!  To upgrade, please run:\n",
       " $ pip install wandb --upgrade"
      ],
      "text/plain": [
       "<IPython.core.display.HTML object>"
      ]
     },
     "metadata": {},
     "output_type": "display_data"
    },
    {
     "data": {
      "text/html": [
       "Tracking run with wandb version 0.12.21"
      ],
      "text/plain": [
       "<IPython.core.display.HTML object>"
      ]
     },
     "metadata": {},
     "output_type": "display_data"
    },
    {
     "data": {
      "text/html": [
       "Run data is saved locally in <code>/Users/artemgruzdev/Documents/GitHub/Time_Series/code/wandb/run-20230524_153845-351494fg</code>"
      ],
      "text/plain": [
       "<IPython.core.display.HTML object>"
      ]
     },
     "metadata": {},
     "output_type": "display_data"
    },
    {
     "data": {
      "text/html": [
       "Syncing run <strong><a href=\"https://wandb.ai/gewissta/wandb-sweeps/runs/351494fg\" target=\"_blank\">I5Xg62LG</a></strong> to <a href=\"https://wandb.ai/gewissta/wandb-sweeps\" target=\"_blank\">Weights & Biases</a> (<a href=\"https://wandb.me/run\" target=\"_blank\">docs</a>)<br/>"
      ],
      "text/plain": [
       "<IPython.core.display.HTML object>"
      ]
     },
     "metadata": {},
     "output_type": "display_data"
    },
    {
     "data": {
      "text/html": [
       "Waiting for W&B process to finish... <strong style=\"color:green\">(success).</strong>"
      ],
      "text/plain": [
       "<IPython.core.display.HTML object>"
      ]
     },
     "metadata": {},
     "output_type": "display_data"
    },
    {
     "data": {
      "application/vnd.jupyter.widget-view+json": {
       "model_id": "",
       "version_major": 2,
       "version_minor": 0
      },
      "text/plain": [
       "VBox(children=(Label(value='0.067 MB of 0.070 MB uploaded (0.000 MB deduped)\\r'), FloatProgress(value=0.957013…"
      ]
     },
     "metadata": {},
     "output_type": "display_data"
    },
    {
     "data": {
      "text/html": [
       "<style>\n",
       "    table.wandb td:nth-child(1) { padding: 0 10px; text-align: left ; width: auto;} td:nth-child(2) {text-align: left ; width: 100%}\n",
       "    .wandb-row { display: flex; flex-direction: row; flex-wrap: wrap; justify-content: flex-start; width: 100% }\n",
       "    .wandb-col { display: flex; flex-direction: column; flex-basis: 100%; flex: 1; padding: 10px; }\n",
       "    </style>\n",
       "<div class=\"wandb-row\"><div class=\"wandb-col\"><h3>Run history:</h3><br/><table class=\"wandb\"><tr><td>MAE_mean</td><td>▁</td></tr><tr><td>MAE_median</td><td>▁</td></tr><tr><td>MAE_percentile_25</td><td>▁</td></tr><tr><td>MAE_percentile_5</td><td>▁</td></tr><tr><td>MAE_percentile_75</td><td>▁</td></tr><tr><td>MAE_percentile_95</td><td>▁</td></tr><tr><td>MAE_std</td><td>▁</td></tr><tr><td>MSE_mean</td><td>▁</td></tr><tr><td>MSE_median</td><td>▁</td></tr><tr><td>MSE_percentile_25</td><td>▁</td></tr><tr><td>MSE_percentile_5</td><td>▁</td></tr><tr><td>MSE_percentile_75</td><td>▁</td></tr><tr><td>MSE_percentile_95</td><td>▁</td></tr><tr><td>MSE_std</td><td>▁</td></tr><tr><td>SMAPE_mean</td><td>▁</td></tr><tr><td>SMAPE_median</td><td>▁</td></tr><tr><td>SMAPE_percentile_25</td><td>▁</td></tr><tr><td>SMAPE_percentile_5</td><td>▁</td></tr><tr><td>SMAPE_percentile_75</td><td>▁</td></tr><tr><td>SMAPE_percentile_95</td><td>▁</td></tr><tr><td>SMAPE_std</td><td>▁</td></tr><tr><td>Sign_mean</td><td>▁</td></tr><tr><td>Sign_median</td><td>▁</td></tr><tr><td>Sign_percentile_25</td><td>▁</td></tr><tr><td>Sign_percentile_5</td><td>▁</td></tr><tr><td>Sign_percentile_75</td><td>▁</td></tr><tr><td>Sign_percentile_95</td><td>▁</td></tr><tr><td>Sign_std</td><td>▁</td></tr></table><br/></div><div class=\"wandb-col\"><h3>Run summary:</h3><br/><table class=\"wandb\"><tr><td>MAE_mean</td><td>36.59174</td></tr><tr><td>MAE_median</td><td>33.03219</td></tr><tr><td>MAE_percentile_25</td><td>14.23989</td></tr><tr><td>MAE_percentile_5</td><td>10.61623</td></tr><tr><td>MAE_percentile_75</td><td>55.38404</td></tr><tr><td>MAE_percentile_95</td><td>67.55063</td></tr><tr><td>MAE_std</td><td>28.87533</td></tr><tr><td>MSE_mean</td><td>3059.92541</td></tr><tr><td>MSE_median</td><td>2118.07378</td></tr><tr><td>MSE_percentile_25</td><td>348.73726</td></tr><tr><td>MSE_percentile_5</td><td>191.00744</td></tr><tr><td>MSE_percentile_75</td><td>4829.26194</td></tr><tr><td>MSE_percentile_95</td><td>7247.43567</td></tr><tr><td>MSE_std</td><td>3605.60042</td></tr><tr><td>SMAPE_mean</td><td>7.57625</td></tr><tr><td>SMAPE_median</td><td>7.6746</td></tr><tr><td>SMAPE_percentile_25</td><td>6.35339</td></tr><tr><td>SMAPE_percentile_5</td><td>5.55135</td></tr><tr><td>SMAPE_percentile_75</td><td>8.89746</td></tr><tr><td>SMAPE_percentile_95</td><td>9.46345</td></tr><tr><td>SMAPE_std</td><td>1.91797</td></tr><tr><td>Sign_mean</td><td>0.32143</td></tr><tr><td>Sign_median</td><td>0.28571</td></tr><tr><td>Sign_percentile_25</td><td>0.10714</td></tr><tr><td>Sign_percentile_5</td><td>0.02143</td></tr><tr><td>Sign_percentile_75</td><td>0.5</td></tr><tr><td>Sign_percentile_95</td><td>0.67143</td></tr><tr><td>Sign_std</td><td>0.31677</td></tr></table><br/></div></div>"
      ],
      "text/plain": [
       "<IPython.core.display.HTML object>"
      ]
     },
     "metadata": {},
     "output_type": "display_data"
    },
    {
     "data": {
      "text/html": [
       "Synced <strong style=\"color:#cdcd00\">I5Xg62LG</strong>: <a href=\"https://wandb.ai/gewissta/wandb-sweeps/runs/351494fg\" target=\"_blank\">https://wandb.ai/gewissta/wandb-sweeps/runs/351494fg</a><br/>Synced 5 W&B file(s), 3 media file(s), 3 artifact file(s) and 0 other file(s)"
      ],
      "text/plain": [
       "<IPython.core.display.HTML object>"
      ]
     },
     "metadata": {},
     "output_type": "display_data"
    },
    {
     "data": {
      "text/html": [
       "Find logs at: <code>./wandb/run-20230524_153845-351494fg/logs</code>"
      ],
      "text/plain": [
       "<IPython.core.display.HTML object>"
      ]
     },
     "metadata": {},
     "output_type": "display_data"
    },
    {
     "name": "stderr",
     "output_type": "stream",
     "text": [
      "[Parallel(n_jobs=1)]: Done   3 out of   3 | elapsed:  1.6min remaining:    0.0s\n"
     ]
    },
    {
     "data": {
      "text/html": [
       "Changes to your `wandb` environment variables will be ignored because your `wandb` session has already started. For more information on how to modify your settings with `wandb.init()` arguments, please refer to <a href=\"https://wandb.me/wandb-init\" target=\"_blank\">the W&B docs</a>."
      ],
      "text/plain": [
       "<IPython.core.display.HTML object>"
      ]
     },
     "metadata": {},
     "output_type": "display_data"
    },
    {
     "data": {
      "text/html": [
       "wandb version 0.15.3 is available!  To upgrade, please run:\n",
       " $ pip install wandb --upgrade"
      ],
      "text/plain": [
       "<IPython.core.display.HTML object>"
      ]
     },
     "metadata": {},
     "output_type": "display_data"
    },
    {
     "data": {
      "text/html": [
       "Tracking run with wandb version 0.12.21"
      ],
      "text/plain": [
       "<IPython.core.display.HTML object>"
      ]
     },
     "metadata": {},
     "output_type": "display_data"
    },
    {
     "data": {
      "text/html": [
       "Run data is saved locally in <code>/Users/artemgruzdev/Documents/GitHub/Time_Series/code/wandb/run-20230524_153913-1x26fkqv</code>"
      ],
      "text/plain": [
       "<IPython.core.display.HTML object>"
      ]
     },
     "metadata": {},
     "output_type": "display_data"
    },
    {
     "data": {
      "text/html": [
       "Syncing run <strong><a href=\"https://wandb.ai/gewissta/wandb-sweeps/runs/1x26fkqv\" target=\"_blank\">I5Xg62LG</a></strong> to <a href=\"https://wandb.ai/gewissta/wandb-sweeps\" target=\"_blank\">Weights & Biases</a> (<a href=\"https://wandb.me/run\" target=\"_blank\">docs</a>)<br/>"
      ],
      "text/plain": [
       "<IPython.core.display.HTML object>"
      ]
     },
     "metadata": {},
     "output_type": "display_data"
    },
    {
     "data": {
      "text/html": [
       "Waiting for W&B process to finish... <strong style=\"color:green\">(success).</strong>"
      ],
      "text/plain": [
       "<IPython.core.display.HTML object>"
      ]
     },
     "metadata": {},
     "output_type": "display_data"
    },
    {
     "data": {
      "application/vnd.jupyter.widget-view+json": {
       "model_id": "",
       "version_major": 2,
       "version_minor": 0
      },
      "text/plain": [
       "VBox(children=(Label(value='0.067 MB of 0.070 MB uploaded (0.000 MB deduped)\\r'), FloatProgress(value=0.956934…"
      ]
     },
     "metadata": {},
     "output_type": "display_data"
    },
    {
     "data": {
      "text/html": [
       "<style>\n",
       "    table.wandb td:nth-child(1) { padding: 0 10px; text-align: left ; width: auto;} td:nth-child(2) {text-align: left ; width: 100%}\n",
       "    .wandb-row { display: flex; flex-direction: row; flex-wrap: wrap; justify-content: flex-start; width: 100% }\n",
       "    .wandb-col { display: flex; flex-direction: column; flex-basis: 100%; flex: 1; padding: 10px; }\n",
       "    </style>\n",
       "<div class=\"wandb-row\"><div class=\"wandb-col\"><h3>Run history:</h3><br/><table class=\"wandb\"><tr><td>MAE_mean</td><td>▁</td></tr><tr><td>MAE_median</td><td>▁</td></tr><tr><td>MAE_percentile_25</td><td>▁</td></tr><tr><td>MAE_percentile_5</td><td>▁</td></tr><tr><td>MAE_percentile_75</td><td>▁</td></tr><tr><td>MAE_percentile_95</td><td>▁</td></tr><tr><td>MAE_std</td><td>▁</td></tr><tr><td>MSE_mean</td><td>▁</td></tr><tr><td>MSE_median</td><td>▁</td></tr><tr><td>MSE_percentile_25</td><td>▁</td></tr><tr><td>MSE_percentile_5</td><td>▁</td></tr><tr><td>MSE_percentile_75</td><td>▁</td></tr><tr><td>MSE_percentile_95</td><td>▁</td></tr><tr><td>MSE_std</td><td>▁</td></tr><tr><td>SMAPE_mean</td><td>▁</td></tr><tr><td>SMAPE_median</td><td>▁</td></tr><tr><td>SMAPE_percentile_25</td><td>▁</td></tr><tr><td>SMAPE_percentile_5</td><td>▁</td></tr><tr><td>SMAPE_percentile_75</td><td>▁</td></tr><tr><td>SMAPE_percentile_95</td><td>▁</td></tr><tr><td>SMAPE_std</td><td>▁</td></tr><tr><td>Sign_mean</td><td>▁</td></tr><tr><td>Sign_median</td><td>▁</td></tr><tr><td>Sign_percentile_25</td><td>▁</td></tr><tr><td>Sign_percentile_5</td><td>▁</td></tr><tr><td>Sign_percentile_75</td><td>▁</td></tr><tr><td>Sign_percentile_95</td><td>▁</td></tr><tr><td>Sign_std</td><td>▁</td></tr></table><br/></div><div class=\"wandb-col\"><h3>Run summary:</h3><br/><table class=\"wandb\"><tr><td>MAE_mean</td><td>61.95614</td></tr><tr><td>MAE_median</td><td>45.41367</td></tr><tr><td>MAE_percentile_25</td><td>22.28839</td></tr><tr><td>MAE_percentile_5</td><td>20.20234</td></tr><tr><td>MAE_percentile_75</td><td>85.08141</td></tr><tr><td>MAE_percentile_95</td><td>126.86939</td></tr><tr><td>MAE_std</td><td>54.78547</td></tr><tr><td>MSE_mean</td><td>9037.66814</td></tr><tr><td>MSE_median</td><td>4761.20548</td></tr><tr><td>MSE_percentile_25</td><td>1424.58383</td></tr><tr><td>MSE_percentile_5</td><td>706.73206</td></tr><tr><td>MSE_percentile_75</td><td>12374.28979</td></tr><tr><td>MSE_percentile_95</td><td>23355.65196</td></tr><tr><td>MSE_std</td><td>11812.60924</td></tr><tr><td>SMAPE_mean</td><td>11.43398</td></tr><tr><td>SMAPE_median</td><td>11.19553</td></tr><tr><td>SMAPE_percentile_25</td><td>9.79394</td></tr><tr><td>SMAPE_percentile_5</td><td>8.33828</td></tr><tr><td>SMAPE_percentile_75</td><td>12.83556</td></tr><tr><td>SMAPE_percentile_95</td><td>14.8635</td></tr><tr><td>SMAPE_std</td><td>3.1007</td></tr><tr><td>Sign_mean</td><td>0.67857</td></tr><tr><td>Sign_median</td><td>0.78571</td></tr><tr><td>Sign_percentile_25</td><td>0.46429</td></tr><tr><td>Sign_percentile_5</td><td>0.20714</td></tr><tr><td>Sign_percentile_75</td><td>1.0</td></tr><tr><td>Sign_percentile_95</td><td>1.0</td></tr><tr><td>Sign_std</td><td>0.41033</td></tr></table><br/></div></div>"
      ],
      "text/plain": [
       "<IPython.core.display.HTML object>"
      ]
     },
     "metadata": {},
     "output_type": "display_data"
    },
    {
     "data": {
      "text/html": [
       "Synced <strong style=\"color:#cdcd00\">I5Xg62LG</strong>: <a href=\"https://wandb.ai/gewissta/wandb-sweeps/runs/1x26fkqv\" target=\"_blank\">https://wandb.ai/gewissta/wandb-sweeps/runs/1x26fkqv</a><br/>Synced 5 W&B file(s), 3 media file(s), 3 artifact file(s) and 0 other file(s)"
      ],
      "text/plain": [
       "<IPython.core.display.HTML object>"
      ]
     },
     "metadata": {},
     "output_type": "display_data"
    },
    {
     "data": {
      "text/html": [
       "Find logs at: <code>./wandb/run-20230524_153913-1x26fkqv/logs</code>"
      ],
      "text/plain": [
       "<IPython.core.display.HTML object>"
      ]
     },
     "metadata": {},
     "output_type": "display_data"
    },
    {
     "name": "stderr",
     "output_type": "stream",
     "text": [
      "[Parallel(n_jobs=1)]: Done   4 out of   4 | elapsed:  2.1min remaining:    0.0s\n"
     ]
    },
    {
     "data": {
      "text/html": [
       "Changes to your `wandb` environment variables will be ignored because your `wandb` session has already started. For more information on how to modify your settings with `wandb.init()` arguments, please refer to <a href=\"https://wandb.me/wandb-init\" target=\"_blank\">the W&B docs</a>."
      ],
      "text/plain": [
       "<IPython.core.display.HTML object>"
      ]
     },
     "metadata": {},
     "output_type": "display_data"
    },
    {
     "data": {
      "text/html": [
       "wandb version 0.15.3 is available!  To upgrade, please run:\n",
       " $ pip install wandb --upgrade"
      ],
      "text/plain": [
       "<IPython.core.display.HTML object>"
      ]
     },
     "metadata": {},
     "output_type": "display_data"
    },
    {
     "data": {
      "text/html": [
       "Tracking run with wandb version 0.12.21"
      ],
      "text/plain": [
       "<IPython.core.display.HTML object>"
      ]
     },
     "metadata": {},
     "output_type": "display_data"
    },
    {
     "data": {
      "text/html": [
       "Run data is saved locally in <code>/Users/artemgruzdev/Documents/GitHub/Time_Series/code/wandb/run-20230524_153942-3rg8rsi0</code>"
      ],
      "text/plain": [
       "<IPython.core.display.HTML object>"
      ]
     },
     "metadata": {},
     "output_type": "display_data"
    },
    {
     "data": {
      "text/html": [
       "Syncing run <strong><a href=\"https://wandb.ai/gewissta/wandb-sweeps/runs/3rg8rsi0\" target=\"_blank\">I5Xg62LG</a></strong> to <a href=\"https://wandb.ai/gewissta/wandb-sweeps\" target=\"_blank\">Weights & Biases</a> (<a href=\"https://wandb.me/run\" target=\"_blank\">docs</a>)<br/>"
      ],
      "text/plain": [
       "<IPython.core.display.HTML object>"
      ]
     },
     "metadata": {},
     "output_type": "display_data"
    },
    {
     "data": {
      "text/html": [
       "Waiting for W&B process to finish... <strong style=\"color:green\">(success).</strong>"
      ],
      "text/plain": [
       "<IPython.core.display.HTML object>"
      ]
     },
     "metadata": {},
     "output_type": "display_data"
    },
    {
     "data": {
      "application/vnd.jupyter.widget-view+json": {
       "model_id": "",
       "version_major": 2,
       "version_minor": 0
      },
      "text/plain": [
       "VBox(children=(Label(value='0.067 MB of 0.070 MB uploaded (0.000 MB deduped)\\r'), FloatProgress(value=0.956807…"
      ]
     },
     "metadata": {},
     "output_type": "display_data"
    },
    {
     "data": {
      "text/html": [
       "<style>\n",
       "    table.wandb td:nth-child(1) { padding: 0 10px; text-align: left ; width: auto;} td:nth-child(2) {text-align: left ; width: 100%}\n",
       "    .wandb-row { display: flex; flex-direction: row; flex-wrap: wrap; justify-content: flex-start; width: 100% }\n",
       "    .wandb-col { display: flex; flex-direction: column; flex-basis: 100%; flex: 1; padding: 10px; }\n",
       "    </style>\n",
       "<div class=\"wandb-row\"><div class=\"wandb-col\"><h3>Run history:</h3><br/><table class=\"wandb\"><tr><td>MAE_mean</td><td>▁</td></tr><tr><td>MAE_median</td><td>▁</td></tr><tr><td>MAE_percentile_25</td><td>▁</td></tr><tr><td>MAE_percentile_5</td><td>▁</td></tr><tr><td>MAE_percentile_75</td><td>▁</td></tr><tr><td>MAE_percentile_95</td><td>▁</td></tr><tr><td>MAE_std</td><td>▁</td></tr><tr><td>MSE_mean</td><td>▁</td></tr><tr><td>MSE_median</td><td>▁</td></tr><tr><td>MSE_percentile_25</td><td>▁</td></tr><tr><td>MSE_percentile_5</td><td>▁</td></tr><tr><td>MSE_percentile_75</td><td>▁</td></tr><tr><td>MSE_percentile_95</td><td>▁</td></tr><tr><td>MSE_std</td><td>▁</td></tr><tr><td>SMAPE_mean</td><td>▁</td></tr><tr><td>SMAPE_median</td><td>▁</td></tr><tr><td>SMAPE_percentile_25</td><td>▁</td></tr><tr><td>SMAPE_percentile_5</td><td>▁</td></tr><tr><td>SMAPE_percentile_75</td><td>▁</td></tr><tr><td>SMAPE_percentile_95</td><td>▁</td></tr><tr><td>SMAPE_std</td><td>▁</td></tr><tr><td>Sign_mean</td><td>▁</td></tr><tr><td>Sign_median</td><td>▁</td></tr><tr><td>Sign_percentile_25</td><td>▁</td></tr><tr><td>Sign_percentile_5</td><td>▁</td></tr><tr><td>Sign_percentile_75</td><td>▁</td></tr><tr><td>Sign_percentile_95</td><td>▁</td></tr><tr><td>Sign_std</td><td>▁</td></tr></table><br/></div><div class=\"wandb-col\"><h3>Run summary:</h3><br/><table class=\"wandb\"><tr><td>MAE_mean</td><td>59.80459</td></tr><tr><td>MAE_median</td><td>50.45179</td></tr><tr><td>MAE_percentile_25</td><td>42.61033</td></tr><tr><td>MAE_percentile_5</td><td>28.74161</td></tr><tr><td>MAE_percentile_75</td><td>67.64605</td></tr><tr><td>MAE_percentile_95</td><td>103.96149</td></tr><tr><td>MAE_std</td><td>37.46037</td></tr><tr><td>MSE_mean</td><td>6932.39185</td></tr><tr><td>MSE_median</td><td>4314.43184</td></tr><tr><td>MSE_percentile_25</td><td>3197.39145</td></tr><tr><td>MSE_percentile_5</td><td>1335.17725</td></tr><tr><td>MSE_percentile_75</td><td>8049.43225</td></tr><tr><td>MSE_percentile_95</td><td>16194.75045</td></tr><tr><td>MSE_std</td><td>7710.54826</td></tr><tr><td>SMAPE_mean</td><td>14.14845</td></tr><tr><td>SMAPE_median</td><td>11.26627</td></tr><tr><td>SMAPE_percentile_25</td><td>9.82681</td></tr><tr><td>SMAPE_percentile_5</td><td>9.20001</td></tr><tr><td>SMAPE_percentile_75</td><td>15.58792</td></tr><tr><td>SMAPE_percentile_95</td><td>23.13194</td></tr><tr><td>SMAPE_std</td><td>7.38465</td></tr><tr><td>Sign_mean</td><td>0.39286</td></tr><tr><td>Sign_median</td><td>0.35714</td></tr><tr><td>Sign_percentile_25</td><td>0.14286</td></tr><tr><td>Sign_percentile_5</td><td>0.14286</td></tr><tr><td>Sign_percentile_75</td><td>0.60714</td></tr><tr><td>Sign_percentile_95</td><td>0.69286</td></tr><tr><td>Sign_std</td><td>0.29451</td></tr></table><br/></div></div>"
      ],
      "text/plain": [
       "<IPython.core.display.HTML object>"
      ]
     },
     "metadata": {},
     "output_type": "display_data"
    },
    {
     "data": {
      "text/html": [
       "Synced <strong style=\"color:#cdcd00\">I5Xg62LG</strong>: <a href=\"https://wandb.ai/gewissta/wandb-sweeps/runs/3rg8rsi0\" target=\"_blank\">https://wandb.ai/gewissta/wandb-sweeps/runs/3rg8rsi0</a><br/>Synced 5 W&B file(s), 3 media file(s), 3 artifact file(s) and 0 other file(s)"
      ],
      "text/plain": [
       "<IPython.core.display.HTML object>"
      ]
     },
     "metadata": {},
     "output_type": "display_data"
    },
    {
     "data": {
      "text/html": [
       "Find logs at: <code>./wandb/run-20230524_153942-3rg8rsi0/logs</code>"
      ],
      "text/plain": [
       "<IPython.core.display.HTML object>"
      ]
     },
     "metadata": {},
     "output_type": "display_data"
    },
    {
     "name": "stderr",
     "output_type": "stream",
     "text": [
      "[Parallel(n_jobs=1)]: Done   5 out of   5 | elapsed:  2.6min remaining:    0.0s\n",
      "[Parallel(n_jobs=1)]: Done   5 out of   5 | elapsed:  2.6min finished\n"
     ]
    },
    {
     "data": {
      "text/html": [
       "Changes to your `wandb` environment variables will be ignored because your `wandb` session has already started. For more information on how to modify your settings with `wandb.init()` arguments, please refer to <a href=\"https://wandb.me/wandb-init\" target=\"_blank\">the W&B docs</a>."
      ],
      "text/plain": [
       "<IPython.core.display.HTML object>"
      ]
     },
     "metadata": {},
     "output_type": "display_data"
    },
    {
     "data": {
      "text/html": [
       "wandb version 0.15.3 is available!  To upgrade, please run:\n",
       " $ pip install wandb --upgrade"
      ],
      "text/plain": [
       "<IPython.core.display.HTML object>"
      ]
     },
     "metadata": {},
     "output_type": "display_data"
    },
    {
     "data": {
      "text/html": [
       "Tracking run with wandb version 0.12.21"
      ],
      "text/plain": [
       "<IPython.core.display.HTML object>"
      ]
     },
     "metadata": {},
     "output_type": "display_data"
    },
    {
     "data": {
      "text/html": [
       "Run data is saved locally in <code>/Users/artemgruzdev/Documents/GitHub/Time_Series/code/wandb/run-20230524_154012-1wpv1qyo</code>"
      ],
      "text/plain": [
       "<IPython.core.display.HTML object>"
      ]
     },
     "metadata": {},
     "output_type": "display_data"
    },
    {
     "data": {
      "text/html": [
       "Syncing run <strong><a href=\"https://wandb.ai/gewissta/wandb-sweeps/runs/1wpv1qyo\" target=\"_blank\">I5Xg62LG</a></strong> to <a href=\"https://wandb.ai/gewissta/wandb-sweeps\" target=\"_blank\">Weights & Biases</a> (<a href=\"https://wandb.me/run\" target=\"_blank\">docs</a>)<br/>"
      ],
      "text/plain": [
       "<IPython.core.display.HTML object>"
      ]
     },
     "metadata": {},
     "output_type": "display_data"
    },
    {
     "data": {
      "text/html": [
       "Waiting for W&B process to finish... <strong style=\"color:green\">(success).</strong>"
      ],
      "text/plain": [
       "<IPython.core.display.HTML object>"
      ]
     },
     "metadata": {},
     "output_type": "display_data"
    },
    {
     "data": {
      "application/vnd.jupyter.widget-view+json": {
       "model_id": "",
       "version_major": 2,
       "version_minor": 0
      },
      "text/plain": [
       "VBox(children=(Label(value='0.292 MB of 0.349 MB uploaded (0.000 MB deduped)\\r'), FloatProgress(value=0.837907…"
      ]
     },
     "metadata": {},
     "output_type": "display_data"
    },
    {
     "data": {
      "text/html": [
       "<style>\n",
       "    table.wandb td:nth-child(1) { padding: 0 10px; text-align: left ; width: auto;} td:nth-child(2) {text-align: left ; width: 100%}\n",
       "    .wandb-row { display: flex; flex-direction: row; flex-wrap: wrap; justify-content: flex-start; width: 100% }\n",
       "    .wandb-col { display: flex; flex-direction: column; flex-basis: 100%; flex: 1; padding: 10px; }\n",
       "    </style>\n",
       "<div class=\"wandb-row\"><div class=\"wandb-col\"><h3>Run history:</h3><br/><table class=\"wandb\"><tr><td>MAE_mean</td><td>▁</td></tr><tr><td>MAE_median</td><td>▁</td></tr><tr><td>MAE_percentile_25</td><td>▁</td></tr><tr><td>MAE_percentile_5</td><td>▁</td></tr><tr><td>MAE_percentile_75</td><td>▁</td></tr><tr><td>MAE_percentile_95</td><td>▁</td></tr><tr><td>MAE_std</td><td>▁</td></tr><tr><td>MSE_mean</td><td>▁</td></tr><tr><td>MSE_median</td><td>▁</td></tr><tr><td>MSE_percentile_25</td><td>▁</td></tr><tr><td>MSE_percentile_5</td><td>▁</td></tr><tr><td>MSE_percentile_75</td><td>▁</td></tr><tr><td>MSE_percentile_95</td><td>▁</td></tr><tr><td>MSE_std</td><td>▁</td></tr><tr><td>SMAPE_mean</td><td>▁</td></tr><tr><td>SMAPE_median</td><td>▁</td></tr><tr><td>SMAPE_percentile_25</td><td>▁</td></tr><tr><td>SMAPE_percentile_5</td><td>▁</td></tr><tr><td>SMAPE_percentile_75</td><td>▁</td></tr><tr><td>SMAPE_percentile_95</td><td>▁</td></tr><tr><td>SMAPE_std</td><td>▁</td></tr><tr><td>Sign_mean</td><td>▁</td></tr><tr><td>Sign_median</td><td>▁</td></tr><tr><td>Sign_percentile_25</td><td>▁</td></tr><tr><td>Sign_percentile_5</td><td>▁</td></tr><tr><td>Sign_percentile_75</td><td>▁</td></tr><tr><td>Sign_percentile_95</td><td>▁</td></tr><tr><td>Sign_std</td><td>▁</td></tr></table><br/></div><div class=\"wandb-col\"><h3>Run summary:</h3><br/><table class=\"wandb\"><tr><td>MAE_mean</td><td>47.90122</td></tr><tr><td>MAE_median</td><td>38.85194</td></tr><tr><td>MAE_percentile_25</td><td>22.84986</td></tr><tr><td>MAE_percentile_5</td><td>21.30697</td></tr><tr><td>MAE_percentile_75</td><td>63.90331</td></tr><tr><td>MAE_percentile_95</td><td>87.16448</td></tr><tr><td>MAE_std</td><td>33.64315</td></tr><tr><td>MSE_mean</td><td>5027.78445</td></tr><tr><td>MSE_median</td><td>3093.81379</td></tr><tr><td>MSE_percentile_25</td><td>1154.3777</td></tr><tr><td>MSE_percentile_5</td><td>773.05862</td></tr><tr><td>MSE_percentile_75</td><td>6967.22054</td></tr><tr><td>MSE_percentile_95</td><td>11990.06921</td></tr><tr><td>MSE_std</td><td>5781.57076</td></tr><tr><td>SMAPE_mean</td><td>10.4578</td></tr><tr><td>SMAPE_median</td><td>10.61919</td></tr><tr><td>SMAPE_percentile_25</td><td>9.92552</td></tr><tr><td>SMAPE_percentile_5</td><td>8.86521</td></tr><tr><td>SMAPE_percentile_75</td><td>11.15146</td></tr><tr><td>SMAPE_percentile_95</td><td>11.82444</td></tr><tr><td>SMAPE_std</td><td>1.41254</td></tr><tr><td>Sign_mean</td><td>0.34286</td></tr><tr><td>Sign_median</td><td>0.35714</td></tr><tr><td>Sign_percentile_25</td><td>0.32857</td></tr><tr><td>Sign_percentile_5</td><td>0.29429</td></tr><tr><td>Sign_percentile_75</td><td>0.37143</td></tr><tr><td>Sign_percentile_95</td><td>0.37143</td></tr><tr><td>Sign_std</td><td>0.04041</td></tr></table><br/></div></div>"
      ],
      "text/plain": [
       "<IPython.core.display.HTML object>"
      ]
     },
     "metadata": {},
     "output_type": "display_data"
    },
    {
     "data": {
      "text/html": [
       "Synced <strong style=\"color:#cdcd00\">I5Xg62LG</strong>: <a href=\"https://wandb.ai/gewissta/wandb-sweeps/runs/1wpv1qyo\" target=\"_blank\">https://wandb.ai/gewissta/wandb-sweeps/runs/1wpv1qyo</a><br/>Synced 5 W&B file(s), 4 media file(s), 3 artifact file(s) and 0 other file(s)"
      ],
      "text/plain": [
       "<IPython.core.display.HTML object>"
      ]
     },
     "metadata": {},
     "output_type": "display_data"
    },
    {
     "data": {
      "text/html": [
       "Find logs at: <code>./wandb/run-20230524_154012-1wpv1qyo/logs</code>"
      ],
      "text/plain": [
       "<IPython.core.display.HTML object>"
      ]
     },
     "metadata": {},
     "output_type": "display_data"
    },
    {
     "name": "stderr",
     "output_type": "stream",
     "text": [
      "\u001b[32m[I 2023-05-24 15:40:40,102]\u001b[0m Trial 4 finished with value: 47.90122447796802 and parameters: {'iterations': 68, 'depth': 2, 'lags': 23}. Best is trial 1 with value: 43.30188972892675.\u001b[0m\n"
     ]
    }
   ],
   "source": [
    "# Вызов функции run_optuna, запуск оптимизации\n",
    "run_optuna(file_path='Data/example_dataset.csv')"
   ]
  }
 ],
 "metadata": {
  "kernelspec": {
   "display_name": "Python 3 (ipykernel)",
   "language": "python",
   "name": "python3"
  },
  "language_info": {
   "codemirror_mode": {
    "name": "ipython",
    "version": 3
   },
   "file_extension": ".py",
   "mimetype": "text/x-python",
   "name": "python",
   "nbconvert_exporter": "python",
   "pygments_lexer": "ipython3",
   "version": "3.10.9"
  }
 },
 "nbformat": 4,
 "nbformat_minor": 5
}
